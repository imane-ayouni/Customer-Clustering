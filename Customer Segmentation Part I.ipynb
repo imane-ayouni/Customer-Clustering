{
 "cells": [
  {
   "cell_type": "markdown",
   "id": "676682da",
   "metadata": {},
   "source": [
    "# Customer Segmentation Part 1: Preliminary processing and merging data frames"
   ]
  },
  {
   "cell_type": "markdown",
   "id": "f6686a3c",
   "metadata": {},
   "source": [
    "## Topic\n",
    "\n",
    "Olist is a Brazilian department store platform which operates in the e-commerce segment (Software as Service). The service consists of management of the sales process between shopkeepers and clients, and also includes a customer satisfaction report. The advantages for the shopkeepers is a better market presence and transparent reputation metrics. The driver for the business is to attract more clients and raise the quality of the process. The motivation in this project is to support this effort.\n",
    "\n",
    "The overall objective of this project is customer segmentation. And since the data provided by Olist contains nine datasets separated by topic, we'll devote this first notebook to importing the datasets, doing the preliminary precessing and merging them together based on the columns they have in common.\n",
    "\n",
    "The nine datasets used are the following : \n",
    "\n",
    "1- Orders : contains info about the order is, status and timestamps of the process of its delivery.\n",
    "\n",
    "2- Order items: contains orders ids, SKU (Stock Keeping Unit), the seller, price and shipping expense\n",
    "\n",
    "3- Products : contains technical information about the products (dimensions and weight)\n",
    "\n",
    "4- Order payments : contains information about payment type, installements and purchase value\n",
    "\n",
    "5- Order reviews : contains information like review id and score\n",
    "\n",
    "6- Sellers : contains information about the sellers location like zip code, city and state\n",
    "\n",
    "7- Customers: gives us information about the customers location: zip code, state and city\n",
    "\n",
    "8- Geolocation: gives us detailed information about the location of the places where the commerce occured (both customers and sellers)\n",
    "\n",
    "9- Product category name translation : contains the English translation of some of the products sold on the plateform"
   ]
  },
  {
   "cell_type": "markdown",
   "id": "77398142",
   "metadata": {},
   "source": [
    "## Objective\n",
    "* Overall Objective:\n",
    "\n",
    "Be able to cluster clients in groups\n",
    "\n",
    "* Current Objective:\n",
    "  - Import the dataframe\n",
    "  - Make preliminary transformation (imputing, grouping, merging)\n",
    "  - Producing one dataframe that contains all columns provided."
   ]
  },
  {
   "cell_type": "markdown",
   "id": "f40469c0",
   "metadata": {},
   "source": [
    "## Summary\n",
    "- Importing libraries\n",
    "- Orders dataset\n",
    "- Order items dataset\n",
    "- Products dataset\n",
    "- Order payments dataset\n",
    "- Order reviews dataset\n",
    "- Sellers dataset\n",
    "- Customers dataset\n",
    "- Geolocations dataset\n",
    "- Product category name translation dataset"
   ]
  },
  {
   "cell_type": "markdown",
   "id": "9759ccbe",
   "metadata": {},
   "source": [
    "## Importing libraries"
   ]
  },
  {
   "cell_type": "code",
   "execution_count": 1146,
   "id": "83ef1f01",
   "metadata": {},
   "outputs": [],
   "source": [
    "import pandas as pd\n",
    "import numpy as np\n",
    "import seaborn as sns\n",
    "import matplotlib.pyplot as plt\n",
    "from datetime import datetime as dt\n",
    "sns.set(rc = {'figure.figsize':(15,8)})"
   ]
  },
  {
   "cell_type": "markdown",
   "id": "e878a349",
   "metadata": {},
   "source": [
    "## Orders dataset"
   ]
  },
  {
   "cell_type": "code",
   "execution_count": 1050,
   "id": "e3a86316",
   "metadata": {},
   "outputs": [
    {
     "data": {
      "text/html": [
       "<div>\n",
       "<style scoped>\n",
       "    .dataframe tbody tr th:only-of-type {\n",
       "        vertical-align: middle;\n",
       "    }\n",
       "\n",
       "    .dataframe tbody tr th {\n",
       "        vertical-align: top;\n",
       "    }\n",
       "\n",
       "    .dataframe thead th {\n",
       "        text-align: right;\n",
       "    }\n",
       "</style>\n",
       "<table border=\"1\" class=\"dataframe\">\n",
       "  <thead>\n",
       "    <tr style=\"text-align: right;\">\n",
       "      <th></th>\n",
       "      <th>order_id</th>\n",
       "      <th>customer_id</th>\n",
       "      <th>order_status</th>\n",
       "      <th>order_purchase_timestamp</th>\n",
       "      <th>order_approved_at</th>\n",
       "      <th>order_delivered_carrier_date</th>\n",
       "      <th>order_delivered_customer_date</th>\n",
       "      <th>order_estimated_delivery_date</th>\n",
       "    </tr>\n",
       "  </thead>\n",
       "  <tbody>\n",
       "    <tr>\n",
       "      <th>0</th>\n",
       "      <td>e481f51cbdc54678b7cc49136f2d6af7</td>\n",
       "      <td>9ef432eb6251297304e76186b10a928d</td>\n",
       "      <td>delivered</td>\n",
       "      <td>2017-10-02 10:56:33</td>\n",
       "      <td>2017-10-02 11:07:15</td>\n",
       "      <td>2017-10-04 19:55:00</td>\n",
       "      <td>2017-10-10 21:25:13</td>\n",
       "      <td>2017-10-18 00:00:00</td>\n",
       "    </tr>\n",
       "    <tr>\n",
       "      <th>1</th>\n",
       "      <td>53cdb2fc8bc7dce0b6741e2150273451</td>\n",
       "      <td>b0830fb4747a6c6d20dea0b8c802d7ef</td>\n",
       "      <td>delivered</td>\n",
       "      <td>2018-07-24 20:41:37</td>\n",
       "      <td>2018-07-26 03:24:27</td>\n",
       "      <td>2018-07-26 14:31:00</td>\n",
       "      <td>2018-08-07 15:27:45</td>\n",
       "      <td>2018-08-13 00:00:00</td>\n",
       "    </tr>\n",
       "    <tr>\n",
       "      <th>2</th>\n",
       "      <td>47770eb9100c2d0c44946d9cf07ec65d</td>\n",
       "      <td>41ce2a54c0b03bf3443c3d931a367089</td>\n",
       "      <td>delivered</td>\n",
       "      <td>2018-08-08 08:38:49</td>\n",
       "      <td>2018-08-08 08:55:23</td>\n",
       "      <td>2018-08-08 13:50:00</td>\n",
       "      <td>2018-08-17 18:06:29</td>\n",
       "      <td>2018-09-04 00:00:00</td>\n",
       "    </tr>\n",
       "    <tr>\n",
       "      <th>3</th>\n",
       "      <td>949d5b44dbf5de918fe9c16f97b45f8a</td>\n",
       "      <td>f88197465ea7920adcdbec7375364d82</td>\n",
       "      <td>delivered</td>\n",
       "      <td>2017-11-18 19:28:06</td>\n",
       "      <td>2017-11-18 19:45:59</td>\n",
       "      <td>2017-11-22 13:39:59</td>\n",
       "      <td>2017-12-02 00:28:42</td>\n",
       "      <td>2017-12-15 00:00:00</td>\n",
       "    </tr>\n",
       "    <tr>\n",
       "      <th>4</th>\n",
       "      <td>ad21c59c0840e6cb83a9ceb5573f8159</td>\n",
       "      <td>8ab97904e6daea8866dbdbc4fb7aad2c</td>\n",
       "      <td>delivered</td>\n",
       "      <td>2018-02-13 21:18:39</td>\n",
       "      <td>2018-02-13 22:20:29</td>\n",
       "      <td>2018-02-14 19:46:34</td>\n",
       "      <td>2018-02-16 18:17:02</td>\n",
       "      <td>2018-02-26 00:00:00</td>\n",
       "    </tr>\n",
       "  </tbody>\n",
       "</table>\n",
       "</div>"
      ],
      "text/plain": [
       "                           order_id                       customer_id  \\\n",
       "0  e481f51cbdc54678b7cc49136f2d6af7  9ef432eb6251297304e76186b10a928d   \n",
       "1  53cdb2fc8bc7dce0b6741e2150273451  b0830fb4747a6c6d20dea0b8c802d7ef   \n",
       "2  47770eb9100c2d0c44946d9cf07ec65d  41ce2a54c0b03bf3443c3d931a367089   \n",
       "3  949d5b44dbf5de918fe9c16f97b45f8a  f88197465ea7920adcdbec7375364d82   \n",
       "4  ad21c59c0840e6cb83a9ceb5573f8159  8ab97904e6daea8866dbdbc4fb7aad2c   \n",
       "\n",
       "  order_status order_purchase_timestamp    order_approved_at  \\\n",
       "0    delivered      2017-10-02 10:56:33  2017-10-02 11:07:15   \n",
       "1    delivered      2018-07-24 20:41:37  2018-07-26 03:24:27   \n",
       "2    delivered      2018-08-08 08:38:49  2018-08-08 08:55:23   \n",
       "3    delivered      2017-11-18 19:28:06  2017-11-18 19:45:59   \n",
       "4    delivered      2018-02-13 21:18:39  2018-02-13 22:20:29   \n",
       "\n",
       "  order_delivered_carrier_date order_delivered_customer_date  \\\n",
       "0          2017-10-04 19:55:00           2017-10-10 21:25:13   \n",
       "1          2018-07-26 14:31:00           2018-08-07 15:27:45   \n",
       "2          2018-08-08 13:50:00           2018-08-17 18:06:29   \n",
       "3          2017-11-22 13:39:59           2017-12-02 00:28:42   \n",
       "4          2018-02-14 19:46:34           2018-02-16 18:17:02   \n",
       "\n",
       "  order_estimated_delivery_date  \n",
       "0           2017-10-18 00:00:00  \n",
       "1           2018-08-13 00:00:00  \n",
       "2           2018-09-04 00:00:00  \n",
       "3           2017-12-15 00:00:00  \n",
       "4           2018-02-26 00:00:00  "
      ]
     },
     "execution_count": 1050,
     "metadata": {},
     "output_type": "execute_result"
    }
   ],
   "source": [
    "orders_df = pd.read_csv(r'C:\\Users\\imane\\OneDrive\\Desktop\\Clients_Clustering\\olist_orders_dataset.csv', sep =\",\")\n",
    "orders_df.head()"
   ]
  },
  {
   "cell_type": "code",
   "execution_count": 1051,
   "id": "0d906de7",
   "metadata": {},
   "outputs": [
    {
     "name": "stdout",
     "output_type": "stream",
     "text": [
      "<class 'pandas.core.frame.DataFrame'>\n",
      "RangeIndex: 99441 entries, 0 to 99440\n",
      "Data columns (total 8 columns):\n",
      " #   Column                         Non-Null Count  Dtype \n",
      "---  ------                         --------------  ----- \n",
      " 0   order_id                       99441 non-null  object\n",
      " 1   customer_id                    99441 non-null  object\n",
      " 2   order_status                   99441 non-null  object\n",
      " 3   order_purchase_timestamp       99441 non-null  object\n",
      " 4   order_approved_at              99281 non-null  object\n",
      " 5   order_delivered_carrier_date   97658 non-null  object\n",
      " 6   order_delivered_customer_date  96476 non-null  object\n",
      " 7   order_estimated_delivery_date  99441 non-null  object\n",
      "dtypes: object(8)\n",
      "memory usage: 6.1+ MB\n"
     ]
    }
   ],
   "source": [
    "orders_df.info()"
   ]
  },
  {
   "cell_type": "markdown",
   "id": "5bcb7397",
   "metadata": {},
   "source": [
    "The orders dataset contains information about the orders like the order id, customer id, and status, plus the timestamps of the process of delivery. it contains 8 categorical features."
   ]
  },
  {
   "cell_type": "code",
   "execution_count": 1052,
   "id": "41bea070",
   "metadata": {},
   "outputs": [
    {
     "data": {
      "text/plain": [
       "<AxesSubplot:>"
      ]
     },
     "execution_count": 1052,
     "metadata": {},
     "output_type": "execute_result"
    },
    {
     "data": {
      "image/png": "[encoded data removed]",
      "text/plain": [
       "<Figure size 1080x576 with 2 Axes>"
      ]
     },
     "metadata": {},
     "output_type": "display_data"
    }
   ],
   "source": [
    "sns.heatmap(orders_df.isnull())"
   ]
  },
  {
   "cell_type": "markdown",
   "id": "c92d54c5",
   "metadata": {},
   "source": [
    "Missing values are not very importan here, the biggest one is about 3% from the time the order was delivred to the customer."
   ]
  },
  {
   "cell_type": "code",
   "execution_count": 1053,
   "id": "c23b6a3d",
   "metadata": {},
   "outputs": [
    {
     "data": {
      "text/html": [
       "<div>\n",
       "<style scoped>\n",
       "    .dataframe tbody tr th:only-of-type {\n",
       "        vertical-align: middle;\n",
       "    }\n",
       "\n",
       "    .dataframe tbody tr th {\n",
       "        vertical-align: top;\n",
       "    }\n",
       "\n",
       "    .dataframe thead th {\n",
       "        text-align: right;\n",
       "    }\n",
       "</style>\n",
       "<table border=\"1\" class=\"dataframe\">\n",
       "  <thead>\n",
       "    <tr style=\"text-align: right;\">\n",
       "      <th></th>\n",
       "      <th>count</th>\n",
       "      <th>unique</th>\n",
       "      <th>top</th>\n",
       "      <th>freq</th>\n",
       "    </tr>\n",
       "  </thead>\n",
       "  <tbody>\n",
       "    <tr>\n",
       "      <th>order_id</th>\n",
       "      <td>99441</td>\n",
       "      <td>99441</td>\n",
       "      <td>e481f51cbdc54678b7cc49136f2d6af7</td>\n",
       "      <td>1</td>\n",
       "    </tr>\n",
       "    <tr>\n",
       "      <th>customer_id</th>\n",
       "      <td>99441</td>\n",
       "      <td>99441</td>\n",
       "      <td>9ef432eb6251297304e76186b10a928d</td>\n",
       "      <td>1</td>\n",
       "    </tr>\n",
       "    <tr>\n",
       "      <th>order_status</th>\n",
       "      <td>99441</td>\n",
       "      <td>8</td>\n",
       "      <td>delivered</td>\n",
       "      <td>96478</td>\n",
       "    </tr>\n",
       "    <tr>\n",
       "      <th>order_purchase_timestamp</th>\n",
       "      <td>99441</td>\n",
       "      <td>98875</td>\n",
       "      <td>2018-04-11 10:48:14</td>\n",
       "      <td>3</td>\n",
       "    </tr>\n",
       "    <tr>\n",
       "      <th>order_approved_at</th>\n",
       "      <td>99281</td>\n",
       "      <td>90733</td>\n",
       "      <td>2018-02-27 04:31:10</td>\n",
       "      <td>9</td>\n",
       "    </tr>\n",
       "    <tr>\n",
       "      <th>order_delivered_carrier_date</th>\n",
       "      <td>97658</td>\n",
       "      <td>81018</td>\n",
       "      <td>2018-05-09 15:48:00</td>\n",
       "      <td>47</td>\n",
       "    </tr>\n",
       "    <tr>\n",
       "      <th>order_delivered_customer_date</th>\n",
       "      <td>96476</td>\n",
       "      <td>95664</td>\n",
       "      <td>2018-05-08 23:38:46</td>\n",
       "      <td>3</td>\n",
       "    </tr>\n",
       "    <tr>\n",
       "      <th>order_estimated_delivery_date</th>\n",
       "      <td>99441</td>\n",
       "      <td>459</td>\n",
       "      <td>2017-12-20 00:00:00</td>\n",
       "      <td>522</td>\n",
       "    </tr>\n",
       "  </tbody>\n",
       "</table>\n",
       "</div>"
      ],
      "text/plain": [
       "                               count unique                               top  \\\n",
       "order_id                       99441  99441  e481f51cbdc54678b7cc49136f2d6af7   \n",
       "customer_id                    99441  99441  9ef432eb6251297304e76186b10a928d   \n",
       "order_status                   99441      8                         delivered   \n",
       "order_purchase_timestamp       99441  98875               2018-04-11 10:48:14   \n",
       "order_approved_at              99281  90733               2018-02-27 04:31:10   \n",
       "order_delivered_carrier_date   97658  81018               2018-05-09 15:48:00   \n",
       "order_delivered_customer_date  96476  95664               2018-05-08 23:38:46   \n",
       "order_estimated_delivery_date  99441    459               2017-12-20 00:00:00   \n",
       "\n",
       "                                freq  \n",
       "order_id                           1  \n",
       "customer_id                        1  \n",
       "order_status                   96478  \n",
       "order_purchase_timestamp           3  \n",
       "order_approved_at                  9  \n",
       "order_delivered_carrier_date      47  \n",
       "order_delivered_customer_date      3  \n",
       "order_estimated_delivery_date    522  "
      ]
     },
     "execution_count": 1053,
     "metadata": {},
     "output_type": "execute_result"
    }
   ],
   "source": [
    "orders_df.describe().transpose()"
   ]
  },
  {
   "cell_type": "markdown",
   "id": "a733909c",
   "metadata": {},
   "source": [
    "From the table we see that the order id column has 99 441 entries and 99 441 unique values, which means that none of the order ids are repeated. "
   ]
  },
  {
   "cell_type": "markdown",
   "id": "fecf2f47",
   "metadata": {},
   "source": [
    "### Feature engineering"
   ]
  },
  {
   "cell_type": "code",
   "execution_count": 1054,
   "id": "64e986b2",
   "metadata": {},
   "outputs": [],
   "source": [
    "orders_df = orders_df.ffill(axis = 1)"
   ]
  },
  {
   "cell_type": "markdown",
   "id": "29702aa6",
   "metadata": {},
   "source": [
    "I chose to fill out the empty values using pandas ffil, wchich enables you to substitute a missing value with another one. In this case, I prefered to fill them with the value on their left (i.e the date and time at which the previous step of their order was recorded) as opposed to the time of the same step of the previous order in the row. "
   ]
  },
  {
   "cell_type": "code",
   "execution_count": 1055,
   "id": "ab77ff91",
   "metadata": {},
   "outputs": [],
   "source": [
    "def date_time(df, cols):\n",
    "    for col in cols:\n",
    "        df[col] = pd.to_datetime(df[col], format='%Y-%m-%d').dt.date\n",
    "date_time(orders_df,[\"order_purchase_timestamp\",\"order_approved_at\",\"order_delivered_carrier_date\",\n",
    "                            \"order_delivered_customer_date\",\"order_estimated_delivery_date\"])\n",
    "orders_df.sort_values(by = 'order_purchase_timestamp', inplace = True)"
   ]
  },
  {
   "cell_type": "markdown",
   "id": "4001b9bf",
   "metadata": {},
   "source": [
    "In this part, I converted the dates and time columns into datetime format and dropped the time part, because we might combine sales by days later.Then sorted the dataframe because the time line in this case study is important as it reveals about the developement of the business. "
   ]
  },
  {
   "cell_type": "code",
   "execution_count": 1056,
   "id": "d93e937e",
   "metadata": {},
   "outputs": [
    {
     "data": {
      "text/html": [
       "<div>\n",
       "<style scoped>\n",
       "    .dataframe tbody tr th:only-of-type {\n",
       "        vertical-align: middle;\n",
       "    }\n",
       "\n",
       "    .dataframe tbody tr th {\n",
       "        vertical-align: top;\n",
       "    }\n",
       "\n",
       "    .dataframe thead th {\n",
       "        text-align: right;\n",
       "    }\n",
       "</style>\n",
       "<table border=\"1\" class=\"dataframe\">\n",
       "  <thead>\n",
       "    <tr style=\"text-align: right;\">\n",
       "      <th></th>\n",
       "      <th>order_id</th>\n",
       "      <th>customer_id</th>\n",
       "      <th>order_status</th>\n",
       "      <th>order_purchase_timestamp</th>\n",
       "      <th>order_approved_at</th>\n",
       "      <th>order_delivered_carrier_date</th>\n",
       "      <th>order_delivered_customer_date</th>\n",
       "      <th>order_estimated_delivery_date</th>\n",
       "    </tr>\n",
       "  </thead>\n",
       "  <tbody>\n",
       "    <tr>\n",
       "      <th>4541</th>\n",
       "      <td>2e7a8482f6fb09756ca50c10d7bfc047</td>\n",
       "      <td>08c5351a6aca1c1589a38f244edeee9d</td>\n",
       "      <td>shipped</td>\n",
       "      <td>2016-09-04</td>\n",
       "      <td>2016-10-07</td>\n",
       "      <td>2016-10-18</td>\n",
       "      <td>2016-10-18</td>\n",
       "      <td>2016-10-20</td>\n",
       "    </tr>\n",
       "    <tr>\n",
       "      <th>4396</th>\n",
       "      <td>e5fa5a7210941f7d56d0208e4e071d35</td>\n",
       "      <td>683c54fc24d40ee9f8a6fc179fd9856c</td>\n",
       "      <td>canceled</td>\n",
       "      <td>2016-09-05</td>\n",
       "      <td>2016-10-07</td>\n",
       "      <td>2016-10-07</td>\n",
       "      <td>2016-10-07</td>\n",
       "      <td>2016-10-28</td>\n",
       "    </tr>\n",
       "    <tr>\n",
       "      <th>10071</th>\n",
       "      <td>809a282bbd5dbcabb6f2f724fca862ec</td>\n",
       "      <td>622e13439d6b5a0b486c435618b2679e</td>\n",
       "      <td>canceled</td>\n",
       "      <td>2016-09-13</td>\n",
       "      <td>2016-10-07</td>\n",
       "      <td>2016-10-07</td>\n",
       "      <td>2016-10-07</td>\n",
       "      <td>2016-09-30</td>\n",
       "    </tr>\n",
       "    <tr>\n",
       "      <th>30710</th>\n",
       "      <td>bfbd0f9bdef84302105ad712db648a6c</td>\n",
       "      <td>86dc2ffce2dfff336de2f386a786e574</td>\n",
       "      <td>delivered</td>\n",
       "      <td>2016-09-15</td>\n",
       "      <td>2016-09-15</td>\n",
       "      <td>2016-11-07</td>\n",
       "      <td>2016-11-09</td>\n",
       "      <td>2016-10-04</td>\n",
       "    </tr>\n",
       "    <tr>\n",
       "      <th>83078</th>\n",
       "      <td>71303d7e93b399f5bcd537d124c0bcfa</td>\n",
       "      <td>b106b360fe2ef8849fbbd056f777b4d5</td>\n",
       "      <td>canceled</td>\n",
       "      <td>2016-10-02</td>\n",
       "      <td>2016-10-06</td>\n",
       "      <td>2016-10-06</td>\n",
       "      <td>2016-10-06</td>\n",
       "      <td>2016-10-25</td>\n",
       "    </tr>\n",
       "  </tbody>\n",
       "</table>\n",
       "</div>"
      ],
      "text/plain": [
       "                               order_id                       customer_id  \\\n",
       "4541   2e7a8482f6fb09756ca50c10d7bfc047  08c5351a6aca1c1589a38f244edeee9d   \n",
       "4396   e5fa5a7210941f7d56d0208e4e071d35  683c54fc24d40ee9f8a6fc179fd9856c   \n",
       "10071  809a282bbd5dbcabb6f2f724fca862ec  622e13439d6b5a0b486c435618b2679e   \n",
       "30710  bfbd0f9bdef84302105ad712db648a6c  86dc2ffce2dfff336de2f386a786e574   \n",
       "83078  71303d7e93b399f5bcd537d124c0bcfa  b106b360fe2ef8849fbbd056f777b4d5   \n",
       "\n",
       "      order_status order_purchase_timestamp order_approved_at  \\\n",
       "4541       shipped               2016-09-04        2016-10-07   \n",
       "4396      canceled               2016-09-05        2016-10-07   \n",
       "10071     canceled               2016-09-13        2016-10-07   \n",
       "30710    delivered               2016-09-15        2016-09-15   \n",
       "83078     canceled               2016-10-02        2016-10-06   \n",
       "\n",
       "      order_delivered_carrier_date order_delivered_customer_date  \\\n",
       "4541                    2016-10-18                    2016-10-18   \n",
       "4396                    2016-10-07                    2016-10-07   \n",
       "10071                   2016-10-07                    2016-10-07   \n",
       "30710                   2016-11-07                    2016-11-09   \n",
       "83078                   2016-10-06                    2016-10-06   \n",
       "\n",
       "      order_estimated_delivery_date  \n",
       "4541                     2016-10-20  \n",
       "4396                     2016-10-28  \n",
       "10071                    2016-09-30  \n",
       "30710                    2016-10-04  \n",
       "83078                    2016-10-25  "
      ]
     },
     "execution_count": 1056,
     "metadata": {},
     "output_type": "execute_result"
    }
   ],
   "source": [
    "orders_df.head(5)"
   ]
  },
  {
   "cell_type": "markdown",
   "id": "0b430988",
   "metadata": {},
   "source": [
    "Now the dataset is sorted from oldest to soonest sales. This will make it possible to see the development in the business over time."
   ]
  },
  {
   "cell_type": "code",
   "execution_count": 1057,
   "id": "317e5230",
   "metadata": {},
   "outputs": [],
   "source": [
    "#orders_df['date_ordinal'] = orders_df['order_purchase_timestamp']\\\n",
    "                           # .apply(lambda date: date.toordinal())"
   ]
  },
  {
   "cell_type": "code",
   "execution_count": 1058,
   "id": "b35db198",
   "metadata": {},
   "outputs": [],
   "source": [
    "orders_df['shipping_difference'] = orders_df['order_estimated_delivery_date'] - orders_df['order_delivered_customer_date']\n",
    "orders_df['shipping_duration'] = orders_df['order_delivered_customer_date'] - orders_df['order_purchase_timestamp']\n",
    "orders_df['shipping_est_duration'] = orders_df['order_estimated_delivery_date'] - orders_df['order_purchase_timestamp']"
   ]
  },
  {
   "cell_type": "markdown",
   "id": "b3d65bce",
   "metadata": {},
   "source": [
    "In this part, we added 3 additional columns which seem very much needed for this dataset, they are:\n",
    "- shipping difference : which is the difference between the estimated and the actual delivery time\n",
    "- shipping duration : which is the period between the purchase and the final delivery \n",
    "- shipping estimated duration: is the period between the purchase and the estimated delivery time"
   ]
  },
  {
   "cell_type": "markdown",
   "id": "a05ab9b3",
   "metadata": {},
   "source": [
    "## Order items data set"
   ]
  },
  {
   "cell_type": "code",
   "execution_count": 1059,
   "id": "cfbeaf99",
   "metadata": {},
   "outputs": [
    {
     "data": {
      "text/html": [
       "<div>\n",
       "<style scoped>\n",
       "    .dataframe tbody tr th:only-of-type {\n",
       "        vertical-align: middle;\n",
       "    }\n",
       "\n",
       "    .dataframe tbody tr th {\n",
       "        vertical-align: top;\n",
       "    }\n",
       "\n",
       "    .dataframe thead th {\n",
       "        text-align: right;\n",
       "    }\n",
       "</style>\n",
       "<table border=\"1\" class=\"dataframe\">\n",
       "  <thead>\n",
       "    <tr style=\"text-align: right;\">\n",
       "      <th></th>\n",
       "      <th>order_id</th>\n",
       "      <th>order_item_id</th>\n",
       "      <th>product_id</th>\n",
       "      <th>seller_id</th>\n",
       "      <th>shipping_limit_date</th>\n",
       "      <th>price</th>\n",
       "      <th>freight_value</th>\n",
       "    </tr>\n",
       "  </thead>\n",
       "  <tbody>\n",
       "    <tr>\n",
       "      <th>0</th>\n",
       "      <td>00010242fe8c5a6d1ba2dd792cb16214</td>\n",
       "      <td>1</td>\n",
       "      <td>4244733e06e7ecb4970a6e2683c13e61</td>\n",
       "      <td>48436dade18ac8b2bce089ec2a041202</td>\n",
       "      <td>2017-09-19 09:45:35</td>\n",
       "      <td>58.90</td>\n",
       "      <td>13.29</td>\n",
       "    </tr>\n",
       "    <tr>\n",
       "      <th>1</th>\n",
       "      <td>00018f77f2f0320c557190d7a144bdd3</td>\n",
       "      <td>1</td>\n",
       "      <td>e5f2d52b802189ee658865ca93d83a8f</td>\n",
       "      <td>dd7ddc04e1b6c2c614352b383efe2d36</td>\n",
       "      <td>2017-05-03 11:05:13</td>\n",
       "      <td>239.90</td>\n",
       "      <td>19.93</td>\n",
       "    </tr>\n",
       "    <tr>\n",
       "      <th>2</th>\n",
       "      <td>000229ec398224ef6ca0657da4fc703e</td>\n",
       "      <td>1</td>\n",
       "      <td>c777355d18b72b67abbeef9df44fd0fd</td>\n",
       "      <td>5b51032eddd242adc84c38acab88f23d</td>\n",
       "      <td>2018-01-18 14:48:30</td>\n",
       "      <td>199.00</td>\n",
       "      <td>17.87</td>\n",
       "    </tr>\n",
       "    <tr>\n",
       "      <th>3</th>\n",
       "      <td>00024acbcdf0a6daa1e931b038114c75</td>\n",
       "      <td>1</td>\n",
       "      <td>7634da152a4610f1595efa32f14722fc</td>\n",
       "      <td>9d7a1d34a5052409006425275ba1c2b4</td>\n",
       "      <td>2018-08-15 10:10:18</td>\n",
       "      <td>12.99</td>\n",
       "      <td>12.79</td>\n",
       "    </tr>\n",
       "    <tr>\n",
       "      <th>4</th>\n",
       "      <td>00042b26cf59d7ce69dfabb4e55b4fd9</td>\n",
       "      <td>1</td>\n",
       "      <td>ac6c3623068f30de03045865e4e10089</td>\n",
       "      <td>df560393f3a51e74553ab94004ba5c87</td>\n",
       "      <td>2017-02-13 13:57:51</td>\n",
       "      <td>199.90</td>\n",
       "      <td>18.14</td>\n",
       "    </tr>\n",
       "  </tbody>\n",
       "</table>\n",
       "</div>"
      ],
      "text/plain": [
       "                           order_id  order_item_id  \\\n",
       "0  00010242fe8c5a6d1ba2dd792cb16214              1   \n",
       "1  00018f77f2f0320c557190d7a144bdd3              1   \n",
       "2  000229ec398224ef6ca0657da4fc703e              1   \n",
       "3  00024acbcdf0a6daa1e931b038114c75              1   \n",
       "4  00042b26cf59d7ce69dfabb4e55b4fd9              1   \n",
       "\n",
       "                         product_id                         seller_id  \\\n",
       "0  4244733e06e7ecb4970a6e2683c13e61  48436dade18ac8b2bce089ec2a041202   \n",
       "1  e5f2d52b802189ee658865ca93d83a8f  dd7ddc04e1b6c2c614352b383efe2d36   \n",
       "2  c777355d18b72b67abbeef9df44fd0fd  5b51032eddd242adc84c38acab88f23d   \n",
       "3  7634da152a4610f1595efa32f14722fc  9d7a1d34a5052409006425275ba1c2b4   \n",
       "4  ac6c3623068f30de03045865e4e10089  df560393f3a51e74553ab94004ba5c87   \n",
       "\n",
       "   shipping_limit_date   price  freight_value  \n",
       "0  2017-09-19 09:45:35   58.90          13.29  \n",
       "1  2017-05-03 11:05:13  239.90          19.93  \n",
       "2  2018-01-18 14:48:30  199.00          17.87  \n",
       "3  2018-08-15 10:10:18   12.99          12.79  \n",
       "4  2017-02-13 13:57:51  199.90          18.14  "
      ]
     },
     "execution_count": 1059,
     "metadata": {},
     "output_type": "execute_result"
    }
   ],
   "source": [
    "items_df = pd.read_csv(r'C:\\Users\\imane\\OneDrive\\Desktop\\Clients_Clustering\\olist_order_items_dataset.csv', sep =\",\")\n",
    "items_df.head()"
   ]
  },
  {
   "cell_type": "code",
   "execution_count": 1060,
   "id": "236b47e3",
   "metadata": {},
   "outputs": [
    {
     "name": "stdout",
     "output_type": "stream",
     "text": [
      "<class 'pandas.core.frame.DataFrame'>\n",
      "RangeIndex: 112650 entries, 0 to 112649\n",
      "Data columns (total 7 columns):\n",
      " #   Column               Non-Null Count   Dtype  \n",
      "---  ------               --------------   -----  \n",
      " 0   order_id             112650 non-null  object \n",
      " 1   order_item_id        112650 non-null  int64  \n",
      " 2   product_id           112650 non-null  object \n",
      " 3   seller_id            112650 non-null  object \n",
      " 4   shipping_limit_date  112650 non-null  object \n",
      " 5   price                112650 non-null  float64\n",
      " 6   freight_value        112650 non-null  float64\n",
      "dtypes: float64(2), int64(1), object(4)\n",
      "memory usage: 6.0+ MB\n"
     ]
    }
   ],
   "source": [
    "items_df.info()"
   ]
  },
  {
   "cell_type": "code",
   "execution_count": 1061,
   "id": "5c4ef4ef",
   "metadata": {},
   "outputs": [
    {
     "data": {
      "text/html": [
       "<div>\n",
       "<style scoped>\n",
       "    .dataframe tbody tr th:only-of-type {\n",
       "        vertical-align: middle;\n",
       "    }\n",
       "\n",
       "    .dataframe tbody tr th {\n",
       "        vertical-align: top;\n",
       "    }\n",
       "\n",
       "    .dataframe thead th {\n",
       "        text-align: right;\n",
       "    }\n",
       "</style>\n",
       "<table border=\"1\" class=\"dataframe\">\n",
       "  <thead>\n",
       "    <tr style=\"text-align: right;\">\n",
       "      <th></th>\n",
       "      <th>count</th>\n",
       "      <th>mean</th>\n",
       "      <th>std</th>\n",
       "      <th>min</th>\n",
       "      <th>25%</th>\n",
       "      <th>50%</th>\n",
       "      <th>75%</th>\n",
       "      <th>max</th>\n",
       "    </tr>\n",
       "  </thead>\n",
       "  <tbody>\n",
       "    <tr>\n",
       "      <th>order_item_id</th>\n",
       "      <td>112650.0</td>\n",
       "      <td>1.197834</td>\n",
       "      <td>0.705124</td>\n",
       "      <td>1.00</td>\n",
       "      <td>1.00</td>\n",
       "      <td>1.00</td>\n",
       "      <td>1.00</td>\n",
       "      <td>21.00</td>\n",
       "    </tr>\n",
       "    <tr>\n",
       "      <th>price</th>\n",
       "      <td>112650.0</td>\n",
       "      <td>120.653739</td>\n",
       "      <td>183.633928</td>\n",
       "      <td>0.85</td>\n",
       "      <td>39.90</td>\n",
       "      <td>74.99</td>\n",
       "      <td>134.90</td>\n",
       "      <td>6735.00</td>\n",
       "    </tr>\n",
       "    <tr>\n",
       "      <th>freight_value</th>\n",
       "      <td>112650.0</td>\n",
       "      <td>19.990320</td>\n",
       "      <td>15.806405</td>\n",
       "      <td>0.00</td>\n",
       "      <td>13.08</td>\n",
       "      <td>16.26</td>\n",
       "      <td>21.15</td>\n",
       "      <td>409.68</td>\n",
       "    </tr>\n",
       "  </tbody>\n",
       "</table>\n",
       "</div>"
      ],
      "text/plain": [
       "                  count        mean         std   min    25%    50%     75%  \\\n",
       "order_item_id  112650.0    1.197834    0.705124  1.00   1.00   1.00    1.00   \n",
       "price          112650.0  120.653739  183.633928  0.85  39.90  74.99  134.90   \n",
       "freight_value  112650.0   19.990320   15.806405  0.00  13.08  16.26   21.15   \n",
       "\n",
       "                   max  \n",
       "order_item_id    21.00  \n",
       "price          6735.00  \n",
       "freight_value   409.68  "
      ]
     },
     "execution_count": 1061,
     "metadata": {},
     "output_type": "execute_result"
    }
   ],
   "source": [
    "items_df.describe().transpose()"
   ]
  },
  {
   "cell_type": "markdown",
   "id": "ddad6e18",
   "metadata": {},
   "source": [
    "The order items data set contains orders ids, SKU (Stock Keeping Unit), the seller, price and shipping expense. All the column sare full and there isn't any missing data. The columns are both numerical (3 cols) and catergorical (4 cols)."
   ]
  },
  {
   "cell_type": "markdown",
   "id": "c65962c2",
   "metadata": {},
   "source": [
    "### Feature engineering"
   ]
  },
  {
   "cell_type": "code",
   "execution_count": 1062,
   "id": "bba2c979",
   "metadata": {},
   "outputs": [],
   "source": [
    "def date_time(df, cols):\n",
    "    for col in cols:\n",
    "        df[col] = pd.to_datetime(df[col], format='%Y-%m-%d').dt.date\n",
    "date_time(items_df,[\"shipping_limit_date\"])"
   ]
  },
  {
   "cell_type": "code",
   "execution_count": 1063,
   "id": "a0961ad5",
   "metadata": {},
   "outputs": [
    {
     "name": "stdout",
     "output_type": "stream",
     "text": [
      "Total of unique order ids in order items ds: 98666 \n",
      "Total of unique item ids in order items ds: 21 \n",
      "Total of unique order ids in orders ds: 99441 \n",
      "Total of records in order items ds: 112650\n"
     ]
    }
   ],
   "source": [
    "print(\"Total of unique order ids in order items ds: {} \\n\\\n",
    "Total of unique item ids in order items ds: {} \\n\\\n",
    "Total of unique order ids in orders ds: {} \\n\\\n",
    "Total of records in order items ds: {}\"\n",
    "      .format(\n",
    "      items_df[\"order_id\"].nunique(),\n",
    "      items_df[\"order_item_id\"].nunique(),\n",
    "      orders_df[\"order_id\"].nunique(),\n",
    "      len(items_df))\n",
    ")"
   ]
  },
  {
   "cell_type": "markdown",
   "id": "58e5d399",
   "metadata": {},
   "source": [
    "In this part we calculated the unique occurence of instances in the following:\n",
    "- The number of unique order ids in the order items dataset is 98 666 while the total instances in the datset is 112 650, which mean that there are 13 984 instances reflecting additional items in the some of the same orders.\n",
    "- The number of unique item ids in the order items dataset is 21, also meaning that some orders contained more than one item. And earlier we saw that the max value of this column is 21 items too."
   ]
  },
  {
   "cell_type": "code",
   "execution_count": 1064,
   "id": "6da0cc28",
   "metadata": {},
   "outputs": [
    {
     "data": {
      "text/plain": [
       "True    112650\n",
       "Name: order_id, dtype: int64"
      ]
     },
     "execution_count": 1064,
     "metadata": {},
     "output_type": "execute_result"
    }
   ],
   "source": [
    "items_df[\"order_id\"].isin(orders_df[\"order_id\"]).value_counts()"
   ]
  },
  {
   "cell_type": "code",
   "execution_count": 1065,
   "id": "bc415115",
   "metadata": {},
   "outputs": [
    {
     "data": {
      "text/plain": [
       "True     98666\n",
       "False      775\n",
       "Name: order_id, dtype: int64"
      ]
     },
     "execution_count": 1065,
     "metadata": {},
     "output_type": "execute_result"
    }
   ],
   "source": [
    "orders_df[\"order_id\"].isin(items_df[\"order_id\"]).value_counts()"
   ]
  },
  {
   "cell_type": "markdown",
   "id": "ccab021f",
   "metadata": {},
   "source": [
    "The above code tells us the following:\n",
    "- 775 orders that are present in the orders data set are not present in the order items data set, an explanation might be that they were orders that got cancelled or never delivered.\n",
    "- All of the instances present in the items data set (112 650 of them) in the orders dat set, meaning that the 13 984 repeated orders that resulted from the purchase of different items at the same time, don't contain any of the missing 775. "
   ]
  },
  {
   "cell_type": "code",
   "execution_count": 1066,
   "id": "10d37afa",
   "metadata": {},
   "outputs": [
    {
     "data": {
      "text/plain": [
       "<AxesSubplot:>"
      ]
     },
     "execution_count": 1066,
     "metadata": {},
     "output_type": "execute_result"
    },
    {
     "data": {
      "image/png": "[encoded data removed]",
      "text/plain": [
       "<Figure size 1080x576 with 1 Axes>"
      ]
     },
     "metadata": {},
     "output_type": "display_data"
    }
   ],
   "source": [
    "orders_df[~orders_df['order_id'].isin(items_df['order_id'])]['order_status'].value_counts().plot(kind='bar')"
   ]
  },
  {
   "cell_type": "markdown",
   "id": "51aa5b33",
   "metadata": {},
   "source": [
    "Digging a little deeper we see that most orders that were not present in the order items list were listed either unavailable or cancelled, this explains why they aren\"t present in the items ds and will therefore be deleted"
   ]
  },
  {
   "cell_type": "code",
   "execution_count": 1067,
   "id": "fa09b0d7",
   "metadata": {},
   "outputs": [
    {
     "name": "stdout",
     "output_type": "stream",
     "text": [
      "98666\n"
     ]
    }
   ],
   "source": [
    "orders_df = orders_df[orders_df[\"order_id\"].isin(items_df[\"order_id\"])]\n",
    "print(len(orders_df))"
   ]
  },
  {
   "cell_type": "code",
   "execution_count": 1068,
   "id": "57a208a3",
   "metadata": {},
   "outputs": [
    {
     "name": "stdout",
     "output_type": "stream",
     "text": [
      "Number of duplicated records: 0 \n",
      "Number of duplicated order lines: 10225\n"
     ]
    }
   ],
   "source": [
    "print('Number of duplicated records: {} \\n\\\n",
    "Number of duplicated order lines: {}'\n",
    "    .format(items_df.duplicated().sum(),\n",
    "    items_df[['order_id', 'product_id']].duplicated().sum()))"
   ]
  },
  {
   "cell_type": "markdown",
   "id": "1600f948",
   "metadata": {},
   "source": [
    "After calculating the sum the duplicate records, we get to the result that none of the records is duplicated (same info in the entire row), but there are 10 225 order ids and product ids that were results of repeating"
   ]
  },
  {
   "cell_type": "code",
   "execution_count": 1069,
   "id": "14dcb3dc",
   "metadata": {},
   "outputs": [
    {
     "data": {
      "text/html": [
       "<div>\n",
       "<style scoped>\n",
       "    .dataframe tbody tr th:only-of-type {\n",
       "        vertical-align: middle;\n",
       "    }\n",
       "\n",
       "    .dataframe tbody tr th {\n",
       "        vertical-align: top;\n",
       "    }\n",
       "\n",
       "    .dataframe thead th {\n",
       "        text-align: right;\n",
       "    }\n",
       "</style>\n",
       "<table border=\"1\" class=\"dataframe\">\n",
       "  <thead>\n",
       "    <tr style=\"text-align: right;\">\n",
       "      <th></th>\n",
       "      <th>product_id</th>\n",
       "      <th>order_id</th>\n",
       "      <th>order_item_id</th>\n",
       "      <th>seller_id</th>\n",
       "      <th>shipping_limit_date</th>\n",
       "      <th>price</th>\n",
       "      <th>freight_value</th>\n",
       "    </tr>\n",
       "  </thead>\n",
       "  <tbody>\n",
       "    <tr>\n",
       "      <th>0</th>\n",
       "      <td>00066f42aeeb9f3007548bb9d3f33c38</td>\n",
       "      <td>f30149f4a8882a08895b6a242aa0d612</td>\n",
       "      <td>1</td>\n",
       "      <td>5670f4db5b62c43d542e1b2d56b0cf7c</td>\n",
       "      <td>2018-05-24</td>\n",
       "      <td>101.65</td>\n",
       "      <td>18.59</td>\n",
       "    </tr>\n",
       "    <tr>\n",
       "      <th>1</th>\n",
       "      <td>00088930e925c41fd95ebfe695fd2655</td>\n",
       "      <td>f5eda0ded77c1293b04c953138c8331d</td>\n",
       "      <td>1</td>\n",
       "      <td>7142540dd4c91e2237acb7e911c4eba2</td>\n",
       "      <td>2017-12-18</td>\n",
       "      <td>129.90</td>\n",
       "      <td>13.93</td>\n",
       "    </tr>\n",
       "    <tr>\n",
       "      <th>2</th>\n",
       "      <td>0009406fd7479715e4bef61dd91f2462</td>\n",
       "      <td>0bf736fd0fd5169d60de3699fcbcf986</td>\n",
       "      <td>1</td>\n",
       "      <td>4a3ca9315b744ce9f8e9374361493884</td>\n",
       "      <td>2017-12-29</td>\n",
       "      <td>229.00</td>\n",
       "      <td>13.10</td>\n",
       "    </tr>\n",
       "    <tr>\n",
       "      <th>3</th>\n",
       "      <td>000b8f95fcb9e0096488278317764d19</td>\n",
       "      <td>3aba44d8e554ab4bb8c09f6f78032ca8</td>\n",
       "      <td>1</td>\n",
       "      <td>40ec8ab6cdafbcc4f544da38c67da39a</td>\n",
       "      <td>2018-08-16</td>\n",
       "      <td>58.90</td>\n",
       "      <td>19.60</td>\n",
       "    </tr>\n",
       "    <tr>\n",
       "      <th>4</th>\n",
       "      <td>000b8f95fcb9e0096488278317764d19</td>\n",
       "      <td>6f0dfb5b5398b271cc6bbd9ee263530e</td>\n",
       "      <td>1</td>\n",
       "      <td>40ec8ab6cdafbcc4f544da38c67da39a</td>\n",
       "      <td>2018-08-07</td>\n",
       "      <td>58.90</td>\n",
       "      <td>19.60</td>\n",
       "    </tr>\n",
       "  </tbody>\n",
       "</table>\n",
       "</div>"
      ],
      "text/plain": [
       "                         product_id                          order_id  \\\n",
       "0  00066f42aeeb9f3007548bb9d3f33c38  f30149f4a8882a08895b6a242aa0d612   \n",
       "1  00088930e925c41fd95ebfe695fd2655  f5eda0ded77c1293b04c953138c8331d   \n",
       "2  0009406fd7479715e4bef61dd91f2462  0bf736fd0fd5169d60de3699fcbcf986   \n",
       "3  000b8f95fcb9e0096488278317764d19  3aba44d8e554ab4bb8c09f6f78032ca8   \n",
       "4  000b8f95fcb9e0096488278317764d19  6f0dfb5b5398b271cc6bbd9ee263530e   \n",
       "\n",
       "   order_item_id                         seller_id shipping_limit_date  \\\n",
       "0              1  5670f4db5b62c43d542e1b2d56b0cf7c          2018-05-24   \n",
       "1              1  7142540dd4c91e2237acb7e911c4eba2          2017-12-18   \n",
       "2              1  4a3ca9315b744ce9f8e9374361493884          2017-12-29   \n",
       "3              1  40ec8ab6cdafbcc4f544da38c67da39a          2018-08-16   \n",
       "4              1  40ec8ab6cdafbcc4f544da38c67da39a          2018-08-07   \n",
       "\n",
       "    price  freight_value  \n",
       "0  101.65          18.59  \n",
       "1  129.90          13.93  \n",
       "2  229.00          13.10  \n",
       "3   58.90          19.60  \n",
       "4   58.90          19.60  "
      ]
     },
     "execution_count": 1069,
     "metadata": {},
     "output_type": "execute_result"
    }
   ],
   "source": [
    "grouped_df = items_df.groupby(by=[\"product_id\",\"order_id\"], as_index= False).agg({\n",
    "        'order_item_id': 'count', \n",
    "        'seller_id': 'first',\n",
    "        'shipping_limit_date': 'first',\n",
    "        'price': 'first',\n",
    "        'freight_value': 'first'\n",
    "        })\n",
    "grouped_df.head()"
   ]
  },
  {
   "cell_type": "code",
   "execution_count": 1070,
   "id": "3938f9cc",
   "metadata": {},
   "outputs": [
    {
     "name": "stdout",
     "output_type": "stream",
     "text": [
      "<class 'pandas.core.frame.DataFrame'>\n",
      "RangeIndex: 102425 entries, 0 to 102424\n",
      "Data columns (total 7 columns):\n",
      " #   Column               Non-Null Count   Dtype  \n",
      "---  ------               --------------   -----  \n",
      " 0   product_id           102425 non-null  object \n",
      " 1   order_id             102425 non-null  object \n",
      " 2   order_item_id        102425 non-null  int64  \n",
      " 3   seller_id            102425 non-null  object \n",
      " 4   shipping_limit_date  102425 non-null  object \n",
      " 5   price                102425 non-null  float64\n",
      " 6   freight_value        102425 non-null  float64\n",
      "dtypes: float64(2), int64(1), object(4)\n",
      "memory usage: 5.5+ MB\n"
     ]
    }
   ],
   "source": [
    "grouped_df.info()"
   ]
  },
  {
   "cell_type": "markdown",
   "id": "a2b836e8",
   "metadata": {},
   "source": [
    "The new data set grouped_df represents the order items dataset after grouping it by product id and aggregating the first row for all column except that of order_item_id (which is the amount of articles) which represents the sum of all articles ordered at the same time."
   ]
  },
  {
   "cell_type": "code",
   "execution_count": 1071,
   "id": "091c3ac0",
   "metadata": {},
   "outputs": [
    {
     "name": "stdout",
     "output_type": "stream",
     "text": [
      "Unique order ids in new table: 98666 \n",
      "Unique order ids in old table: 98666 \n",
      "Unique product ids in new table: 32951 \n",
      "Unique product ids in old table: 32951 \n",
      "Total quantity in new table: 112650 \n",
      "Total quantity in old table: 112650\n"
     ]
    }
   ],
   "source": [
    "print('Unique order ids in new table: {} \\n\\\n",
    "Unique order ids in old table: {} \\n\\\n",
    "Unique product ids in new table: {} \\n\\\n",
    "Unique product ids in old table: {} \\n\\\n",
    "Total quantity in new table: {} \\n\\\n",
    "Total quantity in old table: {}'\n",
    "    .format(\n",
    "    len(grouped_df['order_id'].unique()),\n",
    "    len(items_df['order_id'].unique()),\n",
    "    len(grouped_df['product_id'].unique()),\n",
    "    len(items_df['product_id'].unique()),\n",
    "    grouped_df['order_item_id'].sum(),\n",
    "    len(items_df)\n",
    "    ))"
   ]
  },
  {
   "cell_type": "markdown",
   "id": "02ce72c0",
   "metadata": {},
   "source": [
    "Here we were just checking that there was no data loss during the transformations, everything seems great. We'll rename the column order item id "
   ]
  },
  {
   "cell_type": "code",
   "execution_count": 1072,
   "id": "cc8075fa",
   "metadata": {},
   "outputs": [
    {
     "data": {
      "text/plain": [
       "1     95337\n",
       "2      5382\n",
       "3       953\n",
       "4       390\n",
       "6       172\n",
       "5       168\n",
       "10        5\n",
       "7         4\n",
       "12        2\n",
       "9         2\n",
       "15        2\n",
       "14        2\n",
       "8         2\n",
       "20        2\n",
       "11        1\n",
       "13        1\n",
       "Name: quantity, dtype: int64"
      ]
     },
     "execution_count": 1072,
     "metadata": {},
     "output_type": "execute_result"
    }
   ],
   "source": [
    "grouped_df.rename(columns = {'order_item_id': 'quantity'}, inplace = True)\n",
    "grouped_df[\"quantity\"].value_counts()"
   ]
  },
  {
   "cell_type": "markdown",
   "id": "31b461a7",
   "metadata": {},
   "source": [
    "This shows us how many orders were processed containing different quantities of articles"
   ]
  },
  {
   "cell_type": "code",
   "execution_count": 1073,
   "id": "ab5b6467",
   "metadata": {},
   "outputs": [
    {
     "data": {
      "text/plain": [
       "1.0998291432755676"
      ]
     },
     "execution_count": 1073,
     "metadata": {},
     "output_type": "execute_result"
    }
   ],
   "source": [
    "grouped_df[\"quantity\"].mean()"
   ]
  },
  {
   "cell_type": "markdown",
   "id": "87c353d2",
   "metadata": {},
   "source": [
    "The mean of the column also seems logical for an ecommerce distribution business"
   ]
  },
  {
   "cell_type": "markdown",
   "id": "d14d781c",
   "metadata": {},
   "source": [
    "## Merging the orders and order items data sets"
   ]
  },
  {
   "cell_type": "code",
   "execution_count": 1074,
   "id": "66d2205a",
   "metadata": {},
   "outputs": [
    {
     "data": {
      "text/html": [
       "<div>\n",
       "<style scoped>\n",
       "    .dataframe tbody tr th:only-of-type {\n",
       "        vertical-align: middle;\n",
       "    }\n",
       "\n",
       "    .dataframe tbody tr th {\n",
       "        vertical-align: top;\n",
       "    }\n",
       "\n",
       "    .dataframe thead th {\n",
       "        text-align: right;\n",
       "    }\n",
       "</style>\n",
       "<table border=\"1\" class=\"dataframe\">\n",
       "  <thead>\n",
       "    <tr style=\"text-align: right;\">\n",
       "      <th></th>\n",
       "      <th>order_id</th>\n",
       "      <th>customer_id</th>\n",
       "      <th>order_status</th>\n",
       "      <th>order_purchase_timestamp</th>\n",
       "      <th>order_approved_at</th>\n",
       "      <th>order_delivered_carrier_date</th>\n",
       "      <th>order_delivered_customer_date</th>\n",
       "      <th>order_estimated_delivery_date</th>\n",
       "      <th>shipping_difference</th>\n",
       "      <th>shipping_duration</th>\n",
       "      <th>shipping_est_duration</th>\n",
       "      <th>product_id</th>\n",
       "      <th>quantity</th>\n",
       "      <th>seller_id</th>\n",
       "      <th>shipping_limit_date</th>\n",
       "      <th>price</th>\n",
       "      <th>freight_value</th>\n",
       "    </tr>\n",
       "  </thead>\n",
       "  <tbody>\n",
       "    <tr>\n",
       "      <th>0</th>\n",
       "      <td>2e7a8482f6fb09756ca50c10d7bfc047</td>\n",
       "      <td>08c5351a6aca1c1589a38f244edeee9d</td>\n",
       "      <td>shipped</td>\n",
       "      <td>2016-09-04</td>\n",
       "      <td>2016-10-07</td>\n",
       "      <td>2016-10-18</td>\n",
       "      <td>2016-10-18</td>\n",
       "      <td>2016-10-20</td>\n",
       "      <td>2 days</td>\n",
       "      <td>44 days</td>\n",
       "      <td>46 days</td>\n",
       "      <td>c1488892604e4ba5cff5b4eb4d595400</td>\n",
       "      <td>1</td>\n",
       "      <td>1554a68530182680ad5c8b042c3ab563</td>\n",
       "      <td>2016-10-26</td>\n",
       "      <td>39.99</td>\n",
       "      <td>31.67</td>\n",
       "    </tr>\n",
       "    <tr>\n",
       "      <th>1</th>\n",
       "      <td>2e7a8482f6fb09756ca50c10d7bfc047</td>\n",
       "      <td>08c5351a6aca1c1589a38f244edeee9d</td>\n",
       "      <td>shipped</td>\n",
       "      <td>2016-09-04</td>\n",
       "      <td>2016-10-07</td>\n",
       "      <td>2016-10-18</td>\n",
       "      <td>2016-10-18</td>\n",
       "      <td>2016-10-20</td>\n",
       "      <td>2 days</td>\n",
       "      <td>44 days</td>\n",
       "      <td>46 days</td>\n",
       "      <td>f293394c72c9b5fafd7023301fc21fc2</td>\n",
       "      <td>1</td>\n",
       "      <td>1554a68530182680ad5c8b042c3ab563</td>\n",
       "      <td>2016-10-26</td>\n",
       "      <td>32.90</td>\n",
       "      <td>31.67</td>\n",
       "    </tr>\n",
       "    <tr>\n",
       "      <th>2</th>\n",
       "      <td>e5fa5a7210941f7d56d0208e4e071d35</td>\n",
       "      <td>683c54fc24d40ee9f8a6fc179fd9856c</td>\n",
       "      <td>canceled</td>\n",
       "      <td>2016-09-05</td>\n",
       "      <td>2016-10-07</td>\n",
       "      <td>2016-10-07</td>\n",
       "      <td>2016-10-07</td>\n",
       "      <td>2016-10-28</td>\n",
       "      <td>21 days</td>\n",
       "      <td>32 days</td>\n",
       "      <td>53 days</td>\n",
       "      <td>f3c2d01a84c947b078e32bbef0718962</td>\n",
       "      <td>1</td>\n",
       "      <td>a425f92c199eb576938df686728acd20</td>\n",
       "      <td>2016-09-19</td>\n",
       "      <td>59.50</td>\n",
       "      <td>15.56</td>\n",
       "    </tr>\n",
       "    <tr>\n",
       "      <th>3</th>\n",
       "      <td>bfbd0f9bdef84302105ad712db648a6c</td>\n",
       "      <td>86dc2ffce2dfff336de2f386a786e574</td>\n",
       "      <td>delivered</td>\n",
       "      <td>2016-09-15</td>\n",
       "      <td>2016-09-15</td>\n",
       "      <td>2016-11-07</td>\n",
       "      <td>2016-11-09</td>\n",
       "      <td>2016-10-04</td>\n",
       "      <td>-36 days</td>\n",
       "      <td>55 days</td>\n",
       "      <td>19 days</td>\n",
       "      <td>5a6b04657a4c5ee34285d1e4619a96b4</td>\n",
       "      <td>3</td>\n",
       "      <td>ecccfa2bb93b34a3bf033cc5d1dcdc69</td>\n",
       "      <td>2016-09-19</td>\n",
       "      <td>44.99</td>\n",
       "      <td>2.83</td>\n",
       "    </tr>\n",
       "    <tr>\n",
       "      <th>4</th>\n",
       "      <td>71303d7e93b399f5bcd537d124c0bcfa</td>\n",
       "      <td>b106b360fe2ef8849fbbd056f777b4d5</td>\n",
       "      <td>canceled</td>\n",
       "      <td>2016-10-02</td>\n",
       "      <td>2016-10-06</td>\n",
       "      <td>2016-10-06</td>\n",
       "      <td>2016-10-06</td>\n",
       "      <td>2016-10-25</td>\n",
       "      <td>19 days</td>\n",
       "      <td>4 days</td>\n",
       "      <td>23 days</td>\n",
       "      <td>d2998d7ced12f83f9b832f33cf6507b6</td>\n",
       "      <td>1</td>\n",
       "      <td>25e6ffe976bd75618accfe16cefcbd0d</td>\n",
       "      <td>2016-10-21</td>\n",
       "      <td>100.00</td>\n",
       "      <td>9.34</td>\n",
       "    </tr>\n",
       "  </tbody>\n",
       "</table>\n",
       "</div>"
      ],
      "text/plain": [
       "                           order_id                       customer_id  \\\n",
       "0  2e7a8482f6fb09756ca50c10d7bfc047  08c5351a6aca1c1589a38f244edeee9d   \n",
       "1  2e7a8482f6fb09756ca50c10d7bfc047  08c5351a6aca1c1589a38f244edeee9d   \n",
       "2  e5fa5a7210941f7d56d0208e4e071d35  683c54fc24d40ee9f8a6fc179fd9856c   \n",
       "3  bfbd0f9bdef84302105ad712db648a6c  86dc2ffce2dfff336de2f386a786e574   \n",
       "4  71303d7e93b399f5bcd537d124c0bcfa  b106b360fe2ef8849fbbd056f777b4d5   \n",
       "\n",
       "  order_status order_purchase_timestamp order_approved_at  \\\n",
       "0      shipped               2016-09-04        2016-10-07   \n",
       "1      shipped               2016-09-04        2016-10-07   \n",
       "2     canceled               2016-09-05        2016-10-07   \n",
       "3    delivered               2016-09-15        2016-09-15   \n",
       "4     canceled               2016-10-02        2016-10-06   \n",
       "\n",
       "  order_delivered_carrier_date order_delivered_customer_date  \\\n",
       "0                   2016-10-18                    2016-10-18   \n",
       "1                   2016-10-18                    2016-10-18   \n",
       "2                   2016-10-07                    2016-10-07   \n",
       "3                   2016-11-07                    2016-11-09   \n",
       "4                   2016-10-06                    2016-10-06   \n",
       "\n",
       "  order_estimated_delivery_date shipping_difference shipping_duration  \\\n",
       "0                    2016-10-20              2 days           44 days   \n",
       "1                    2016-10-20              2 days           44 days   \n",
       "2                    2016-10-28             21 days           32 days   \n",
       "3                    2016-10-04            -36 days           55 days   \n",
       "4                    2016-10-25             19 days            4 days   \n",
       "\n",
       "  shipping_est_duration                        product_id  quantity  \\\n",
       "0               46 days  c1488892604e4ba5cff5b4eb4d595400         1   \n",
       "1               46 days  f293394c72c9b5fafd7023301fc21fc2         1   \n",
       "2               53 days  f3c2d01a84c947b078e32bbef0718962         1   \n",
       "3               19 days  5a6b04657a4c5ee34285d1e4619a96b4         3   \n",
       "4               23 days  d2998d7ced12f83f9b832f33cf6507b6         1   \n",
       "\n",
       "                          seller_id shipping_limit_date   price  freight_value  \n",
       "0  1554a68530182680ad5c8b042c3ab563          2016-10-26   39.99          31.67  \n",
       "1  1554a68530182680ad5c8b042c3ab563          2016-10-26   32.90          31.67  \n",
       "2  a425f92c199eb576938df686728acd20          2016-09-19   59.50          15.56  \n",
       "3  ecccfa2bb93b34a3bf033cc5d1dcdc69          2016-09-19   44.99           2.83  \n",
       "4  25e6ffe976bd75618accfe16cefcbd0d          2016-10-21  100.00           9.34  "
      ]
     },
     "execution_count": 1074,
     "metadata": {},
     "output_type": "execute_result"
    }
   ],
   "source": [
    "orders_items = orders_df.merge(grouped_df, on= \"order_id\")\n",
    "orders_items.head()"
   ]
  },
  {
   "cell_type": "code",
   "execution_count": 1075,
   "id": "b5665772",
   "metadata": {},
   "outputs": [
    {
     "name": "stdout",
     "output_type": "stream",
     "text": [
      "<class 'pandas.core.frame.DataFrame'>\n",
      "Int64Index: 102425 entries, 0 to 102424\n",
      "Data columns (total 17 columns):\n",
      " #   Column                         Non-Null Count   Dtype          \n",
      "---  ------                         --------------   -----          \n",
      " 0   order_id                       102425 non-null  object         \n",
      " 1   customer_id                    102425 non-null  object         \n",
      " 2   order_status                   102425 non-null  object         \n",
      " 3   order_purchase_timestamp       102425 non-null  object         \n",
      " 4   order_approved_at              102425 non-null  object         \n",
      " 5   order_delivered_carrier_date   102425 non-null  object         \n",
      " 6   order_delivered_customer_date  102425 non-null  object         \n",
      " 7   order_estimated_delivery_date  102425 non-null  object         \n",
      " 8   shipping_difference            102425 non-null  timedelta64[ns]\n",
      " 9   shipping_duration              102425 non-null  timedelta64[ns]\n",
      " 10  shipping_est_duration          102425 non-null  timedelta64[ns]\n",
      " 11  product_id                     102425 non-null  object         \n",
      " 12  quantity                       102425 non-null  int64          \n",
      " 13  seller_id                      102425 non-null  object         \n",
      " 14  shipping_limit_date            102425 non-null  object         \n",
      " 15  price                          102425 non-null  float64        \n",
      " 16  freight_value                  102425 non-null  float64        \n",
      "dtypes: float64(2), int64(1), object(11), timedelta64[ns](3)\n",
      "memory usage: 14.1+ MB\n"
     ]
    }
   ],
   "source": [
    "orders_items.info()"
   ]
  },
  {
   "cell_type": "markdown",
   "id": "ba172f10",
   "metadata": {},
   "source": [
    "The new data set seems great, it contains both tables from before merged by order id. All the columns are full (there aren't any missing values) and they differ from numerical to categorical and time delta types."
   ]
  },
  {
   "cell_type": "markdown",
   "id": "c511d6cc",
   "metadata": {},
   "source": [
    "## Products data set"
   ]
  },
  {
   "cell_type": "code",
   "execution_count": 1076,
   "id": "8f012438",
   "metadata": {},
   "outputs": [
    {
     "data": {
      "text/html": [
       "<div>\n",
       "<style scoped>\n",
       "    .dataframe tbody tr th:only-of-type {\n",
       "        vertical-align: middle;\n",
       "    }\n",
       "\n",
       "    .dataframe tbody tr th {\n",
       "        vertical-align: top;\n",
       "    }\n",
       "\n",
       "    .dataframe thead th {\n",
       "        text-align: right;\n",
       "    }\n",
       "</style>\n",
       "<table border=\"1\" class=\"dataframe\">\n",
       "  <thead>\n",
       "    <tr style=\"text-align: right;\">\n",
       "      <th></th>\n",
       "      <th>product_id</th>\n",
       "      <th>product_category_name</th>\n",
       "      <th>product_name_lenght</th>\n",
       "      <th>product_description_lenght</th>\n",
       "      <th>product_photos_qty</th>\n",
       "      <th>product_weight_g</th>\n",
       "      <th>product_length_cm</th>\n",
       "      <th>product_height_cm</th>\n",
       "      <th>product_width_cm</th>\n",
       "    </tr>\n",
       "  </thead>\n",
       "  <tbody>\n",
       "    <tr>\n",
       "      <th>0</th>\n",
       "      <td>1e9e8ef04dbcff4541ed26657ea517e5</td>\n",
       "      <td>perfumaria</td>\n",
       "      <td>40.0</td>\n",
       "      <td>287.0</td>\n",
       "      <td>1.0</td>\n",
       "      <td>225.0</td>\n",
       "      <td>16.0</td>\n",
       "      <td>10.0</td>\n",
       "      <td>14.0</td>\n",
       "    </tr>\n",
       "    <tr>\n",
       "      <th>1</th>\n",
       "      <td>3aa071139cb16b67ca9e5dea641aaa2f</td>\n",
       "      <td>artes</td>\n",
       "      <td>44.0</td>\n",
       "      <td>276.0</td>\n",
       "      <td>1.0</td>\n",
       "      <td>1000.0</td>\n",
       "      <td>30.0</td>\n",
       "      <td>18.0</td>\n",
       "      <td>20.0</td>\n",
       "    </tr>\n",
       "    <tr>\n",
       "      <th>2</th>\n",
       "      <td>96bd76ec8810374ed1b65e291975717f</td>\n",
       "      <td>esporte_lazer</td>\n",
       "      <td>46.0</td>\n",
       "      <td>250.0</td>\n",
       "      <td>1.0</td>\n",
       "      <td>154.0</td>\n",
       "      <td>18.0</td>\n",
       "      <td>9.0</td>\n",
       "      <td>15.0</td>\n",
       "    </tr>\n",
       "    <tr>\n",
       "      <th>3</th>\n",
       "      <td>cef67bcfe19066a932b7673e239eb23d</td>\n",
       "      <td>bebes</td>\n",
       "      <td>27.0</td>\n",
       "      <td>261.0</td>\n",
       "      <td>1.0</td>\n",
       "      <td>371.0</td>\n",
       "      <td>26.0</td>\n",
       "      <td>4.0</td>\n",
       "      <td>26.0</td>\n",
       "    </tr>\n",
       "    <tr>\n",
       "      <th>4</th>\n",
       "      <td>9dc1a7de274444849c219cff195d0b71</td>\n",
       "      <td>utilidades_domesticas</td>\n",
       "      <td>37.0</td>\n",
       "      <td>402.0</td>\n",
       "      <td>4.0</td>\n",
       "      <td>625.0</td>\n",
       "      <td>20.0</td>\n",
       "      <td>17.0</td>\n",
       "      <td>13.0</td>\n",
       "    </tr>\n",
       "  </tbody>\n",
       "</table>\n",
       "</div>"
      ],
      "text/plain": [
       "                         product_id  product_category_name  \\\n",
       "0  1e9e8ef04dbcff4541ed26657ea517e5             perfumaria   \n",
       "1  3aa071139cb16b67ca9e5dea641aaa2f                  artes   \n",
       "2  96bd76ec8810374ed1b65e291975717f          esporte_lazer   \n",
       "3  cef67bcfe19066a932b7673e239eb23d                  bebes   \n",
       "4  9dc1a7de274444849c219cff195d0b71  utilidades_domesticas   \n",
       "\n",
       "   product_name_lenght  product_description_lenght  product_photos_qty  \\\n",
       "0                 40.0                       287.0                 1.0   \n",
       "1                 44.0                       276.0                 1.0   \n",
       "2                 46.0                       250.0                 1.0   \n",
       "3                 27.0                       261.0                 1.0   \n",
       "4                 37.0                       402.0                 4.0   \n",
       "\n",
       "   product_weight_g  product_length_cm  product_height_cm  product_width_cm  \n",
       "0             225.0               16.0               10.0              14.0  \n",
       "1            1000.0               30.0               18.0              20.0  \n",
       "2             154.0               18.0                9.0              15.0  \n",
       "3             371.0               26.0                4.0              26.0  \n",
       "4             625.0               20.0               17.0              13.0  "
      ]
     },
     "execution_count": 1076,
     "metadata": {},
     "output_type": "execute_result"
    }
   ],
   "source": [
    "products_df = pd.read_csv(r'C:\\Users\\imane\\OneDrive\\Desktop\\Clients_Clustering\\olist_products_dataset.csv', sep =\",\")\n",
    "products_df.head()"
   ]
  },
  {
   "cell_type": "markdown",
   "id": "1bb54776",
   "metadata": {},
   "source": [
    "The products table contains technical information about the products (dimensions and weight) "
   ]
  },
  {
   "cell_type": "code",
   "execution_count": 1077,
   "id": "946eac37",
   "metadata": {},
   "outputs": [
    {
     "name": "stdout",
     "output_type": "stream",
     "text": [
      "<class 'pandas.core.frame.DataFrame'>\n",
      "RangeIndex: 32951 entries, 0 to 32950\n",
      "Data columns (total 9 columns):\n",
      " #   Column                      Non-Null Count  Dtype  \n",
      "---  ------                      --------------  -----  \n",
      " 0   product_id                  32951 non-null  object \n",
      " 1   product_category_name       32341 non-null  object \n",
      " 2   product_name_lenght         32341 non-null  float64\n",
      " 3   product_description_lenght  32341 non-null  float64\n",
      " 4   product_photos_qty          32341 non-null  float64\n",
      " 5   product_weight_g            32949 non-null  float64\n",
      " 6   product_length_cm           32949 non-null  float64\n",
      " 7   product_height_cm           32949 non-null  float64\n",
      " 8   product_width_cm            32949 non-null  float64\n",
      "dtypes: float64(7), object(2)\n",
      "memory usage: 2.3+ MB\n"
     ]
    }
   ],
   "source": [
    "products_df.info()"
   ]
  },
  {
   "cell_type": "code",
   "execution_count": 1078,
   "id": "85833b45",
   "metadata": {},
   "outputs": [
    {
     "data": {
      "text/html": [
       "<div>\n",
       "<style scoped>\n",
       "    .dataframe tbody tr th:only-of-type {\n",
       "        vertical-align: middle;\n",
       "    }\n",
       "\n",
       "    .dataframe tbody tr th {\n",
       "        vertical-align: top;\n",
       "    }\n",
       "\n",
       "    .dataframe thead th {\n",
       "        text-align: right;\n",
       "    }\n",
       "</style>\n",
       "<table border=\"1\" class=\"dataframe\">\n",
       "  <thead>\n",
       "    <tr style=\"text-align: right;\">\n",
       "      <th></th>\n",
       "      <th>count</th>\n",
       "      <th>mean</th>\n",
       "      <th>std</th>\n",
       "      <th>min</th>\n",
       "      <th>25%</th>\n",
       "      <th>50%</th>\n",
       "      <th>75%</th>\n",
       "      <th>max</th>\n",
       "    </tr>\n",
       "  </thead>\n",
       "  <tbody>\n",
       "    <tr>\n",
       "      <th>product_name_lenght</th>\n",
       "      <td>32341.0</td>\n",
       "      <td>48.476949</td>\n",
       "      <td>10.245741</td>\n",
       "      <td>5.0</td>\n",
       "      <td>42.0</td>\n",
       "      <td>51.0</td>\n",
       "      <td>57.0</td>\n",
       "      <td>76.0</td>\n",
       "    </tr>\n",
       "    <tr>\n",
       "      <th>product_description_lenght</th>\n",
       "      <td>32341.0</td>\n",
       "      <td>771.495285</td>\n",
       "      <td>635.115225</td>\n",
       "      <td>4.0</td>\n",
       "      <td>339.0</td>\n",
       "      <td>595.0</td>\n",
       "      <td>972.0</td>\n",
       "      <td>3992.0</td>\n",
       "    </tr>\n",
       "    <tr>\n",
       "      <th>product_photos_qty</th>\n",
       "      <td>32341.0</td>\n",
       "      <td>2.188986</td>\n",
       "      <td>1.736766</td>\n",
       "      <td>1.0</td>\n",
       "      <td>1.0</td>\n",
       "      <td>1.0</td>\n",
       "      <td>3.0</td>\n",
       "      <td>20.0</td>\n",
       "    </tr>\n",
       "    <tr>\n",
       "      <th>product_weight_g</th>\n",
       "      <td>32949.0</td>\n",
       "      <td>2276.472488</td>\n",
       "      <td>4282.038731</td>\n",
       "      <td>0.0</td>\n",
       "      <td>300.0</td>\n",
       "      <td>700.0</td>\n",
       "      <td>1900.0</td>\n",
       "      <td>40425.0</td>\n",
       "    </tr>\n",
       "    <tr>\n",
       "      <th>product_length_cm</th>\n",
       "      <td>32949.0</td>\n",
       "      <td>30.815078</td>\n",
       "      <td>16.914458</td>\n",
       "      <td>7.0</td>\n",
       "      <td>18.0</td>\n",
       "      <td>25.0</td>\n",
       "      <td>38.0</td>\n",
       "      <td>105.0</td>\n",
       "    </tr>\n",
       "    <tr>\n",
       "      <th>product_height_cm</th>\n",
       "      <td>32949.0</td>\n",
       "      <td>16.937661</td>\n",
       "      <td>13.637554</td>\n",
       "      <td>2.0</td>\n",
       "      <td>8.0</td>\n",
       "      <td>13.0</td>\n",
       "      <td>21.0</td>\n",
       "      <td>105.0</td>\n",
       "    </tr>\n",
       "    <tr>\n",
       "      <th>product_width_cm</th>\n",
       "      <td>32949.0</td>\n",
       "      <td>23.196728</td>\n",
       "      <td>12.079047</td>\n",
       "      <td>6.0</td>\n",
       "      <td>15.0</td>\n",
       "      <td>20.0</td>\n",
       "      <td>30.0</td>\n",
       "      <td>118.0</td>\n",
       "    </tr>\n",
       "  </tbody>\n",
       "</table>\n",
       "</div>"
      ],
      "text/plain": [
       "                              count         mean          std  min    25%  \\\n",
       "product_name_lenght         32341.0    48.476949    10.245741  5.0   42.0   \n",
       "product_description_lenght  32341.0   771.495285   635.115225  4.0  339.0   \n",
       "product_photos_qty          32341.0     2.188986     1.736766  1.0    1.0   \n",
       "product_weight_g            32949.0  2276.472488  4282.038731  0.0  300.0   \n",
       "product_length_cm           32949.0    30.815078    16.914458  7.0   18.0   \n",
       "product_height_cm           32949.0    16.937661    13.637554  2.0    8.0   \n",
       "product_width_cm            32949.0    23.196728    12.079047  6.0   15.0   \n",
       "\n",
       "                              50%     75%      max  \n",
       "product_name_lenght          51.0    57.0     76.0  \n",
       "product_description_lenght  595.0   972.0   3992.0  \n",
       "product_photos_qty            1.0     3.0     20.0  \n",
       "product_weight_g            700.0  1900.0  40425.0  \n",
       "product_length_cm            25.0    38.0    105.0  \n",
       "product_height_cm            13.0    21.0    105.0  \n",
       "product_width_cm             20.0    30.0    118.0  "
      ]
     },
     "execution_count": 1078,
     "metadata": {},
     "output_type": "execute_result"
    }
   ],
   "source": [
    "products_df.describe().transpose()"
   ]
  },
  {
   "cell_type": "code",
   "execution_count": 1079,
   "id": "9e6c95f5",
   "metadata": {},
   "outputs": [
    {
     "data": {
      "text/plain": [
       "product_id                      0\n",
       "product_category_name         610\n",
       "product_name_lenght           610\n",
       "product_description_lenght    610\n",
       "product_photos_qty            610\n",
       "product_weight_g                2\n",
       "product_length_cm               2\n",
       "product_height_cm               2\n",
       "product_width_cm                2\n",
       "dtype: int64"
      ]
     },
     "execution_count": 1079,
     "metadata": {},
     "output_type": "execute_result"
    }
   ],
   "source": [
    "products_df.isnull().sum()"
   ]
  },
  {
   "cell_type": "code",
   "execution_count": 1080,
   "id": "a9b1a69b",
   "metadata": {},
   "outputs": [
    {
     "data": {
      "text/plain": [
       "0"
      ]
     },
     "execution_count": 1080,
     "metadata": {},
     "output_type": "execute_result"
    }
   ],
   "source": [
    "products_df['product_id'].duplicated().sum()"
   ]
  },
  {
   "cell_type": "markdown",
   "id": "5694acc9",
   "metadata": {},
   "source": [
    "The products data set contains nine columns representing both numerical and categorical features. It contains some missing values but none of the rows is duplicated."
   ]
  },
  {
   "cell_type": "code",
   "execution_count": 1081,
   "id": "a6da053d",
   "metadata": {},
   "outputs": [
    {
     "name": "stdout",
     "output_type": "stream",
     "text": [
      "Product ids count in order items table: 32951 \n",
      "Product ids count in products table: 32951\n"
     ]
    },
    {
     "data": {
      "text/plain": [
       "False"
      ]
     },
     "execution_count": 1081,
     "metadata": {},
     "output_type": "execute_result"
    }
   ],
   "source": [
    "print('Product ids count in order items table: {} \\n\\\n",
    "Product ids count in products table: {}'\n",
    "    .format(\n",
    "    len(orders_items['product_id'].unique()),\n",
    "    len(products_df['product_id'].unique())\n",
    "    ))\n",
    "products_df['product_id'].equals(orders_items['product_id'])"
   ]
  },
  {
   "cell_type": "markdown",
   "id": "724d231f",
   "metadata": {},
   "source": [
    "We see that the unique count of product ids is the same in both datasets. However, the preducts ids in both datasets don't match. We'll see this in detail after merging the two dfs "
   ]
  },
  {
   "cell_type": "markdown",
   "id": "6127dce1",
   "metadata": {},
   "source": [
    "## Merging the orders items dataset with the products dataset"
   ]
  },
  {
   "cell_type": "code",
   "execution_count": 1082,
   "id": "01496ead",
   "metadata": {},
   "outputs": [
    {
     "data": {
      "text/html": [
       "<div>\n",
       "<style scoped>\n",
       "    .dataframe tbody tr th:only-of-type {\n",
       "        vertical-align: middle;\n",
       "    }\n",
       "\n",
       "    .dataframe tbody tr th {\n",
       "        vertical-align: top;\n",
       "    }\n",
       "\n",
       "    .dataframe thead th {\n",
       "        text-align: right;\n",
       "    }\n",
       "</style>\n",
       "<table border=\"1\" class=\"dataframe\">\n",
       "  <thead>\n",
       "    <tr style=\"text-align: right;\">\n",
       "      <th></th>\n",
       "      <th>order_id</th>\n",
       "      <th>customer_id</th>\n",
       "      <th>order_status</th>\n",
       "      <th>order_purchase_timestamp</th>\n",
       "      <th>order_approved_at</th>\n",
       "      <th>order_delivered_carrier_date</th>\n",
       "      <th>order_delivered_customer_date</th>\n",
       "      <th>order_estimated_delivery_date</th>\n",
       "      <th>shipping_difference</th>\n",
       "      <th>shipping_duration</th>\n",
       "      <th>...</th>\n",
       "      <th>price</th>\n",
       "      <th>freight_value</th>\n",
       "      <th>product_category_name</th>\n",
       "      <th>product_name_lenght</th>\n",
       "      <th>product_description_lenght</th>\n",
       "      <th>product_photos_qty</th>\n",
       "      <th>product_weight_g</th>\n",
       "      <th>product_length_cm</th>\n",
       "      <th>product_height_cm</th>\n",
       "      <th>product_width_cm</th>\n",
       "    </tr>\n",
       "  </thead>\n",
       "  <tbody>\n",
       "    <tr>\n",
       "      <th>0</th>\n",
       "      <td>2e7a8482f6fb09756ca50c10d7bfc047</td>\n",
       "      <td>08c5351a6aca1c1589a38f244edeee9d</td>\n",
       "      <td>shipped</td>\n",
       "      <td>2016-09-04</td>\n",
       "      <td>2016-10-07</td>\n",
       "      <td>2016-10-18</td>\n",
       "      <td>2016-10-18</td>\n",
       "      <td>2016-10-20</td>\n",
       "      <td>2 days</td>\n",
       "      <td>44 days</td>\n",
       "      <td>...</td>\n",
       "      <td>39.99</td>\n",
       "      <td>31.67</td>\n",
       "      <td>moveis_decoracao</td>\n",
       "      <td>59.0</td>\n",
       "      <td>426.0</td>\n",
       "      <td>2.0</td>\n",
       "      <td>1400.0</td>\n",
       "      <td>32.0</td>\n",
       "      <td>6.0</td>\n",
       "      <td>28.0</td>\n",
       "    </tr>\n",
       "    <tr>\n",
       "      <th>1</th>\n",
       "      <td>35d3a51724a47ef1d0b89911e39cc4ff</td>\n",
       "      <td>27ab53f26192510ff85872aeb3759dcc</td>\n",
       "      <td>delivered</td>\n",
       "      <td>2016-10-04</td>\n",
       "      <td>2016-10-05</td>\n",
       "      <td>2016-10-14</td>\n",
       "      <td>2016-10-26</td>\n",
       "      <td>2016-12-20</td>\n",
       "      <td>55 days</td>\n",
       "      <td>22 days</td>\n",
       "      <td>...</td>\n",
       "      <td>39.99</td>\n",
       "      <td>22.34</td>\n",
       "      <td>moveis_decoracao</td>\n",
       "      <td>59.0</td>\n",
       "      <td>426.0</td>\n",
       "      <td>2.0</td>\n",
       "      <td>1400.0</td>\n",
       "      <td>32.0</td>\n",
       "      <td>6.0</td>\n",
       "      <td>28.0</td>\n",
       "    </tr>\n",
       "    <tr>\n",
       "      <th>2</th>\n",
       "      <td>c4f710df20f7d1500da1aef81a993f65</td>\n",
       "      <td>4b671f05b6eb9dc1d2c1bae9c8c78536</td>\n",
       "      <td>delivered</td>\n",
       "      <td>2016-10-10</td>\n",
       "      <td>2016-10-10</td>\n",
       "      <td>2016-10-18</td>\n",
       "      <td>2016-10-26</td>\n",
       "      <td>2016-12-14</td>\n",
       "      <td>49 days</td>\n",
       "      <td>16 days</td>\n",
       "      <td>...</td>\n",
       "      <td>39.99</td>\n",
       "      <td>11.80</td>\n",
       "      <td>moveis_decoracao</td>\n",
       "      <td>59.0</td>\n",
       "      <td>426.0</td>\n",
       "      <td>2.0</td>\n",
       "      <td>1400.0</td>\n",
       "      <td>32.0</td>\n",
       "      <td>6.0</td>\n",
       "      <td>28.0</td>\n",
       "    </tr>\n",
       "    <tr>\n",
       "      <th>3</th>\n",
       "      <td>81e5043198a44ddeb226002ff55d8ad4</td>\n",
       "      <td>ddd15ef77c83eea8c534d2896173a927</td>\n",
       "      <td>delivered</td>\n",
       "      <td>2017-01-09</td>\n",
       "      <td>2017-01-09</td>\n",
       "      <td>2017-01-09</td>\n",
       "      <td>2017-02-24</td>\n",
       "      <td>2017-02-24</td>\n",
       "      <td>0 days</td>\n",
       "      <td>46 days</td>\n",
       "      <td>...</td>\n",
       "      <td>38.50</td>\n",
       "      <td>15.56</td>\n",
       "      <td>moveis_decoracao</td>\n",
       "      <td>59.0</td>\n",
       "      <td>426.0</td>\n",
       "      <td>2.0</td>\n",
       "      <td>1400.0</td>\n",
       "      <td>32.0</td>\n",
       "      <td>6.0</td>\n",
       "      <td>28.0</td>\n",
       "    </tr>\n",
       "    <tr>\n",
       "      <th>4</th>\n",
       "      <td>03b218d39c422c250f389120c531b61f</td>\n",
       "      <td>db857a86c685a6a3a02a705961ec1ff1</td>\n",
       "      <td>delivered</td>\n",
       "      <td>2017-01-14</td>\n",
       "      <td>2017-01-14</td>\n",
       "      <td>2017-01-16</td>\n",
       "      <td>2017-01-18</td>\n",
       "      <td>2017-03-01</td>\n",
       "      <td>42 days</td>\n",
       "      <td>4 days</td>\n",
       "      <td>...</td>\n",
       "      <td>38.50</td>\n",
       "      <td>11.74</td>\n",
       "      <td>moveis_decoracao</td>\n",
       "      <td>59.0</td>\n",
       "      <td>426.0</td>\n",
       "      <td>2.0</td>\n",
       "      <td>1400.0</td>\n",
       "      <td>32.0</td>\n",
       "      <td>6.0</td>\n",
       "      <td>28.0</td>\n",
       "    </tr>\n",
       "  </tbody>\n",
       "</table>\n",
       "<p>5 rows × 25 columns</p>\n",
       "</div>"
      ],
      "text/plain": [
       "                           order_id                       customer_id  \\\n",
       "0  2e7a8482f6fb09756ca50c10d7bfc047  08c5351a6aca1c1589a38f244edeee9d   \n",
       "1  35d3a51724a47ef1d0b89911e39cc4ff  27ab53f26192510ff85872aeb3759dcc   \n",
       "2  c4f710df20f7d1500da1aef81a993f65  4b671f05b6eb9dc1d2c1bae9c8c78536   \n",
       "3  81e5043198a44ddeb226002ff55d8ad4  ddd15ef77c83eea8c534d2896173a927   \n",
       "4  03b218d39c422c250f389120c531b61f  db857a86c685a6a3a02a705961ec1ff1   \n",
       "\n",
       "  order_status order_purchase_timestamp order_approved_at  \\\n",
       "0      shipped               2016-09-04        2016-10-07   \n",
       "1    delivered               2016-10-04        2016-10-05   \n",
       "2    delivered               2016-10-10        2016-10-10   \n",
       "3    delivered               2017-01-09        2017-01-09   \n",
       "4    delivered               2017-01-14        2017-01-14   \n",
       "\n",
       "  order_delivered_carrier_date order_delivered_customer_date  \\\n",
       "0                   2016-10-18                    2016-10-18   \n",
       "1                   2016-10-14                    2016-10-26   \n",
       "2                   2016-10-18                    2016-10-26   \n",
       "3                   2017-01-09                    2017-02-24   \n",
       "4                   2017-01-16                    2017-01-18   \n",
       "\n",
       "  order_estimated_delivery_date shipping_difference shipping_duration  ...  \\\n",
       "0                    2016-10-20              2 days           44 days  ...   \n",
       "1                    2016-12-20             55 days           22 days  ...   \n",
       "2                    2016-12-14             49 days           16 days  ...   \n",
       "3                    2017-02-24              0 days           46 days  ...   \n",
       "4                    2017-03-01             42 days            4 days  ...   \n",
       "\n",
       "   price freight_value  product_category_name product_name_lenght  \\\n",
       "0  39.99         31.67       moveis_decoracao                59.0   \n",
       "1  39.99         22.34       moveis_decoracao                59.0   \n",
       "2  39.99         11.80       moveis_decoracao                59.0   \n",
       "3  38.50         15.56       moveis_decoracao                59.0   \n",
       "4  38.50         11.74       moveis_decoracao                59.0   \n",
       "\n",
       "  product_description_lenght  product_photos_qty  product_weight_g  \\\n",
       "0                      426.0                 2.0            1400.0   \n",
       "1                      426.0                 2.0            1400.0   \n",
       "2                      426.0                 2.0            1400.0   \n",
       "3                      426.0                 2.0            1400.0   \n",
       "4                      426.0                 2.0            1400.0   \n",
       "\n",
       "  product_length_cm  product_height_cm  product_width_cm  \n",
       "0              32.0                6.0              28.0  \n",
       "1              32.0                6.0              28.0  \n",
       "2              32.0                6.0              28.0  \n",
       "3              32.0                6.0              28.0  \n",
       "4              32.0                6.0              28.0  \n",
       "\n",
       "[5 rows x 25 columns]"
      ]
     },
     "execution_count": 1082,
     "metadata": {},
     "output_type": "execute_result"
    }
   ],
   "source": [
    "orders_items_products = orders_items.merge(products_df, on=\"product_id\")\n",
    "orders_items_products.head()"
   ]
  },
  {
   "cell_type": "code",
   "execution_count": 1083,
   "id": "a9603ef4",
   "metadata": {},
   "outputs": [
    {
     "data": {
      "text/plain": [
       "order_id                            0\n",
       "customer_id                         0\n",
       "order_status                        0\n",
       "order_purchase_timestamp            0\n",
       "order_approved_at                   0\n",
       "order_delivered_carrier_date        0\n",
       "order_delivered_customer_date       0\n",
       "order_estimated_delivery_date       0\n",
       "shipping_difference                 0\n",
       "shipping_duration                   0\n",
       "shipping_est_duration               0\n",
       "product_id                          0\n",
       "quantity                            0\n",
       "seller_id                           0\n",
       "shipping_limit_date                 0\n",
       "price                               0\n",
       "freight_value                       0\n",
       "product_category_name            1460\n",
       "product_name_lenght              1460\n",
       "product_description_lenght       1460\n",
       "product_photos_qty               1460\n",
       "product_weight_g                   16\n",
       "product_length_cm                  16\n",
       "product_height_cm                  16\n",
       "product_width_cm                   16\n",
       "dtype: int64"
      ]
     },
     "execution_count": 1083,
     "metadata": {},
     "output_type": "execute_result"
    }
   ],
   "source": [
    "orders_items_products.isnull().sum()"
   ]
  },
  {
   "cell_type": "markdown",
   "id": "76a1d527",
   "metadata": {},
   "source": [
    "After the merge, we see that the number of missing values increased from 610 to 1460 for certain columns and from 2 to 16 for others. The reason is the product ids that didn't match between the two datasets, so they were added to the dataframe but there is no info about their dimensions there."
   ]
  },
  {
   "cell_type": "code",
   "execution_count": 1084,
   "id": "ffc0f35d",
   "metadata": {},
   "outputs": [],
   "source": [
    "def subst_mean(dat, cols):\n",
    "    for col in cols:\n",
    "        dat[col] = dat[col].fillna(dat[col].mean())"
   ]
  },
  {
   "cell_type": "code",
   "execution_count": 1085,
   "id": "491f46e4",
   "metadata": {},
   "outputs": [],
   "source": [
    "subst_mean(orders_items_products, [\n",
    "    'product_length_cm',\n",
    "    'product_weight_g',\n",
    "    'product_height_cm',\n",
    "    'product_width_cm'\n",
    "    ])"
   ]
  },
  {
   "cell_type": "markdown",
   "id": "fd398d20",
   "metadata": {},
   "source": [
    "Here we substituted the missing values of the dimension features by the mean of the column."
   ]
  },
  {
   "cell_type": "code",
   "execution_count": 1086,
   "id": "9d4da6f0",
   "metadata": {},
   "outputs": [],
   "source": [
    "cols = [\"product_category_name\",\"product_name_lenght\",\"product_description_lenght\",\n",
    "                           \"product_photos_qty\"]\n",
    "orders_items_products[cols] = orders_items_products[cols].fillna(orders_items_products.mode().iloc[0])"
   ]
  },
  {
   "cell_type": "markdown",
   "id": "604954a7",
   "metadata": {},
   "source": [
    "Here we substituted the missing values of product name, description and photo quantity with the most frequent value in the column"
   ]
  },
  {
   "cell_type": "code",
   "execution_count": 1087,
   "id": "de5aa357",
   "metadata": {},
   "outputs": [],
   "source": [
    "orders_items_products[\"volume_ltr\"]\\\n",
    "= orders_items_products[\"product_length_cm\"]\\\n",
    "*orders_items_products[\"product_height_cm\"]\\\n",
    "*orders_items_products[\"product_width_cm\"]\\\n",
    "*orders_items_products[\"quantity\"]"
   ]
  },
  {
   "cell_type": "markdown",
   "id": "0efb1420",
   "metadata": {},
   "source": [
    "Here we added an additional column of volume in liters, with is the height*weight*lenght than multiplied by the quantity to get the volume of the totality of the  products. "
   ]
  },
  {
   "cell_type": "markdown",
   "id": "58745729",
   "metadata": {},
   "source": [
    "## The order payments dataset"
   ]
  },
  {
   "cell_type": "code",
   "execution_count": 1088,
   "id": "549796b5",
   "metadata": {},
   "outputs": [
    {
     "data": {
      "text/html": [
       "<div>\n",
       "<style scoped>\n",
       "    .dataframe tbody tr th:only-of-type {\n",
       "        vertical-align: middle;\n",
       "    }\n",
       "\n",
       "    .dataframe tbody tr th {\n",
       "        vertical-align: top;\n",
       "    }\n",
       "\n",
       "    .dataframe thead th {\n",
       "        text-align: right;\n",
       "    }\n",
       "</style>\n",
       "<table border=\"1\" class=\"dataframe\">\n",
       "  <thead>\n",
       "    <tr style=\"text-align: right;\">\n",
       "      <th></th>\n",
       "      <th>order_id</th>\n",
       "      <th>payment_sequential</th>\n",
       "      <th>payment_type</th>\n",
       "      <th>payment_installments</th>\n",
       "      <th>payment_value</th>\n",
       "    </tr>\n",
       "  </thead>\n",
       "  <tbody>\n",
       "    <tr>\n",
       "      <th>0</th>\n",
       "      <td>b81ef226f3fe1789b1e8b2acac839d17</td>\n",
       "      <td>1</td>\n",
       "      <td>credit_card</td>\n",
       "      <td>8</td>\n",
       "      <td>99.33</td>\n",
       "    </tr>\n",
       "    <tr>\n",
       "      <th>1</th>\n",
       "      <td>a9810da82917af2d9aefd1278f1dcfa0</td>\n",
       "      <td>1</td>\n",
       "      <td>credit_card</td>\n",
       "      <td>1</td>\n",
       "      <td>24.39</td>\n",
       "    </tr>\n",
       "    <tr>\n",
       "      <th>2</th>\n",
       "      <td>25e8ea4e93396b6fa0d3dd708e76c1bd</td>\n",
       "      <td>1</td>\n",
       "      <td>credit_card</td>\n",
       "      <td>1</td>\n",
       "      <td>65.71</td>\n",
       "    </tr>\n",
       "    <tr>\n",
       "      <th>3</th>\n",
       "      <td>ba78997921bbcdc1373bb41e913ab953</td>\n",
       "      <td>1</td>\n",
       "      <td>credit_card</td>\n",
       "      <td>8</td>\n",
       "      <td>107.78</td>\n",
       "    </tr>\n",
       "    <tr>\n",
       "      <th>4</th>\n",
       "      <td>42fdf880ba16b47b59251dd489d4441a</td>\n",
       "      <td>1</td>\n",
       "      <td>credit_card</td>\n",
       "      <td>2</td>\n",
       "      <td>128.45</td>\n",
       "    </tr>\n",
       "  </tbody>\n",
       "</table>\n",
       "</div>"
      ],
      "text/plain": [
       "                           order_id  payment_sequential payment_type  \\\n",
       "0  b81ef226f3fe1789b1e8b2acac839d17                   1  credit_card   \n",
       "1  a9810da82917af2d9aefd1278f1dcfa0                   1  credit_card   \n",
       "2  25e8ea4e93396b6fa0d3dd708e76c1bd                   1  credit_card   \n",
       "3  ba78997921bbcdc1373bb41e913ab953                   1  credit_card   \n",
       "4  42fdf880ba16b47b59251dd489d4441a                   1  credit_card   \n",
       "\n",
       "   payment_installments  payment_value  \n",
       "0                     8          99.33  \n",
       "1                     1          24.39  \n",
       "2                     1          65.71  \n",
       "3                     8         107.78  \n",
       "4                     2         128.45  "
      ]
     },
     "execution_count": 1088,
     "metadata": {},
     "output_type": "execute_result"
    }
   ],
   "source": [
    "payments_df = pd.read_csv(r'C:\\Users\\imane\\OneDrive\\Desktop\\Clients_Clustering\\olist_order_payments_dataset.csv', sep =\",\")\n",
    "payments_df.head()"
   ]
  },
  {
   "cell_type": "code",
   "execution_count": 1089,
   "id": "a82da373",
   "metadata": {},
   "outputs": [
    {
     "name": "stdout",
     "output_type": "stream",
     "text": [
      "<class 'pandas.core.frame.DataFrame'>\n",
      "RangeIndex: 103886 entries, 0 to 103885\n",
      "Data columns (total 5 columns):\n",
      " #   Column                Non-Null Count   Dtype  \n",
      "---  ------                --------------   -----  \n",
      " 0   order_id              103886 non-null  object \n",
      " 1   payment_sequential    103886 non-null  int64  \n",
      " 2   payment_type          103886 non-null  object \n",
      " 3   payment_installments  103886 non-null  int64  \n",
      " 4   payment_value         103886 non-null  float64\n",
      "dtypes: float64(1), int64(2), object(2)\n",
      "memory usage: 4.0+ MB\n"
     ]
    }
   ],
   "source": [
    "payments_df.info()"
   ]
  },
  {
   "cell_type": "code",
   "execution_count": 1090,
   "id": "38c3f706",
   "metadata": {},
   "outputs": [
    {
     "data": {
      "text/html": [
       "<div>\n",
       "<style scoped>\n",
       "    .dataframe tbody tr th:only-of-type {\n",
       "        vertical-align: middle;\n",
       "    }\n",
       "\n",
       "    .dataframe tbody tr th {\n",
       "        vertical-align: top;\n",
       "    }\n",
       "\n",
       "    .dataframe thead th {\n",
       "        text-align: right;\n",
       "    }\n",
       "</style>\n",
       "<table border=\"1\" class=\"dataframe\">\n",
       "  <thead>\n",
       "    <tr style=\"text-align: right;\">\n",
       "      <th></th>\n",
       "      <th>count</th>\n",
       "      <th>mean</th>\n",
       "      <th>std</th>\n",
       "      <th>min</th>\n",
       "      <th>25%</th>\n",
       "      <th>50%</th>\n",
       "      <th>75%</th>\n",
       "      <th>max</th>\n",
       "    </tr>\n",
       "  </thead>\n",
       "  <tbody>\n",
       "    <tr>\n",
       "      <th>payment_sequential</th>\n",
       "      <td>103886.0</td>\n",
       "      <td>1.092679</td>\n",
       "      <td>0.706584</td>\n",
       "      <td>1.0</td>\n",
       "      <td>1.00</td>\n",
       "      <td>1.0</td>\n",
       "      <td>1.0000</td>\n",
       "      <td>29.00</td>\n",
       "    </tr>\n",
       "    <tr>\n",
       "      <th>payment_installments</th>\n",
       "      <td>103886.0</td>\n",
       "      <td>2.853349</td>\n",
       "      <td>2.687051</td>\n",
       "      <td>0.0</td>\n",
       "      <td>1.00</td>\n",
       "      <td>1.0</td>\n",
       "      <td>4.0000</td>\n",
       "      <td>24.00</td>\n",
       "    </tr>\n",
       "    <tr>\n",
       "      <th>payment_value</th>\n",
       "      <td>103886.0</td>\n",
       "      <td>154.100380</td>\n",
       "      <td>217.494064</td>\n",
       "      <td>0.0</td>\n",
       "      <td>56.79</td>\n",
       "      <td>100.0</td>\n",
       "      <td>171.8375</td>\n",
       "      <td>13664.08</td>\n",
       "    </tr>\n",
       "  </tbody>\n",
       "</table>\n",
       "</div>"
      ],
      "text/plain": [
       "                         count        mean         std  min    25%    50%  \\\n",
       "payment_sequential    103886.0    1.092679    0.706584  1.0   1.00    1.0   \n",
       "payment_installments  103886.0    2.853349    2.687051  0.0   1.00    1.0   \n",
       "payment_value         103886.0  154.100380  217.494064  0.0  56.79  100.0   \n",
       "\n",
       "                           75%       max  \n",
       "payment_sequential      1.0000     29.00  \n",
       "payment_installments    4.0000     24.00  \n",
       "payment_value         171.8375  13664.08  "
      ]
     },
     "execution_count": 1090,
     "metadata": {},
     "output_type": "execute_result"
    }
   ],
   "source": [
    "payments_df.describe().transpose()"
   ]
  },
  {
   "cell_type": "code",
   "execution_count": 1091,
   "id": "c0035fcc",
   "metadata": {},
   "outputs": [
    {
     "data": {
      "text/plain": [
       "4446"
      ]
     },
     "execution_count": 1091,
     "metadata": {},
     "output_type": "execute_result"
    }
   ],
   "source": [
    "payments_df[\"order_id\"].duplicated().sum()"
   ]
  },
  {
   "cell_type": "markdown",
   "id": "f75e914e",
   "metadata": {},
   "source": [
    "The order payments dataset contains information about payment type, installements and purchase value. It contains both numerical and categorical features. The payment sequentital features has min, 25%, 50% and 75% all representing values of 1, and there are 4446 duplicated values. An explanation could be that some orders were payed at different sequences so we're going to group the data frame by order id."
   ]
  },
  {
   "cell_type": "code",
   "execution_count": 1092,
   "id": "9287a8b0",
   "metadata": {},
   "outputs": [],
   "source": [
    "payments_df = payments_df.groupby(by=[\"order_id\"]).agg({\n",
    "        'payment_sequential': 'sum', \n",
    "        'payment_type': 'first',\n",
    "        'payment_installments': 'sum',\n",
    "        'payment_value': 'sum'\n",
    "        })\n",
    "payments_df = payments_df.reset_index()"
   ]
  },
  {
   "cell_type": "code",
   "execution_count": 1093,
   "id": "5b576d53",
   "metadata": {},
   "outputs": [
    {
     "data": {
      "text/plain": [
       "0"
      ]
     },
     "execution_count": 1093,
     "metadata": {},
     "output_type": "execute_result"
    }
   ],
   "source": [
    "payments_df[\"order_id\"].duplicated().sum()"
   ]
  },
  {
   "cell_type": "markdown",
   "id": "4e437e77",
   "metadata": {},
   "source": [
    "Now, we've grouped the dataset by order id, sumed up the other features and kept only the first for payment type. So, we've got 0 duplicates now."
   ]
  },
  {
   "cell_type": "code",
   "execution_count": 1094,
   "id": "22cd3f4c",
   "metadata": {},
   "outputs": [
    {
     "data": {
      "text/plain": [
       "True     102424\n",
       "False         1\n",
       "Name: order_id, dtype: int64"
      ]
     },
     "execution_count": 1094,
     "metadata": {},
     "output_type": "execute_result"
    }
   ],
   "source": [
    "orders_items_products[\"order_id\"].isin(payments_df[\"order_id\"]).value_counts()"
   ]
  },
  {
   "cell_type": "markdown",
   "id": "898a19eb",
   "metadata": {},
   "source": [
    "## Merging the merged dataset with the payments dataset"
   ]
  },
  {
   "cell_type": "code",
   "execution_count": 1095,
   "id": "3d0c2adc",
   "metadata": {},
   "outputs": [
    {
     "name": "stdout",
     "output_type": "stream",
     "text": [
      "<class 'pandas.core.frame.DataFrame'>\n",
      "Int64Index: 102424 entries, 0 to 102423\n",
      "Data columns (total 30 columns):\n",
      " #   Column                         Non-Null Count   Dtype          \n",
      "---  ------                         --------------   -----          \n",
      " 0   order_id                       102424 non-null  object         \n",
      " 1   customer_id                    102424 non-null  object         \n",
      " 2   order_status                   102424 non-null  object         \n",
      " 3   order_purchase_timestamp       102424 non-null  object         \n",
      " 4   order_approved_at              102424 non-null  object         \n",
      " 5   order_delivered_carrier_date   102424 non-null  object         \n",
      " 6   order_delivered_customer_date  102424 non-null  object         \n",
      " 7   order_estimated_delivery_date  102424 non-null  object         \n",
      " 8   shipping_difference            102424 non-null  timedelta64[ns]\n",
      " 9   shipping_duration              102424 non-null  timedelta64[ns]\n",
      " 10  shipping_est_duration          102424 non-null  timedelta64[ns]\n",
      " 11  product_id                     102424 non-null  object         \n",
      " 12  quantity                       102424 non-null  int64          \n",
      " 13  seller_id                      102424 non-null  object         \n",
      " 14  shipping_limit_date            102424 non-null  object         \n",
      " 15  price                          102424 non-null  float64        \n",
      " 16  freight_value                  102424 non-null  float64        \n",
      " 17  product_category_name          102424 non-null  object         \n",
      " 18  product_name_lenght            102424 non-null  float64        \n",
      " 19  product_description_lenght     102424 non-null  float64        \n",
      " 20  product_photos_qty             102424 non-null  float64        \n",
      " 21  product_weight_g               102424 non-null  float64        \n",
      " 22  product_length_cm              102424 non-null  float64        \n",
      " 23  product_height_cm              102424 non-null  float64        \n",
      " 24  product_width_cm               102424 non-null  float64        \n",
      " 25  volume_ltr                     102424 non-null  float64        \n",
      " 26  payment_sequential             102424 non-null  int64          \n",
      " 27  payment_type                   102424 non-null  object         \n",
      " 28  payment_installments           102424 non-null  int64          \n",
      " 29  payment_value                  102424 non-null  float64        \n",
      "dtypes: float64(11), int64(3), object(13), timedelta64[ns](3)\n",
      "memory usage: 24.2+ MB\n"
     ]
    }
   ],
   "source": [
    "or_it_pr_pa = orders_items_products.merge(payments_df, on= \"order_id\")\n",
    "or_it_pr_pa.info()"
   ]
  },
  {
   "cell_type": "markdown",
   "id": "c19fc1b5",
   "metadata": {},
   "source": [
    "Then we checked how many order ids are present in the consilidated data frame from before, actually exist in the oayments dataset. All of them were present excpet one, so after merging the new datasets we now have 30 columns with 102424 rows."
   ]
  },
  {
   "cell_type": "markdown",
   "id": "b8cf229b",
   "metadata": {},
   "source": [
    "## Order reviews dataset"
   ]
  },
  {
   "cell_type": "code",
   "execution_count": 1096,
   "id": "9b5b7fbf",
   "metadata": {},
   "outputs": [
    {
     "data": {
      "text/html": [
       "<div>\n",
       "<style scoped>\n",
       "    .dataframe tbody tr th:only-of-type {\n",
       "        vertical-align: middle;\n",
       "    }\n",
       "\n",
       "    .dataframe tbody tr th {\n",
       "        vertical-align: top;\n",
       "    }\n",
       "\n",
       "    .dataframe thead th {\n",
       "        text-align: right;\n",
       "    }\n",
       "</style>\n",
       "<table border=\"1\" class=\"dataframe\">\n",
       "  <thead>\n",
       "    <tr style=\"text-align: right;\">\n",
       "      <th></th>\n",
       "      <th>review_id</th>\n",
       "      <th>order_id</th>\n",
       "      <th>review_score</th>\n",
       "      <th>review_comment_title</th>\n",
       "      <th>review_comment_message</th>\n",
       "      <th>review_creation_date</th>\n",
       "      <th>review_answer_timestamp</th>\n",
       "    </tr>\n",
       "  </thead>\n",
       "  <tbody>\n",
       "    <tr>\n",
       "      <th>99219</th>\n",
       "      <td>574ed12dd733e5fa530cfd4bbf39d7c9</td>\n",
       "      <td>2a8c23fee101d4d5662fa670396eb8da</td>\n",
       "      <td>5</td>\n",
       "      <td>NaN</td>\n",
       "      <td>NaN</td>\n",
       "      <td>2018-07-07 00:00:00</td>\n",
       "      <td>2018-07-14 17:18:30</td>\n",
       "    </tr>\n",
       "    <tr>\n",
       "      <th>99220</th>\n",
       "      <td>f3897127253a9592a73be9bdfdf4ed7a</td>\n",
       "      <td>22ec9f0669f784db00fa86d035cf8602</td>\n",
       "      <td>5</td>\n",
       "      <td>NaN</td>\n",
       "      <td>NaN</td>\n",
       "      <td>2017-12-09 00:00:00</td>\n",
       "      <td>2017-12-11 20:06:42</td>\n",
       "    </tr>\n",
       "    <tr>\n",
       "      <th>99221</th>\n",
       "      <td>b3de70c89b1510c4cd3d0649fd302472</td>\n",
       "      <td>55d4004744368f5571d1f590031933e4</td>\n",
       "      <td>5</td>\n",
       "      <td>NaN</td>\n",
       "      <td>Excelente mochila, entrega super rápida. Super...</td>\n",
       "      <td>2018-03-22 00:00:00</td>\n",
       "      <td>2018-03-23 09:10:43</td>\n",
       "    </tr>\n",
       "    <tr>\n",
       "      <th>99222</th>\n",
       "      <td>1adeb9d84d72fe4e337617733eb85149</td>\n",
       "      <td>7725825d039fc1f0ceb7635e3f7d9206</td>\n",
       "      <td>4</td>\n",
       "      <td>NaN</td>\n",
       "      <td>NaN</td>\n",
       "      <td>2018-07-01 00:00:00</td>\n",
       "      <td>2018-07-02 12:59:13</td>\n",
       "    </tr>\n",
       "    <tr>\n",
       "      <th>99223</th>\n",
       "      <td>efe49f1d6f951dd88b51e6ccd4cc548f</td>\n",
       "      <td>90531360ecb1eec2a1fbb265a0db0508</td>\n",
       "      <td>1</td>\n",
       "      <td>NaN</td>\n",
       "      <td>meu produto chegou e ja tenho que devolver, po...</td>\n",
       "      <td>2017-07-03 00:00:00</td>\n",
       "      <td>2017-07-03 21:01:49</td>\n",
       "    </tr>\n",
       "  </tbody>\n",
       "</table>\n",
       "</div>"
      ],
      "text/plain": [
       "                              review_id                          order_id  \\\n",
       "99219  574ed12dd733e5fa530cfd4bbf39d7c9  2a8c23fee101d4d5662fa670396eb8da   \n",
       "99220  f3897127253a9592a73be9bdfdf4ed7a  22ec9f0669f784db00fa86d035cf8602   \n",
       "99221  b3de70c89b1510c4cd3d0649fd302472  55d4004744368f5571d1f590031933e4   \n",
       "99222  1adeb9d84d72fe4e337617733eb85149  7725825d039fc1f0ceb7635e3f7d9206   \n",
       "99223  efe49f1d6f951dd88b51e6ccd4cc548f  90531360ecb1eec2a1fbb265a0db0508   \n",
       "\n",
       "       review_score review_comment_title  \\\n",
       "99219             5                  NaN   \n",
       "99220             5                  NaN   \n",
       "99221             5                  NaN   \n",
       "99222             4                  NaN   \n",
       "99223             1                  NaN   \n",
       "\n",
       "                                  review_comment_message review_creation_date  \\\n",
       "99219                                                NaN  2018-07-07 00:00:00   \n",
       "99220                                                NaN  2017-12-09 00:00:00   \n",
       "99221  Excelente mochila, entrega super rápida. Super...  2018-03-22 00:00:00   \n",
       "99222                                                NaN  2018-07-01 00:00:00   \n",
       "99223  meu produto chegou e ja tenho que devolver, po...  2017-07-03 00:00:00   \n",
       "\n",
       "      review_answer_timestamp  \n",
       "99219     2018-07-14 17:18:30  \n",
       "99220     2017-12-11 20:06:42  \n",
       "99221     2018-03-23 09:10:43  \n",
       "99222     2018-07-02 12:59:13  \n",
       "99223     2017-07-03 21:01:49  "
      ]
     },
     "execution_count": 1096,
     "metadata": {},
     "output_type": "execute_result"
    }
   ],
   "source": [
    "reviews_df = pd.read_csv(r'C:\\Users\\imane\\OneDrive\\Desktop\\Clients_Clustering\\olist_order_reviews_dataset.csv', sep =\",\")\n",
    "reviews_df.tail()"
   ]
  },
  {
   "cell_type": "code",
   "execution_count": 1097,
   "id": "5f2f64b2",
   "metadata": {},
   "outputs": [
    {
     "name": "stdout",
     "output_type": "stream",
     "text": [
      "<class 'pandas.core.frame.DataFrame'>\n",
      "RangeIndex: 99224 entries, 0 to 99223\n",
      "Data columns (total 7 columns):\n",
      " #   Column                   Non-Null Count  Dtype \n",
      "---  ------                   --------------  ----- \n",
      " 0   review_id                99224 non-null  object\n",
      " 1   order_id                 99224 non-null  object\n",
      " 2   review_score             99224 non-null  int64 \n",
      " 3   review_comment_title     11568 non-null  object\n",
      " 4   review_comment_message   40977 non-null  object\n",
      " 5   review_creation_date     99224 non-null  object\n",
      " 6   review_answer_timestamp  99224 non-null  object\n",
      "dtypes: int64(1), object(6)\n",
      "memory usage: 5.3+ MB\n"
     ]
    }
   ],
   "source": [
    "reviews_df.info()"
   ]
  },
  {
   "cell_type": "code",
   "execution_count": 1098,
   "id": "aaa08e17",
   "metadata": {},
   "outputs": [
    {
     "data": {
      "text/html": [
       "<div>\n",
       "<style scoped>\n",
       "    .dataframe tbody tr th:only-of-type {\n",
       "        vertical-align: middle;\n",
       "    }\n",
       "\n",
       "    .dataframe tbody tr th {\n",
       "        vertical-align: top;\n",
       "    }\n",
       "\n",
       "    .dataframe thead th {\n",
       "        text-align: right;\n",
       "    }\n",
       "</style>\n",
       "<table border=\"1\" class=\"dataframe\">\n",
       "  <thead>\n",
       "    <tr style=\"text-align: right;\">\n",
       "      <th></th>\n",
       "      <th>count</th>\n",
       "      <th>mean</th>\n",
       "      <th>std</th>\n",
       "      <th>min</th>\n",
       "      <th>25%</th>\n",
       "      <th>50%</th>\n",
       "      <th>75%</th>\n",
       "      <th>max</th>\n",
       "    </tr>\n",
       "  </thead>\n",
       "  <tbody>\n",
       "    <tr>\n",
       "      <th>review_score</th>\n",
       "      <td>99224.0</td>\n",
       "      <td>4.086421</td>\n",
       "      <td>1.347579</td>\n",
       "      <td>1.0</td>\n",
       "      <td>4.0</td>\n",
       "      <td>5.0</td>\n",
       "      <td>5.0</td>\n",
       "      <td>5.0</td>\n",
       "    </tr>\n",
       "  </tbody>\n",
       "</table>\n",
       "</div>"
      ],
      "text/plain": [
       "                count      mean       std  min  25%  50%  75%  max\n",
       "review_score  99224.0  4.086421  1.347579  1.0  4.0  5.0  5.0  5.0"
      ]
     },
     "execution_count": 1098,
     "metadata": {},
     "output_type": "execute_result"
    }
   ],
   "source": [
    "reviews_df.describe().transpose()"
   ]
  },
  {
   "cell_type": "markdown",
   "id": "047837ce",
   "metadata": {},
   "source": [
    "The product reviews dataset contains information like review id and score, message and time. It contains 7 columns most of which are categorical, with one numerical feature. This latter has a 25% of 4 and all 50%, 75% and max valued at 5, which means that the products sold by olist get good scores more often than not. "
   ]
  },
  {
   "cell_type": "code",
   "execution_count": 1099,
   "id": "f94e065f",
   "metadata": {},
   "outputs": [
    {
     "data": {
      "text/plain": [
       "<AxesSubplot:>"
      ]
     },
     "execution_count": 1099,
     "metadata": {},
     "output_type": "execute_result"
    },
    {
     "data": {
      "image/png": "[encoded data removed]",
      "text/plain": [
       "<Figure size 1080x576 with 2 Axes>"
      ]
     },
     "metadata": {},
     "output_type": "display_data"
    }
   ],
   "source": [
    "sns.heatmap(reviews_df.isnull())"
   ]
  },
  {
   "cell_type": "markdown",
   "id": "afea4a17",
   "metadata": {},
   "source": [
    "The columns of review comment title and review comment message have a lot of missing data (more missing than present). They shall therefore be deleted."
   ]
  },
  {
   "cell_type": "code",
   "execution_count": 1100,
   "id": "73dd7180",
   "metadata": {},
   "outputs": [],
   "source": [
    "reviews_df = reviews_df.drop([\"review_comment_title\",\"review_comment_message\"], axis = 1)"
   ]
  },
  {
   "cell_type": "code",
   "execution_count": 1101,
   "id": "df35125c",
   "metadata": {},
   "outputs": [
    {
     "data": {
      "text/plain": [
       "551"
      ]
     },
     "execution_count": 1101,
     "metadata": {},
     "output_type": "execute_result"
    }
   ],
   "source": [
    "reviews_df[\"order_id\"].duplicated().sum()"
   ]
  },
  {
   "cell_type": "markdown",
   "id": "f1cfd5cd",
   "metadata": {},
   "source": [
    "We have some duplicates among the order ids, meaning that some people left more than one comment for a certain product. We'll group the dataframe by order id once again, then aggregate the first occurence for review id, creation and answer date. And will take the max value for the review score."
   ]
  },
  {
   "cell_type": "code",
   "execution_count": 1102,
   "id": "ca62b6bc",
   "metadata": {},
   "outputs": [
    {
     "name": "stdout",
     "output_type": "stream",
     "text": [
      "<class 'pandas.core.frame.DataFrame'>\n",
      "RangeIndex: 98673 entries, 0 to 98672\n",
      "Data columns (total 5 columns):\n",
      " #   Column                   Non-Null Count  Dtype \n",
      "---  ------                   --------------  ----- \n",
      " 0   order_id                 98673 non-null  object\n",
      " 1   review_id                98673 non-null  object\n",
      " 2   review_score             98673 non-null  int64 \n",
      " 3   review_creation_date     98673 non-null  object\n",
      " 4   review_answer_timestamp  98673 non-null  object\n",
      "dtypes: int64(1), object(4)\n",
      "memory usage: 3.8+ MB\n"
     ]
    }
   ],
   "source": [
    "reviews_df = reviews_df.groupby(by=[\"order_id\"]).agg({\n",
    "        'review_id': 'first', \n",
    "        'review_score': 'max',\n",
    "        'review_creation_date': 'first',\n",
    "        'review_answer_timestamp': 'first'\n",
    "        })\n",
    "reviews_df = reviews_df.reset_index()\n",
    "reviews_df.info()"
   ]
  },
  {
   "cell_type": "markdown",
   "id": "732196ad",
   "metadata": {},
   "source": [
    "After grouping the data by order id and applying the mentioned changes, we got rid of the 551 additional rows."
   ]
  },
  {
   "cell_type": "markdown",
   "id": "20d4cdea",
   "metadata": {},
   "source": [
    "### Feature engineering"
   ]
  },
  {
   "cell_type": "code",
   "execution_count": 1103,
   "id": "3b5d103e",
   "metadata": {},
   "outputs": [],
   "source": [
    "def date_time(df, cols):\n",
    "    for col in cols:\n",
    "        df[col] = pd.to_datetime(df[col], format='%Y-%m-%d').dt.date\n",
    "date_time(reviews_df,[\"review_creation_date\",\"review_answer_timestamp\"])\n",
    "reviews_df.sort_values(by = 'review_creation_date', inplace = True)"
   ]
  },
  {
   "cell_type": "markdown",
   "id": "1d530a8b",
   "metadata": {},
   "source": [
    "Then, we got rid of the time stamp in review creation and answer dates"
   ]
  },
  {
   "cell_type": "code",
   "execution_count": 1104,
   "id": "f0622986",
   "metadata": {},
   "outputs": [
    {
     "data": {
      "text/html": [
       "<div>\n",
       "<style scoped>\n",
       "    .dataframe tbody tr th:only-of-type {\n",
       "        vertical-align: middle;\n",
       "    }\n",
       "\n",
       "    .dataframe tbody tr th {\n",
       "        vertical-align: top;\n",
       "    }\n",
       "\n",
       "    .dataframe thead th {\n",
       "        text-align: right;\n",
       "    }\n",
       "</style>\n",
       "<table border=\"1\" class=\"dataframe\">\n",
       "  <thead>\n",
       "    <tr style=\"text-align: right;\">\n",
       "      <th></th>\n",
       "      <th>order_id</th>\n",
       "      <th>review_id</th>\n",
       "      <th>review_score</th>\n",
       "      <th>review_creation_date</th>\n",
       "      <th>review_answer_timestamp</th>\n",
       "      <th>difference_reviews</th>\n",
       "    </tr>\n",
       "  </thead>\n",
       "  <tbody>\n",
       "    <tr>\n",
       "      <th>49483</th>\n",
       "      <td>809a282bbd5dbcabb6f2f724fca862ec</td>\n",
       "      <td>69ac6a27fde9855ebeaaecac0f78058b</td>\n",
       "      <td>1</td>\n",
       "      <td>2016-10-02</td>\n",
       "      <td>2016-10-26</td>\n",
       "      <td>24 days</td>\n",
       "    </tr>\n",
       "    <tr>\n",
       "      <th>73875</th>\n",
       "      <td>bfbd0f9bdef84302105ad712db648a6c</td>\n",
       "      <td>6916ca4502d6d3bfd39818759d55d536</td>\n",
       "      <td>1</td>\n",
       "      <td>2016-10-06</td>\n",
       "      <td>2016-10-07</td>\n",
       "      <td>1 days</td>\n",
       "    </tr>\n",
       "    <tr>\n",
       "      <th>88475</th>\n",
       "      <td>e5215415bb6f76fe3b7cb68103a0d1c0</td>\n",
       "      <td>49f695dffa457eaba90d388a5c37e942</td>\n",
       "      <td>1</td>\n",
       "      <td>2016-10-09</td>\n",
       "      <td>2016-10-11</td>\n",
       "      <td>2 days</td>\n",
       "    </tr>\n",
       "    <tr>\n",
       "      <th>87308</th>\n",
       "      <td>e2144124f98f3bf46939bc5183104041</td>\n",
       "      <td>743d98b1a4782f0646898fc915ef002a</td>\n",
       "      <td>4</td>\n",
       "      <td>2016-10-15</td>\n",
       "      <td>2016-10-16</td>\n",
       "      <td>1 days</td>\n",
       "    </tr>\n",
       "    <tr>\n",
       "      <th>59216</th>\n",
       "      <td>9aa3197e4887919fde0307fc23601d7a</td>\n",
       "      <td>b2d5d8db2a841d27a72e4c06c6212368</td>\n",
       "      <td>4</td>\n",
       "      <td>2016-10-15</td>\n",
       "      <td>2016-10-17</td>\n",
       "      <td>2 days</td>\n",
       "    </tr>\n",
       "  </tbody>\n",
       "</table>\n",
       "</div>"
      ],
      "text/plain": [
       "                               order_id                         review_id  \\\n",
       "49483  809a282bbd5dbcabb6f2f724fca862ec  69ac6a27fde9855ebeaaecac0f78058b   \n",
       "73875  bfbd0f9bdef84302105ad712db648a6c  6916ca4502d6d3bfd39818759d55d536   \n",
       "88475  e5215415bb6f76fe3b7cb68103a0d1c0  49f695dffa457eaba90d388a5c37e942   \n",
       "87308  e2144124f98f3bf46939bc5183104041  743d98b1a4782f0646898fc915ef002a   \n",
       "59216  9aa3197e4887919fde0307fc23601d7a  b2d5d8db2a841d27a72e4c06c6212368   \n",
       "\n",
       "       review_score review_creation_date review_answer_timestamp  \\\n",
       "49483             1           2016-10-02              2016-10-26   \n",
       "73875             1           2016-10-06              2016-10-07   \n",
       "88475             1           2016-10-09              2016-10-11   \n",
       "87308             4           2016-10-15              2016-10-16   \n",
       "59216             4           2016-10-15              2016-10-17   \n",
       "\n",
       "      difference_reviews  \n",
       "49483            24 days  \n",
       "73875             1 days  \n",
       "88475             2 days  \n",
       "87308             1 days  \n",
       "59216             2 days  "
      ]
     },
     "execution_count": 1104,
     "metadata": {},
     "output_type": "execute_result"
    }
   ],
   "source": [
    "reviews_df[\"difference_reviews\"] = reviews_df[\"review_answer_timestamp\"] - reviews_df[\"review_creation_date\"]\n",
    "reviews_df.head()"
   ]
  },
  {
   "cell_type": "markdown",
   "id": "38b4d72a",
   "metadata": {},
   "source": [
    "Then, we created a new column to keep track of the difference of time between the day the review was written and the day it was answered."
   ]
  },
  {
   "cell_type": "code",
   "execution_count": 1105,
   "id": "359bc13a",
   "metadata": {},
   "outputs": [
    {
     "data": {
      "text/plain": [
       "0"
      ]
     },
     "execution_count": 1105,
     "metadata": {},
     "output_type": "execute_result"
    }
   ],
   "source": [
    "reviews_df[\"order_id\"].duplicated().sum()"
   ]
  },
  {
   "cell_type": "code",
   "execution_count": 1106,
   "id": "96ea54e1",
   "metadata": {},
   "outputs": [
    {
     "data": {
      "text/plain": [
       "True     101627\n",
       "False       797\n",
       "Name: order_id, dtype: int64"
      ]
     },
     "execution_count": 1106,
     "metadata": {},
     "output_type": "execute_result"
    }
   ],
   "source": [
    "or_it_pr_pa[\"order_id\"].isin(reviews_df[\"order_id\"]).value_counts()"
   ]
  },
  {
   "cell_type": "markdown",
   "id": "e477c579",
   "metadata": {},
   "source": [
    "## Merging the reviews dataset with the merged datset"
   ]
  },
  {
   "cell_type": "markdown",
   "id": "ece3088b",
   "metadata": {},
   "source": [
    "Apparently there are no duplicated values in the dataframe. Great, now we'll move to merging it with the previous one. "
   ]
  },
  {
   "cell_type": "code",
   "execution_count": 1107,
   "id": "de1fc175",
   "metadata": {},
   "outputs": [
    {
     "data": {
      "text/html": [
       "<div>\n",
       "<style scoped>\n",
       "    .dataframe tbody tr th:only-of-type {\n",
       "        vertical-align: middle;\n",
       "    }\n",
       "\n",
       "    .dataframe tbody tr th {\n",
       "        vertical-align: top;\n",
       "    }\n",
       "\n",
       "    .dataframe thead th {\n",
       "        text-align: right;\n",
       "    }\n",
       "</style>\n",
       "<table border=\"1\" class=\"dataframe\">\n",
       "  <thead>\n",
       "    <tr style=\"text-align: right;\">\n",
       "      <th></th>\n",
       "      <th>order_id</th>\n",
       "      <th>customer_id</th>\n",
       "      <th>order_status</th>\n",
       "      <th>order_purchase_timestamp</th>\n",
       "      <th>order_approved_at</th>\n",
       "      <th>order_delivered_carrier_date</th>\n",
       "      <th>order_delivered_customer_date</th>\n",
       "      <th>order_estimated_delivery_date</th>\n",
       "      <th>shipping_difference</th>\n",
       "      <th>shipping_duration</th>\n",
       "      <th>...</th>\n",
       "      <th>volume_ltr</th>\n",
       "      <th>payment_sequential</th>\n",
       "      <th>payment_type</th>\n",
       "      <th>payment_installments</th>\n",
       "      <th>payment_value</th>\n",
       "      <th>review_id</th>\n",
       "      <th>review_score</th>\n",
       "      <th>review_creation_date</th>\n",
       "      <th>review_answer_timestamp</th>\n",
       "      <th>difference_reviews</th>\n",
       "    </tr>\n",
       "  </thead>\n",
       "  <tbody>\n",
       "    <tr>\n",
       "      <th>0</th>\n",
       "      <td>2e7a8482f6fb09756ca50c10d7bfc047</td>\n",
       "      <td>08c5351a6aca1c1589a38f244edeee9d</td>\n",
       "      <td>shipped</td>\n",
       "      <td>2016-09-04</td>\n",
       "      <td>2016-10-07</td>\n",
       "      <td>2016-10-18</td>\n",
       "      <td>2016-10-18</td>\n",
       "      <td>2016-10-20</td>\n",
       "      <td>2 days</td>\n",
       "      <td>44 days</td>\n",
       "      <td>...</td>\n",
       "      <td>5376.0</td>\n",
       "      <td>1</td>\n",
       "      <td>credit_card</td>\n",
       "      <td>1</td>\n",
       "      <td>136.23</td>\n",
       "      <td>cef1ee03ded4d6272894a2eead6e1328</td>\n",
       "      <td>1</td>\n",
       "      <td>2016-10-22</td>\n",
       "      <td>2016-11-15</td>\n",
       "      <td>24 days</td>\n",
       "    </tr>\n",
       "    <tr>\n",
       "      <th>1</th>\n",
       "      <td>2e7a8482f6fb09756ca50c10d7bfc047</td>\n",
       "      <td>08c5351a6aca1c1589a38f244edeee9d</td>\n",
       "      <td>shipped</td>\n",
       "      <td>2016-09-04</td>\n",
       "      <td>2016-10-07</td>\n",
       "      <td>2016-10-18</td>\n",
       "      <td>2016-10-18</td>\n",
       "      <td>2016-10-20</td>\n",
       "      <td>2 days</td>\n",
       "      <td>44 days</td>\n",
       "      <td>...</td>\n",
       "      <td>5376.0</td>\n",
       "      <td>1</td>\n",
       "      <td>credit_card</td>\n",
       "      <td>1</td>\n",
       "      <td>136.23</td>\n",
       "      <td>cef1ee03ded4d6272894a2eead6e1328</td>\n",
       "      <td>1</td>\n",
       "      <td>2016-10-22</td>\n",
       "      <td>2016-11-15</td>\n",
       "      <td>24 days</td>\n",
       "    </tr>\n",
       "    <tr>\n",
       "      <th>2</th>\n",
       "      <td>35d3a51724a47ef1d0b89911e39cc4ff</td>\n",
       "      <td>27ab53f26192510ff85872aeb3759dcc</td>\n",
       "      <td>delivered</td>\n",
       "      <td>2016-10-04</td>\n",
       "      <td>2016-10-05</td>\n",
       "      <td>2016-10-14</td>\n",
       "      <td>2016-10-26</td>\n",
       "      <td>2016-12-20</td>\n",
       "      <td>55 days</td>\n",
       "      <td>22 days</td>\n",
       "      <td>...</td>\n",
       "      <td>5376.0</td>\n",
       "      <td>1</td>\n",
       "      <td>boleto</td>\n",
       "      <td>1</td>\n",
       "      <td>62.33</td>\n",
       "      <td>56a697a6c18ae87216ae4db18b32577b</td>\n",
       "      <td>5</td>\n",
       "      <td>2016-10-27</td>\n",
       "      <td>2016-10-28</td>\n",
       "      <td>1 days</td>\n",
       "    </tr>\n",
       "    <tr>\n",
       "      <th>3</th>\n",
       "      <td>c4f710df20f7d1500da1aef81a993f65</td>\n",
       "      <td>4b671f05b6eb9dc1d2c1bae9c8c78536</td>\n",
       "      <td>delivered</td>\n",
       "      <td>2016-10-10</td>\n",
       "      <td>2016-10-10</td>\n",
       "      <td>2016-10-18</td>\n",
       "      <td>2016-10-26</td>\n",
       "      <td>2016-12-14</td>\n",
       "      <td>49 days</td>\n",
       "      <td>16 days</td>\n",
       "      <td>...</td>\n",
       "      <td>5376.0</td>\n",
       "      <td>1</td>\n",
       "      <td>credit_card</td>\n",
       "      <td>5</td>\n",
       "      <td>51.79</td>\n",
       "      <td>f24e1946d658c13928818f1a73b6d899</td>\n",
       "      <td>5</td>\n",
       "      <td>2016-10-27</td>\n",
       "      <td>2016-10-28</td>\n",
       "      <td>1 days</td>\n",
       "    </tr>\n",
       "    <tr>\n",
       "      <th>4</th>\n",
       "      <td>81e5043198a44ddeb226002ff55d8ad4</td>\n",
       "      <td>ddd15ef77c83eea8c534d2896173a927</td>\n",
       "      <td>delivered</td>\n",
       "      <td>2017-01-09</td>\n",
       "      <td>2017-01-09</td>\n",
       "      <td>2017-01-09</td>\n",
       "      <td>2017-02-24</td>\n",
       "      <td>2017-02-24</td>\n",
       "      <td>0 days</td>\n",
       "      <td>46 days</td>\n",
       "      <td>...</td>\n",
       "      <td>10752.0</td>\n",
       "      <td>1</td>\n",
       "      <td>credit_card</td>\n",
       "      <td>10</td>\n",
       "      <td>108.12</td>\n",
       "      <td>aba16ccba4d09a4250f9c4877011f984</td>\n",
       "      <td>1</td>\n",
       "      <td>2017-02-22</td>\n",
       "      <td>2017-02-22</td>\n",
       "      <td>0 days</td>\n",
       "    </tr>\n",
       "  </tbody>\n",
       "</table>\n",
       "<p>5 rows × 35 columns</p>\n",
       "</div>"
      ],
      "text/plain": [
       "                           order_id                       customer_id  \\\n",
       "0  2e7a8482f6fb09756ca50c10d7bfc047  08c5351a6aca1c1589a38f244edeee9d   \n",
       "1  2e7a8482f6fb09756ca50c10d7bfc047  08c5351a6aca1c1589a38f244edeee9d   \n",
       "2  35d3a51724a47ef1d0b89911e39cc4ff  27ab53f26192510ff85872aeb3759dcc   \n",
       "3  c4f710df20f7d1500da1aef81a993f65  4b671f05b6eb9dc1d2c1bae9c8c78536   \n",
       "4  81e5043198a44ddeb226002ff55d8ad4  ddd15ef77c83eea8c534d2896173a927   \n",
       "\n",
       "  order_status order_purchase_timestamp order_approved_at  \\\n",
       "0      shipped               2016-09-04        2016-10-07   \n",
       "1      shipped               2016-09-04        2016-10-07   \n",
       "2    delivered               2016-10-04        2016-10-05   \n",
       "3    delivered               2016-10-10        2016-10-10   \n",
       "4    delivered               2017-01-09        2017-01-09   \n",
       "\n",
       "  order_delivered_carrier_date order_delivered_customer_date  \\\n",
       "0                   2016-10-18                    2016-10-18   \n",
       "1                   2016-10-18                    2016-10-18   \n",
       "2                   2016-10-14                    2016-10-26   \n",
       "3                   2016-10-18                    2016-10-26   \n",
       "4                   2017-01-09                    2017-02-24   \n",
       "\n",
       "  order_estimated_delivery_date shipping_difference shipping_duration  ...  \\\n",
       "0                    2016-10-20              2 days           44 days  ...   \n",
       "1                    2016-10-20              2 days           44 days  ...   \n",
       "2                    2016-12-20             55 days           22 days  ...   \n",
       "3                    2016-12-14             49 days           16 days  ...   \n",
       "4                    2017-02-24              0 days           46 days  ...   \n",
       "\n",
       "  volume_ltr payment_sequential  payment_type payment_installments  \\\n",
       "0     5376.0                  1   credit_card                    1   \n",
       "1     5376.0                  1   credit_card                    1   \n",
       "2     5376.0                  1        boleto                    1   \n",
       "3     5376.0                  1   credit_card                    5   \n",
       "4    10752.0                  1   credit_card                   10   \n",
       "\n",
       "  payment_value                         review_id  review_score  \\\n",
       "0        136.23  cef1ee03ded4d6272894a2eead6e1328             1   \n",
       "1        136.23  cef1ee03ded4d6272894a2eead6e1328             1   \n",
       "2         62.33  56a697a6c18ae87216ae4db18b32577b             5   \n",
       "3         51.79  f24e1946d658c13928818f1a73b6d899             5   \n",
       "4        108.12  aba16ccba4d09a4250f9c4877011f984             1   \n",
       "\n",
       "  review_creation_date  review_answer_timestamp  difference_reviews  \n",
       "0           2016-10-22               2016-11-15             24 days  \n",
       "1           2016-10-22               2016-11-15             24 days  \n",
       "2           2016-10-27               2016-10-28              1 days  \n",
       "3           2016-10-27               2016-10-28              1 days  \n",
       "4           2017-02-22               2017-02-22              0 days  \n",
       "\n",
       "[5 rows x 35 columns]"
      ]
     },
     "execution_count": 1107,
     "metadata": {},
     "output_type": "execute_result"
    }
   ],
   "source": [
    "or_it_pr_pa_re = or_it_pr_pa.merge(reviews_df, on= \"order_id\")\n",
    "or_it_pr_pa_re.head()"
   ]
  },
  {
   "cell_type": "code",
   "execution_count": 1108,
   "id": "5f85a159",
   "metadata": {},
   "outputs": [
    {
     "name": "stdout",
     "output_type": "stream",
     "text": [
      "<class 'pandas.core.frame.DataFrame'>\n",
      "Int64Index: 101627 entries, 0 to 101626\n",
      "Data columns (total 35 columns):\n",
      " #   Column                         Non-Null Count   Dtype          \n",
      "---  ------                         --------------   -----          \n",
      " 0   order_id                       101627 non-null  object         \n",
      " 1   customer_id                    101627 non-null  object         \n",
      " 2   order_status                   101627 non-null  object         \n",
      " 3   order_purchase_timestamp       101627 non-null  object         \n",
      " 4   order_approved_at              101627 non-null  object         \n",
      " 5   order_delivered_carrier_date   101627 non-null  object         \n",
      " 6   order_delivered_customer_date  101627 non-null  object         \n",
      " 7   order_estimated_delivery_date  101627 non-null  object         \n",
      " 8   shipping_difference            101627 non-null  timedelta64[ns]\n",
      " 9   shipping_duration              101627 non-null  timedelta64[ns]\n",
      " 10  shipping_est_duration          101627 non-null  timedelta64[ns]\n",
      " 11  product_id                     101627 non-null  object         \n",
      " 12  quantity                       101627 non-null  int64          \n",
      " 13  seller_id                      101627 non-null  object         \n",
      " 14  shipping_limit_date            101627 non-null  object         \n",
      " 15  price                          101627 non-null  float64        \n",
      " 16  freight_value                  101627 non-null  float64        \n",
      " 17  product_category_name          101627 non-null  object         \n",
      " 18  product_name_lenght            101627 non-null  float64        \n",
      " 19  product_description_lenght     101627 non-null  float64        \n",
      " 20  product_photos_qty             101627 non-null  float64        \n",
      " 21  product_weight_g               101627 non-null  float64        \n",
      " 22  product_length_cm              101627 non-null  float64        \n",
      " 23  product_height_cm              101627 non-null  float64        \n",
      " 24  product_width_cm               101627 non-null  float64        \n",
      " 25  volume_ltr                     101627 non-null  float64        \n",
      " 26  payment_sequential             101627 non-null  int64          \n",
      " 27  payment_type                   101627 non-null  object         \n",
      " 28  payment_installments           101627 non-null  int64          \n",
      " 29  payment_value                  101627 non-null  float64        \n",
      " 30  review_id                      101627 non-null  object         \n",
      " 31  review_score                   101627 non-null  int64          \n",
      " 32  review_creation_date           101627 non-null  object         \n",
      " 33  review_answer_timestamp        101627 non-null  object         \n",
      " 34  difference_reviews             101627 non-null  timedelta64[ns]\n",
      "dtypes: float64(11), int64(4), object(16), timedelta64[ns](4)\n",
      "memory usage: 27.9+ MB\n"
     ]
    }
   ],
   "source": [
    "or_it_pr_pa_re.info()"
   ]
  },
  {
   "cell_type": "markdown",
   "id": "83536b3c",
   "metadata": {},
   "source": [
    "After merging the reviews ds with the consolidated dataset we get 35 columns and only 101 627 instances, because 797 instances were removed during the merge because their order id weren't present  in the reviews ds."
   ]
  },
  {
   "cell_type": "markdown",
   "id": "f510063d",
   "metadata": {},
   "source": [
    "## The Sellers dataset"
   ]
  },
  {
   "cell_type": "code",
   "execution_count": 1109,
   "id": "1cb5dd1a",
   "metadata": {},
   "outputs": [
    {
     "data": {
      "text/html": [
       "<div>\n",
       "<style scoped>\n",
       "    .dataframe tbody tr th:only-of-type {\n",
       "        vertical-align: middle;\n",
       "    }\n",
       "\n",
       "    .dataframe tbody tr th {\n",
       "        vertical-align: top;\n",
       "    }\n",
       "\n",
       "    .dataframe thead th {\n",
       "        text-align: right;\n",
       "    }\n",
       "</style>\n",
       "<table border=\"1\" class=\"dataframe\">\n",
       "  <thead>\n",
       "    <tr style=\"text-align: right;\">\n",
       "      <th></th>\n",
       "      <th>seller_id</th>\n",
       "      <th>seller_zip_code_prefix</th>\n",
       "      <th>seller_city</th>\n",
       "      <th>seller_state</th>\n",
       "    </tr>\n",
       "  </thead>\n",
       "  <tbody>\n",
       "    <tr>\n",
       "      <th>0</th>\n",
       "      <td>3442f8959a84dea7ee197c632cb2df15</td>\n",
       "      <td>13023</td>\n",
       "      <td>campinas</td>\n",
       "      <td>SP</td>\n",
       "    </tr>\n",
       "    <tr>\n",
       "      <th>1</th>\n",
       "      <td>d1b65fc7debc3361ea86b5f14c68d2e2</td>\n",
       "      <td>13844</td>\n",
       "      <td>mogi guacu</td>\n",
       "      <td>SP</td>\n",
       "    </tr>\n",
       "    <tr>\n",
       "      <th>2</th>\n",
       "      <td>ce3ad9de960102d0677a81f5d0bb7b2d</td>\n",
       "      <td>20031</td>\n",
       "      <td>rio de janeiro</td>\n",
       "      <td>RJ</td>\n",
       "    </tr>\n",
       "    <tr>\n",
       "      <th>3</th>\n",
       "      <td>c0f3eea2e14555b6faeea3dd58c1b1c3</td>\n",
       "      <td>4195</td>\n",
       "      <td>sao paulo</td>\n",
       "      <td>SP</td>\n",
       "    </tr>\n",
       "    <tr>\n",
       "      <th>4</th>\n",
       "      <td>51a04a8a6bdcb23deccc82b0b80742cf</td>\n",
       "      <td>12914</td>\n",
       "      <td>braganca paulista</td>\n",
       "      <td>SP</td>\n",
       "    </tr>\n",
       "  </tbody>\n",
       "</table>\n",
       "</div>"
      ],
      "text/plain": [
       "                          seller_id  seller_zip_code_prefix  \\\n",
       "0  3442f8959a84dea7ee197c632cb2df15                   13023   \n",
       "1  d1b65fc7debc3361ea86b5f14c68d2e2                   13844   \n",
       "2  ce3ad9de960102d0677a81f5d0bb7b2d                   20031   \n",
       "3  c0f3eea2e14555b6faeea3dd58c1b1c3                    4195   \n",
       "4  51a04a8a6bdcb23deccc82b0b80742cf                   12914   \n",
       "\n",
       "         seller_city seller_state  \n",
       "0           campinas           SP  \n",
       "1         mogi guacu           SP  \n",
       "2     rio de janeiro           RJ  \n",
       "3          sao paulo           SP  \n",
       "4  braganca paulista           SP  "
      ]
     },
     "execution_count": 1109,
     "metadata": {},
     "output_type": "execute_result"
    }
   ],
   "source": [
    "seller_df = pd.read_csv(r'C:\\Users\\imane\\OneDrive\\Desktop\\Clients_Clustering\\olist_sellers_dataset.csv', sep =\",\")\n",
    "seller_df.head()"
   ]
  },
  {
   "cell_type": "code",
   "execution_count": 1110,
   "id": "2a608973",
   "metadata": {},
   "outputs": [
    {
     "name": "stdout",
     "output_type": "stream",
     "text": [
      "<class 'pandas.core.frame.DataFrame'>\n",
      "RangeIndex: 3095 entries, 0 to 3094\n",
      "Data columns (total 4 columns):\n",
      " #   Column                  Non-Null Count  Dtype \n",
      "---  ------                  --------------  ----- \n",
      " 0   seller_id               3095 non-null   object\n",
      " 1   seller_zip_code_prefix  3095 non-null   int64 \n",
      " 2   seller_city             3095 non-null   object\n",
      " 3   seller_state            3095 non-null   object\n",
      "dtypes: int64(1), object(3)\n",
      "memory usage: 96.8+ KB\n"
     ]
    }
   ],
   "source": [
    "seller_df.info()"
   ]
  },
  {
   "cell_type": "code",
   "execution_count": 1111,
   "id": "01cd3482",
   "metadata": {},
   "outputs": [
    {
     "data": {
      "text/plain": [
       "0"
      ]
     },
     "execution_count": 1111,
     "metadata": {},
     "output_type": "execute_result"
    }
   ],
   "source": [
    "seller_df[\"seller_id\"].duplicated().sum()"
   ]
  },
  {
   "cell_type": "code",
   "execution_count": 1112,
   "id": "cfe6558c",
   "metadata": {},
   "outputs": [
    {
     "data": {
      "text/plain": [
       "True    101627\n",
       "Name: seller_id, dtype: int64"
      ]
     },
     "execution_count": 1112,
     "metadata": {},
     "output_type": "execute_result"
    }
   ],
   "source": [
    "or_it_pr_pa_re[\"seller_id\"].isin(seller_df[\"seller_id\"]).value_counts()"
   ]
  },
  {
   "cell_type": "markdown",
   "id": "caa31498",
   "metadata": {},
   "source": [
    "The seller dataset contains information about the sellers location like zip code, city and state. It has only 4 columns only one of which is numerical and the others are categorical. There are no duplicates and no empty values in the ds and all the seller ids present in the consolidated dataset from before are present in this one. So, we'll just go ahead and merge them."
   ]
  },
  {
   "cell_type": "markdown",
   "id": "8e5fc656",
   "metadata": {},
   "source": [
    "## Merging the consolidated dataset with the sellers dataset"
   ]
  },
  {
   "cell_type": "code",
   "execution_count": 1113,
   "id": "36f45b4a",
   "metadata": {},
   "outputs": [
    {
     "data": {
      "text/html": [
       "<div>\n",
       "<style scoped>\n",
       "    .dataframe tbody tr th:only-of-type {\n",
       "        vertical-align: middle;\n",
       "    }\n",
       "\n",
       "    .dataframe tbody tr th {\n",
       "        vertical-align: top;\n",
       "    }\n",
       "\n",
       "    .dataframe thead th {\n",
       "        text-align: right;\n",
       "    }\n",
       "</style>\n",
       "<table border=\"1\" class=\"dataframe\">\n",
       "  <thead>\n",
       "    <tr style=\"text-align: right;\">\n",
       "      <th></th>\n",
       "      <th>order_id</th>\n",
       "      <th>customer_id</th>\n",
       "      <th>order_status</th>\n",
       "      <th>order_purchase_timestamp</th>\n",
       "      <th>order_approved_at</th>\n",
       "      <th>order_delivered_carrier_date</th>\n",
       "      <th>order_delivered_customer_date</th>\n",
       "      <th>order_estimated_delivery_date</th>\n",
       "      <th>shipping_difference</th>\n",
       "      <th>shipping_duration</th>\n",
       "      <th>...</th>\n",
       "      <th>payment_installments</th>\n",
       "      <th>payment_value</th>\n",
       "      <th>review_id</th>\n",
       "      <th>review_score</th>\n",
       "      <th>review_creation_date</th>\n",
       "      <th>review_answer_timestamp</th>\n",
       "      <th>difference_reviews</th>\n",
       "      <th>seller_zip_code_prefix</th>\n",
       "      <th>seller_city</th>\n",
       "      <th>seller_state</th>\n",
       "    </tr>\n",
       "  </thead>\n",
       "  <tbody>\n",
       "    <tr>\n",
       "      <th>0</th>\n",
       "      <td>2e7a8482f6fb09756ca50c10d7bfc047</td>\n",
       "      <td>08c5351a6aca1c1589a38f244edeee9d</td>\n",
       "      <td>shipped</td>\n",
       "      <td>2016-09-04</td>\n",
       "      <td>2016-10-07</td>\n",
       "      <td>2016-10-18</td>\n",
       "      <td>2016-10-18</td>\n",
       "      <td>2016-10-20</td>\n",
       "      <td>2 days</td>\n",
       "      <td>44 days</td>\n",
       "      <td>...</td>\n",
       "      <td>1</td>\n",
       "      <td>136.23</td>\n",
       "      <td>cef1ee03ded4d6272894a2eead6e1328</td>\n",
       "      <td>1</td>\n",
       "      <td>2016-10-22</td>\n",
       "      <td>2016-11-15</td>\n",
       "      <td>24 days</td>\n",
       "      <td>37580</td>\n",
       "      <td>monte siao</td>\n",
       "      <td>MG</td>\n",
       "    </tr>\n",
       "    <tr>\n",
       "      <th>1</th>\n",
       "      <td>2e7a8482f6fb09756ca50c10d7bfc047</td>\n",
       "      <td>08c5351a6aca1c1589a38f244edeee9d</td>\n",
       "      <td>shipped</td>\n",
       "      <td>2016-09-04</td>\n",
       "      <td>2016-10-07</td>\n",
       "      <td>2016-10-18</td>\n",
       "      <td>2016-10-18</td>\n",
       "      <td>2016-10-20</td>\n",
       "      <td>2 days</td>\n",
       "      <td>44 days</td>\n",
       "      <td>...</td>\n",
       "      <td>1</td>\n",
       "      <td>136.23</td>\n",
       "      <td>cef1ee03ded4d6272894a2eead6e1328</td>\n",
       "      <td>1</td>\n",
       "      <td>2016-10-22</td>\n",
       "      <td>2016-11-15</td>\n",
       "      <td>24 days</td>\n",
       "      <td>37580</td>\n",
       "      <td>monte siao</td>\n",
       "      <td>MG</td>\n",
       "    </tr>\n",
       "    <tr>\n",
       "      <th>2</th>\n",
       "      <td>35d3a51724a47ef1d0b89911e39cc4ff</td>\n",
       "      <td>27ab53f26192510ff85872aeb3759dcc</td>\n",
       "      <td>delivered</td>\n",
       "      <td>2016-10-04</td>\n",
       "      <td>2016-10-05</td>\n",
       "      <td>2016-10-14</td>\n",
       "      <td>2016-10-26</td>\n",
       "      <td>2016-12-20</td>\n",
       "      <td>55 days</td>\n",
       "      <td>22 days</td>\n",
       "      <td>...</td>\n",
       "      <td>1</td>\n",
       "      <td>62.33</td>\n",
       "      <td>56a697a6c18ae87216ae4db18b32577b</td>\n",
       "      <td>5</td>\n",
       "      <td>2016-10-27</td>\n",
       "      <td>2016-10-28</td>\n",
       "      <td>1 days</td>\n",
       "      <td>37580</td>\n",
       "      <td>monte siao</td>\n",
       "      <td>MG</td>\n",
       "    </tr>\n",
       "    <tr>\n",
       "      <th>3</th>\n",
       "      <td>c4f710df20f7d1500da1aef81a993f65</td>\n",
       "      <td>4b671f05b6eb9dc1d2c1bae9c8c78536</td>\n",
       "      <td>delivered</td>\n",
       "      <td>2016-10-10</td>\n",
       "      <td>2016-10-10</td>\n",
       "      <td>2016-10-18</td>\n",
       "      <td>2016-10-26</td>\n",
       "      <td>2016-12-14</td>\n",
       "      <td>49 days</td>\n",
       "      <td>16 days</td>\n",
       "      <td>...</td>\n",
       "      <td>5</td>\n",
       "      <td>51.79</td>\n",
       "      <td>f24e1946d658c13928818f1a73b6d899</td>\n",
       "      <td>5</td>\n",
       "      <td>2016-10-27</td>\n",
       "      <td>2016-10-28</td>\n",
       "      <td>1 days</td>\n",
       "      <td>37580</td>\n",
       "      <td>monte siao</td>\n",
       "      <td>MG</td>\n",
       "    </tr>\n",
       "    <tr>\n",
       "      <th>4</th>\n",
       "      <td>81e5043198a44ddeb226002ff55d8ad4</td>\n",
       "      <td>ddd15ef77c83eea8c534d2896173a927</td>\n",
       "      <td>delivered</td>\n",
       "      <td>2017-01-09</td>\n",
       "      <td>2017-01-09</td>\n",
       "      <td>2017-01-09</td>\n",
       "      <td>2017-02-24</td>\n",
       "      <td>2017-02-24</td>\n",
       "      <td>0 days</td>\n",
       "      <td>46 days</td>\n",
       "      <td>...</td>\n",
       "      <td>10</td>\n",
       "      <td>108.12</td>\n",
       "      <td>aba16ccba4d09a4250f9c4877011f984</td>\n",
       "      <td>1</td>\n",
       "      <td>2017-02-22</td>\n",
       "      <td>2017-02-22</td>\n",
       "      <td>0 days</td>\n",
       "      <td>37580</td>\n",
       "      <td>monte siao</td>\n",
       "      <td>MG</td>\n",
       "    </tr>\n",
       "  </tbody>\n",
       "</table>\n",
       "<p>5 rows × 38 columns</p>\n",
       "</div>"
      ],
      "text/plain": [
       "                           order_id                       customer_id  \\\n",
       "0  2e7a8482f6fb09756ca50c10d7bfc047  08c5351a6aca1c1589a38f244edeee9d   \n",
       "1  2e7a8482f6fb09756ca50c10d7bfc047  08c5351a6aca1c1589a38f244edeee9d   \n",
       "2  35d3a51724a47ef1d0b89911e39cc4ff  27ab53f26192510ff85872aeb3759dcc   \n",
       "3  c4f710df20f7d1500da1aef81a993f65  4b671f05b6eb9dc1d2c1bae9c8c78536   \n",
       "4  81e5043198a44ddeb226002ff55d8ad4  ddd15ef77c83eea8c534d2896173a927   \n",
       "\n",
       "  order_status order_purchase_timestamp order_approved_at  \\\n",
       "0      shipped               2016-09-04        2016-10-07   \n",
       "1      shipped               2016-09-04        2016-10-07   \n",
       "2    delivered               2016-10-04        2016-10-05   \n",
       "3    delivered               2016-10-10        2016-10-10   \n",
       "4    delivered               2017-01-09        2017-01-09   \n",
       "\n",
       "  order_delivered_carrier_date order_delivered_customer_date  \\\n",
       "0                   2016-10-18                    2016-10-18   \n",
       "1                   2016-10-18                    2016-10-18   \n",
       "2                   2016-10-14                    2016-10-26   \n",
       "3                   2016-10-18                    2016-10-26   \n",
       "4                   2017-01-09                    2017-02-24   \n",
       "\n",
       "  order_estimated_delivery_date shipping_difference shipping_duration  ...  \\\n",
       "0                    2016-10-20              2 days           44 days  ...   \n",
       "1                    2016-10-20              2 days           44 days  ...   \n",
       "2                    2016-12-20             55 days           22 days  ...   \n",
       "3                    2016-12-14             49 days           16 days  ...   \n",
       "4                    2017-02-24              0 days           46 days  ...   \n",
       "\n",
       "  payment_installments payment_value                         review_id  \\\n",
       "0                    1        136.23  cef1ee03ded4d6272894a2eead6e1328   \n",
       "1                    1        136.23  cef1ee03ded4d6272894a2eead6e1328   \n",
       "2                    1         62.33  56a697a6c18ae87216ae4db18b32577b   \n",
       "3                    5         51.79  f24e1946d658c13928818f1a73b6d899   \n",
       "4                   10        108.12  aba16ccba4d09a4250f9c4877011f984   \n",
       "\n",
       "  review_score review_creation_date  review_answer_timestamp  \\\n",
       "0            1           2016-10-22               2016-11-15   \n",
       "1            1           2016-10-22               2016-11-15   \n",
       "2            5           2016-10-27               2016-10-28   \n",
       "3            5           2016-10-27               2016-10-28   \n",
       "4            1           2017-02-22               2017-02-22   \n",
       "\n",
       "   difference_reviews seller_zip_code_prefix  seller_city  seller_state  \n",
       "0             24 days                  37580   monte siao            MG  \n",
       "1             24 days                  37580   monte siao            MG  \n",
       "2              1 days                  37580   monte siao            MG  \n",
       "3              1 days                  37580   monte siao            MG  \n",
       "4              0 days                  37580   monte siao            MG  \n",
       "\n",
       "[5 rows x 38 columns]"
      ]
     },
     "execution_count": 1113,
     "metadata": {},
     "output_type": "execute_result"
    }
   ],
   "source": [
    "or_it_pr_pa_re_se = or_it_pr_pa_re.merge(seller_df, on= \"seller_id\")\n",
    "or_it_pr_pa_re_se.head()"
   ]
  },
  {
   "cell_type": "code",
   "execution_count": 1114,
   "id": "5ed0c1b8",
   "metadata": {},
   "outputs": [
    {
     "name": "stdout",
     "output_type": "stream",
     "text": [
      "<class 'pandas.core.frame.DataFrame'>\n",
      "Int64Index: 101627 entries, 0 to 101626\n",
      "Data columns (total 38 columns):\n",
      " #   Column                         Non-Null Count   Dtype          \n",
      "---  ------                         --------------   -----          \n",
      " 0   order_id                       101627 non-null  object         \n",
      " 1   customer_id                    101627 non-null  object         \n",
      " 2   order_status                   101627 non-null  object         \n",
      " 3   order_purchase_timestamp       101627 non-null  object         \n",
      " 4   order_approved_at              101627 non-null  object         \n",
      " 5   order_delivered_carrier_date   101627 non-null  object         \n",
      " 6   order_delivered_customer_date  101627 non-null  object         \n",
      " 7   order_estimated_delivery_date  101627 non-null  object         \n",
      " 8   shipping_difference            101627 non-null  timedelta64[ns]\n",
      " 9   shipping_duration              101627 non-null  timedelta64[ns]\n",
      " 10  shipping_est_duration          101627 non-null  timedelta64[ns]\n",
      " 11  product_id                     101627 non-null  object         \n",
      " 12  quantity                       101627 non-null  int64          \n",
      " 13  seller_id                      101627 non-null  object         \n",
      " 14  shipping_limit_date            101627 non-null  object         \n",
      " 15  price                          101627 non-null  float64        \n",
      " 16  freight_value                  101627 non-null  float64        \n",
      " 17  product_category_name          101627 non-null  object         \n",
      " 18  product_name_lenght            101627 non-null  float64        \n",
      " 19  product_description_lenght     101627 non-null  float64        \n",
      " 20  product_photos_qty             101627 non-null  float64        \n",
      " 21  product_weight_g               101627 non-null  float64        \n",
      " 22  product_length_cm              101627 non-null  float64        \n",
      " 23  product_height_cm              101627 non-null  float64        \n",
      " 24  product_width_cm               101627 non-null  float64        \n",
      " 25  volume_ltr                     101627 non-null  float64        \n",
      " 26  payment_sequential             101627 non-null  int64          \n",
      " 27  payment_type                   101627 non-null  object         \n",
      " 28  payment_installments           101627 non-null  int64          \n",
      " 29  payment_value                  101627 non-null  float64        \n",
      " 30  review_id                      101627 non-null  object         \n",
      " 31  review_score                   101627 non-null  int64          \n",
      " 32  review_creation_date           101627 non-null  object         \n",
      " 33  review_answer_timestamp        101627 non-null  object         \n",
      " 34  difference_reviews             101627 non-null  timedelta64[ns]\n",
      " 35  seller_zip_code_prefix         101627 non-null  int64          \n",
      " 36  seller_city                    101627 non-null  object         \n",
      " 37  seller_state                   101627 non-null  object         \n",
      "dtypes: float64(11), int64(5), object(18), timedelta64[ns](4)\n",
      "memory usage: 30.2+ MB\n"
     ]
    }
   ],
   "source": [
    "or_it_pr_pa_re_se.info()"
   ]
  },
  {
   "cell_type": "markdown",
   "id": "19ce7a44",
   "metadata": {},
   "source": [
    "After merging the two datasets, we get a dataframe with 38 columns and the same number of instances as  before. None of the column scontains empty values."
   ]
  },
  {
   "cell_type": "markdown",
   "id": "3ac58c57",
   "metadata": {},
   "source": [
    "## The customers dataset "
   ]
  },
  {
   "cell_type": "code",
   "execution_count": 1115,
   "id": "ee09f00a",
   "metadata": {},
   "outputs": [
    {
     "data": {
      "text/html": [
       "<div>\n",
       "<style scoped>\n",
       "    .dataframe tbody tr th:only-of-type {\n",
       "        vertical-align: middle;\n",
       "    }\n",
       "\n",
       "    .dataframe tbody tr th {\n",
       "        vertical-align: top;\n",
       "    }\n",
       "\n",
       "    .dataframe thead th {\n",
       "        text-align: right;\n",
       "    }\n",
       "</style>\n",
       "<table border=\"1\" class=\"dataframe\">\n",
       "  <thead>\n",
       "    <tr style=\"text-align: right;\">\n",
       "      <th></th>\n",
       "      <th>customer_id</th>\n",
       "      <th>customer_unique_id</th>\n",
       "      <th>customer_zip_code_prefix</th>\n",
       "      <th>customer_city</th>\n",
       "      <th>customer_state</th>\n",
       "    </tr>\n",
       "  </thead>\n",
       "  <tbody>\n",
       "    <tr>\n",
       "      <th>0</th>\n",
       "      <td>06b8999e2fba1a1fbc88172c00ba8bc7</td>\n",
       "      <td>861eff4711a542e4b93843c6dd7febb0</td>\n",
       "      <td>14409</td>\n",
       "      <td>franca</td>\n",
       "      <td>SP</td>\n",
       "    </tr>\n",
       "    <tr>\n",
       "      <th>1</th>\n",
       "      <td>18955e83d337fd6b2def6b18a428ac77</td>\n",
       "      <td>290c77bc529b7ac935b93aa66c333dc3</td>\n",
       "      <td>9790</td>\n",
       "      <td>sao bernardo do campo</td>\n",
       "      <td>SP</td>\n",
       "    </tr>\n",
       "    <tr>\n",
       "      <th>2</th>\n",
       "      <td>4e7b3e00288586ebd08712fdd0374a03</td>\n",
       "      <td>060e732b5b29e8181a18229c7b0b2b5e</td>\n",
       "      <td>1151</td>\n",
       "      <td>sao paulo</td>\n",
       "      <td>SP</td>\n",
       "    </tr>\n",
       "    <tr>\n",
       "      <th>3</th>\n",
       "      <td>b2b6027bc5c5109e529d4dc6358b12c3</td>\n",
       "      <td>259dac757896d24d7702b9acbbff3f3c</td>\n",
       "      <td>8775</td>\n",
       "      <td>mogi das cruzes</td>\n",
       "      <td>SP</td>\n",
       "    </tr>\n",
       "    <tr>\n",
       "      <th>4</th>\n",
       "      <td>4f2d8ab171c80ec8364f7c12e35b23ad</td>\n",
       "      <td>345ecd01c38d18a9036ed96c73b8d066</td>\n",
       "      <td>13056</td>\n",
       "      <td>campinas</td>\n",
       "      <td>SP</td>\n",
       "    </tr>\n",
       "  </tbody>\n",
       "</table>\n",
       "</div>"
      ],
      "text/plain": [
       "                        customer_id                customer_unique_id  \\\n",
       "0  06b8999e2fba1a1fbc88172c00ba8bc7  861eff4711a542e4b93843c6dd7febb0   \n",
       "1  18955e83d337fd6b2def6b18a428ac77  290c77bc529b7ac935b93aa66c333dc3   \n",
       "2  4e7b3e00288586ebd08712fdd0374a03  060e732b5b29e8181a18229c7b0b2b5e   \n",
       "3  b2b6027bc5c5109e529d4dc6358b12c3  259dac757896d24d7702b9acbbff3f3c   \n",
       "4  4f2d8ab171c80ec8364f7c12e35b23ad  345ecd01c38d18a9036ed96c73b8d066   \n",
       "\n",
       "   customer_zip_code_prefix          customer_city customer_state  \n",
       "0                     14409                 franca             SP  \n",
       "1                      9790  sao bernardo do campo             SP  \n",
       "2                      1151              sao paulo             SP  \n",
       "3                      8775        mogi das cruzes             SP  \n",
       "4                     13056               campinas             SP  "
      ]
     },
     "execution_count": 1115,
     "metadata": {},
     "output_type": "execute_result"
    }
   ],
   "source": [
    "customers_df =  pd.read_csv(r'C:\\Users\\imane\\OneDrive\\Desktop\\Clients_Clustering\\olist_customers_dataset.csv', sep =\",\")\n",
    "customers_df.head()"
   ]
  },
  {
   "cell_type": "code",
   "execution_count": 1116,
   "id": "f284486a",
   "metadata": {},
   "outputs": [
    {
     "name": "stdout",
     "output_type": "stream",
     "text": [
      "<class 'pandas.core.frame.DataFrame'>\n",
      "RangeIndex: 99441 entries, 0 to 99440\n",
      "Data columns (total 5 columns):\n",
      " #   Column                    Non-Null Count  Dtype \n",
      "---  ------                    --------------  ----- \n",
      " 0   customer_id               99441 non-null  object\n",
      " 1   customer_unique_id        99441 non-null  object\n",
      " 2   customer_zip_code_prefix  99441 non-null  int64 \n",
      " 3   customer_city             99441 non-null  object\n",
      " 4   customer_state            99441 non-null  object\n",
      "dtypes: int64(1), object(4)\n",
      "memory usage: 3.8+ MB\n"
     ]
    }
   ],
   "source": [
    "customers_df.info()"
   ]
  },
  {
   "cell_type": "code",
   "execution_count": 1117,
   "id": "caa98199",
   "metadata": {},
   "outputs": [
    {
     "data": {
      "text/plain": [
       "0"
      ]
     },
     "execution_count": 1117,
     "metadata": {},
     "output_type": "execute_result"
    }
   ],
   "source": [
    "customers_df[\"customer_id\"].duplicated().sum()"
   ]
  },
  {
   "cell_type": "code",
   "execution_count": 1118,
   "id": "c7ba5020",
   "metadata": {},
   "outputs": [
    {
     "data": {
      "text/plain": [
       "3345"
      ]
     },
     "execution_count": 1118,
     "metadata": {},
     "output_type": "execute_result"
    }
   ],
   "source": [
    "customers_df[\"customer_unique_id\"].duplicated().sum()"
   ]
  },
  {
   "cell_type": "markdown",
   "id": "bb08a9c6",
   "metadata": {},
   "source": [
    "The customers dataset gives us information about the customers location: zip code, state and city. It also contains 2 kinds of customer ids: one is present in the consolidated datset and the other (customer unique id) is not.\n",
    "We see that there are no duplicates in the column customer id and 3345 duplicates in customer unique id, which means that the customer id doesn't represent one unique client, and one unique customer id can have more than one customer id. Therefore, we'll group the dataset by customer unique id to get rid of duplicates."
   ]
  },
  {
   "cell_type": "code",
   "execution_count": 1119,
   "id": "a23190b6",
   "metadata": {},
   "outputs": [
    {
     "data": {
      "text/plain": [
       "0"
      ]
     },
     "execution_count": 1119,
     "metadata": {},
     "output_type": "execute_result"
    }
   ],
   "source": [
    "customers_df = customers_df.groupby(by=[\"customer_unique_id\"]).agg({\n",
    "        'customer_id': 'first', \n",
    "        'customer_zip_code_prefix': 'first',\n",
    "        'customer_city': 'first',\n",
    "        'customer_state': 'first'\n",
    "        })\n",
    "customers_df = customers_df.reset_index()\n",
    "customers_df[\"customer_unique_id\"].duplicated().sum()"
   ]
  },
  {
   "cell_type": "code",
   "execution_count": 1120,
   "id": "1ac50e90",
   "metadata": {},
   "outputs": [
    {
     "data": {
      "text/plain": [
       "96096"
      ]
     },
     "execution_count": 1120,
     "metadata": {},
     "output_type": "execute_result"
    }
   ],
   "source": [
    "len(customers_df)"
   ]
  },
  {
   "cell_type": "markdown",
   "id": "0abe6adc",
   "metadata": {},
   "source": [
    "Now we've grouped the dataframe by order unique id, and aggregated the first value for all the columns. The result is 0 duplicates in the order unique id, the number of instances is down to 96 096."
   ]
  },
  {
   "cell_type": "code",
   "execution_count": 1121,
   "id": "4667b946",
   "metadata": {},
   "outputs": [
    {
     "data": {
      "text/plain": [
       "True     98130\n",
       "False     3497\n",
       "Name: customer_id, dtype: int64"
      ]
     },
     "execution_count": 1121,
     "metadata": {},
     "output_type": "execute_result"
    }
   ],
   "source": [
    "or_it_pr_pa_re_se[\"customer_id\"].isin(customers_df[\"customer_id\"]).value_counts()"
   ]
  },
  {
   "cell_type": "markdown",
   "id": "b3330e7f",
   "metadata": {},
   "source": [
    "We see here that only 98 130 of customers are registered in the customers dataset, meaning that 3 497 clients were not kept track of. The next move is to joing it to the consolidated data set."
   ]
  },
  {
   "cell_type": "markdown",
   "id": "bfdd342a",
   "metadata": {},
   "source": [
    "## Merging the customers dataset to the consolidated dataset"
   ]
  },
  {
   "cell_type": "code",
   "execution_count": 1122,
   "id": "fd5c786a",
   "metadata": {},
   "outputs": [
    {
     "data": {
      "text/html": [
       "<div>\n",
       "<style scoped>\n",
       "    .dataframe tbody tr th:only-of-type {\n",
       "        vertical-align: middle;\n",
       "    }\n",
       "\n",
       "    .dataframe tbody tr th {\n",
       "        vertical-align: top;\n",
       "    }\n",
       "\n",
       "    .dataframe thead th {\n",
       "        text-align: right;\n",
       "    }\n",
       "</style>\n",
       "<table border=\"1\" class=\"dataframe\">\n",
       "  <thead>\n",
       "    <tr style=\"text-align: right;\">\n",
       "      <th></th>\n",
       "      <th>order_id</th>\n",
       "      <th>customer_id</th>\n",
       "      <th>order_status</th>\n",
       "      <th>order_purchase_timestamp</th>\n",
       "      <th>order_approved_at</th>\n",
       "      <th>order_delivered_carrier_date</th>\n",
       "      <th>order_delivered_customer_date</th>\n",
       "      <th>order_estimated_delivery_date</th>\n",
       "      <th>shipping_difference</th>\n",
       "      <th>shipping_duration</th>\n",
       "      <th>...</th>\n",
       "      <th>review_creation_date</th>\n",
       "      <th>review_answer_timestamp</th>\n",
       "      <th>difference_reviews</th>\n",
       "      <th>seller_zip_code_prefix</th>\n",
       "      <th>seller_city</th>\n",
       "      <th>seller_state</th>\n",
       "      <th>customer_unique_id</th>\n",
       "      <th>customer_zip_code_prefix</th>\n",
       "      <th>customer_city</th>\n",
       "      <th>customer_state</th>\n",
       "    </tr>\n",
       "  </thead>\n",
       "  <tbody>\n",
       "    <tr>\n",
       "      <th>0</th>\n",
       "      <td>2e7a8482f6fb09756ca50c10d7bfc047</td>\n",
       "      <td>08c5351a6aca1c1589a38f244edeee9d</td>\n",
       "      <td>shipped</td>\n",
       "      <td>2016-09-04</td>\n",
       "      <td>2016-10-07</td>\n",
       "      <td>2016-10-18</td>\n",
       "      <td>2016-10-18</td>\n",
       "      <td>2016-10-20</td>\n",
       "      <td>2 days</td>\n",
       "      <td>44 days</td>\n",
       "      <td>...</td>\n",
       "      <td>2016-10-22</td>\n",
       "      <td>2016-11-15</td>\n",
       "      <td>24 days</td>\n",
       "      <td>37580</td>\n",
       "      <td>monte siao</td>\n",
       "      <td>MG</td>\n",
       "      <td>b7d76e111c89f7ebf14761390f0f7d17</td>\n",
       "      <td>69309</td>\n",
       "      <td>boa vista</td>\n",
       "      <td>RR</td>\n",
       "    </tr>\n",
       "    <tr>\n",
       "      <th>1</th>\n",
       "      <td>2e7a8482f6fb09756ca50c10d7bfc047</td>\n",
       "      <td>08c5351a6aca1c1589a38f244edeee9d</td>\n",
       "      <td>shipped</td>\n",
       "      <td>2016-09-04</td>\n",
       "      <td>2016-10-07</td>\n",
       "      <td>2016-10-18</td>\n",
       "      <td>2016-10-18</td>\n",
       "      <td>2016-10-20</td>\n",
       "      <td>2 days</td>\n",
       "      <td>44 days</td>\n",
       "      <td>...</td>\n",
       "      <td>2016-10-22</td>\n",
       "      <td>2016-11-15</td>\n",
       "      <td>24 days</td>\n",
       "      <td>37580</td>\n",
       "      <td>monte siao</td>\n",
       "      <td>MG</td>\n",
       "      <td>b7d76e111c89f7ebf14761390f0f7d17</td>\n",
       "      <td>69309</td>\n",
       "      <td>boa vista</td>\n",
       "      <td>RR</td>\n",
       "    </tr>\n",
       "    <tr>\n",
       "      <th>2</th>\n",
       "      <td>35d3a51724a47ef1d0b89911e39cc4ff</td>\n",
       "      <td>27ab53f26192510ff85872aeb3759dcc</td>\n",
       "      <td>delivered</td>\n",
       "      <td>2016-10-04</td>\n",
       "      <td>2016-10-05</td>\n",
       "      <td>2016-10-14</td>\n",
       "      <td>2016-10-26</td>\n",
       "      <td>2016-12-20</td>\n",
       "      <td>55 days</td>\n",
       "      <td>22 days</td>\n",
       "      <td>...</td>\n",
       "      <td>2016-10-27</td>\n",
       "      <td>2016-10-28</td>\n",
       "      <td>1 days</td>\n",
       "      <td>37580</td>\n",
       "      <td>monte siao</td>\n",
       "      <td>MG</td>\n",
       "      <td>f922896769e9517ea3c630f3c8de86d0</td>\n",
       "      <td>96832</td>\n",
       "      <td>santa cruz do sul</td>\n",
       "      <td>RS</td>\n",
       "    </tr>\n",
       "    <tr>\n",
       "      <th>3</th>\n",
       "      <td>c4f710df20f7d1500da1aef81a993f65</td>\n",
       "      <td>4b671f05b6eb9dc1d2c1bae9c8c78536</td>\n",
       "      <td>delivered</td>\n",
       "      <td>2016-10-10</td>\n",
       "      <td>2016-10-10</td>\n",
       "      <td>2016-10-18</td>\n",
       "      <td>2016-10-26</td>\n",
       "      <td>2016-12-14</td>\n",
       "      <td>49 days</td>\n",
       "      <td>16 days</td>\n",
       "      <td>...</td>\n",
       "      <td>2016-10-27</td>\n",
       "      <td>2016-10-28</td>\n",
       "      <td>1 days</td>\n",
       "      <td>37580</td>\n",
       "      <td>monte siao</td>\n",
       "      <td>MG</td>\n",
       "      <td>0ecf7f65b5ff3b9e61b637e59f495e0a</td>\n",
       "      <td>30411</td>\n",
       "      <td>belo horizonte</td>\n",
       "      <td>MG</td>\n",
       "    </tr>\n",
       "    <tr>\n",
       "      <th>4</th>\n",
       "      <td>81e5043198a44ddeb226002ff55d8ad4</td>\n",
       "      <td>ddd15ef77c83eea8c534d2896173a927</td>\n",
       "      <td>delivered</td>\n",
       "      <td>2017-01-09</td>\n",
       "      <td>2017-01-09</td>\n",
       "      <td>2017-01-09</td>\n",
       "      <td>2017-02-24</td>\n",
       "      <td>2017-02-24</td>\n",
       "      <td>0 days</td>\n",
       "      <td>46 days</td>\n",
       "      <td>...</td>\n",
       "      <td>2017-02-22</td>\n",
       "      <td>2017-02-22</td>\n",
       "      <td>0 days</td>\n",
       "      <td>37580</td>\n",
       "      <td>monte siao</td>\n",
       "      <td>MG</td>\n",
       "      <td>853ba75a0b423722ccf270eea3b4cfe4</td>\n",
       "      <td>21843</td>\n",
       "      <td>rio de janeiro</td>\n",
       "      <td>RJ</td>\n",
       "    </tr>\n",
       "  </tbody>\n",
       "</table>\n",
       "<p>5 rows × 42 columns</p>\n",
       "</div>"
      ],
      "text/plain": [
       "                           order_id                       customer_id  \\\n",
       "0  2e7a8482f6fb09756ca50c10d7bfc047  08c5351a6aca1c1589a38f244edeee9d   \n",
       "1  2e7a8482f6fb09756ca50c10d7bfc047  08c5351a6aca1c1589a38f244edeee9d   \n",
       "2  35d3a51724a47ef1d0b89911e39cc4ff  27ab53f26192510ff85872aeb3759dcc   \n",
       "3  c4f710df20f7d1500da1aef81a993f65  4b671f05b6eb9dc1d2c1bae9c8c78536   \n",
       "4  81e5043198a44ddeb226002ff55d8ad4  ddd15ef77c83eea8c534d2896173a927   \n",
       "\n",
       "  order_status order_purchase_timestamp order_approved_at  \\\n",
       "0      shipped               2016-09-04        2016-10-07   \n",
       "1      shipped               2016-09-04        2016-10-07   \n",
       "2    delivered               2016-10-04        2016-10-05   \n",
       "3    delivered               2016-10-10        2016-10-10   \n",
       "4    delivered               2017-01-09        2017-01-09   \n",
       "\n",
       "  order_delivered_carrier_date order_delivered_customer_date  \\\n",
       "0                   2016-10-18                    2016-10-18   \n",
       "1                   2016-10-18                    2016-10-18   \n",
       "2                   2016-10-14                    2016-10-26   \n",
       "3                   2016-10-18                    2016-10-26   \n",
       "4                   2017-01-09                    2017-02-24   \n",
       "\n",
       "  order_estimated_delivery_date shipping_difference shipping_duration  ...  \\\n",
       "0                    2016-10-20              2 days           44 days  ...   \n",
       "1                    2016-10-20              2 days           44 days  ...   \n",
       "2                    2016-12-20             55 days           22 days  ...   \n",
       "3                    2016-12-14             49 days           16 days  ...   \n",
       "4                    2017-02-24              0 days           46 days  ...   \n",
       "\n",
       "  review_creation_date review_answer_timestamp  difference_reviews  \\\n",
       "0           2016-10-22              2016-11-15             24 days   \n",
       "1           2016-10-22              2016-11-15             24 days   \n",
       "2           2016-10-27              2016-10-28              1 days   \n",
       "3           2016-10-27              2016-10-28              1 days   \n",
       "4           2017-02-22              2017-02-22              0 days   \n",
       "\n",
       "  seller_zip_code_prefix seller_city  seller_state  \\\n",
       "0                  37580  monte siao            MG   \n",
       "1                  37580  monte siao            MG   \n",
       "2                  37580  monte siao            MG   \n",
       "3                  37580  monte siao            MG   \n",
       "4                  37580  monte siao            MG   \n",
       "\n",
       "                 customer_unique_id customer_zip_code_prefix  \\\n",
       "0  b7d76e111c89f7ebf14761390f0f7d17                    69309   \n",
       "1  b7d76e111c89f7ebf14761390f0f7d17                    69309   \n",
       "2  f922896769e9517ea3c630f3c8de86d0                    96832   \n",
       "3  0ecf7f65b5ff3b9e61b637e59f495e0a                    30411   \n",
       "4  853ba75a0b423722ccf270eea3b4cfe4                    21843   \n",
       "\n",
       "       customer_city  customer_state  \n",
       "0          boa vista              RR  \n",
       "1          boa vista              RR  \n",
       "2  santa cruz do sul              RS  \n",
       "3     belo horizonte              MG  \n",
       "4     rio de janeiro              RJ  \n",
       "\n",
       "[5 rows x 42 columns]"
      ]
     },
     "execution_count": 1122,
     "metadata": {},
     "output_type": "execute_result"
    }
   ],
   "source": [
    "or_it_pr_pa_re_se_cu = or_it_pr_pa_re_se.merge(customers_df, on= \"customer_id\")\n",
    "or_it_pr_pa_re_se_cu.head()"
   ]
  },
  {
   "cell_type": "code",
   "execution_count": 1123,
   "id": "49e8e6b9",
   "metadata": {},
   "outputs": [
    {
     "name": "stdout",
     "output_type": "stream",
     "text": [
      "<class 'pandas.core.frame.DataFrame'>\n",
      "Int64Index: 98130 entries, 0 to 98129\n",
      "Data columns (total 42 columns):\n",
      " #   Column                         Non-Null Count  Dtype          \n",
      "---  ------                         --------------  -----          \n",
      " 0   order_id                       98130 non-null  object         \n",
      " 1   customer_id                    98130 non-null  object         \n",
      " 2   order_status                   98130 non-null  object         \n",
      " 3   order_purchase_timestamp       98130 non-null  object         \n",
      " 4   order_approved_at              98130 non-null  object         \n",
      " 5   order_delivered_carrier_date   98130 non-null  object         \n",
      " 6   order_delivered_customer_date  98130 non-null  object         \n",
      " 7   order_estimated_delivery_date  98130 non-null  object         \n",
      " 8   shipping_difference            98130 non-null  timedelta64[ns]\n",
      " 9   shipping_duration              98130 non-null  timedelta64[ns]\n",
      " 10  shipping_est_duration          98130 non-null  timedelta64[ns]\n",
      " 11  product_id                     98130 non-null  object         \n",
      " 12  quantity                       98130 non-null  int64          \n",
      " 13  seller_id                      98130 non-null  object         \n",
      " 14  shipping_limit_date            98130 non-null  object         \n",
      " 15  price                          98130 non-null  float64        \n",
      " 16  freight_value                  98130 non-null  float64        \n",
      " 17  product_category_name          98130 non-null  object         \n",
      " 18  product_name_lenght            98130 non-null  float64        \n",
      " 19  product_description_lenght     98130 non-null  float64        \n",
      " 20  product_photos_qty             98130 non-null  float64        \n",
      " 21  product_weight_g               98130 non-null  float64        \n",
      " 22  product_length_cm              98130 non-null  float64        \n",
      " 23  product_height_cm              98130 non-null  float64        \n",
      " 24  product_width_cm               98130 non-null  float64        \n",
      " 25  volume_ltr                     98130 non-null  float64        \n",
      " 26  payment_sequential             98130 non-null  int64          \n",
      " 27  payment_type                   98130 non-null  object         \n",
      " 28  payment_installments           98130 non-null  int64          \n",
      " 29  payment_value                  98130 non-null  float64        \n",
      " 30  review_id                      98130 non-null  object         \n",
      " 31  review_score                   98130 non-null  int64          \n",
      " 32  review_creation_date           98130 non-null  object         \n",
      " 33  review_answer_timestamp        98130 non-null  object         \n",
      " 34  difference_reviews             98130 non-null  timedelta64[ns]\n",
      " 35  seller_zip_code_prefix         98130 non-null  int64          \n",
      " 36  seller_city                    98130 non-null  object         \n",
      " 37  seller_state                   98130 non-null  object         \n",
      " 38  customer_unique_id             98130 non-null  object         \n",
      " 39  customer_zip_code_prefix       98130 non-null  int64          \n",
      " 40  customer_city                  98130 non-null  object         \n",
      " 41  customer_state                 98130 non-null  object         \n",
      "dtypes: float64(11), int64(6), object(21), timedelta64[ns](4)\n",
      "memory usage: 32.2+ MB\n"
     ]
    }
   ],
   "source": [
    "or_it_pr_pa_re_se_cu.info()"
   ]
  },
  {
   "cell_type": "markdown",
   "id": "9a704712",
   "metadata": {},
   "source": [
    "After the merge, we get a 42 column dataframe with 98 130 instances."
   ]
  },
  {
   "cell_type": "markdown",
   "id": "8c483225",
   "metadata": {},
   "source": [
    "## The geolocation dataset"
   ]
  },
  {
   "cell_type": "code",
   "execution_count": 1124,
   "id": "29b1e74b",
   "metadata": {},
   "outputs": [
    {
     "data": {
      "text/html": [
       "<div>\n",
       "<style scoped>\n",
       "    .dataframe tbody tr th:only-of-type {\n",
       "        vertical-align: middle;\n",
       "    }\n",
       "\n",
       "    .dataframe tbody tr th {\n",
       "        vertical-align: top;\n",
       "    }\n",
       "\n",
       "    .dataframe thead th {\n",
       "        text-align: right;\n",
       "    }\n",
       "</style>\n",
       "<table border=\"1\" class=\"dataframe\">\n",
       "  <thead>\n",
       "    <tr style=\"text-align: right;\">\n",
       "      <th></th>\n",
       "      <th>geolocation_zip_code_prefix</th>\n",
       "      <th>geolocation_lat</th>\n",
       "      <th>geolocation_lng</th>\n",
       "      <th>geolocation_city</th>\n",
       "      <th>geolocation_state</th>\n",
       "    </tr>\n",
       "  </thead>\n",
       "  <tbody>\n",
       "    <tr>\n",
       "      <th>0</th>\n",
       "      <td>1037</td>\n",
       "      <td>-23.545621</td>\n",
       "      <td>-46.639292</td>\n",
       "      <td>sao paulo</td>\n",
       "      <td>SP</td>\n",
       "    </tr>\n",
       "    <tr>\n",
       "      <th>1</th>\n",
       "      <td>1046</td>\n",
       "      <td>-23.546081</td>\n",
       "      <td>-46.644820</td>\n",
       "      <td>sao paulo</td>\n",
       "      <td>SP</td>\n",
       "    </tr>\n",
       "    <tr>\n",
       "      <th>2</th>\n",
       "      <td>1046</td>\n",
       "      <td>-23.546129</td>\n",
       "      <td>-46.642951</td>\n",
       "      <td>sao paulo</td>\n",
       "      <td>SP</td>\n",
       "    </tr>\n",
       "    <tr>\n",
       "      <th>3</th>\n",
       "      <td>1041</td>\n",
       "      <td>-23.544392</td>\n",
       "      <td>-46.639499</td>\n",
       "      <td>sao paulo</td>\n",
       "      <td>SP</td>\n",
       "    </tr>\n",
       "    <tr>\n",
       "      <th>4</th>\n",
       "      <td>1035</td>\n",
       "      <td>-23.541578</td>\n",
       "      <td>-46.641607</td>\n",
       "      <td>sao paulo</td>\n",
       "      <td>SP</td>\n",
       "    </tr>\n",
       "  </tbody>\n",
       "</table>\n",
       "</div>"
      ],
      "text/plain": [
       "   geolocation_zip_code_prefix  geolocation_lat  geolocation_lng  \\\n",
       "0                         1037       -23.545621       -46.639292   \n",
       "1                         1046       -23.546081       -46.644820   \n",
       "2                         1046       -23.546129       -46.642951   \n",
       "3                         1041       -23.544392       -46.639499   \n",
       "4                         1035       -23.541578       -46.641607   \n",
       "\n",
       "  geolocation_city geolocation_state  \n",
       "0        sao paulo                SP  \n",
       "1        sao paulo                SP  \n",
       "2        sao paulo                SP  \n",
       "3        sao paulo                SP  \n",
       "4        sao paulo                SP  "
      ]
     },
     "execution_count": 1124,
     "metadata": {},
     "output_type": "execute_result"
    }
   ],
   "source": [
    "locations_df =  pd.read_csv(r'C:\\Users\\imane\\OneDrive\\Desktop\\Clients_Clustering\\olist_geolocation_dataset.csv', sep =\",\")\n",
    "locations_df.head()"
   ]
  },
  {
   "cell_type": "code",
   "execution_count": 1125,
   "id": "3bc4f229",
   "metadata": {},
   "outputs": [
    {
     "name": "stdout",
     "output_type": "stream",
     "text": [
      "<class 'pandas.core.frame.DataFrame'>\n",
      "RangeIndex: 1000163 entries, 0 to 1000162\n",
      "Data columns (total 5 columns):\n",
      " #   Column                       Non-Null Count    Dtype  \n",
      "---  ------                       --------------    -----  \n",
      " 0   geolocation_zip_code_prefix  1000163 non-null  int64  \n",
      " 1   geolocation_lat              1000163 non-null  float64\n",
      " 2   geolocation_lng              1000163 non-null  float64\n",
      " 3   geolocation_city             1000163 non-null  object \n",
      " 4   geolocation_state            1000163 non-null  object \n",
      "dtypes: float64(2), int64(1), object(2)\n",
      "memory usage: 38.2+ MB\n"
     ]
    }
   ],
   "source": [
    "locations_df.info()"
   ]
  },
  {
   "cell_type": "markdown",
   "id": "df6655eb",
   "metadata": {},
   "source": [
    "The geolocation dataset gives us detailed information about the location of the places where the commerce occured (both customers and sellers). It gives info about the latitude, longitude, city, state and zip code. "
   ]
  },
  {
   "cell_type": "code",
   "execution_count": 1126,
   "id": "449a260e",
   "metadata": {},
   "outputs": [
    {
     "data": {
      "text/plain": [
       "98130"
      ]
     },
     "execution_count": 1126,
     "metadata": {},
     "output_type": "execute_result"
    }
   ],
   "source": [
    "len(or_it_pr_pa_re_se_cu)"
   ]
  },
  {
   "cell_type": "code",
   "execution_count": 1127,
   "id": "e4c84886",
   "metadata": {},
   "outputs": [
    {
     "data": {
      "text/plain": [
       "1000163"
      ]
     },
     "execution_count": 1127,
     "metadata": {},
     "output_type": "execute_result"
    }
   ],
   "source": [
    "len(locations_df)"
   ]
  },
  {
   "cell_type": "code",
   "execution_count": 1128,
   "id": "b38ea22e",
   "metadata": {},
   "outputs": [
    {
     "data": {
      "text/plain": [
       "True    98130\n",
       "Name: seller_state, dtype: int64"
      ]
     },
     "execution_count": 1128,
     "metadata": {},
     "output_type": "execute_result"
    }
   ],
   "source": [
    "or_it_pr_pa_re_se_cu[\"seller_state\"].isin(locations_df[\"geolocation_state\"]).value_counts()"
   ]
  },
  {
   "cell_type": "code",
   "execution_count": 1129,
   "id": "153d2d12",
   "metadata": {},
   "outputs": [
    {
     "data": {
      "text/plain": [
       "True    98130\n",
       "Name: customer_state, dtype: int64"
      ]
     },
     "execution_count": 1129,
     "metadata": {},
     "output_type": "execute_result"
    }
   ],
   "source": [
    "or_it_pr_pa_re_se_cu[\"customer_state\"].isin(locations_df[\"geolocation_state\"]).value_counts()"
   ]
  },
  {
   "cell_type": "markdown",
   "id": "b0f752bd",
   "metadata": {},
   "source": [
    "I tried grouping the dataset by zip code first and merging it with the main dataset but that led to a lot of data loss. So was the case with grouping it by city and state. So, since all the states present in the main data frame are present here in the seller state (and customer state), we'll just add another column to the geolocation dataset, and merge it with consolidated dataset on the basis of seller state."
   ]
  },
  {
   "cell_type": "markdown",
   "id": "651f766f",
   "metadata": {},
   "source": [
    "## Merging the locations dataset with the consolidated dataset"
   ]
  },
  {
   "cell_type": "code",
   "execution_count": 1130,
   "id": "d8341474",
   "metadata": {},
   "outputs": [],
   "source": [
    "locations_df[\"seller_state\"] = or_it_pr_pa_re_se_cu[\"seller_state\"]"
   ]
  },
  {
   "cell_type": "code",
   "execution_count": 1131,
   "id": "9d096e82",
   "metadata": {},
   "outputs": [
    {
     "data": {
      "text/plain": [
       "23"
      ]
     },
     "execution_count": 1131,
     "metadata": {},
     "output_type": "execute_result"
    }
   ],
   "source": [
    "locations_df = locations_df.groupby(by=[\"seller_state\"]).agg({\n",
    "        'geolocation_zip_code_prefix': 'first', \n",
    "        'geolocation_lat': 'first',\n",
    "        'geolocation_lng': 'first',\n",
    "        'geolocation_city': 'first',\n",
    "        'geolocation_state': 'first'\n",
    "        })\n",
    "locations_df = locations_df.reset_index()\n",
    "len(locations_df)"
   ]
  },
  {
   "cell_type": "code",
   "execution_count": 1132,
   "id": "3899abb1",
   "metadata": {},
   "outputs": [
    {
     "data": {
      "text/html": [
       "<div>\n",
       "<style scoped>\n",
       "    .dataframe tbody tr th:only-of-type {\n",
       "        vertical-align: middle;\n",
       "    }\n",
       "\n",
       "    .dataframe tbody tr th {\n",
       "        vertical-align: top;\n",
       "    }\n",
       "\n",
       "    .dataframe thead th {\n",
       "        text-align: right;\n",
       "    }\n",
       "</style>\n",
       "<table border=\"1\" class=\"dataframe\">\n",
       "  <thead>\n",
       "    <tr style=\"text-align: right;\">\n",
       "      <th></th>\n",
       "      <th>order_id</th>\n",
       "      <th>customer_id</th>\n",
       "      <th>order_status</th>\n",
       "      <th>order_purchase_timestamp</th>\n",
       "      <th>order_approved_at</th>\n",
       "      <th>order_delivered_carrier_date</th>\n",
       "      <th>order_delivered_customer_date</th>\n",
       "      <th>order_estimated_delivery_date</th>\n",
       "      <th>shipping_difference</th>\n",
       "      <th>shipping_duration</th>\n",
       "      <th>...</th>\n",
       "      <th>seller_state</th>\n",
       "      <th>customer_unique_id</th>\n",
       "      <th>customer_zip_code_prefix</th>\n",
       "      <th>customer_city</th>\n",
       "      <th>customer_state</th>\n",
       "      <th>geolocation_zip_code_prefix</th>\n",
       "      <th>geolocation_lat</th>\n",
       "      <th>geolocation_lng</th>\n",
       "      <th>geolocation_city</th>\n",
       "      <th>geolocation_state</th>\n",
       "    </tr>\n",
       "  </thead>\n",
       "  <tbody>\n",
       "    <tr>\n",
       "      <th>0</th>\n",
       "      <td>2e7a8482f6fb09756ca50c10d7bfc047</td>\n",
       "      <td>08c5351a6aca1c1589a38f244edeee9d</td>\n",
       "      <td>shipped</td>\n",
       "      <td>2016-09-04</td>\n",
       "      <td>2016-10-07</td>\n",
       "      <td>2016-10-18</td>\n",
       "      <td>2016-10-18</td>\n",
       "      <td>2016-10-20</td>\n",
       "      <td>2 days</td>\n",
       "      <td>44 days</td>\n",
       "      <td>...</td>\n",
       "      <td>MG</td>\n",
       "      <td>b7d76e111c89f7ebf14761390f0f7d17</td>\n",
       "      <td>69309</td>\n",
       "      <td>boa vista</td>\n",
       "      <td>RR</td>\n",
       "      <td>1037</td>\n",
       "      <td>-23.545621</td>\n",
       "      <td>-46.639292</td>\n",
       "      <td>sao paulo</td>\n",
       "      <td>SP</td>\n",
       "    </tr>\n",
       "    <tr>\n",
       "      <th>1</th>\n",
       "      <td>2e7a8482f6fb09756ca50c10d7bfc047</td>\n",
       "      <td>08c5351a6aca1c1589a38f244edeee9d</td>\n",
       "      <td>shipped</td>\n",
       "      <td>2016-09-04</td>\n",
       "      <td>2016-10-07</td>\n",
       "      <td>2016-10-18</td>\n",
       "      <td>2016-10-18</td>\n",
       "      <td>2016-10-20</td>\n",
       "      <td>2 days</td>\n",
       "      <td>44 days</td>\n",
       "      <td>...</td>\n",
       "      <td>MG</td>\n",
       "      <td>b7d76e111c89f7ebf14761390f0f7d17</td>\n",
       "      <td>69309</td>\n",
       "      <td>boa vista</td>\n",
       "      <td>RR</td>\n",
       "      <td>1037</td>\n",
       "      <td>-23.545621</td>\n",
       "      <td>-46.639292</td>\n",
       "      <td>sao paulo</td>\n",
       "      <td>SP</td>\n",
       "    </tr>\n",
       "    <tr>\n",
       "      <th>2</th>\n",
       "      <td>35d3a51724a47ef1d0b89911e39cc4ff</td>\n",
       "      <td>27ab53f26192510ff85872aeb3759dcc</td>\n",
       "      <td>delivered</td>\n",
       "      <td>2016-10-04</td>\n",
       "      <td>2016-10-05</td>\n",
       "      <td>2016-10-14</td>\n",
       "      <td>2016-10-26</td>\n",
       "      <td>2016-12-20</td>\n",
       "      <td>55 days</td>\n",
       "      <td>22 days</td>\n",
       "      <td>...</td>\n",
       "      <td>MG</td>\n",
       "      <td>f922896769e9517ea3c630f3c8de86d0</td>\n",
       "      <td>96832</td>\n",
       "      <td>santa cruz do sul</td>\n",
       "      <td>RS</td>\n",
       "      <td>1037</td>\n",
       "      <td>-23.545621</td>\n",
       "      <td>-46.639292</td>\n",
       "      <td>sao paulo</td>\n",
       "      <td>SP</td>\n",
       "    </tr>\n",
       "    <tr>\n",
       "      <th>3</th>\n",
       "      <td>c4f710df20f7d1500da1aef81a993f65</td>\n",
       "      <td>4b671f05b6eb9dc1d2c1bae9c8c78536</td>\n",
       "      <td>delivered</td>\n",
       "      <td>2016-10-10</td>\n",
       "      <td>2016-10-10</td>\n",
       "      <td>2016-10-18</td>\n",
       "      <td>2016-10-26</td>\n",
       "      <td>2016-12-14</td>\n",
       "      <td>49 days</td>\n",
       "      <td>16 days</td>\n",
       "      <td>...</td>\n",
       "      <td>MG</td>\n",
       "      <td>0ecf7f65b5ff3b9e61b637e59f495e0a</td>\n",
       "      <td>30411</td>\n",
       "      <td>belo horizonte</td>\n",
       "      <td>MG</td>\n",
       "      <td>1037</td>\n",
       "      <td>-23.545621</td>\n",
       "      <td>-46.639292</td>\n",
       "      <td>sao paulo</td>\n",
       "      <td>SP</td>\n",
       "    </tr>\n",
       "    <tr>\n",
       "      <th>4</th>\n",
       "      <td>81e5043198a44ddeb226002ff55d8ad4</td>\n",
       "      <td>ddd15ef77c83eea8c534d2896173a927</td>\n",
       "      <td>delivered</td>\n",
       "      <td>2017-01-09</td>\n",
       "      <td>2017-01-09</td>\n",
       "      <td>2017-01-09</td>\n",
       "      <td>2017-02-24</td>\n",
       "      <td>2017-02-24</td>\n",
       "      <td>0 days</td>\n",
       "      <td>46 days</td>\n",
       "      <td>...</td>\n",
       "      <td>MG</td>\n",
       "      <td>853ba75a0b423722ccf270eea3b4cfe4</td>\n",
       "      <td>21843</td>\n",
       "      <td>rio de janeiro</td>\n",
       "      <td>RJ</td>\n",
       "      <td>1037</td>\n",
       "      <td>-23.545621</td>\n",
       "      <td>-46.639292</td>\n",
       "      <td>sao paulo</td>\n",
       "      <td>SP</td>\n",
       "    </tr>\n",
       "  </tbody>\n",
       "</table>\n",
       "<p>5 rows × 47 columns</p>\n",
       "</div>"
      ],
      "text/plain": [
       "                           order_id                       customer_id  \\\n",
       "0  2e7a8482f6fb09756ca50c10d7bfc047  08c5351a6aca1c1589a38f244edeee9d   \n",
       "1  2e7a8482f6fb09756ca50c10d7bfc047  08c5351a6aca1c1589a38f244edeee9d   \n",
       "2  35d3a51724a47ef1d0b89911e39cc4ff  27ab53f26192510ff85872aeb3759dcc   \n",
       "3  c4f710df20f7d1500da1aef81a993f65  4b671f05b6eb9dc1d2c1bae9c8c78536   \n",
       "4  81e5043198a44ddeb226002ff55d8ad4  ddd15ef77c83eea8c534d2896173a927   \n",
       "\n",
       "  order_status order_purchase_timestamp order_approved_at  \\\n",
       "0      shipped               2016-09-04        2016-10-07   \n",
       "1      shipped               2016-09-04        2016-10-07   \n",
       "2    delivered               2016-10-04        2016-10-05   \n",
       "3    delivered               2016-10-10        2016-10-10   \n",
       "4    delivered               2017-01-09        2017-01-09   \n",
       "\n",
       "  order_delivered_carrier_date order_delivered_customer_date  \\\n",
       "0                   2016-10-18                    2016-10-18   \n",
       "1                   2016-10-18                    2016-10-18   \n",
       "2                   2016-10-14                    2016-10-26   \n",
       "3                   2016-10-18                    2016-10-26   \n",
       "4                   2017-01-09                    2017-02-24   \n",
       "\n",
       "  order_estimated_delivery_date shipping_difference shipping_duration  ...  \\\n",
       "0                    2016-10-20              2 days           44 days  ...   \n",
       "1                    2016-10-20              2 days           44 days  ...   \n",
       "2                    2016-12-20             55 days           22 days  ...   \n",
       "3                    2016-12-14             49 days           16 days  ...   \n",
       "4                    2017-02-24              0 days           46 days  ...   \n",
       "\n",
       "  seller_state                customer_unique_id  customer_zip_code_prefix  \\\n",
       "0           MG  b7d76e111c89f7ebf14761390f0f7d17                     69309   \n",
       "1           MG  b7d76e111c89f7ebf14761390f0f7d17                     69309   \n",
       "2           MG  f922896769e9517ea3c630f3c8de86d0                     96832   \n",
       "3           MG  0ecf7f65b5ff3b9e61b637e59f495e0a                     30411   \n",
       "4           MG  853ba75a0b423722ccf270eea3b4cfe4                     21843   \n",
       "\n",
       "       customer_city customer_state  geolocation_zip_code_prefix  \\\n",
       "0          boa vista             RR                         1037   \n",
       "1          boa vista             RR                         1037   \n",
       "2  santa cruz do sul             RS                         1037   \n",
       "3     belo horizonte             MG                         1037   \n",
       "4     rio de janeiro             RJ                         1037   \n",
       "\n",
       "   geolocation_lat geolocation_lng  geolocation_city  geolocation_state  \n",
       "0       -23.545621      -46.639292         sao paulo                 SP  \n",
       "1       -23.545621      -46.639292         sao paulo                 SP  \n",
       "2       -23.545621      -46.639292         sao paulo                 SP  \n",
       "3       -23.545621      -46.639292         sao paulo                 SP  \n",
       "4       -23.545621      -46.639292         sao paulo                 SP  \n",
       "\n",
       "[5 rows x 47 columns]"
      ]
     },
     "execution_count": 1132,
     "metadata": {},
     "output_type": "execute_result"
    }
   ],
   "source": [
    "or_it_pr_pa_re_se_cu_lo = or_it_pr_pa_re_se_cu.merge(locations_df, on= \"seller_state\")\n",
    "or_it_pr_pa_re_se_cu_lo.head()"
   ]
  },
  {
   "cell_type": "code",
   "execution_count": 1133,
   "id": "e69f8c9c",
   "metadata": {},
   "outputs": [
    {
     "name": "stdout",
     "output_type": "stream",
     "text": [
      "<class 'pandas.core.frame.DataFrame'>\n",
      "Int64Index: 98130 entries, 0 to 98129\n",
      "Data columns (total 47 columns):\n",
      " #   Column                         Non-Null Count  Dtype          \n",
      "---  ------                         --------------  -----          \n",
      " 0   order_id                       98130 non-null  object         \n",
      " 1   customer_id                    98130 non-null  object         \n",
      " 2   order_status                   98130 non-null  object         \n",
      " 3   order_purchase_timestamp       98130 non-null  object         \n",
      " 4   order_approved_at              98130 non-null  object         \n",
      " 5   order_delivered_carrier_date   98130 non-null  object         \n",
      " 6   order_delivered_customer_date  98130 non-null  object         \n",
      " 7   order_estimated_delivery_date  98130 non-null  object         \n",
      " 8   shipping_difference            98130 non-null  timedelta64[ns]\n",
      " 9   shipping_duration              98130 non-null  timedelta64[ns]\n",
      " 10  shipping_est_duration          98130 non-null  timedelta64[ns]\n",
      " 11  product_id                     98130 non-null  object         \n",
      " 12  quantity                       98130 non-null  int64          \n",
      " 13  seller_id                      98130 non-null  object         \n",
      " 14  shipping_limit_date            98130 non-null  object         \n",
      " 15  price                          98130 non-null  float64        \n",
      " 16  freight_value                  98130 non-null  float64        \n",
      " 17  product_category_name          98130 non-null  object         \n",
      " 18  product_name_lenght            98130 non-null  float64        \n",
      " 19  product_description_lenght     98130 non-null  float64        \n",
      " 20  product_photos_qty             98130 non-null  float64        \n",
      " 21  product_weight_g               98130 non-null  float64        \n",
      " 22  product_length_cm              98130 non-null  float64        \n",
      " 23  product_height_cm              98130 non-null  float64        \n",
      " 24  product_width_cm               98130 non-null  float64        \n",
      " 25  volume_ltr                     98130 non-null  float64        \n",
      " 26  payment_sequential             98130 non-null  int64          \n",
      " 27  payment_type                   98130 non-null  object         \n",
      " 28  payment_installments           98130 non-null  int64          \n",
      " 29  payment_value                  98130 non-null  float64        \n",
      " 30  review_id                      98130 non-null  object         \n",
      " 31  review_score                   98130 non-null  int64          \n",
      " 32  review_creation_date           98130 non-null  object         \n",
      " 33  review_answer_timestamp        98130 non-null  object         \n",
      " 34  difference_reviews             98130 non-null  timedelta64[ns]\n",
      " 35  seller_zip_code_prefix         98130 non-null  int64          \n",
      " 36  seller_city                    98130 non-null  object         \n",
      " 37  seller_state                   98130 non-null  object         \n",
      " 38  customer_unique_id             98130 non-null  object         \n",
      " 39  customer_zip_code_prefix       98130 non-null  int64          \n",
      " 40  customer_city                  98130 non-null  object         \n",
      " 41  customer_state                 98130 non-null  object         \n",
      " 42  geolocation_zip_code_prefix    98130 non-null  int64          \n",
      " 43  geolocation_lat                98130 non-null  float64        \n",
      " 44  geolocation_lng                98130 non-null  float64        \n",
      " 45  geolocation_city               98130 non-null  object         \n",
      " 46  geolocation_state              98130 non-null  object         \n",
      "dtypes: float64(13), int64(7), object(23), timedelta64[ns](4)\n",
      "memory usage: 35.9+ MB\n"
     ]
    }
   ],
   "source": [
    "or_it_pr_pa_re_se_cu_lo.info()"
   ]
  },
  {
   "cell_type": "markdown",
   "id": "06822b8e",
   "metadata": {},
   "source": [
    "The result of the merging is a 47 column dataset with no data loss."
   ]
  },
  {
   "cell_type": "markdown",
   "id": "8f04a34f",
   "metadata": {},
   "source": [
    "## The product category name translation dataset"
   ]
  },
  {
   "cell_type": "code",
   "execution_count": 1134,
   "id": "8980a5fb",
   "metadata": {},
   "outputs": [
    {
     "data": {
      "text/html": [
       "<div>\n",
       "<style scoped>\n",
       "    .dataframe tbody tr th:only-of-type {\n",
       "        vertical-align: middle;\n",
       "    }\n",
       "\n",
       "    .dataframe tbody tr th {\n",
       "        vertical-align: top;\n",
       "    }\n",
       "\n",
       "    .dataframe thead th {\n",
       "        text-align: right;\n",
       "    }\n",
       "</style>\n",
       "<table border=\"1\" class=\"dataframe\">\n",
       "  <thead>\n",
       "    <tr style=\"text-align: right;\">\n",
       "      <th></th>\n",
       "      <th>product_category_name</th>\n",
       "      <th>product_category_name_english</th>\n",
       "    </tr>\n",
       "  </thead>\n",
       "  <tbody>\n",
       "    <tr>\n",
       "      <th>0</th>\n",
       "      <td>beleza_saude</td>\n",
       "      <td>health_beauty</td>\n",
       "    </tr>\n",
       "    <tr>\n",
       "      <th>1</th>\n",
       "      <td>informatica_acessorios</td>\n",
       "      <td>computers_accessories</td>\n",
       "    </tr>\n",
       "    <tr>\n",
       "      <th>2</th>\n",
       "      <td>automotivo</td>\n",
       "      <td>auto</td>\n",
       "    </tr>\n",
       "    <tr>\n",
       "      <th>3</th>\n",
       "      <td>cama_mesa_banho</td>\n",
       "      <td>bed_bath_table</td>\n",
       "    </tr>\n",
       "    <tr>\n",
       "      <th>4</th>\n",
       "      <td>moveis_decoracao</td>\n",
       "      <td>furniture_decor</td>\n",
       "    </tr>\n",
       "  </tbody>\n",
       "</table>\n",
       "</div>"
      ],
      "text/plain": [
       "    product_category_name product_category_name_english\n",
       "0            beleza_saude                 health_beauty\n",
       "1  informatica_acessorios         computers_accessories\n",
       "2              automotivo                          auto\n",
       "3         cama_mesa_banho                bed_bath_table\n",
       "4        moveis_decoracao               furniture_decor"
      ]
     },
     "execution_count": 1134,
     "metadata": {},
     "output_type": "execute_result"
    }
   ],
   "source": [
    "translation_df =  pd.read_csv(r'C:\\Users\\imane\\OneDrive\\Desktop\\Clients_Clustering\\product_category_name_translation.csv', \n",
    "                              sep =\",\")\n",
    "translation_df.head()"
   ]
  },
  {
   "cell_type": "code",
   "execution_count": 1135,
   "id": "e1e14bb2",
   "metadata": {},
   "outputs": [
    {
     "name": "stdout",
     "output_type": "stream",
     "text": [
      "<class 'pandas.core.frame.DataFrame'>\n",
      "RangeIndex: 71 entries, 0 to 70\n",
      "Data columns (total 2 columns):\n",
      " #   Column                         Non-Null Count  Dtype \n",
      "---  ------                         --------------  ----- \n",
      " 0   product_category_name          71 non-null     object\n",
      " 1   product_category_name_english  71 non-null     object\n",
      "dtypes: object(2)\n",
      "memory usage: 1.2+ KB\n"
     ]
    }
   ],
   "source": [
    "translation_df.info()"
   ]
  },
  {
   "cell_type": "code",
   "execution_count": 1136,
   "id": "ba7be89d",
   "metadata": {},
   "outputs": [
    {
     "data": {
      "text/plain": [
       "0"
      ]
     },
     "execution_count": 1136,
     "metadata": {},
     "output_type": "execute_result"
    }
   ],
   "source": [
    "translation_df[\"product_category_name\"].duplicated().sum()"
   ]
  },
  {
   "cell_type": "markdown",
   "id": "ca1134ff",
   "metadata": {},
   "source": [
    "The product name translation dataset contains the English translation of some of the products sold on the plateform. And there are no duplicates in it."
   ]
  },
  {
   "cell_type": "code",
   "execution_count": 1137,
   "id": "8743ba3a",
   "metadata": {},
   "outputs": [
    {
     "data": {
      "text/plain": [
       "True     98109\n",
       "False       21\n",
       "Name: product_category_name, dtype: int64"
      ]
     },
     "execution_count": 1137,
     "metadata": {},
     "output_type": "execute_result"
    }
   ],
   "source": [
    "or_it_pr_pa_re_se_cu_lo[\"product_category_name\"].isin(translation_df[\"product_category_name\"]).value_counts()"
   ]
  },
  {
   "cell_type": "markdown",
   "id": "997c436f",
   "metadata": {},
   "source": [
    "We see here that all but 21 products are listed in the main dataste. We'll use the product name in brazilian to group the two data frames."
   ]
  },
  {
   "cell_type": "markdown",
   "id": "a15ec401",
   "metadata": {},
   "source": [
    "## Merging the product name translation dataset with the rest"
   ]
  },
  {
   "cell_type": "code",
   "execution_count": 1138,
   "id": "afe7f11e",
   "metadata": {},
   "outputs": [
    {
     "data": {
      "text/html": [
       "<div>\n",
       "<style scoped>\n",
       "    .dataframe tbody tr th:only-of-type {\n",
       "        vertical-align: middle;\n",
       "    }\n",
       "\n",
       "    .dataframe tbody tr th {\n",
       "        vertical-align: top;\n",
       "    }\n",
       "\n",
       "    .dataframe thead th {\n",
       "        text-align: right;\n",
       "    }\n",
       "</style>\n",
       "<table border=\"1\" class=\"dataframe\">\n",
       "  <thead>\n",
       "    <tr style=\"text-align: right;\">\n",
       "      <th></th>\n",
       "      <th>order_id</th>\n",
       "      <th>customer_id</th>\n",
       "      <th>order_status</th>\n",
       "      <th>order_purchase_timestamp</th>\n",
       "      <th>order_approved_at</th>\n",
       "      <th>order_delivered_carrier_date</th>\n",
       "      <th>order_delivered_customer_date</th>\n",
       "      <th>order_estimated_delivery_date</th>\n",
       "      <th>shipping_difference</th>\n",
       "      <th>shipping_duration</th>\n",
       "      <th>...</th>\n",
       "      <th>customer_unique_id</th>\n",
       "      <th>customer_zip_code_prefix</th>\n",
       "      <th>customer_city</th>\n",
       "      <th>customer_state</th>\n",
       "      <th>geolocation_zip_code_prefix</th>\n",
       "      <th>geolocation_lat</th>\n",
       "      <th>geolocation_lng</th>\n",
       "      <th>geolocation_city</th>\n",
       "      <th>geolocation_state</th>\n",
       "      <th>product_category_name_english</th>\n",
       "    </tr>\n",
       "  </thead>\n",
       "  <tbody>\n",
       "    <tr>\n",
       "      <th>0</th>\n",
       "      <td>2e7a8482f6fb09756ca50c10d7bfc047</td>\n",
       "      <td>08c5351a6aca1c1589a38f244edeee9d</td>\n",
       "      <td>shipped</td>\n",
       "      <td>2016-09-04</td>\n",
       "      <td>2016-10-07</td>\n",
       "      <td>2016-10-18</td>\n",
       "      <td>2016-10-18</td>\n",
       "      <td>2016-10-20</td>\n",
       "      <td>2 days</td>\n",
       "      <td>44 days</td>\n",
       "      <td>...</td>\n",
       "      <td>b7d76e111c89f7ebf14761390f0f7d17</td>\n",
       "      <td>69309</td>\n",
       "      <td>boa vista</td>\n",
       "      <td>RR</td>\n",
       "      <td>1037</td>\n",
       "      <td>-23.545621</td>\n",
       "      <td>-46.639292</td>\n",
       "      <td>sao paulo</td>\n",
       "      <td>SP</td>\n",
       "      <td>furniture_decor</td>\n",
       "    </tr>\n",
       "    <tr>\n",
       "      <th>1</th>\n",
       "      <td>2e7a8482f6fb09756ca50c10d7bfc047</td>\n",
       "      <td>08c5351a6aca1c1589a38f244edeee9d</td>\n",
       "      <td>shipped</td>\n",
       "      <td>2016-09-04</td>\n",
       "      <td>2016-10-07</td>\n",
       "      <td>2016-10-18</td>\n",
       "      <td>2016-10-18</td>\n",
       "      <td>2016-10-20</td>\n",
       "      <td>2 days</td>\n",
       "      <td>44 days</td>\n",
       "      <td>...</td>\n",
       "      <td>b7d76e111c89f7ebf14761390f0f7d17</td>\n",
       "      <td>69309</td>\n",
       "      <td>boa vista</td>\n",
       "      <td>RR</td>\n",
       "      <td>1037</td>\n",
       "      <td>-23.545621</td>\n",
       "      <td>-46.639292</td>\n",
       "      <td>sao paulo</td>\n",
       "      <td>SP</td>\n",
       "      <td>furniture_decor</td>\n",
       "    </tr>\n",
       "    <tr>\n",
       "      <th>2</th>\n",
       "      <td>35d3a51724a47ef1d0b89911e39cc4ff</td>\n",
       "      <td>27ab53f26192510ff85872aeb3759dcc</td>\n",
       "      <td>delivered</td>\n",
       "      <td>2016-10-04</td>\n",
       "      <td>2016-10-05</td>\n",
       "      <td>2016-10-14</td>\n",
       "      <td>2016-10-26</td>\n",
       "      <td>2016-12-20</td>\n",
       "      <td>55 days</td>\n",
       "      <td>22 days</td>\n",
       "      <td>...</td>\n",
       "      <td>f922896769e9517ea3c630f3c8de86d0</td>\n",
       "      <td>96832</td>\n",
       "      <td>santa cruz do sul</td>\n",
       "      <td>RS</td>\n",
       "      <td>1037</td>\n",
       "      <td>-23.545621</td>\n",
       "      <td>-46.639292</td>\n",
       "      <td>sao paulo</td>\n",
       "      <td>SP</td>\n",
       "      <td>furniture_decor</td>\n",
       "    </tr>\n",
       "    <tr>\n",
       "      <th>3</th>\n",
       "      <td>c4f710df20f7d1500da1aef81a993f65</td>\n",
       "      <td>4b671f05b6eb9dc1d2c1bae9c8c78536</td>\n",
       "      <td>delivered</td>\n",
       "      <td>2016-10-10</td>\n",
       "      <td>2016-10-10</td>\n",
       "      <td>2016-10-18</td>\n",
       "      <td>2016-10-26</td>\n",
       "      <td>2016-12-14</td>\n",
       "      <td>49 days</td>\n",
       "      <td>16 days</td>\n",
       "      <td>...</td>\n",
       "      <td>0ecf7f65b5ff3b9e61b637e59f495e0a</td>\n",
       "      <td>30411</td>\n",
       "      <td>belo horizonte</td>\n",
       "      <td>MG</td>\n",
       "      <td>1037</td>\n",
       "      <td>-23.545621</td>\n",
       "      <td>-46.639292</td>\n",
       "      <td>sao paulo</td>\n",
       "      <td>SP</td>\n",
       "      <td>furniture_decor</td>\n",
       "    </tr>\n",
       "    <tr>\n",
       "      <th>4</th>\n",
       "      <td>81e5043198a44ddeb226002ff55d8ad4</td>\n",
       "      <td>ddd15ef77c83eea8c534d2896173a927</td>\n",
       "      <td>delivered</td>\n",
       "      <td>2017-01-09</td>\n",
       "      <td>2017-01-09</td>\n",
       "      <td>2017-01-09</td>\n",
       "      <td>2017-02-24</td>\n",
       "      <td>2017-02-24</td>\n",
       "      <td>0 days</td>\n",
       "      <td>46 days</td>\n",
       "      <td>...</td>\n",
       "      <td>853ba75a0b423722ccf270eea3b4cfe4</td>\n",
       "      <td>21843</td>\n",
       "      <td>rio de janeiro</td>\n",
       "      <td>RJ</td>\n",
       "      <td>1037</td>\n",
       "      <td>-23.545621</td>\n",
       "      <td>-46.639292</td>\n",
       "      <td>sao paulo</td>\n",
       "      <td>SP</td>\n",
       "      <td>furniture_decor</td>\n",
       "    </tr>\n",
       "  </tbody>\n",
       "</table>\n",
       "<p>5 rows × 48 columns</p>\n",
       "</div>"
      ],
      "text/plain": [
       "                           order_id                       customer_id  \\\n",
       "0  2e7a8482f6fb09756ca50c10d7bfc047  08c5351a6aca1c1589a38f244edeee9d   \n",
       "1  2e7a8482f6fb09756ca50c10d7bfc047  08c5351a6aca1c1589a38f244edeee9d   \n",
       "2  35d3a51724a47ef1d0b89911e39cc4ff  27ab53f26192510ff85872aeb3759dcc   \n",
       "3  c4f710df20f7d1500da1aef81a993f65  4b671f05b6eb9dc1d2c1bae9c8c78536   \n",
       "4  81e5043198a44ddeb226002ff55d8ad4  ddd15ef77c83eea8c534d2896173a927   \n",
       "\n",
       "  order_status order_purchase_timestamp order_approved_at  \\\n",
       "0      shipped               2016-09-04        2016-10-07   \n",
       "1      shipped               2016-09-04        2016-10-07   \n",
       "2    delivered               2016-10-04        2016-10-05   \n",
       "3    delivered               2016-10-10        2016-10-10   \n",
       "4    delivered               2017-01-09        2017-01-09   \n",
       "\n",
       "  order_delivered_carrier_date order_delivered_customer_date  \\\n",
       "0                   2016-10-18                    2016-10-18   \n",
       "1                   2016-10-18                    2016-10-18   \n",
       "2                   2016-10-14                    2016-10-26   \n",
       "3                   2016-10-18                    2016-10-26   \n",
       "4                   2017-01-09                    2017-02-24   \n",
       "\n",
       "  order_estimated_delivery_date shipping_difference shipping_duration  ...  \\\n",
       "0                    2016-10-20              2 days           44 days  ...   \n",
       "1                    2016-10-20              2 days           44 days  ...   \n",
       "2                    2016-12-20             55 days           22 days  ...   \n",
       "3                    2016-12-14             49 days           16 days  ...   \n",
       "4                    2017-02-24              0 days           46 days  ...   \n",
       "\n",
       "                 customer_unique_id customer_zip_code_prefix  \\\n",
       "0  b7d76e111c89f7ebf14761390f0f7d17                    69309   \n",
       "1  b7d76e111c89f7ebf14761390f0f7d17                    69309   \n",
       "2  f922896769e9517ea3c630f3c8de86d0                    96832   \n",
       "3  0ecf7f65b5ff3b9e61b637e59f495e0a                    30411   \n",
       "4  853ba75a0b423722ccf270eea3b4cfe4                    21843   \n",
       "\n",
       "       customer_city customer_state geolocation_zip_code_prefix  \\\n",
       "0          boa vista             RR                        1037   \n",
       "1          boa vista             RR                        1037   \n",
       "2  santa cruz do sul             RS                        1037   \n",
       "3     belo horizonte             MG                        1037   \n",
       "4     rio de janeiro             RJ                        1037   \n",
       "\n",
       "   geolocation_lat  geolocation_lng geolocation_city  geolocation_state  \\\n",
       "0       -23.545621       -46.639292        sao paulo                 SP   \n",
       "1       -23.545621       -46.639292        sao paulo                 SP   \n",
       "2       -23.545621       -46.639292        sao paulo                 SP   \n",
       "3       -23.545621       -46.639292        sao paulo                 SP   \n",
       "4       -23.545621       -46.639292        sao paulo                 SP   \n",
       "\n",
       "   product_category_name_english  \n",
       "0                furniture_decor  \n",
       "1                furniture_decor  \n",
       "2                furniture_decor  \n",
       "3                furniture_decor  \n",
       "4                furniture_decor  \n",
       "\n",
       "[5 rows x 48 columns]"
      ]
     },
     "execution_count": 1138,
     "metadata": {},
     "output_type": "execute_result"
    }
   ],
   "source": [
    "or_it_pr_pa_re_se_cu_lo_tr = or_it_pr_pa_re_se_cu_lo.merge(translation_df, on= \"product_category_name\")\n",
    "or_it_pr_pa_re_se_cu_lo_tr.head()"
   ]
  },
  {
   "cell_type": "code",
   "execution_count": 1139,
   "id": "e7b74482",
   "metadata": {},
   "outputs": [
    {
     "name": "stdout",
     "output_type": "stream",
     "text": [
      "<class 'pandas.core.frame.DataFrame'>\n",
      "Int64Index: 98109 entries, 0 to 98108\n",
      "Data columns (total 48 columns):\n",
      " #   Column                         Non-Null Count  Dtype          \n",
      "---  ------                         --------------  -----          \n",
      " 0   order_id                       98109 non-null  object         \n",
      " 1   customer_id                    98109 non-null  object         \n",
      " 2   order_status                   98109 non-null  object         \n",
      " 3   order_purchase_timestamp       98109 non-null  object         \n",
      " 4   order_approved_at              98109 non-null  object         \n",
      " 5   order_delivered_carrier_date   98109 non-null  object         \n",
      " 6   order_delivered_customer_date  98109 non-null  object         \n",
      " 7   order_estimated_delivery_date  98109 non-null  object         \n",
      " 8   shipping_difference            98109 non-null  timedelta64[ns]\n",
      " 9   shipping_duration              98109 non-null  timedelta64[ns]\n",
      " 10  shipping_est_duration          98109 non-null  timedelta64[ns]\n",
      " 11  product_id                     98109 non-null  object         \n",
      " 12  quantity                       98109 non-null  int64          \n",
      " 13  seller_id                      98109 non-null  object         \n",
      " 14  shipping_limit_date            98109 non-null  object         \n",
      " 15  price                          98109 non-null  float64        \n",
      " 16  freight_value                  98109 non-null  float64        \n",
      " 17  product_category_name          98109 non-null  object         \n",
      " 18  product_name_lenght            98109 non-null  float64        \n",
      " 19  product_description_lenght     98109 non-null  float64        \n",
      " 20  product_photos_qty             98109 non-null  float64        \n",
      " 21  product_weight_g               98109 non-null  float64        \n",
      " 22  product_length_cm              98109 non-null  float64        \n",
      " 23  product_height_cm              98109 non-null  float64        \n",
      " 24  product_width_cm               98109 non-null  float64        \n",
      " 25  volume_ltr                     98109 non-null  float64        \n",
      " 26  payment_sequential             98109 non-null  int64          \n",
      " 27  payment_type                   98109 non-null  object         \n",
      " 28  payment_installments           98109 non-null  int64          \n",
      " 29  payment_value                  98109 non-null  float64        \n",
      " 30  review_id                      98109 non-null  object         \n",
      " 31  review_score                   98109 non-null  int64          \n",
      " 32  review_creation_date           98109 non-null  object         \n",
      " 33  review_answer_timestamp        98109 non-null  object         \n",
      " 34  difference_reviews             98109 non-null  timedelta64[ns]\n",
      " 35  seller_zip_code_prefix         98109 non-null  int64          \n",
      " 36  seller_city                    98109 non-null  object         \n",
      " 37  seller_state                   98109 non-null  object         \n",
      " 38  customer_unique_id             98109 non-null  object         \n",
      " 39  customer_zip_code_prefix       98109 non-null  int64          \n",
      " 40  customer_city                  98109 non-null  object         \n",
      " 41  customer_state                 98109 non-null  object         \n",
      " 42  geolocation_zip_code_prefix    98109 non-null  int64          \n",
      " 43  geolocation_lat                98109 non-null  float64        \n",
      " 44  geolocation_lng                98109 non-null  float64        \n",
      " 45  geolocation_city               98109 non-null  object         \n",
      " 46  geolocation_state              98109 non-null  object         \n",
      " 47  product_category_name_english  98109 non-null  object         \n",
      "dtypes: float64(13), int64(7), object(24), timedelta64[ns](4)\n",
      "memory usage: 36.7+ MB\n"
     ]
    }
   ],
   "source": [
    "or_it_pr_pa_re_se_cu_lo_tr.info()"
   ]
  },
  {
   "cell_type": "markdown",
   "id": "255a7aea",
   "metadata": {},
   "source": [
    "Finally we get a complete dataframe with all the columns included and 98 109 instances. Which seems enough for a thorought analysis."
   ]
  },
  {
   "cell_type": "markdown",
   "id": "c4929acf",
   "metadata": {},
   "source": [
    "## Saving the consolidated dataset as a csv file"
   ]
  },
  {
   "cell_type": "code",
   "execution_count": 1145,
   "id": "ed0b0f08",
   "metadata": {},
   "outputs": [],
   "source": [
    "treated_df = or_it_pr_pa_re_se_cu_lo_tr\n",
    "treated_df.to_csv(\"treated_df.csv\", index = False)"
   ]
  },
  {
   "cell_type": "markdown",
   "id": "3a77a1a6",
   "metadata": {},
   "source": [
    "## Conclusion"
   ]
  },
  {
   "cell_type": "markdown",
   "id": "6a03284e",
   "metadata": {},
   "source": [
    "In this notebook, we went through all the datasets provided by Olist. We imputed missing values, grouped dataframes and merged them together to get a final treated dataset that I saved as a csv file so I can do some exploratory data analysis in the next notebook."
   ]
  }
 ],
 "metadata": {
  "kernelspec": {
   "display_name": "Python 3 (ipykernel)",
   "language": "python",
   "name": "python3"
  },
  "language_info": {
   "codemirror_mode": {
    "name": "ipython",
    "version": 3
   },
   "file_extension": ".py",
   "mimetype": "text/x-python",
   "name": "python",
   "nbconvert_exporter": "python",
   "pygments_lexer": "ipython3",
   "version": "3.9.6"
  }
 },
 "nbformat": 4,
 "nbformat_minor": 5
}
