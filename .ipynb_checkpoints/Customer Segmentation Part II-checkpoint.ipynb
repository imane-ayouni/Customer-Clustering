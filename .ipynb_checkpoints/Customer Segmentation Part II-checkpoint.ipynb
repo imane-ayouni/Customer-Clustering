{
 "cells": [
  {
   "cell_type": "markdown",
   "id": "bc371289",
   "metadata": {},
   "source": [
    "# Customer Segmentation Part II : Feature engineering and Exploratory data analysis"
   ]
  },
  {
   "cell_type": "markdown",
   "id": "81ae08be",
   "metadata": {},
   "source": [
    "## Topic"
   ]
  },
  {
   "cell_type": "markdown",
   "id": "6e6d5e6c",
   "metadata": {},
   "source": [
    "## Objectives"
   ]
  },
  {
   "cell_type": "markdown",
   "id": "64462cf3",
   "metadata": {},
   "source": [
    "## Summary"
   ]
  },
  {
   "cell_type": "markdown",
   "id": "cfb1b953",
   "metadata": {},
   "source": [
    "## Importing libraries"
   ]
  },
  {
   "cell_type": "code",
   "execution_count": 166,
   "id": "cd6bbb9b",
   "metadata": {},
   "outputs": [],
   "source": [
    "import pandas as pd\n",
    "import numpy as np\n",
    "import seaborn as sns\n",
    "import matplotlib.pyplot as plt\n",
    "from datetime import datetime as dt\n",
    "sns.set(rc = {'figure.figsize':(15,8)})"
   ]
  },
  {
   "cell_type": "markdown",
   "id": "b69113fa",
   "metadata": {},
   "source": [
    "## Importing the dataset"
   ]
  },
  {
   "cell_type": "code",
   "execution_count": 167,
   "id": "601d573b",
   "metadata": {},
   "outputs": [
    {
     "data": {
      "text/html": [
       "<div>\n",
       "<style scoped>\n",
       "    .dataframe tbody tr th:only-of-type {\n",
       "        vertical-align: middle;\n",
       "    }\n",
       "\n",
       "    .dataframe tbody tr th {\n",
       "        vertical-align: top;\n",
       "    }\n",
       "\n",
       "    .dataframe thead th {\n",
       "        text-align: right;\n",
       "    }\n",
       "</style>\n",
       "<table border=\"1\" class=\"dataframe\">\n",
       "  <thead>\n",
       "    <tr style=\"text-align: right;\">\n",
       "      <th></th>\n",
       "      <th>order_id</th>\n",
       "      <th>customer_id</th>\n",
       "      <th>order_status</th>\n",
       "      <th>order_purchase_timestamp</th>\n",
       "      <th>order_approved_at</th>\n",
       "      <th>order_delivered_carrier_date</th>\n",
       "      <th>order_delivered_customer_date</th>\n",
       "      <th>order_estimated_delivery_date</th>\n",
       "      <th>shipping_difference</th>\n",
       "      <th>shipping_duration</th>\n",
       "      <th>...</th>\n",
       "      <th>customer_unique_id</th>\n",
       "      <th>customer_zip_code_prefix</th>\n",
       "      <th>customer_city</th>\n",
       "      <th>customer_state</th>\n",
       "      <th>geolocation_zip_code_prefix</th>\n",
       "      <th>geolocation_lat</th>\n",
       "      <th>geolocation_lng</th>\n",
       "      <th>geolocation_city</th>\n",
       "      <th>geolocation_state</th>\n",
       "      <th>product_category_name_english</th>\n",
       "    </tr>\n",
       "  </thead>\n",
       "  <tbody>\n",
       "    <tr>\n",
       "      <th>0</th>\n",
       "      <td>2e7a8482f6fb09756ca50c10d7bfc047</td>\n",
       "      <td>08c5351a6aca1c1589a38f244edeee9d</td>\n",
       "      <td>shipped</td>\n",
       "      <td>2016-09-04</td>\n",
       "      <td>2016-10-07</td>\n",
       "      <td>2016-10-18</td>\n",
       "      <td>2016-10-18</td>\n",
       "      <td>2016-10-20</td>\n",
       "      <td>2 days</td>\n",
       "      <td>44 days</td>\n",
       "      <td>...</td>\n",
       "      <td>b7d76e111c89f7ebf14761390f0f7d17</td>\n",
       "      <td>69309</td>\n",
       "      <td>boa vista</td>\n",
       "      <td>RR</td>\n",
       "      <td>1037</td>\n",
       "      <td>-23.545621</td>\n",
       "      <td>-46.639292</td>\n",
       "      <td>sao paulo</td>\n",
       "      <td>SP</td>\n",
       "      <td>furniture_decor</td>\n",
       "    </tr>\n",
       "    <tr>\n",
       "      <th>1</th>\n",
       "      <td>2e7a8482f6fb09756ca50c10d7bfc047</td>\n",
       "      <td>08c5351a6aca1c1589a38f244edeee9d</td>\n",
       "      <td>shipped</td>\n",
       "      <td>2016-09-04</td>\n",
       "      <td>2016-10-07</td>\n",
       "      <td>2016-10-18</td>\n",
       "      <td>2016-10-18</td>\n",
       "      <td>2016-10-20</td>\n",
       "      <td>2 days</td>\n",
       "      <td>44 days</td>\n",
       "      <td>...</td>\n",
       "      <td>b7d76e111c89f7ebf14761390f0f7d17</td>\n",
       "      <td>69309</td>\n",
       "      <td>boa vista</td>\n",
       "      <td>RR</td>\n",
       "      <td>1037</td>\n",
       "      <td>-23.545621</td>\n",
       "      <td>-46.639292</td>\n",
       "      <td>sao paulo</td>\n",
       "      <td>SP</td>\n",
       "      <td>furniture_decor</td>\n",
       "    </tr>\n",
       "    <tr>\n",
       "      <th>2</th>\n",
       "      <td>35d3a51724a47ef1d0b89911e39cc4ff</td>\n",
       "      <td>27ab53f26192510ff85872aeb3759dcc</td>\n",
       "      <td>delivered</td>\n",
       "      <td>2016-10-04</td>\n",
       "      <td>2016-10-05</td>\n",
       "      <td>2016-10-14</td>\n",
       "      <td>2016-10-26</td>\n",
       "      <td>2016-12-20</td>\n",
       "      <td>55 days</td>\n",
       "      <td>22 days</td>\n",
       "      <td>...</td>\n",
       "      <td>f922896769e9517ea3c630f3c8de86d0</td>\n",
       "      <td>96832</td>\n",
       "      <td>santa cruz do sul</td>\n",
       "      <td>RS</td>\n",
       "      <td>1037</td>\n",
       "      <td>-23.545621</td>\n",
       "      <td>-46.639292</td>\n",
       "      <td>sao paulo</td>\n",
       "      <td>SP</td>\n",
       "      <td>furniture_decor</td>\n",
       "    </tr>\n",
       "    <tr>\n",
       "      <th>3</th>\n",
       "      <td>c4f710df20f7d1500da1aef81a993f65</td>\n",
       "      <td>4b671f05b6eb9dc1d2c1bae9c8c78536</td>\n",
       "      <td>delivered</td>\n",
       "      <td>2016-10-10</td>\n",
       "      <td>2016-10-10</td>\n",
       "      <td>2016-10-18</td>\n",
       "      <td>2016-10-26</td>\n",
       "      <td>2016-12-14</td>\n",
       "      <td>49 days</td>\n",
       "      <td>16 days</td>\n",
       "      <td>...</td>\n",
       "      <td>0ecf7f65b5ff3b9e61b637e59f495e0a</td>\n",
       "      <td>30411</td>\n",
       "      <td>belo horizonte</td>\n",
       "      <td>MG</td>\n",
       "      <td>1037</td>\n",
       "      <td>-23.545621</td>\n",
       "      <td>-46.639292</td>\n",
       "      <td>sao paulo</td>\n",
       "      <td>SP</td>\n",
       "      <td>furniture_decor</td>\n",
       "    </tr>\n",
       "    <tr>\n",
       "      <th>4</th>\n",
       "      <td>81e5043198a44ddeb226002ff55d8ad4</td>\n",
       "      <td>ddd15ef77c83eea8c534d2896173a927</td>\n",
       "      <td>delivered</td>\n",
       "      <td>2017-01-09</td>\n",
       "      <td>2017-01-09</td>\n",
       "      <td>2017-01-09</td>\n",
       "      <td>2017-02-24</td>\n",
       "      <td>2017-02-24</td>\n",
       "      <td>0 days</td>\n",
       "      <td>46 days</td>\n",
       "      <td>...</td>\n",
       "      <td>853ba75a0b423722ccf270eea3b4cfe4</td>\n",
       "      <td>21843</td>\n",
       "      <td>rio de janeiro</td>\n",
       "      <td>RJ</td>\n",
       "      <td>1037</td>\n",
       "      <td>-23.545621</td>\n",
       "      <td>-46.639292</td>\n",
       "      <td>sao paulo</td>\n",
       "      <td>SP</td>\n",
       "      <td>furniture_decor</td>\n",
       "    </tr>\n",
       "  </tbody>\n",
       "</table>\n",
       "<p>5 rows × 48 columns</p>\n",
       "</div>"
      ],
      "text/plain": [
       "                           order_id                       customer_id  \\\n",
       "0  2e7a8482f6fb09756ca50c10d7bfc047  08c5351a6aca1c1589a38f244edeee9d   \n",
       "1  2e7a8482f6fb09756ca50c10d7bfc047  08c5351a6aca1c1589a38f244edeee9d   \n",
       "2  35d3a51724a47ef1d0b89911e39cc4ff  27ab53f26192510ff85872aeb3759dcc   \n",
       "3  c4f710df20f7d1500da1aef81a993f65  4b671f05b6eb9dc1d2c1bae9c8c78536   \n",
       "4  81e5043198a44ddeb226002ff55d8ad4  ddd15ef77c83eea8c534d2896173a927   \n",
       "\n",
       "  order_status order_purchase_timestamp order_approved_at  \\\n",
       "0      shipped               2016-09-04        2016-10-07   \n",
       "1      shipped               2016-09-04        2016-10-07   \n",
       "2    delivered               2016-10-04        2016-10-05   \n",
       "3    delivered               2016-10-10        2016-10-10   \n",
       "4    delivered               2017-01-09        2017-01-09   \n",
       "\n",
       "  order_delivered_carrier_date order_delivered_customer_date  \\\n",
       "0                   2016-10-18                    2016-10-18   \n",
       "1                   2016-10-18                    2016-10-18   \n",
       "2                   2016-10-14                    2016-10-26   \n",
       "3                   2016-10-18                    2016-10-26   \n",
       "4                   2017-01-09                    2017-02-24   \n",
       "\n",
       "  order_estimated_delivery_date shipping_difference shipping_duration  ...  \\\n",
       "0                    2016-10-20              2 days           44 days  ...   \n",
       "1                    2016-10-20              2 days           44 days  ...   \n",
       "2                    2016-12-20             55 days           22 days  ...   \n",
       "3                    2016-12-14             49 days           16 days  ...   \n",
       "4                    2017-02-24              0 days           46 days  ...   \n",
       "\n",
       "                 customer_unique_id customer_zip_code_prefix  \\\n",
       "0  b7d76e111c89f7ebf14761390f0f7d17                    69309   \n",
       "1  b7d76e111c89f7ebf14761390f0f7d17                    69309   \n",
       "2  f922896769e9517ea3c630f3c8de86d0                    96832   \n",
       "3  0ecf7f65b5ff3b9e61b637e59f495e0a                    30411   \n",
       "4  853ba75a0b423722ccf270eea3b4cfe4                    21843   \n",
       "\n",
       "       customer_city customer_state geolocation_zip_code_prefix  \\\n",
       "0          boa vista             RR                        1037   \n",
       "1          boa vista             RR                        1037   \n",
       "2  santa cruz do sul             RS                        1037   \n",
       "3     belo horizonte             MG                        1037   \n",
       "4     rio de janeiro             RJ                        1037   \n",
       "\n",
       "   geolocation_lat  geolocation_lng geolocation_city  geolocation_state  \\\n",
       "0       -23.545621       -46.639292        sao paulo                 SP   \n",
       "1       -23.545621       -46.639292        sao paulo                 SP   \n",
       "2       -23.545621       -46.639292        sao paulo                 SP   \n",
       "3       -23.545621       -46.639292        sao paulo                 SP   \n",
       "4       -23.545621       -46.639292        sao paulo                 SP   \n",
       "\n",
       "   product_category_name_english  \n",
       "0                furniture_decor  \n",
       "1                furniture_decor  \n",
       "2                furniture_decor  \n",
       "3                furniture_decor  \n",
       "4                furniture_decor  \n",
       "\n",
       "[5 rows x 48 columns]"
      ]
     },
     "execution_count": 167,
     "metadata": {},
     "output_type": "execute_result"
    }
   ],
   "source": [
    "treated_df = orders_df = pd.read_csv(r'C:\\Users\\imane\\OneDrive\\Desktop\\Clients_Clustering\\treated_df.csv', sep =\",\")\n",
    "treated_df.head()"
   ]
  },
  {
   "cell_type": "code",
   "execution_count": 168,
   "id": "b3cd54cd",
   "metadata": {},
   "outputs": [
    {
     "name": "stdout",
     "output_type": "stream",
     "text": [
      "<class 'pandas.core.frame.DataFrame'>\n",
      "RangeIndex: 98109 entries, 0 to 98108\n",
      "Data columns (total 48 columns):\n",
      " #   Column                         Non-Null Count  Dtype  \n",
      "---  ------                         --------------  -----  \n",
      " 0   order_id                       98109 non-null  object \n",
      " 1   customer_id                    98109 non-null  object \n",
      " 2   order_status                   98109 non-null  object \n",
      " 3   order_purchase_timestamp       98109 non-null  object \n",
      " 4   order_approved_at              98109 non-null  object \n",
      " 5   order_delivered_carrier_date   98109 non-null  object \n",
      " 6   order_delivered_customer_date  98109 non-null  object \n",
      " 7   order_estimated_delivery_date  98109 non-null  object \n",
      " 8   shipping_difference            98109 non-null  object \n",
      " 9   shipping_duration              98109 non-null  object \n",
      " 10  shipping_est_duration          98109 non-null  object \n",
      " 11  product_id                     98109 non-null  object \n",
      " 12  quantity                       98109 non-null  int64  \n",
      " 13  seller_id                      98109 non-null  object \n",
      " 14  shipping_limit_date            98109 non-null  object \n",
      " 15  price                          98109 non-null  float64\n",
      " 16  freight_value                  98109 non-null  float64\n",
      " 17  product_category_name          98109 non-null  object \n",
      " 18  product_name_lenght            98109 non-null  float64\n",
      " 19  product_description_lenght     98109 non-null  float64\n",
      " 20  product_photos_qty             98109 non-null  float64\n",
      " 21  product_weight_g               98109 non-null  float64\n",
      " 22  product_length_cm              98109 non-null  float64\n",
      " 23  product_height_cm              98109 non-null  float64\n",
      " 24  product_width_cm               98109 non-null  float64\n",
      " 25  volume_ltr                     98109 non-null  float64\n",
      " 26  payment_sequential             98109 non-null  int64  \n",
      " 27  payment_type                   98109 non-null  object \n",
      " 28  payment_installments           98109 non-null  int64  \n",
      " 29  payment_value                  98109 non-null  float64\n",
      " 30  review_id                      98109 non-null  object \n",
      " 31  review_score                   98109 non-null  int64  \n",
      " 32  review_creation_date           98109 non-null  object \n",
      " 33  review_answer_timestamp        98109 non-null  object \n",
      " 34  difference_reviews             98109 non-null  object \n",
      " 35  seller_zip_code_prefix         98109 non-null  int64  \n",
      " 36  seller_city                    98109 non-null  object \n",
      " 37  seller_state                   98109 non-null  object \n",
      " 38  customer_unique_id             98109 non-null  object \n",
      " 39  customer_zip_code_prefix       98109 non-null  int64  \n",
      " 40  customer_city                  98109 non-null  object \n",
      " 41  customer_state                 98109 non-null  object \n",
      " 42  geolocation_zip_code_prefix    98109 non-null  int64  \n",
      " 43  geolocation_lat                98109 non-null  float64\n",
      " 44  geolocation_lng                98109 non-null  float64\n",
      " 45  geolocation_city               98109 non-null  object \n",
      " 46  geolocation_state              98109 non-null  object \n",
      " 47  product_category_name_english  98109 non-null  object \n",
      "dtypes: float64(13), int64(7), object(28)\n",
      "memory usage: 35.9+ MB\n"
     ]
    }
   ],
   "source": [
    "treated_df.info()"
   ]
  },
  {
   "cell_type": "markdown",
   "id": "2bd5c074",
   "metadata": {},
   "source": [
    "Now we've imported the consolidated dataset, it contains all the columns present in the 9 datasets provided by Olist (48 columns) and 98 109 instances. The dataset contains both numerical and categorical values and the datetimes columns from the previous notebook were turned into object columns during the transformations. There are no missing values in the ds."
   ]
  },
  {
   "cell_type": "markdown",
   "id": "64ff05e7",
   "metadata": {},
   "source": [
    "# Feature engineering"
   ]
  },
  {
   "cell_type": "code",
   "execution_count": 169,
   "id": "9c29bdac",
   "metadata": {},
   "outputs": [
    {
     "name": "stdout",
     "output_type": "stream",
     "text": [
      "<class 'pandas.core.frame.DataFrame'>\n",
      "RangeIndex: 98109 entries, 0 to 98108\n",
      "Data columns (total 34 columns):\n",
      " #   Column                         Non-Null Count  Dtype  \n",
      "---  ------                         --------------  -----  \n",
      " 0   order_id                       98109 non-null  object \n",
      " 1   customer_id                    98109 non-null  object \n",
      " 2   order_status                   98109 non-null  object \n",
      " 3   order_purchase_timestamp       98109 non-null  object \n",
      " 4   order_delivered_customer_date  98109 non-null  object \n",
      " 5   order_estimated_delivery_date  98109 non-null  object \n",
      " 6   shipping_difference            98109 non-null  object \n",
      " 7   shipping_duration              98109 non-null  object \n",
      " 8   shipping_est_duration          98109 non-null  object \n",
      " 9   product_id                     98109 non-null  object \n",
      " 10  quantity                       98109 non-null  int64  \n",
      " 11  seller_id                      98109 non-null  object \n",
      " 12  shipping_limit_date            98109 non-null  object \n",
      " 13  price                          98109 non-null  float64\n",
      " 14  freight_value                  98109 non-null  float64\n",
      " 15  product_photos_qty             98109 non-null  float64\n",
      " 16  product_weight_g               98109 non-null  float64\n",
      " 17  volume_ltr                     98109 non-null  float64\n",
      " 18  payment_sequential             98109 non-null  int64  \n",
      " 19  payment_type                   98109 non-null  object \n",
      " 20  payment_installments           98109 non-null  int64  \n",
      " 21  payment_value                  98109 non-null  float64\n",
      " 22  review_score                   98109 non-null  int64  \n",
      " 23  difference_reviews             98109 non-null  object \n",
      " 24  seller_city                    98109 non-null  object \n",
      " 25  seller_state                   98109 non-null  object \n",
      " 26  customer_unique_id             98109 non-null  object \n",
      " 27  customer_city                  98109 non-null  object \n",
      " 28  customer_state                 98109 non-null  object \n",
      " 29  geolocation_lat                98109 non-null  float64\n",
      " 30  geolocation_lng                98109 non-null  float64\n",
      " 31  geolocation_city               98109 non-null  object \n",
      " 32  geolocation_state              98109 non-null  object \n",
      " 33  product_category_name_english  98109 non-null  object \n",
      "dtypes: float64(8), int64(4), object(22)\n",
      "memory usage: 25.4+ MB\n"
     ]
    }
   ],
   "source": [
    "treated_df = treated_df.drop([\"order_approved_at\",\"order_delivered_carrier_date\",\n",
    "                             \"product_category_name\",\"product_name_lenght\",\"product_description_lenght\",\n",
    "                             \"product_length_cm\",\"product_height_cm\",\"product_width_cm\",\"review_id\",\n",
    "                             \"review_creation_date\",\"review_answer_timestamp\",\"seller_zip_code_prefix\",\n",
    "                             \"customer_zip_code_prefix\",\"geolocation_zip_code_prefix\"], axis=1)\n",
    "treated_df.info()"
   ]
  },
  {
   "cell_type": "markdown",
   "id": "6ef477fe",
   "metadata": {},
   "source": [
    "At this stage, I deleted some columns that I thought were unecessary. The columns I deleted were:\n",
    "- The time the order was approved because its not very relevant and is very close to the time the perchase was made.\n",
    "- The time the order wqas delivered to the carrier because what we're concerned with here is more the time the package got to the client.\n",
    "- Product category name originally in Potuguese, we kept the English translations.\n",
    "- Product name and discription lenght, because we're not very concerned about the marketing aspect.\n",
    "- Product lenght, height and width because we calculated the valume which is more relevant.\n",
    "- Review id because it's just a bunch of letters and numbers that identify the review, and we won't be filtering the data by review id. \n",
    "- Review creation and answer time stamp because we added a column of the difference between the two (I thought maybe how fast the seller responds to comments might have something to do with the products sales).\n",
    "- Zip codes because we won't be doing a detailed geographical analysis of the area where the commerce takes place.\n",
    "\n",
    "We finnaly got a 34 column dataframe."
   ]
  },
  {
   "cell_type": "code",
   "execution_count": 170,
   "id": "f06c0a05",
   "metadata": {},
   "outputs": [],
   "source": [
    "def date_time(df, cols):\n",
    "    for col in cols:\n",
    "        df[col] = pd.to_datetime(df[col], format='%Y-%m-%d').dt.date\n",
    "date_time(treated_df,[\"shipping_limit_date\",\"order_delivered_customer_date\",\"order_purchase_timestamp\",\n",
    "                     \"order_delivered_customer_date\",\"order_estimated_delivery_date\"])"
   ]
  },
  {
   "cell_type": "code",
   "execution_count": 171,
   "id": "27d8ef70",
   "metadata": {},
   "outputs": [],
   "source": [
    "treated_df[\"limit_delivery_diff\"] = treated_df[\"shipping_limit_date\"] - treated_df[\"order_delivered_customer_date\"]"
   ]
  },
  {
   "cell_type": "markdown",
   "id": "35e54d27",
   "metadata": {},
   "source": [
    "Here I transformed some columns from object format to datetime format to be able to calculate the difference between the limit shipping time and the actual shipping time."
   ]
  },
  {
   "cell_type": "code",
   "execution_count": 172,
   "id": "d150ddc6",
   "metadata": {},
   "outputs": [],
   "source": [
    "treated_df = treated_df.drop([\"shipping_limit_date\",\"customer_id\"],  axis = 1)"
   ]
  },
  {
   "cell_type": "markdown",
   "id": "f2d08027",
   "metadata": {},
   "source": [
    "Then I dropped the shipping date limit because it's no longer relevant, and the customer id because we're keeping the customer unique id instead."
   ]
  },
  {
   "cell_type": "code",
   "execution_count": 173,
   "id": "92f3be4f",
   "metadata": {},
   "outputs": [],
   "source": [
    "treated_df[\"Total_cost\"] = treated_df[\"price\"] + treated_df[\"freight_value\"]"
   ]
  },
  {
   "cell_type": "markdown",
   "id": "a0341e6c",
   "metadata": {},
   "source": [
    "I added a column of the total cost of the transaction because I thought we might use it later."
   ]
  },
  {
   "cell_type": "code",
   "execution_count": 174,
   "id": "26308402",
   "metadata": {},
   "outputs": [
    {
     "data": {
      "text/plain": [
       "True     69696\n",
       "False    28413\n",
       "Name: compare_states, dtype: int64"
      ]
     },
     "execution_count": 174,
     "metadata": {},
     "output_type": "execute_result"
    }
   ],
   "source": [
    "compare_states = np.where(treated_df[\"seller_state\"] == treated_df[\"geolocation_state\"], True, False)\n",
    "treated_df[\"compare_states\"] = compare_states\n",
    "treated_df[\"compare_states\"].value_counts()"
   ]
  },
  {
   "cell_type": "markdown",
   "id": "117eaf92",
   "metadata": {},
   "source": [
    "In the previous notebook when I was preparing the main dataset, I grouped the geolocation dataset with the main one by seller state, because its values are all present in the main datatframe and merging them wouldn't result in any data loss. Now, after the other transformations were applied, we see that only 69 696 of the seller states match with the geolocation state. So one solution is to slit the dataset into one with matching states and one with unmatching ones. "
   ]
  },
  {
   "cell_type": "code",
   "execution_count": 175,
   "id": "0a7a9654",
   "metadata": {},
   "outputs": [],
   "source": [
    "matching_states = treated_df[treated_df[\"compare_states\"] == True]\n",
    "not_matching = treated_df[treated_df[\"compare_states\"] == False]\n",
    "not_matching = not_matching.drop([\"seller_state\"], axis= 1)\n",
    "not_matching[\"seller_state\"] = not_matching[\"geolocation_state\"]"
   ]
  },
  {
   "cell_type": "markdown",
   "id": "a9aa9caa",
   "metadata": {},
   "source": [
    "After the split, I deleted the seller_state column from the dataset with unmatching states, and recreated a new one containing exatly the same as in the column geolocation_state, with the same name (seller_state). In order to have coherent rows and to not loose any data."
   ]
  },
  {
   "cell_type": "code",
   "execution_count": 176,
   "id": "f90a37b3",
   "metadata": {},
   "outputs": [],
   "source": [
    "treated_df = matching_states.append(not_matching)"
   ]
  },
  {
   "cell_type": "code",
   "execution_count": 177,
   "id": "0675db1c",
   "metadata": {},
   "outputs": [
    {
     "data": {
      "text/plain": [
       "True    98109\n",
       "Name: compare_states, dtype: int64"
      ]
     },
     "execution_count": 177,
     "metadata": {},
     "output_type": "execute_result"
    }
   ],
   "source": [
    "compare_states = np.where(treated_df[\"seller_state\"] == treated_df[\"geolocation_state\"], True, False)\n",
    "treated_df[\"compare_states\"] = compare_states\n",
    "treated_df[\"compare_states\"].value_counts()"
   ]
  },
  {
   "cell_type": "markdown",
   "id": "244dcb6f",
   "metadata": {},
   "source": [
    "After appending the two dataset we now have a 100% match between the seller states and geolocation states."
   ]
  },
  {
   "cell_type": "code",
   "execution_count": 178,
   "id": "07e44377",
   "metadata": {},
   "outputs": [
    {
     "data": {
      "text/plain": [
       "False    73845\n",
       "True     24264\n",
       "Name: compare_cities, dtype: int64"
      ]
     },
     "execution_count": 178,
     "metadata": {},
     "output_type": "execute_result"
    }
   ],
   "source": [
    "compare_cities = np.where(treated_df[\"seller_city\"] == treated_df[\"geolocation_city\"], True, False)\n",
    "treated_df[\"compare_cities\"] = compare_cities\n",
    "treated_df[\"compare_cities\"].value_counts()"
   ]
  },
  {
   "cell_type": "code",
   "execution_count": 179,
   "id": "1b0dd396",
   "metadata": {},
   "outputs": [],
   "source": [
    "matching_cities = treated_df[treated_df[\"compare_cities\"] == True]\n",
    "not_match = treated_df[treated_df[\"compare_cities\"] == False]\n",
    "not_match = not_match.drop([\"seller_city\"], axis= 1)\n",
    "not_match[\"seller_city\"] = not_match[\"geolocation_city\"]"
   ]
  },
  {
   "cell_type": "code",
   "execution_count": 180,
   "id": "5a12057f",
   "metadata": {},
   "outputs": [],
   "source": [
    "treated_df = matching_cities.append(not_match)"
   ]
  },
  {
   "cell_type": "code",
   "execution_count": 181,
   "id": "8c8ccdd0",
   "metadata": {},
   "outputs": [
    {
     "data": {
      "text/plain": [
       "True    98109\n",
       "Name: compare_cities, dtype: int64"
      ]
     },
     "execution_count": 181,
     "metadata": {},
     "output_type": "execute_result"
    }
   ],
   "source": [
    "compare_cities = np.where(treated_df[\"seller_city\"] == treated_df[\"geolocation_city\"], True, False)\n",
    "treated_df[\"compare_cities\"] = compare_cities\n",
    "treated_df[\"compare_cities\"].value_counts()"
   ]
  },
  {
   "cell_type": "markdown",
   "id": "4d11a321",
   "metadata": {},
   "source": [
    "The same process was done to seller city, there were 4 118 cities not matching, so we replace them with the cities that are in the geolocation city colum (because the geolocation dataset has the latitude and longitude of the city it mentions). We finally get no differences between the cities."
   ]
  },
  {
   "cell_type": "code",
   "execution_count": 182,
   "id": "5be8f497",
   "metadata": {},
   "outputs": [],
   "source": [
    "treated_df = treated_df.drop([\"compare_cities\",\"compare_states\",\"geolocation_state\",\"geolocation_city\"], axis=1)"
   ]
  },
  {
   "cell_type": "markdown",
   "id": "7d36099c",
   "metadata": {},
   "source": [
    "So I've deleted the bool columns that I created before to see the similarities and difference between the mentioned columns, and also the geolocation state and city because they are identical to those of sellers."
   ]
  },
  {
   "cell_type": "code",
   "execution_count": 184,
   "id": "bc640530",
   "metadata": {},
   "outputs": [],
   "source": [
    "to_days = treated_df[\"limit_delivery_diff\"].dt.days\n",
    "treated_df[\"limit_delivery_diff\"] = to_days"
   ]
  },
  {
   "cell_type": "markdown",
   "id": "fd4be1ca",
   "metadata": {},
   "source": [
    "Then I transformed the limit delivery difference column, which is the difference between the shipping limit date and the actual limit date, to integers representing days (positive value if the order got shipped before the limit time, and negative if it got shipped aftre)."
   ]
  },
  {
   "cell_type": "code",
   "execution_count": 190,
   "id": "94b5112f",
   "metadata": {},
   "outputs": [],
   "source": [
    "def time_delta(df, cols):\n",
    "    for col in cols:\n",
    "        df[col] = pd.to_timedelta(df[col]).dt.days\n",
    "time_delta(treated_df,[\"shipping_difference\",\"shipping_duration\",\"shipping_est_duration\",\"difference_reviews\"])"
   ]
  },
  {
   "cell_type": "markdown",
   "id": "930fd7e4",
   "metadata": {},
   "source": [
    "Then I transformed all the columns containing durations (and that were turned into object type) to integer representing days, both in positive and negative."
   ]
  },
  {
   "cell_type": "code",
   "execution_count": 199,
   "id": "0ea8f63c",
   "metadata": {},
   "outputs": [],
   "source": [
    "treated_df = treated_df.rename(columns={\"order_purchase_timestamp\":\"purchase_date\",\n",
    "                           \"shipping_difference\":\"est_act_shipp\",\n",
    "                           \"volume_ltr\":\"product_colume_ltr\",\n",
    "                           \"customer_unique_id\":\"customer_id\",\n",
    "                           \"geolocation_lat\":\"seller_lat\",\n",
    "                           \"geolocation_lng\":\"seller_lng\",\n",
    "                           \"product_category_name_english\":\"product_category_name\",\n",
    "                           \"order_delivered_customer_date\": \"delivered_date\",\n",
    "                           \"order_estimated_delivery_date\" : \"est_del_date\"        \n",
    "                          })"
   ]
  },
  {
   "cell_type": "markdown",
   "id": "91d86d04",
   "metadata": {},
   "source": [
    "Then I renamed some columns for more coherence."
   ]
  },
  {
   "cell_type": "code",
   "execution_count": 201,
   "id": "8ac83c6f",
   "metadata": {},
   "outputs": [],
   "source": [
    "treated_df.to_csv(\"treated_PowerBI.csv\", index = False)"
   ]
  },
  {
   "cell_type": "markdown",
   "id": "ef1f8c3d",
   "metadata": {},
   "source": [
    "Then I saved a copy of the dataset sofar to be used for Power BI dashboards. I'm going to delete the columns containing dates (ex: perchase date, delivery date...) and columns containing ids (ex: customer id, product id) before applying machine learning algorithms, because the objective is not to see change over time nor are the ids relevant for the algorithms."
   ]
  },
  {
   "cell_type": "markdown",
   "id": "14f0e7f4",
   "metadata": {},
   "source": [
    "# Exploratory data analysis"
   ]
  },
  {
   "cell_type": "code",
   "execution_count": 202,
   "id": "e057e7bf",
   "metadata": {},
   "outputs": [
    {
     "name": "stdout",
     "output_type": "stream",
     "text": [
      "<class 'pandas.core.frame.DataFrame'>\n",
      "Int64Index: 98109 entries, 1710 to 98108\n",
      "Data columns (total 32 columns):\n",
      " #   Column                 Non-Null Count  Dtype  \n",
      "---  ------                 --------------  -----  \n",
      " 0   order_id               98109 non-null  object \n",
      " 1   order_status           98109 non-null  object \n",
      " 2   purchase_date          98109 non-null  object \n",
      " 3   delivered_date         98109 non-null  object \n",
      " 4   est_del_date           98109 non-null  object \n",
      " 5   est_act_shipp          98109 non-null  int64  \n",
      " 6   shipping_duration      98109 non-null  int64  \n",
      " 7   shipping_est_duration  98109 non-null  int64  \n",
      " 8   product_id             98109 non-null  object \n",
      " 9   quantity               98109 non-null  int64  \n",
      " 10  seller_id              98109 non-null  object \n",
      " 11  price                  98109 non-null  float64\n",
      " 12  freight_value          98109 non-null  float64\n",
      " 13  product_photos_qty     98109 non-null  float64\n",
      " 14  product_weight_g       98109 non-null  float64\n",
      " 15  product_colume_ltr     98109 non-null  float64\n",
      " 16  payment_sequential     98109 non-null  int64  \n",
      " 17  payment_type           98109 non-null  object \n",
      " 18  payment_installments   98109 non-null  int64  \n",
      " 19  payment_value          98109 non-null  float64\n",
      " 20  review_score           98109 non-null  int64  \n",
      " 21  difference_reviews     98109 non-null  int64  \n",
      " 22  seller_city            98109 non-null  object \n",
      " 23  seller_state           98109 non-null  object \n",
      " 24  customer_id            98109 non-null  object \n",
      " 25  customer_city          98109 non-null  object \n",
      " 26  customer_state         98109 non-null  object \n",
      " 27  seller_lat             98109 non-null  float64\n",
      " 28  seller_lng             98109 non-null  float64\n",
      " 29  product_category_name  98109 non-null  object \n",
      " 30  limit_delivery_diff    98109 non-null  int64  \n",
      " 31  Total_cost             98109 non-null  float64\n",
      "dtypes: float64(9), int64(9), object(14)\n",
      "memory usage: 24.7+ MB\n"
     ]
    }
   ],
   "source": [
    "treated_df.info()"
   ]
  },
  {
   "cell_type": "code",
   "execution_count": null,
   "id": "d5dc5af7",
   "metadata": {},
   "outputs": [],
   "source": []
  }
 ],
 "metadata": {
  "kernelspec": {
   "display_name": "Python 3 (ipykernel)",
   "language": "python",
   "name": "python3"
  },
  "language_info": {
   "codemirror_mode": {
    "name": "ipython",
    "version": 3
   },
   "file_extension": ".py",
   "mimetype": "text/x-python",
   "name": "python",
   "nbconvert_exporter": "python",
   "pygments_lexer": "ipython3",
   "version": "3.9.6"
  }
 },
 "nbformat": 4,
 "nbformat_minor": 5
}
