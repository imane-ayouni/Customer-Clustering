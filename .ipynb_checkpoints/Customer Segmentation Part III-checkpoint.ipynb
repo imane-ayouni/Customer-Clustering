{
 "cells": [
  {
   "cell_type": "markdown",
   "id": "edb87c69",
   "metadata": {},
   "source": [
    "# Customer Segmentation Part III : Customer Clustering"
   ]
  },
  {
   "cell_type": "markdown",
   "id": "fdbefe78",
   "metadata": {},
   "source": [
    "## Topic"
   ]
  },
  {
   "cell_type": "markdown",
   "id": "bc057b71",
   "metadata": {},
   "source": [
    "## Objective"
   ]
  },
  {
   "cell_type": "markdown",
   "id": "c260519f",
   "metadata": {},
   "source": [
    "## Summary"
   ]
  },
  {
   "cell_type": "markdown",
   "id": "7a780542",
   "metadata": {},
   "source": [
    "## Importing libraries"
   ]
  },
  {
   "cell_type": "code",
   "execution_count": 448,
   "id": "fa35ba34",
   "metadata": {},
   "outputs": [],
   "source": [
    "import pandas as pd\n",
    "import numpy as np\n",
    "import seaborn as sns\n",
    "import matplotlib.pyplot as plt\n",
    "\n",
    "sns.set(rc = {'figure.figsize':(15,8)})\n",
    "\n",
    "# Processing the data\n",
    "from sklearn.preprocessing import OneHotEncoder\n",
    "from sklearn.preprocessing import StandardScaler\n",
    "from sklearn.compose import ColumnTransformer\n",
    "\n",
    "# Spliting data \n",
    "from sklearn.model_selection import train_test_split\n",
    "\n",
    "from sklearn import datasets\n",
    "from sklearn.cluster import KMeans\n",
    "from sklearn.cluster import DBSCAN\n",
    "from sklearn.mixture import GaussianMixture\n",
    "\n",
    "from sklearn.metrics import silhouette_score\n",
    "from yellowbrick.cluster import SilhouetteVisualizer"
   ]
  },
  {
   "cell_type": "markdown",
   "id": "e4a425a0",
   "metadata": {},
   "source": [
    "## Importing the dataset"
   ]
  },
  {
   "cell_type": "code",
   "execution_count": 449,
   "id": "3ed3b87d",
   "metadata": {},
   "outputs": [
    {
     "data": {
      "text/html": [
       "<div>\n",
       "<style scoped>\n",
       "    .dataframe tbody tr th:only-of-type {\n",
       "        vertical-align: middle;\n",
       "    }\n",
       "\n",
       "    .dataframe tbody tr th {\n",
       "        vertical-align: top;\n",
       "    }\n",
       "\n",
       "    .dataframe thead th {\n",
       "        text-align: right;\n",
       "    }\n",
       "</style>\n",
       "<table border=\"1\" class=\"dataframe\">\n",
       "  <thead>\n",
       "    <tr style=\"text-align: right;\">\n",
       "      <th></th>\n",
       "      <th>order_status</th>\n",
       "      <th>est_act_shipp</th>\n",
       "      <th>shipping_duration</th>\n",
       "      <th>shipping_est_duration</th>\n",
       "      <th>quantity</th>\n",
       "      <th>price</th>\n",
       "      <th>freight_value</th>\n",
       "      <th>product_photos_qty</th>\n",
       "      <th>product_weight_g</th>\n",
       "      <th>product_volume_ltr</th>\n",
       "      <th>...</th>\n",
       "      <th>payment_value</th>\n",
       "      <th>review_score</th>\n",
       "      <th>seller_city</th>\n",
       "      <th>seller_state</th>\n",
       "      <th>customer_city</th>\n",
       "      <th>customer_state</th>\n",
       "      <th>product_category_name</th>\n",
       "      <th>limit_delivery_diff</th>\n",
       "      <th>Total_cost</th>\n",
       "      <th>total_revenue</th>\n",
       "    </tr>\n",
       "  </thead>\n",
       "  <tbody>\n",
       "    <tr>\n",
       "      <th>0</th>\n",
       "      <td>delivered</td>\n",
       "      <td>44</td>\n",
       "      <td>22</td>\n",
       "      <td>66</td>\n",
       "      <td>1</td>\n",
       "      <td>69.99</td>\n",
       "      <td>23.36</td>\n",
       "      <td>1.0</td>\n",
       "      <td>1200.0</td>\n",
       "      <td>5984.0</td>\n",
       "      <td>...</td>\n",
       "      <td>653.64</td>\n",
       "      <td>2</td>\n",
       "      <td>sao paulo</td>\n",
       "      <td>SP</td>\n",
       "      <td>vilhena</td>\n",
       "      <td>RO</td>\n",
       "      <td>furniture_decor</td>\n",
       "      <td>-18</td>\n",
       "      <td>93.35</td>\n",
       "      <td>69.99</td>\n",
       "    </tr>\n",
       "    <tr>\n",
       "      <th>1</th>\n",
       "      <td>delivered</td>\n",
       "      <td>44</td>\n",
       "      <td>22</td>\n",
       "      <td>66</td>\n",
       "      <td>1</td>\n",
       "      <td>69.99</td>\n",
       "      <td>23.36</td>\n",
       "      <td>1.0</td>\n",
       "      <td>1200.0</td>\n",
       "      <td>5984.0</td>\n",
       "      <td>...</td>\n",
       "      <td>653.64</td>\n",
       "      <td>2</td>\n",
       "      <td>sao paulo</td>\n",
       "      <td>SP</td>\n",
       "      <td>vilhena</td>\n",
       "      <td>RO</td>\n",
       "      <td>furniture_decor</td>\n",
       "      <td>-18</td>\n",
       "      <td>93.35</td>\n",
       "      <td>69.99</td>\n",
       "    </tr>\n",
       "    <tr>\n",
       "      <th>2</th>\n",
       "      <td>delivered</td>\n",
       "      <td>44</td>\n",
       "      <td>22</td>\n",
       "      <td>66</td>\n",
       "      <td>1</td>\n",
       "      <td>280.00</td>\n",
       "      <td>84.96</td>\n",
       "      <td>1.0</td>\n",
       "      <td>4000.0</td>\n",
       "      <td>43680.0</td>\n",
       "      <td>...</td>\n",
       "      <td>653.64</td>\n",
       "      <td>2</td>\n",
       "      <td>sao paulo</td>\n",
       "      <td>SP</td>\n",
       "      <td>vilhena</td>\n",
       "      <td>RO</td>\n",
       "      <td>furniture_decor</td>\n",
       "      <td>-3</td>\n",
       "      <td>364.96</td>\n",
       "      <td>280.00</td>\n",
       "    </tr>\n",
       "    <tr>\n",
       "      <th>3</th>\n",
       "      <td>delivered</td>\n",
       "      <td>-1</td>\n",
       "      <td>19</td>\n",
       "      <td>18</td>\n",
       "      <td>1</td>\n",
       "      <td>112.00</td>\n",
       "      <td>11.44</td>\n",
       "      <td>3.0</td>\n",
       "      <td>1400.0</td>\n",
       "      <td>14036.0</td>\n",
       "      <td>...</td>\n",
       "      <td>123.44</td>\n",
       "      <td>2</td>\n",
       "      <td>sao paulo</td>\n",
       "      <td>SP</td>\n",
       "      <td>sao paulo</td>\n",
       "      <td>SP</td>\n",
       "      <td>furniture_decor</td>\n",
       "      <td>-15</td>\n",
       "      <td>123.44</td>\n",
       "      <td>112.00</td>\n",
       "    </tr>\n",
       "    <tr>\n",
       "      <th>4</th>\n",
       "      <td>delivered</td>\n",
       "      <td>10</td>\n",
       "      <td>10</td>\n",
       "      <td>20</td>\n",
       "      <td>1</td>\n",
       "      <td>284.90</td>\n",
       "      <td>44.22</td>\n",
       "      <td>4.0</td>\n",
       "      <td>20300.0</td>\n",
       "      <td>113652.0</td>\n",
       "      <td>...</td>\n",
       "      <td>329.12</td>\n",
       "      <td>4</td>\n",
       "      <td>sao paulo</td>\n",
       "      <td>SP</td>\n",
       "      <td>taubate</td>\n",
       "      <td>SP</td>\n",
       "      <td>furniture_decor</td>\n",
       "      <td>-5</td>\n",
       "      <td>329.12</td>\n",
       "      <td>284.90</td>\n",
       "    </tr>\n",
       "  </tbody>\n",
       "</table>\n",
       "<p>5 rows × 23 columns</p>\n",
       "</div>"
      ],
      "text/plain": [
       "  order_status  est_act_shipp  shipping_duration  shipping_est_duration  \\\n",
       "0    delivered             44                 22                     66   \n",
       "1    delivered             44                 22                     66   \n",
       "2    delivered             44                 22                     66   \n",
       "3    delivered             -1                 19                     18   \n",
       "4    delivered             10                 10                     20   \n",
       "\n",
       "   quantity   price  freight_value  product_photos_qty  product_weight_g  \\\n",
       "0         1   69.99          23.36                 1.0            1200.0   \n",
       "1         1   69.99          23.36                 1.0            1200.0   \n",
       "2         1  280.00          84.96                 1.0            4000.0   \n",
       "3         1  112.00          11.44                 3.0            1400.0   \n",
       "4         1  284.90          44.22                 4.0           20300.0   \n",
       "\n",
       "   product_volume_ltr  ...  payment_value review_score  seller_city  \\\n",
       "0              5984.0  ...         653.64            2    sao paulo   \n",
       "1              5984.0  ...         653.64            2    sao paulo   \n",
       "2             43680.0  ...         653.64            2    sao paulo   \n",
       "3             14036.0  ...         123.44            2    sao paulo   \n",
       "4            113652.0  ...         329.12            4    sao paulo   \n",
       "\n",
       "   seller_state  customer_city customer_state product_category_name  \\\n",
       "0            SP        vilhena             RO       furniture_decor   \n",
       "1            SP        vilhena             RO       furniture_decor   \n",
       "2            SP        vilhena             RO       furniture_decor   \n",
       "3            SP      sao paulo             SP       furniture_decor   \n",
       "4            SP        taubate             SP       furniture_decor   \n",
       "\n",
       "  limit_delivery_diff Total_cost total_revenue  \n",
       "0                 -18      93.35         69.99  \n",
       "1                 -18      93.35         69.99  \n",
       "2                  -3     364.96        280.00  \n",
       "3                 -15     123.44        112.00  \n",
       "4                  -5     329.12        284.90  \n",
       "\n",
       "[5 rows x 23 columns]"
      ]
     },
     "execution_count": 449,
     "metadata": {},
     "output_type": "execute_result"
    }
   ],
   "source": [
    "data = pd.read_csv(r'C:\\Users\\imane\\OneDrive\\Desktop\\Clients_Clustering\\treated_ML.csv', sep =\",\")\n",
    "data.head()"
   ]
  },
  {
   "cell_type": "code",
   "execution_count": 450,
   "id": "8b0f7485",
   "metadata": {},
   "outputs": [
    {
     "name": "stdout",
     "output_type": "stream",
     "text": [
      "<class 'pandas.core.frame.DataFrame'>\n",
      "RangeIndex: 98109 entries, 0 to 98108\n",
      "Data columns (total 23 columns):\n",
      " #   Column                 Non-Null Count  Dtype  \n",
      "---  ------                 --------------  -----  \n",
      " 0   order_status           98109 non-null  object \n",
      " 1   est_act_shipp          98109 non-null  int64  \n",
      " 2   shipping_duration      98109 non-null  int64  \n",
      " 3   shipping_est_duration  98109 non-null  int64  \n",
      " 4   quantity               98109 non-null  int64  \n",
      " 5   price                  98109 non-null  float64\n",
      " 6   freight_value          98109 non-null  float64\n",
      " 7   product_photos_qty     98109 non-null  float64\n",
      " 8   product_weight_g       98109 non-null  float64\n",
      " 9   product_volume_ltr     98109 non-null  float64\n",
      " 10  payment_sequential     98109 non-null  int64  \n",
      " 11  payment_type           98109 non-null  object \n",
      " 12  payment_installments   98109 non-null  int64  \n",
      " 13  payment_value          98109 non-null  float64\n",
      " 14  review_score           98109 non-null  int64  \n",
      " 15  seller_city            98109 non-null  object \n",
      " 16  seller_state           98109 non-null  object \n",
      " 17  customer_city          98109 non-null  object \n",
      " 18  customer_state         98109 non-null  object \n",
      " 19  product_category_name  98109 non-null  object \n",
      " 20  limit_delivery_diff    98109 non-null  int64  \n",
      " 21  Total_cost             98109 non-null  float64\n",
      " 22  total_revenue          98109 non-null  float64\n",
      "dtypes: float64(8), int64(8), object(7)\n",
      "memory usage: 17.2+ MB\n"
     ]
    }
   ],
   "source": [
    "data.info()"
   ]
  },
  {
   "cell_type": "code",
   "execution_count": 451,
   "id": "9bbb72ac",
   "metadata": {},
   "outputs": [
    {
     "data": {
      "image/png": "[encoded data removed]",
      "text/plain": [
       "<Figure size 1080x576 with 1 Axes>"
      ]
     },
     "metadata": {},
     "output_type": "display_data"
    }
   ],
   "source": [
    "boxplots = data.boxplot(column=['est_act_shipp', 'shipping_duration', 'shipping_est_duration',\n",
    "                               \"quantity\",\"price\",\"freight_value\"])"
   ]
  },
  {
   "cell_type": "code",
   "execution_count": 452,
   "id": "3c459bc1",
   "metadata": {},
   "outputs": [
    {
     "data": {
      "image/png": "[encoded data removed]",
      "text/plain": [
       "<Figure size 1080x576 with 1 Axes>"
      ]
     },
     "metadata": {},
     "output_type": "display_data"
    }
   ],
   "source": [
    "boxplots = data.boxplot(column=['product_photos_qty', 'product_weight_g', 'product_volume_ltr',\n",
    "                               \"payment_sequential\",\"payment_installments\",\"payment_value\"])"
   ]
  },
  {
   "cell_type": "code",
   "execution_count": 453,
   "id": "309addb7",
   "metadata": {},
   "outputs": [
    {
     "data": {
      "image/png": "[encoded data removed]",
      "text/plain": [
       "<Figure size 1080x576 with 1 Axes>"
      ]
     },
     "metadata": {},
     "output_type": "display_data"
    }
   ],
   "source": [
    "boxplots = data.boxplot(column=['review_score', 'limit_delivery_diff', 'Total_cost',\n",
    "                               \"total_revenue\"])"
   ]
  },
  {
   "cell_type": "markdown",
   "id": "3bb86419",
   "metadata": {},
   "source": [
    "Up to now, I've imported the dataset which contains numerical and categorical features, I ploted the box plots to take a look at outliers (because some of the clustering algorithms that I'm going to use are sensitive to outliers). We see that the features with the farthest outliers are total revenue, product volume and price. "
   ]
  },
  {
   "cell_type": "code",
   "execution_count": 454,
   "id": "3800665f",
   "metadata": {},
   "outputs": [
    {
     "data": {
      "text/html": [
       "<div>\n",
       "<style scoped>\n",
       "    .dataframe tbody tr th:only-of-type {\n",
       "        vertical-align: middle;\n",
       "    }\n",
       "\n",
       "    .dataframe tbody tr th {\n",
       "        vertical-align: top;\n",
       "    }\n",
       "\n",
       "    .dataframe thead th {\n",
       "        text-align: right;\n",
       "    }\n",
       "</style>\n",
       "<table border=\"1\" class=\"dataframe\">\n",
       "  <thead>\n",
       "    <tr style=\"text-align: right;\">\n",
       "      <th></th>\n",
       "      <th>total_revenue</th>\n",
       "      <th>product_volume_ltr</th>\n",
       "      <th>price</th>\n",
       "      <th>product_category_name</th>\n",
       "    </tr>\n",
       "  </thead>\n",
       "  <tbody>\n",
       "    <tr>\n",
       "      <th>15935</th>\n",
       "      <td>13440.0</td>\n",
       "      <td>32768.0</td>\n",
       "      <td>1680.0</td>\n",
       "      <td>fixed_telephony</td>\n",
       "    </tr>\n",
       "    <tr>\n",
       "      <th>15937</th>\n",
       "      <td>7160.0</td>\n",
       "      <td>25600.0</td>\n",
       "      <td>1790.0</td>\n",
       "      <td>fixed_telephony</td>\n",
       "    </tr>\n",
       "    <tr>\n",
       "      <th>3377</th>\n",
       "      <td>6735.0</td>\n",
       "      <td>120780.0</td>\n",
       "      <td>6735.0</td>\n",
       "      <td>housewares</td>\n",
       "    </tr>\n",
       "    <tr>\n",
       "      <th>96476</th>\n",
       "      <td>6499.0</td>\n",
       "      <td>29375.0</td>\n",
       "      <td>6499.0</td>\n",
       "      <td>art</td>\n",
       "    </tr>\n",
       "    <tr>\n",
       "      <th>97753</th>\n",
       "      <td>5934.6</td>\n",
       "      <td>50688.0</td>\n",
       "      <td>989.1</td>\n",
       "      <td>agro_industry_and_commerce</td>\n",
       "    </tr>\n",
       "  </tbody>\n",
       "</table>\n",
       "</div>"
      ],
      "text/plain": [
       "       total_revenue  product_volume_ltr   price       product_category_name\n",
       "15935        13440.0             32768.0  1680.0             fixed_telephony\n",
       "15937         7160.0             25600.0  1790.0             fixed_telephony\n",
       "3377          6735.0            120780.0  6735.0                  housewares\n",
       "96476         6499.0             29375.0  6499.0                         art\n",
       "97753         5934.6             50688.0   989.1  agro_industry_and_commerce"
      ]
     },
     "execution_count": 454,
     "metadata": {},
     "output_type": "execute_result"
    }
   ],
   "source": [
    "r = data[\"total_revenue\"]\n",
    "v = data[\"product_volume_ltr\"]\n",
    "p = data[\"price\"]\n",
    "n = data[\"product_category_name\"]\n",
    "d = pd.DataFrame()\n",
    "d[\"total_revenue\"] = r\n",
    "d[\"product_volume_ltr\"] = v\n",
    "d[\"price\"] = p\n",
    "d[\"product_category_name\"] = n\n",
    "rev = d.sort_values(by=\"total_revenue\", ascending=False)\n",
    "rev.head()"
   ]
  },
  {
   "cell_type": "code",
   "execution_count": 455,
   "id": "e721cf71",
   "metadata": {},
   "outputs": [
    {
     "data": {
      "text/html": [
       "<div>\n",
       "<style scoped>\n",
       "    .dataframe tbody tr th:only-of-type {\n",
       "        vertical-align: middle;\n",
       "    }\n",
       "\n",
       "    .dataframe tbody tr th {\n",
       "        vertical-align: top;\n",
       "    }\n",
       "\n",
       "    .dataframe thead th {\n",
       "        text-align: right;\n",
       "    }\n",
       "</style>\n",
       "<table border=\"1\" class=\"dataframe\">\n",
       "  <thead>\n",
       "    <tr style=\"text-align: right;\">\n",
       "      <th></th>\n",
       "      <th>total_revenue</th>\n",
       "      <th>product_volume_ltr</th>\n",
       "      <th>price</th>\n",
       "      <th>product_category_name</th>\n",
       "    </tr>\n",
       "  </thead>\n",
       "  <tbody>\n",
       "    <tr>\n",
       "      <th>42498</th>\n",
       "      <td>1319.40</td>\n",
       "      <td>864000.0</td>\n",
       "      <td>219.90</td>\n",
       "      <td>computers_accessories</td>\n",
       "    </tr>\n",
       "    <tr>\n",
       "      <th>66587</th>\n",
       "      <td>1050.00</td>\n",
       "      <td>816480.0</td>\n",
       "      <td>175.00</td>\n",
       "      <td>signaling_and_security</td>\n",
       "    </tr>\n",
       "    <tr>\n",
       "      <th>67139</th>\n",
       "      <td>1559.92</td>\n",
       "      <td>793600.0</td>\n",
       "      <td>194.99</td>\n",
       "      <td>office_furniture</td>\n",
       "    </tr>\n",
       "    <tr>\n",
       "      <th>67429</th>\n",
       "      <td>1079.94</td>\n",
       "      <td>725760.0</td>\n",
       "      <td>179.99</td>\n",
       "      <td>office_furniture</td>\n",
       "    </tr>\n",
       "    <tr>\n",
       "      <th>53449</th>\n",
       "      <td>347.97</td>\n",
       "      <td>680943.0</td>\n",
       "      <td>115.99</td>\n",
       "      <td>cool_stuff</td>\n",
       "    </tr>\n",
       "  </tbody>\n",
       "</table>\n",
       "</div>"
      ],
      "text/plain": [
       "       total_revenue  product_volume_ltr   price   product_category_name\n",
       "42498        1319.40            864000.0  219.90   computers_accessories\n",
       "66587        1050.00            816480.0  175.00  signaling_and_security\n",
       "67139        1559.92            793600.0  194.99        office_furniture\n",
       "67429        1079.94            725760.0  179.99        office_furniture\n",
       "53449         347.97            680943.0  115.99              cool_stuff"
      ]
     },
     "execution_count": 455,
     "metadata": {},
     "output_type": "execute_result"
    }
   ],
   "source": [
    "vol = d.sort_values(by=\"product_volume_ltr\", ascending=False)\n",
    "vol.head()"
   ]
  },
  {
   "cell_type": "code",
   "execution_count": 456,
   "id": "60b8ed37",
   "metadata": {},
   "outputs": [
    {
     "data": {
      "text/html": [
       "<div>\n",
       "<style scoped>\n",
       "    .dataframe tbody tr th:only-of-type {\n",
       "        vertical-align: middle;\n",
       "    }\n",
       "\n",
       "    .dataframe tbody tr th {\n",
       "        vertical-align: top;\n",
       "    }\n",
       "\n",
       "    .dataframe thead th {\n",
       "        text-align: right;\n",
       "    }\n",
       "</style>\n",
       "<table border=\"1\" class=\"dataframe\">\n",
       "  <thead>\n",
       "    <tr style=\"text-align: right;\">\n",
       "      <th></th>\n",
       "      <th>total_revenue</th>\n",
       "      <th>product_volume_ltr</th>\n",
       "      <th>price</th>\n",
       "      <th>product_category_name</th>\n",
       "    </tr>\n",
       "  </thead>\n",
       "  <tbody>\n",
       "    <tr>\n",
       "      <th>3377</th>\n",
       "      <td>6735.0</td>\n",
       "      <td>120780.0</td>\n",
       "      <td>6735.0</td>\n",
       "      <td>housewares</td>\n",
       "    </tr>\n",
       "    <tr>\n",
       "      <th>96476</th>\n",
       "      <td>6499.0</td>\n",
       "      <td>29375.0</td>\n",
       "      <td>6499.0</td>\n",
       "      <td>art</td>\n",
       "    </tr>\n",
       "    <tr>\n",
       "      <th>50911</th>\n",
       "      <td>4799.0</td>\n",
       "      <td>88000.0</td>\n",
       "      <td>4799.0</td>\n",
       "      <td>small_appliances</td>\n",
       "    </tr>\n",
       "    <tr>\n",
       "      <th>50912</th>\n",
       "      <td>4690.0</td>\n",
       "      <td>122500.0</td>\n",
       "      <td>4690.0</td>\n",
       "      <td>small_appliances</td>\n",
       "    </tr>\n",
       "    <tr>\n",
       "      <th>96898</th>\n",
       "      <td>4590.0</td>\n",
       "      <td>14000.0</td>\n",
       "      <td>4590.0</td>\n",
       "      <td>computers</td>\n",
       "    </tr>\n",
       "  </tbody>\n",
       "</table>\n",
       "</div>"
      ],
      "text/plain": [
       "       total_revenue  product_volume_ltr   price product_category_name\n",
       "3377          6735.0            120780.0  6735.0            housewares\n",
       "96476         6499.0             29375.0  6499.0                   art\n",
       "50911         4799.0             88000.0  4799.0      small_appliances\n",
       "50912         4690.0            122500.0  4690.0      small_appliances\n",
       "96898         4590.0             14000.0  4590.0             computers"
      ]
     },
     "execution_count": 456,
     "metadata": {},
     "output_type": "execute_result"
    }
   ],
   "source": [
    "pri = d.sort_values(by=\"price\", ascending =False)\n",
    "pri.head()"
   ]
  },
  {
   "cell_type": "markdown",
   "id": "3a053f59",
   "metadata": {},
   "source": [
    "In the above part, I tried to dig a little deeper and see which products represent the outlying values. We see that the highest price was for a housewares product, the highest volume was for computer accessories products and the highest revenue of sale was for fixed telephony. All of these seem pretty logical and it's clear and they weren't recorded high by mistake.\n",
    "So I won't replace them for now."
   ]
  },
  {
   "cell_type": "code",
   "execution_count": 457,
   "id": "9c005c80",
   "metadata": {},
   "outputs": [
    {
     "data": {
      "text/plain": [
       "order_status                7\n",
       "payment_type                4\n",
       "seller_city                 2\n",
       "seller_state                1\n",
       "customer_city            4107\n",
       "customer_state             27\n",
       "product_category_name      71\n",
       "dtype: int64"
      ]
     },
     "execution_count": 457,
     "metadata": {},
     "output_type": "execute_result"
    }
   ],
   "source": [
    "data.select_dtypes(\"object\").apply(pd.Series.nunique, axis = 0)"
   ]
  },
  {
   "cell_type": "code",
   "execution_count": 458,
   "id": "a5bf1c0a",
   "metadata": {},
   "outputs": [],
   "source": [
    "data = data.drop([\"seller_state\",\"seller_city\",\"customer_city\"], axis = 1)"
   ]
  },
  {
   "cell_type": "markdown",
   "id": "b6407bf0",
   "metadata": {},
   "source": [
    "Here I took a look at the number of categories each categorical feature has. Seller state has only one so I deleted it because it's no longer of any use. Seller city has 2 but they are both sao paulo (the accent is missing in some instances), so I deleted it too. Customer city on the other hand has a lot of categories. I also deleted customer city because it contains more than 4 thousand categories, and it'll take too long and charging to count all the zeros during one hot incoding."
   ]
  },
  {
   "cell_type": "markdown",
   "id": "d8c3708f",
   "metadata": {},
   "source": [
    "## Splitting the train and test sets"
   ]
  },
  {
   "cell_type": "code",
   "execution_count": 459,
   "id": "d5ca6122",
   "metadata": {},
   "outputs": [],
   "source": [
    "train, test = train_test_split(data, test_size = 0.2,random_state = 42)"
   ]
  },
  {
   "cell_type": "markdown",
   "id": "8298959f",
   "metadata": {},
   "source": [
    "## Preparing data for ML "
   ]
  },
  {
   "cell_type": "code",
   "execution_count": 460,
   "id": "1c3af0d8",
   "metadata": {},
   "outputs": [],
   "source": [
    "# Seprating categircal features from numerical features\n",
    "cat_train = train[[\"order_status\",\"payment_type\",\"customer_state\",\"product_category_name\"]].copy()\n",
    "cat_test = test[[\"order_status\",\"payment_type\",\"customer_state\",\"product_category_name\"]].copy()"
   ]
  },
  {
   "cell_type": "code",
   "execution_count": 461,
   "id": "cb070435",
   "metadata": {},
   "outputs": [],
   "source": [
    "num_train = train.drop([\"order_status\",\"payment_type\",\"customer_state\",\"product_category_name\"],axis=1)\n",
    "num_test = test.drop([\"order_status\",\"payment_type\",\"customer_state\",\"product_category_name\"],axis=1)"
   ]
  },
  {
   "cell_type": "code",
   "execution_count": 462,
   "id": "b6900150",
   "metadata": {},
   "outputs": [],
   "source": [
    "enc = OneHotEncoder()\n",
    "sts = StandardScaler()\n",
    "num_attr = list(num_train)\n",
    "cat_attr = list(cat_train)\n",
    "transform = ColumnTransformer([(\"num\",sts,num_attr),(\"cat\",enc,cat_attr)])\n",
    "train_pre = transform.fit_transform(train)"
   ]
  },
  {
   "cell_type": "code",
   "execution_count": 463,
   "id": "2cd8cc00",
   "metadata": {},
   "outputs": [],
   "source": [
    "num_attr = list(num_test)\n",
    "cat_attr = list(cat_test)\n",
    "transform = ColumnTransformer([(\"num\",sts,num_attr),(\"cat\",enc,cat_attr)])\n",
    "test_pre = transform.fit_transform(test)"
   ]
  },
  {
   "cell_type": "code",
   "execution_count": 464,
   "id": "c128f90d",
   "metadata": {},
   "outputs": [],
   "source": [
    "X = train_pre\n",
    "Y = test_pre"
   ]
  },
  {
   "cell_type": "markdown",
   "id": "45286ed7",
   "metadata": {},
   "source": [
    "After splitting the dataset into train and test (80% train), I seperated the categorical features from the numerical ones to be able to build a transformation pipeline using Column Transformer, I used the standard scaler for num categories and onehot encoding for categorical features."
   ]
  },
  {
   "cell_type": "markdown",
   "id": "21088789",
   "metadata": {},
   "source": [
    "## Kmeans (Centroid-based clustering)"
   ]
  },
  {
   "cell_type": "markdown",
   "id": "aa2a8098",
   "metadata": {},
   "source": [
    "### Silhouette Plot"
   ]
  },
  {
   "cell_type": "code",
   "execution_count": 465,
   "id": "58a5ab22",
   "metadata": {},
   "outputs": [
    {
     "data": {
      "image/png": "[encoded data removed]",
      "text/plain": [
       "<Figure size 1080x576 with 4 Axes>"
      ]
     },
     "metadata": {},
     "output_type": "display_data"
    }
   ],
   "source": [
    "fig, ax = plt.subplots(2, 2, figsize=(15,8))\n",
    "for i in [2, 3, 4, 5]:\n",
    "    km = KMeans(n_clusters=i, init='k-means++', n_init=10, max_iter=100, random_state=42)\n",
    "    q, mod = divmod(i, 2)\n",
    "    visualizer = SilhouetteVisualizer(km, colors='yellowbrick', ax=ax[q-1][mod])\n",
    "    visualizer.fit(X)"
   ]
  },
  {
   "cell_type": "markdown",
   "id": "220f9410",
   "metadata": {},
   "source": [
    "The silhouette plot above helps us to evaluate the best number of clusters for this dataset. Examples 1 and 2 (2 and 3 clusters) shows clusters with below average silhouette score, and their clusters vary in size very much. Figure 3 (4 clusters) shows the blue cluster with a silhouette score below average, so it is ruled out too. Plot number 4 (5 clusters) seems somewhat adequate for our case, since all of its cluters have an above average score and the clusters don't vary in size that much (except the gray one which is very small). Notice the silhouette scores in example 4 for some clusters shows a negative value, that means that some instances might be clustered with the wrong group. \n",
    "\n",
    "I tried the silhouette plot with more than 5 clusters but didn't get any better results."
   ]
  },
  {
   "cell_type": "markdown",
   "id": "c0ccdcfa",
   "metadata": {},
   "source": [
    "### Elbow plot"
   ]
  },
  {
   "cell_type": "code",
   "execution_count": 466,
   "id": "6e945959",
   "metadata": {},
   "outputs": [],
   "source": [
    "distortions = []\n",
    "K = range(2,10)\n",
    "for k in K:\n",
    "    kmeanModel = KMeans(n_clusters=k, init='k-means++', n_init=10, max_iter=100, random_state=42)\n",
    "    kmeanModel.fit(X)\n",
    "    distortions.append(kmeanModel.inertia_)"
   ]
  },
  {
   "cell_type": "code",
   "execution_count": 467,
   "id": "31faefec",
   "metadata": {},
   "outputs": [
    {
     "data": {
      "image/png": "[encoded data removed]",
      "text/plain": [
       "<Figure size 1152x576 with 1 Axes>"
      ]
     },
     "metadata": {},
     "output_type": "display_data"
    }
   ],
   "source": [
    "plt.figure(figsize=(16,8))\n",
    "plt.plot(K, distortions, 'bx-')\n",
    "plt.xlabel('k')\n",
    "plt.ylabel('Distortion')\n",
    "plt.title('The Elbow Method showing the optimal k')\n",
    "plt.show()"
   ]
  },
  {
   "cell_type": "markdown",
   "id": "45d423a4",
   "metadata": {},
   "source": [
    "The elbow plot above shows us the WCSS (Within Cluster Sum of Square) for different cluster numbers. We notice that the elbow point (where the wcss starts to diminish) isn't very clear, but 4 seems to be the one."
   ]
  },
  {
   "cell_type": "markdown",
   "id": "94dda2bc",
   "metadata": {},
   "source": [
    "From the above I've decided to go with 5 clusters for the Kmeans model, because it is the one that seems to have the most moderate cluster distribution and whose clusters shows an above average silhouette score."
   ]
  },
  {
   "cell_type": "code",
   "execution_count": 468,
   "id": "8280cb01",
   "metadata": {},
   "outputs": [
    {
     "data": {
      "text/plain": [
       "KMeans(n_clusters=5, random_state=42)"
      ]
     },
     "execution_count": 468,
     "metadata": {},
     "output_type": "execute_result"
    }
   ],
   "source": [
    "kmeans = KMeans(init='k-means++',n_clusters=5,n_init=10,max_iter=300,random_state=42)\n",
    "kmeans.fit(X)"
   ]
  },
  {
   "cell_type": "code",
   "execution_count": 473,
   "id": "ab224b38",
   "metadata": {},
   "outputs": [
    {
     "data": {
      "text/plain": [
       "array([4, 4, 4, 4, 4])"
      ]
     },
     "execution_count": 473,
     "metadata": {},
     "output_type": "execute_result"
    }
   ],
   "source": [
    "labels = kmeans.labels_[:5]\n",
    "labels"
   ]
  },
  {
   "cell_type": "code",
   "execution_count": 474,
   "id": "20fc92db",
   "metadata": {},
   "outputs": [],
   "source": [
    "km_pred= kmeans.fit_predict(Y)  "
   ]
  },
  {
   "cell_type": "code",
   "execution_count": null,
   "id": "ac8e24d7",
   "metadata": {},
   "outputs": [],
   "source": []
  }
 ],
 "metadata": {
  "kernelspec": {
   "display_name": "Python 3 (ipykernel)",
   "language": "python",
   "name": "python3"
  },
  "language_info": {
   "codemirror_mode": {
    "name": "ipython",
    "version": 3
   },
   "file_extension": ".py",
   "mimetype": "text/x-python",
   "name": "python",
   "nbconvert_exporter": "python",
   "pygments_lexer": "ipython3",
   "version": "3.9.6"
  }
 },
 "nbformat": 4,
 "nbformat_minor": 5
}
