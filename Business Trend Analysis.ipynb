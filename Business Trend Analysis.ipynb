{
 "cells": [
  {
   "cell_type": "markdown",
   "id": "676682da",
   "metadata": {},
   "source": [
    "# Customer Segmentation Part 1 : Business Trend analysis"
   ]
  },
  {
   "cell_type": "markdown",
   "id": "f6686a3c",
   "metadata": {},
   "source": [
    "## Topic"
   ]
  },
  {
   "cell_type": "markdown",
   "id": "77398142",
   "metadata": {},
   "source": [
    "## Objective"
   ]
  },
  {
   "cell_type": "markdown",
   "id": "f40469c0",
   "metadata": {},
   "source": [
    "## Summary"
   ]
  },
  {
   "cell_type": "markdown",
   "id": "9759ccbe",
   "metadata": {},
   "source": [
    "## Importing libraries"
   ]
  },
  {
   "cell_type": "code",
   "execution_count": 178,
   "id": "83ef1f01",
   "metadata": {},
   "outputs": [],
   "source": [
    "import pandas as pd\n",
    "import numpy as np\n",
    "import seaborn as sns\n",
    "import matplotlib.pyplot as plt\n",
    "import plotly\n",
    "import plotly.graph_objs as go\n",
    "from datetime import datetime as dt\n",
    "from sklearn.linear_model import LinearRegression\n",
    "from sklearn.model_selection import train_test_split\n",
    "from sklearn.metrics import r2_score, mean_squared_error, classification_report\n",
    "import sidetable\n",
    "sns.set(rc = {'figure.figsize':(15,8)})"
   ]
  },
  {
   "cell_type": "markdown",
   "id": "e2604229",
   "metadata": {},
   "source": [
    "Data sets needed : \n",
    "- Orders data set\n",
    "- Orders items data set\n",
    "- Products data set"
   ]
  },
  {
   "cell_type": "markdown",
   "id": "915543e2",
   "metadata": {},
   "source": [
    "## Importing data + Preliminary pre-processing"
   ]
  },
  {
   "cell_type": "markdown",
   "id": "e878a349",
   "metadata": {},
   "source": [
    "### Orders dataset"
   ]
  },
  {
   "cell_type": "code",
   "execution_count": 179,
   "id": "e3a86316",
   "metadata": {},
   "outputs": [
    {
     "data": {
      "text/html": [
       "<div>\n",
       "<style scoped>\n",
       "    .dataframe tbody tr th:only-of-type {\n",
       "        vertical-align: middle;\n",
       "    }\n",
       "\n",
       "    .dataframe tbody tr th {\n",
       "        vertical-align: top;\n",
       "    }\n",
       "\n",
       "    .dataframe thead th {\n",
       "        text-align: right;\n",
       "    }\n",
       "</style>\n",
       "<table border=\"1\" class=\"dataframe\">\n",
       "  <thead>\n",
       "    <tr style=\"text-align: right;\">\n",
       "      <th></th>\n",
       "      <th>order_id</th>\n",
       "      <th>customer_id</th>\n",
       "      <th>order_status</th>\n",
       "      <th>order_purchase_timestamp</th>\n",
       "      <th>order_approved_at</th>\n",
       "      <th>order_delivered_carrier_date</th>\n",
       "      <th>order_delivered_customer_date</th>\n",
       "      <th>order_estimated_delivery_date</th>\n",
       "    </tr>\n",
       "  </thead>\n",
       "  <tbody>\n",
       "    <tr>\n",
       "      <th>0</th>\n",
       "      <td>e481f51cbdc54678b7cc49136f2d6af7</td>\n",
       "      <td>9ef432eb6251297304e76186b10a928d</td>\n",
       "      <td>delivered</td>\n",
       "      <td>2017-10-02 10:56:33</td>\n",
       "      <td>2017-10-02 11:07:15</td>\n",
       "      <td>2017-10-04 19:55:00</td>\n",
       "      <td>2017-10-10 21:25:13</td>\n",
       "      <td>2017-10-18 00:00:00</td>\n",
       "    </tr>\n",
       "    <tr>\n",
       "      <th>1</th>\n",
       "      <td>53cdb2fc8bc7dce0b6741e2150273451</td>\n",
       "      <td>b0830fb4747a6c6d20dea0b8c802d7ef</td>\n",
       "      <td>delivered</td>\n",
       "      <td>2018-07-24 20:41:37</td>\n",
       "      <td>2018-07-26 03:24:27</td>\n",
       "      <td>2018-07-26 14:31:00</td>\n",
       "      <td>2018-08-07 15:27:45</td>\n",
       "      <td>2018-08-13 00:00:00</td>\n",
       "    </tr>\n",
       "    <tr>\n",
       "      <th>2</th>\n",
       "      <td>47770eb9100c2d0c44946d9cf07ec65d</td>\n",
       "      <td>41ce2a54c0b03bf3443c3d931a367089</td>\n",
       "      <td>delivered</td>\n",
       "      <td>2018-08-08 08:38:49</td>\n",
       "      <td>2018-08-08 08:55:23</td>\n",
       "      <td>2018-08-08 13:50:00</td>\n",
       "      <td>2018-08-17 18:06:29</td>\n",
       "      <td>2018-09-04 00:00:00</td>\n",
       "    </tr>\n",
       "    <tr>\n",
       "      <th>3</th>\n",
       "      <td>949d5b44dbf5de918fe9c16f97b45f8a</td>\n",
       "      <td>f88197465ea7920adcdbec7375364d82</td>\n",
       "      <td>delivered</td>\n",
       "      <td>2017-11-18 19:28:06</td>\n",
       "      <td>2017-11-18 19:45:59</td>\n",
       "      <td>2017-11-22 13:39:59</td>\n",
       "      <td>2017-12-02 00:28:42</td>\n",
       "      <td>2017-12-15 00:00:00</td>\n",
       "    </tr>\n",
       "    <tr>\n",
       "      <th>4</th>\n",
       "      <td>ad21c59c0840e6cb83a9ceb5573f8159</td>\n",
       "      <td>8ab97904e6daea8866dbdbc4fb7aad2c</td>\n",
       "      <td>delivered</td>\n",
       "      <td>2018-02-13 21:18:39</td>\n",
       "      <td>2018-02-13 22:20:29</td>\n",
       "      <td>2018-02-14 19:46:34</td>\n",
       "      <td>2018-02-16 18:17:02</td>\n",
       "      <td>2018-02-26 00:00:00</td>\n",
       "    </tr>\n",
       "  </tbody>\n",
       "</table>\n",
       "</div>"
      ],
      "text/plain": [
       "                           order_id                       customer_id  \\\n",
       "0  e481f51cbdc54678b7cc49136f2d6af7  9ef432eb6251297304e76186b10a928d   \n",
       "1  53cdb2fc8bc7dce0b6741e2150273451  b0830fb4747a6c6d20dea0b8c802d7ef   \n",
       "2  47770eb9100c2d0c44946d9cf07ec65d  41ce2a54c0b03bf3443c3d931a367089   \n",
       "3  949d5b44dbf5de918fe9c16f97b45f8a  f88197465ea7920adcdbec7375364d82   \n",
       "4  ad21c59c0840e6cb83a9ceb5573f8159  8ab97904e6daea8866dbdbc4fb7aad2c   \n",
       "\n",
       "  order_status order_purchase_timestamp    order_approved_at  \\\n",
       "0    delivered      2017-10-02 10:56:33  2017-10-02 11:07:15   \n",
       "1    delivered      2018-07-24 20:41:37  2018-07-26 03:24:27   \n",
       "2    delivered      2018-08-08 08:38:49  2018-08-08 08:55:23   \n",
       "3    delivered      2017-11-18 19:28:06  2017-11-18 19:45:59   \n",
       "4    delivered      2018-02-13 21:18:39  2018-02-13 22:20:29   \n",
       "\n",
       "  order_delivered_carrier_date order_delivered_customer_date  \\\n",
       "0          2017-10-04 19:55:00           2017-10-10 21:25:13   \n",
       "1          2018-07-26 14:31:00           2018-08-07 15:27:45   \n",
       "2          2018-08-08 13:50:00           2018-08-17 18:06:29   \n",
       "3          2017-11-22 13:39:59           2017-12-02 00:28:42   \n",
       "4          2018-02-14 19:46:34           2018-02-16 18:17:02   \n",
       "\n",
       "  order_estimated_delivery_date  \n",
       "0           2017-10-18 00:00:00  \n",
       "1           2018-08-13 00:00:00  \n",
       "2           2018-09-04 00:00:00  \n",
       "3           2017-12-15 00:00:00  \n",
       "4           2018-02-26 00:00:00  "
      ]
     },
     "execution_count": 179,
     "metadata": {},
     "output_type": "execute_result"
    }
   ],
   "source": [
    "orders_df = pd.read_csv(r'C:\\Users\\imane\\OneDrive\\Desktop\\Clients_Clustering\\olist_orders_dataset.csv', sep =\",\")\n",
    "orders_df.head()"
   ]
  },
  {
   "cell_type": "code",
   "execution_count": 180,
   "id": "0d906de7",
   "metadata": {},
   "outputs": [
    {
     "name": "stdout",
     "output_type": "stream",
     "text": [
      "<class 'pandas.core.frame.DataFrame'>\n",
      "RangeIndex: 99441 entries, 0 to 99440\n",
      "Data columns (total 8 columns):\n",
      " #   Column                         Non-Null Count  Dtype \n",
      "---  ------                         --------------  ----- \n",
      " 0   order_id                       99441 non-null  object\n",
      " 1   customer_id                    99441 non-null  object\n",
      " 2   order_status                   99441 non-null  object\n",
      " 3   order_purchase_timestamp       99441 non-null  object\n",
      " 4   order_approved_at              99281 non-null  object\n",
      " 5   order_delivered_carrier_date   97658 non-null  object\n",
      " 6   order_delivered_customer_date  96476 non-null  object\n",
      " 7   order_estimated_delivery_date  99441 non-null  object\n",
      "dtypes: object(8)\n",
      "memory usage: 6.1+ MB\n"
     ]
    }
   ],
   "source": [
    "orders_df.info()"
   ]
  },
  {
   "cell_type": "code",
   "execution_count": 181,
   "id": "41bea070",
   "metadata": {},
   "outputs": [
    {
     "data": {
      "text/plain": [
       "<AxesSubplot:>"
      ]
     },
     "execution_count": 181,
     "metadata": {},
     "output_type": "execute_result"
    },
    {
     "data": {
      "image/png": "[encoded data removed]",
      "text/plain": [
       "<Figure size 1080x576 with 2 Axes>"
      ]
     },
     "metadata": {},
     "output_type": "display_data"
    }
   ],
   "source": [
    "sns.heatmap(orders_df.isnull())"
   ]
  },
  {
   "cell_type": "markdown",
   "id": "c92d54c5",
   "metadata": {},
   "source": [
    "Missing values are not very importan here, the biggest one is about 3% from the time the order was delivred to the customer."
   ]
  },
  {
   "cell_type": "code",
   "execution_count": 182,
   "id": "c23b6a3d",
   "metadata": {},
   "outputs": [
    {
     "data": {
      "text/html": [
       "<div>\n",
       "<style scoped>\n",
       "    .dataframe tbody tr th:only-of-type {\n",
       "        vertical-align: middle;\n",
       "    }\n",
       "\n",
       "    .dataframe tbody tr th {\n",
       "        vertical-align: top;\n",
       "    }\n",
       "\n",
       "    .dataframe thead th {\n",
       "        text-align: right;\n",
       "    }\n",
       "</style>\n",
       "<table border=\"1\" class=\"dataframe\">\n",
       "  <thead>\n",
       "    <tr style=\"text-align: right;\">\n",
       "      <th></th>\n",
       "      <th>count</th>\n",
       "      <th>unique</th>\n",
       "      <th>top</th>\n",
       "      <th>freq</th>\n",
       "    </tr>\n",
       "  </thead>\n",
       "  <tbody>\n",
       "    <tr>\n",
       "      <th>order_id</th>\n",
       "      <td>99441</td>\n",
       "      <td>99441</td>\n",
       "      <td>e481f51cbdc54678b7cc49136f2d6af7</td>\n",
       "      <td>1</td>\n",
       "    </tr>\n",
       "    <tr>\n",
       "      <th>customer_id</th>\n",
       "      <td>99441</td>\n",
       "      <td>99441</td>\n",
       "      <td>9ef432eb6251297304e76186b10a928d</td>\n",
       "      <td>1</td>\n",
       "    </tr>\n",
       "    <tr>\n",
       "      <th>order_status</th>\n",
       "      <td>99441</td>\n",
       "      <td>8</td>\n",
       "      <td>delivered</td>\n",
       "      <td>96478</td>\n",
       "    </tr>\n",
       "    <tr>\n",
       "      <th>order_purchase_timestamp</th>\n",
       "      <td>99441</td>\n",
       "      <td>98875</td>\n",
       "      <td>2018-04-11 10:48:14</td>\n",
       "      <td>3</td>\n",
       "    </tr>\n",
       "    <tr>\n",
       "      <th>order_approved_at</th>\n",
       "      <td>99281</td>\n",
       "      <td>90733</td>\n",
       "      <td>2018-02-27 04:31:10</td>\n",
       "      <td>9</td>\n",
       "    </tr>\n",
       "    <tr>\n",
       "      <th>order_delivered_carrier_date</th>\n",
       "      <td>97658</td>\n",
       "      <td>81018</td>\n",
       "      <td>2018-05-09 15:48:00</td>\n",
       "      <td>47</td>\n",
       "    </tr>\n",
       "    <tr>\n",
       "      <th>order_delivered_customer_date</th>\n",
       "      <td>96476</td>\n",
       "      <td>95664</td>\n",
       "      <td>2018-05-08 23:38:46</td>\n",
       "      <td>3</td>\n",
       "    </tr>\n",
       "    <tr>\n",
       "      <th>order_estimated_delivery_date</th>\n",
       "      <td>99441</td>\n",
       "      <td>459</td>\n",
       "      <td>2017-12-20 00:00:00</td>\n",
       "      <td>522</td>\n",
       "    </tr>\n",
       "  </tbody>\n",
       "</table>\n",
       "</div>"
      ],
      "text/plain": [
       "                               count unique                               top  \\\n",
       "order_id                       99441  99441  e481f51cbdc54678b7cc49136f2d6af7   \n",
       "customer_id                    99441  99441  9ef432eb6251297304e76186b10a928d   \n",
       "order_status                   99441      8                         delivered   \n",
       "order_purchase_timestamp       99441  98875               2018-04-11 10:48:14   \n",
       "order_approved_at              99281  90733               2018-02-27 04:31:10   \n",
       "order_delivered_carrier_date   97658  81018               2018-05-09 15:48:00   \n",
       "order_delivered_customer_date  96476  95664               2018-05-08 23:38:46   \n",
       "order_estimated_delivery_date  99441    459               2017-12-20 00:00:00   \n",
       "\n",
       "                                freq  \n",
       "order_id                           1  \n",
       "customer_id                        1  \n",
       "order_status                   96478  \n",
       "order_purchase_timestamp           3  \n",
       "order_approved_at                  9  \n",
       "order_delivered_carrier_date      47  \n",
       "order_delivered_customer_date      3  \n",
       "order_estimated_delivery_date    522  "
      ]
     },
     "execution_count": 182,
     "metadata": {},
     "output_type": "execute_result"
    }
   ],
   "source": [
    "orders_df.describe().transpose()"
   ]
  },
  {
   "cell_type": "markdown",
   "id": "a733909c",
   "metadata": {},
   "source": [
    "From the table we see that the order id column has 99 441 entries and 99 441 unique values, which means that none of the order ids are repeated. "
   ]
  },
  {
   "cell_type": "code",
   "execution_count": 183,
   "id": "64e986b2",
   "metadata": {},
   "outputs": [],
   "source": [
    "orders_df = orders_df.ffill(axis = 1)"
   ]
  },
  {
   "cell_type": "markdown",
   "id": "29702aa6",
   "metadata": {},
   "source": [
    "I chose to fill out the empty values using pandas ffil, wchich enables you to substitute a missing value with another one. In this case, I prefered to fill them with the value on their left (i.e the date and time at which the previous step of their order was recorded) as opposed to the time of the same step of the previous order in the row. "
   ]
  },
  {
   "cell_type": "code",
   "execution_count": 184,
   "id": "ab77ff91",
   "metadata": {},
   "outputs": [],
   "source": [
    "def date_time(df, cols):\n",
    "    for col in cols:\n",
    "        df[col] = pd.to_datetime(df[col], format='%Y-%m-%d').dt.date\n",
    "date_time(orders_df,[\"order_purchase_timestamp\",\"order_approved_at\",\"order_delivered_carrier_date\",\n",
    "                            \"order_delivered_customer_date\",\"order_estimated_delivery_date\"])\n",
    "orders_df.sort_values(by = 'order_purchase_timestamp', inplace = True)"
   ]
  },
  {
   "cell_type": "markdown",
   "id": "4001b9bf",
   "metadata": {},
   "source": [
    "In this part, I converted the dates and time columns into datetime format and dropped the time part, because we might combine sales by days later.Then sorted the dataframe because the time line in this case study is important as it reveals about the developement of the business. "
   ]
  },
  {
   "cell_type": "code",
   "execution_count": 185,
   "id": "d93e937e",
   "metadata": {},
   "outputs": [
    {
     "data": {
      "text/html": [
       "<div>\n",
       "<style scoped>\n",
       "    .dataframe tbody tr th:only-of-type {\n",
       "        vertical-align: middle;\n",
       "    }\n",
       "\n",
       "    .dataframe tbody tr th {\n",
       "        vertical-align: top;\n",
       "    }\n",
       "\n",
       "    .dataframe thead th {\n",
       "        text-align: right;\n",
       "    }\n",
       "</style>\n",
       "<table border=\"1\" class=\"dataframe\">\n",
       "  <thead>\n",
       "    <tr style=\"text-align: right;\">\n",
       "      <th></th>\n",
       "      <th>order_id</th>\n",
       "      <th>customer_id</th>\n",
       "      <th>order_status</th>\n",
       "      <th>order_purchase_timestamp</th>\n",
       "      <th>order_approved_at</th>\n",
       "      <th>order_delivered_carrier_date</th>\n",
       "      <th>order_delivered_customer_date</th>\n",
       "      <th>order_estimated_delivery_date</th>\n",
       "    </tr>\n",
       "  </thead>\n",
       "  <tbody>\n",
       "    <tr>\n",
       "      <th>4541</th>\n",
       "      <td>2e7a8482f6fb09756ca50c10d7bfc047</td>\n",
       "      <td>08c5351a6aca1c1589a38f244edeee9d</td>\n",
       "      <td>shipped</td>\n",
       "      <td>2016-09-04</td>\n",
       "      <td>2016-10-07</td>\n",
       "      <td>2016-10-18</td>\n",
       "      <td>2016-10-18</td>\n",
       "      <td>2016-10-20</td>\n",
       "    </tr>\n",
       "    <tr>\n",
       "      <th>4396</th>\n",
       "      <td>e5fa5a7210941f7d56d0208e4e071d35</td>\n",
       "      <td>683c54fc24d40ee9f8a6fc179fd9856c</td>\n",
       "      <td>canceled</td>\n",
       "      <td>2016-09-05</td>\n",
       "      <td>2016-10-07</td>\n",
       "      <td>2016-10-07</td>\n",
       "      <td>2016-10-07</td>\n",
       "      <td>2016-10-28</td>\n",
       "    </tr>\n",
       "    <tr>\n",
       "      <th>10071</th>\n",
       "      <td>809a282bbd5dbcabb6f2f724fca862ec</td>\n",
       "      <td>622e13439d6b5a0b486c435618b2679e</td>\n",
       "      <td>canceled</td>\n",
       "      <td>2016-09-13</td>\n",
       "      <td>2016-10-07</td>\n",
       "      <td>2016-10-07</td>\n",
       "      <td>2016-10-07</td>\n",
       "      <td>2016-09-30</td>\n",
       "    </tr>\n",
       "    <tr>\n",
       "      <th>30710</th>\n",
       "      <td>bfbd0f9bdef84302105ad712db648a6c</td>\n",
       "      <td>86dc2ffce2dfff336de2f386a786e574</td>\n",
       "      <td>delivered</td>\n",
       "      <td>2016-09-15</td>\n",
       "      <td>2016-09-15</td>\n",
       "      <td>2016-11-07</td>\n",
       "      <td>2016-11-09</td>\n",
       "      <td>2016-10-04</td>\n",
       "    </tr>\n",
       "    <tr>\n",
       "      <th>83078</th>\n",
       "      <td>71303d7e93b399f5bcd537d124c0bcfa</td>\n",
       "      <td>b106b360fe2ef8849fbbd056f777b4d5</td>\n",
       "      <td>canceled</td>\n",
       "      <td>2016-10-02</td>\n",
       "      <td>2016-10-06</td>\n",
       "      <td>2016-10-06</td>\n",
       "      <td>2016-10-06</td>\n",
       "      <td>2016-10-25</td>\n",
       "    </tr>\n",
       "  </tbody>\n",
       "</table>\n",
       "</div>"
      ],
      "text/plain": [
       "                               order_id                       customer_id  \\\n",
       "4541   2e7a8482f6fb09756ca50c10d7bfc047  08c5351a6aca1c1589a38f244edeee9d   \n",
       "4396   e5fa5a7210941f7d56d0208e4e071d35  683c54fc24d40ee9f8a6fc179fd9856c   \n",
       "10071  809a282bbd5dbcabb6f2f724fca862ec  622e13439d6b5a0b486c435618b2679e   \n",
       "30710  bfbd0f9bdef84302105ad712db648a6c  86dc2ffce2dfff336de2f386a786e574   \n",
       "83078  71303d7e93b399f5bcd537d124c0bcfa  b106b360fe2ef8849fbbd056f777b4d5   \n",
       "\n",
       "      order_status order_purchase_timestamp order_approved_at  \\\n",
       "4541       shipped               2016-09-04        2016-10-07   \n",
       "4396      canceled               2016-09-05        2016-10-07   \n",
       "10071     canceled               2016-09-13        2016-10-07   \n",
       "30710    delivered               2016-09-15        2016-09-15   \n",
       "83078     canceled               2016-10-02        2016-10-06   \n",
       "\n",
       "      order_delivered_carrier_date order_delivered_customer_date  \\\n",
       "4541                    2016-10-18                    2016-10-18   \n",
       "4396                    2016-10-07                    2016-10-07   \n",
       "10071                   2016-10-07                    2016-10-07   \n",
       "30710                   2016-11-07                    2016-11-09   \n",
       "83078                   2016-10-06                    2016-10-06   \n",
       "\n",
       "      order_estimated_delivery_date  \n",
       "4541                     2016-10-20  \n",
       "4396                     2016-10-28  \n",
       "10071                    2016-09-30  \n",
       "30710                    2016-10-04  \n",
       "83078                    2016-10-25  "
      ]
     },
     "execution_count": 185,
     "metadata": {},
     "output_type": "execute_result"
    }
   ],
   "source": [
    "orders_df.head(5)"
   ]
  },
  {
   "cell_type": "markdown",
   "id": "0b430988",
   "metadata": {},
   "source": [
    "Now the dataset is sorted from oldest to soonest sales. This will make it possible to see the development in the business over time."
   ]
  },
  {
   "cell_type": "code",
   "execution_count": 186,
   "id": "317e5230",
   "metadata": {},
   "outputs": [],
   "source": [
    "#orders_df['date_ordinal'] = orders_df['order_purchase_timestamp']\\\n",
    "                           # .apply(lambda date: date.toordinal())"
   ]
  },
  {
   "cell_type": "code",
   "execution_count": 187,
   "id": "b35db198",
   "metadata": {},
   "outputs": [],
   "source": [
    "orders_df['shipping_difference'] = orders_df['order_estimated_delivery_date'] - orders_df['order_delivered_customer_date']\n",
    "orders_df['shipping_duration'] = orders_df['order_delivered_customer_date'] - orders_df['order_purchase_timestamp']\n",
    "orders_df['shipping_est_duration'] = orders_df['order_estimated_delivery_date'] - orders_df['order_purchase_timestamp']"
   ]
  },
  {
   "cell_type": "markdown",
   "id": "b3d65bce",
   "metadata": {},
   "source": [
    "In this part, we added 3 additional columns which seem very much needed for this dataset, they are:\n",
    "- shipping difference : which is the difference between the estimated and the actual delivery time\n",
    "- shipping duration : which is the period between the purchase and the final delivery \n",
    "- shipping estimated duration: is the period between the purchase and the estimated delivery time"
   ]
  },
  {
   "cell_type": "markdown",
   "id": "a05ab9b3",
   "metadata": {},
   "source": [
    "### Order items data set"
   ]
  },
  {
   "cell_type": "code",
   "execution_count": 188,
   "id": "cfbeaf99",
   "metadata": {},
   "outputs": [
    {
     "data": {
      "text/html": [
       "<div>\n",
       "<style scoped>\n",
       "    .dataframe tbody tr th:only-of-type {\n",
       "        vertical-align: middle;\n",
       "    }\n",
       "\n",
       "    .dataframe tbody tr th {\n",
       "        vertical-align: top;\n",
       "    }\n",
       "\n",
       "    .dataframe thead th {\n",
       "        text-align: right;\n",
       "    }\n",
       "</style>\n",
       "<table border=\"1\" class=\"dataframe\">\n",
       "  <thead>\n",
       "    <tr style=\"text-align: right;\">\n",
       "      <th></th>\n",
       "      <th>order_id</th>\n",
       "      <th>order_item_id</th>\n",
       "      <th>product_id</th>\n",
       "      <th>seller_id</th>\n",
       "      <th>shipping_limit_date</th>\n",
       "      <th>price</th>\n",
       "      <th>freight_value</th>\n",
       "    </tr>\n",
       "  </thead>\n",
       "  <tbody>\n",
       "    <tr>\n",
       "      <th>0</th>\n",
       "      <td>00010242fe8c5a6d1ba2dd792cb16214</td>\n",
       "      <td>1</td>\n",
       "      <td>4244733e06e7ecb4970a6e2683c13e61</td>\n",
       "      <td>48436dade18ac8b2bce089ec2a041202</td>\n",
       "      <td>2017-09-19 09:45:35</td>\n",
       "      <td>58.90</td>\n",
       "      <td>13.29</td>\n",
       "    </tr>\n",
       "    <tr>\n",
       "      <th>1</th>\n",
       "      <td>00018f77f2f0320c557190d7a144bdd3</td>\n",
       "      <td>1</td>\n",
       "      <td>e5f2d52b802189ee658865ca93d83a8f</td>\n",
       "      <td>dd7ddc04e1b6c2c614352b383efe2d36</td>\n",
       "      <td>2017-05-03 11:05:13</td>\n",
       "      <td>239.90</td>\n",
       "      <td>19.93</td>\n",
       "    </tr>\n",
       "    <tr>\n",
       "      <th>2</th>\n",
       "      <td>000229ec398224ef6ca0657da4fc703e</td>\n",
       "      <td>1</td>\n",
       "      <td>c777355d18b72b67abbeef9df44fd0fd</td>\n",
       "      <td>5b51032eddd242adc84c38acab88f23d</td>\n",
       "      <td>2018-01-18 14:48:30</td>\n",
       "      <td>199.00</td>\n",
       "      <td>17.87</td>\n",
       "    </tr>\n",
       "    <tr>\n",
       "      <th>3</th>\n",
       "      <td>00024acbcdf0a6daa1e931b038114c75</td>\n",
       "      <td>1</td>\n",
       "      <td>7634da152a4610f1595efa32f14722fc</td>\n",
       "      <td>9d7a1d34a5052409006425275ba1c2b4</td>\n",
       "      <td>2018-08-15 10:10:18</td>\n",
       "      <td>12.99</td>\n",
       "      <td>12.79</td>\n",
       "    </tr>\n",
       "    <tr>\n",
       "      <th>4</th>\n",
       "      <td>00042b26cf59d7ce69dfabb4e55b4fd9</td>\n",
       "      <td>1</td>\n",
       "      <td>ac6c3623068f30de03045865e4e10089</td>\n",
       "      <td>df560393f3a51e74553ab94004ba5c87</td>\n",
       "      <td>2017-02-13 13:57:51</td>\n",
       "      <td>199.90</td>\n",
       "      <td>18.14</td>\n",
       "    </tr>\n",
       "  </tbody>\n",
       "</table>\n",
       "</div>"
      ],
      "text/plain": [
       "                           order_id  order_item_id  \\\n",
       "0  00010242fe8c5a6d1ba2dd792cb16214              1   \n",
       "1  00018f77f2f0320c557190d7a144bdd3              1   \n",
       "2  000229ec398224ef6ca0657da4fc703e              1   \n",
       "3  00024acbcdf0a6daa1e931b038114c75              1   \n",
       "4  00042b26cf59d7ce69dfabb4e55b4fd9              1   \n",
       "\n",
       "                         product_id                         seller_id  \\\n",
       "0  4244733e06e7ecb4970a6e2683c13e61  48436dade18ac8b2bce089ec2a041202   \n",
       "1  e5f2d52b802189ee658865ca93d83a8f  dd7ddc04e1b6c2c614352b383efe2d36   \n",
       "2  c777355d18b72b67abbeef9df44fd0fd  5b51032eddd242adc84c38acab88f23d   \n",
       "3  7634da152a4610f1595efa32f14722fc  9d7a1d34a5052409006425275ba1c2b4   \n",
       "4  ac6c3623068f30de03045865e4e10089  df560393f3a51e74553ab94004ba5c87   \n",
       "\n",
       "   shipping_limit_date   price  freight_value  \n",
       "0  2017-09-19 09:45:35   58.90          13.29  \n",
       "1  2017-05-03 11:05:13  239.90          19.93  \n",
       "2  2018-01-18 14:48:30  199.00          17.87  \n",
       "3  2018-08-15 10:10:18   12.99          12.79  \n",
       "4  2017-02-13 13:57:51  199.90          18.14  "
      ]
     },
     "execution_count": 188,
     "metadata": {},
     "output_type": "execute_result"
    }
   ],
   "source": [
    "items_df = pd.read_csv(r'C:\\Users\\imane\\OneDrive\\Desktop\\Clients_Clustering\\olist_order_items_dataset.csv', sep =\",\")\n",
    "items_df.head()"
   ]
  },
  {
   "cell_type": "code",
   "execution_count": 189,
   "id": "236b47e3",
   "metadata": {},
   "outputs": [
    {
     "name": "stdout",
     "output_type": "stream",
     "text": [
      "<class 'pandas.core.frame.DataFrame'>\n",
      "RangeIndex: 112650 entries, 0 to 112649\n",
      "Data columns (total 7 columns):\n",
      " #   Column               Non-Null Count   Dtype  \n",
      "---  ------               --------------   -----  \n",
      " 0   order_id             112650 non-null  object \n",
      " 1   order_item_id        112650 non-null  int64  \n",
      " 2   product_id           112650 non-null  object \n",
      " 3   seller_id            112650 non-null  object \n",
      " 4   shipping_limit_date  112650 non-null  object \n",
      " 5   price                112650 non-null  float64\n",
      " 6   freight_value        112650 non-null  float64\n",
      "dtypes: float64(2), int64(1), object(4)\n",
      "memory usage: 6.0+ MB\n"
     ]
    }
   ],
   "source": [
    "items_df.info()"
   ]
  },
  {
   "cell_type": "code",
   "execution_count": 190,
   "id": "5c4ef4ef",
   "metadata": {},
   "outputs": [
    {
     "data": {
      "text/html": [
       "<div>\n",
       "<style scoped>\n",
       "    .dataframe tbody tr th:only-of-type {\n",
       "        vertical-align: middle;\n",
       "    }\n",
       "\n",
       "    .dataframe tbody tr th {\n",
       "        vertical-align: top;\n",
       "    }\n",
       "\n",
       "    .dataframe thead th {\n",
       "        text-align: right;\n",
       "    }\n",
       "</style>\n",
       "<table border=\"1\" class=\"dataframe\">\n",
       "  <thead>\n",
       "    <tr style=\"text-align: right;\">\n",
       "      <th></th>\n",
       "      <th>count</th>\n",
       "      <th>mean</th>\n",
       "      <th>std</th>\n",
       "      <th>min</th>\n",
       "      <th>25%</th>\n",
       "      <th>50%</th>\n",
       "      <th>75%</th>\n",
       "      <th>max</th>\n",
       "    </tr>\n",
       "  </thead>\n",
       "  <tbody>\n",
       "    <tr>\n",
       "      <th>order_item_id</th>\n",
       "      <td>112650.0</td>\n",
       "      <td>1.197834</td>\n",
       "      <td>0.705124</td>\n",
       "      <td>1.00</td>\n",
       "      <td>1.00</td>\n",
       "      <td>1.00</td>\n",
       "      <td>1.00</td>\n",
       "      <td>21.00</td>\n",
       "    </tr>\n",
       "    <tr>\n",
       "      <th>price</th>\n",
       "      <td>112650.0</td>\n",
       "      <td>120.653739</td>\n",
       "      <td>183.633928</td>\n",
       "      <td>0.85</td>\n",
       "      <td>39.90</td>\n",
       "      <td>74.99</td>\n",
       "      <td>134.90</td>\n",
       "      <td>6735.00</td>\n",
       "    </tr>\n",
       "    <tr>\n",
       "      <th>freight_value</th>\n",
       "      <td>112650.0</td>\n",
       "      <td>19.990320</td>\n",
       "      <td>15.806405</td>\n",
       "      <td>0.00</td>\n",
       "      <td>13.08</td>\n",
       "      <td>16.26</td>\n",
       "      <td>21.15</td>\n",
       "      <td>409.68</td>\n",
       "    </tr>\n",
       "  </tbody>\n",
       "</table>\n",
       "</div>"
      ],
      "text/plain": [
       "                  count        mean         std   min    25%    50%     75%  \\\n",
       "order_item_id  112650.0    1.197834    0.705124  1.00   1.00   1.00    1.00   \n",
       "price          112650.0  120.653739  183.633928  0.85  39.90  74.99  134.90   \n",
       "freight_value  112650.0   19.990320   15.806405  0.00  13.08  16.26   21.15   \n",
       "\n",
       "                   max  \n",
       "order_item_id    21.00  \n",
       "price          6735.00  \n",
       "freight_value   409.68  "
      ]
     },
     "execution_count": 190,
     "metadata": {},
     "output_type": "execute_result"
    }
   ],
   "source": [
    "items_df.describe().transpose()"
   ]
  },
  {
   "cell_type": "code",
   "execution_count": 191,
   "id": "4a90495a",
   "metadata": {},
   "outputs": [],
   "source": [
    "def date_time(df, cols):\n",
    "    for col in cols:\n",
    "        df[col] = pd.to_datetime(df[col], format='%Y-%m-%d').dt.date\n",
    "date_time(items_df,[\"shipping_limit_date\"])"
   ]
  },
  {
   "cell_type": "markdown",
   "id": "c526a4e5",
   "metadata": {},
   "source": [
    "The order items data set contains orders ids, SKU (Stock Keeping Unit), the seller, price and shipping expense. All the column sare full and there isn't any missing data. The columns are both numerical (3 cols) and catergorical (4 cols)."
   ]
  },
  {
   "cell_type": "code",
   "execution_count": 192,
   "id": "a0961ad5",
   "metadata": {},
   "outputs": [
    {
     "name": "stdout",
     "output_type": "stream",
     "text": [
      "Total of unique order ids in order items ds: 98666 \n",
      "Total of unique item ids in order items ds: 21 \n",
      "Total of unique order ids in orders ds: 99441 \n",
      "Total of records in order items ds: 112650\n"
     ]
    }
   ],
   "source": [
    "print(\"Total of unique order ids in order items ds: {} \\n\\\n",
    "Total of unique item ids in order items ds: {} \\n\\\n",
    "Total of unique order ids in orders ds: {} \\n\\\n",
    "Total of records in order items ds: {}\"\n",
    "      .format(\n",
    "      items_df[\"order_id\"].nunique(),\n",
    "      items_df[\"order_item_id\"].nunique(),\n",
    "      orders_df[\"order_id\"].nunique(),\n",
    "      len(items_df))\n",
    ")"
   ]
  },
  {
   "cell_type": "markdown",
   "id": "58e5d399",
   "metadata": {},
   "source": [
    "In this part we calculated the unique occurence of instances in the following:\n",
    "- The number of unique order ids in the order items dataset is 98 666 while the total instances in the datset is 112 650, which mean that there are 13 984 instances reflecting additional items in the some of the same orders.\n",
    "- The number of unique item ids in the order items dataset is 21, also meaning that some orders contained more than one item. And earlier we saw that the max value of this column is 21 items too."
   ]
  },
  {
   "cell_type": "code",
   "execution_count": 193,
   "id": "6da0cc28",
   "metadata": {},
   "outputs": [
    {
     "data": {
      "text/plain": [
       "True    112650\n",
       "Name: order_id, dtype: int64"
      ]
     },
     "execution_count": 193,
     "metadata": {},
     "output_type": "execute_result"
    }
   ],
   "source": [
    "items_df[\"order_id\"].isin(orders_df[\"order_id\"]).value_counts()"
   ]
  },
  {
   "cell_type": "code",
   "execution_count": 194,
   "id": "bc415115",
   "metadata": {},
   "outputs": [
    {
     "data": {
      "text/plain": [
       "True     98666\n",
       "False      775\n",
       "Name: order_id, dtype: int64"
      ]
     },
     "execution_count": 194,
     "metadata": {},
     "output_type": "execute_result"
    }
   ],
   "source": [
    "orders_df[\"order_id\"].isin(items_df[\"order_id\"]).value_counts()"
   ]
  },
  {
   "cell_type": "markdown",
   "id": "ccab021f",
   "metadata": {},
   "source": [
    "The above code tells us the following:\n",
    "- 775 orders that are present in the orders data set are not present in the order items data set, an explanation might be that they were orders that got cancelled or never delivered.\n",
    "- All of the instances present in the items data set (112 650 of them) in the orders dat set, meaning that the 13 984 repeated orders that resulted from the purchase of different items at the same time, don't contain any of the missing 775. "
   ]
  },
  {
   "cell_type": "code",
   "execution_count": 195,
   "id": "10d37afa",
   "metadata": {},
   "outputs": [
    {
     "data": {
      "text/plain": [
       "<AxesSubplot:>"
      ]
     },
     "execution_count": 195,
     "metadata": {},
     "output_type": "execute_result"
    },
    {
     "data": {
      "image/png": "[encoded data removed]",
      "text/plain": [
       "<Figure size 1080x576 with 1 Axes>"
      ]
     },
     "metadata": {},
     "output_type": "display_data"
    }
   ],
   "source": [
    "orders_df[~orders_df['order_id'].isin(items_df['order_id'])]['order_status'].value_counts().plot(kind='bar')"
   ]
  },
  {
   "cell_type": "markdown",
   "id": "51aa5b33",
   "metadata": {},
   "source": [
    "Digging a little deeper we see that most orders that were not present in the order items list were listed either unavailable or cancelled, this explains why they aren\"t present in the items ds and will therefore be deleted"
   ]
  },
  {
   "cell_type": "code",
   "execution_count": 196,
   "id": "fa09b0d7",
   "metadata": {},
   "outputs": [
    {
     "name": "stdout",
     "output_type": "stream",
     "text": [
      "98666\n"
     ]
    }
   ],
   "source": [
    "orders_df = orders_df[orders_df[\"order_id\"].isin(items_df[\"order_id\"])]\n",
    "print(len(orders_df))"
   ]
  },
  {
   "cell_type": "code",
   "execution_count": 197,
   "id": "57a208a3",
   "metadata": {},
   "outputs": [
    {
     "name": "stdout",
     "output_type": "stream",
     "text": [
      "Number of duplicated records: 0 \n",
      "Number of duplicated order lines: 10225\n"
     ]
    }
   ],
   "source": [
    "print('Number of duplicated records: {} \\n\\\n",
    "Number of duplicated order lines: {}'\n",
    "    .format(items_df.duplicated().sum(),\n",
    "    items_df[['order_id', 'product_id']].duplicated().sum()))"
   ]
  },
  {
   "cell_type": "markdown",
   "id": "1600f948",
   "metadata": {},
   "source": [
    "After calculating the sum the duplicate records, we get to the result that none of the records is duplicated (same info in the entire row), but there are 10 225 order ids and product ids that were results of repeating"
   ]
  },
  {
   "cell_type": "code",
   "execution_count": 198,
   "id": "14dcb3dc",
   "metadata": {},
   "outputs": [
    {
     "data": {
      "text/html": [
       "<div>\n",
       "<style scoped>\n",
       "    .dataframe tbody tr th:only-of-type {\n",
       "        vertical-align: middle;\n",
       "    }\n",
       "\n",
       "    .dataframe tbody tr th {\n",
       "        vertical-align: top;\n",
       "    }\n",
       "\n",
       "    .dataframe thead th {\n",
       "        text-align: right;\n",
       "    }\n",
       "</style>\n",
       "<table border=\"1\" class=\"dataframe\">\n",
       "  <thead>\n",
       "    <tr style=\"text-align: right;\">\n",
       "      <th></th>\n",
       "      <th>product_id</th>\n",
       "      <th>order_id</th>\n",
       "      <th>order_item_id</th>\n",
       "      <th>seller_id</th>\n",
       "      <th>shipping_limit_date</th>\n",
       "      <th>price</th>\n",
       "      <th>freight_value</th>\n",
       "    </tr>\n",
       "  </thead>\n",
       "  <tbody>\n",
       "    <tr>\n",
       "      <th>0</th>\n",
       "      <td>00066f42aeeb9f3007548bb9d3f33c38</td>\n",
       "      <td>f30149f4a8882a08895b6a242aa0d612</td>\n",
       "      <td>1</td>\n",
       "      <td>5670f4db5b62c43d542e1b2d56b0cf7c</td>\n",
       "      <td>2018-05-24</td>\n",
       "      <td>101.65</td>\n",
       "      <td>18.59</td>\n",
       "    </tr>\n",
       "    <tr>\n",
       "      <th>1</th>\n",
       "      <td>00088930e925c41fd95ebfe695fd2655</td>\n",
       "      <td>f5eda0ded77c1293b04c953138c8331d</td>\n",
       "      <td>1</td>\n",
       "      <td>7142540dd4c91e2237acb7e911c4eba2</td>\n",
       "      <td>2017-12-18</td>\n",
       "      <td>129.90</td>\n",
       "      <td>13.93</td>\n",
       "    </tr>\n",
       "    <tr>\n",
       "      <th>2</th>\n",
       "      <td>0009406fd7479715e4bef61dd91f2462</td>\n",
       "      <td>0bf736fd0fd5169d60de3699fcbcf986</td>\n",
       "      <td>1</td>\n",
       "      <td>4a3ca9315b744ce9f8e9374361493884</td>\n",
       "      <td>2017-12-29</td>\n",
       "      <td>229.00</td>\n",
       "      <td>13.10</td>\n",
       "    </tr>\n",
       "    <tr>\n",
       "      <th>3</th>\n",
       "      <td>000b8f95fcb9e0096488278317764d19</td>\n",
       "      <td>3aba44d8e554ab4bb8c09f6f78032ca8</td>\n",
       "      <td>1</td>\n",
       "      <td>40ec8ab6cdafbcc4f544da38c67da39a</td>\n",
       "      <td>2018-08-16</td>\n",
       "      <td>58.90</td>\n",
       "      <td>19.60</td>\n",
       "    </tr>\n",
       "    <tr>\n",
       "      <th>4</th>\n",
       "      <td>000b8f95fcb9e0096488278317764d19</td>\n",
       "      <td>6f0dfb5b5398b271cc6bbd9ee263530e</td>\n",
       "      <td>1</td>\n",
       "      <td>40ec8ab6cdafbcc4f544da38c67da39a</td>\n",
       "      <td>2018-08-07</td>\n",
       "      <td>58.90</td>\n",
       "      <td>19.60</td>\n",
       "    </tr>\n",
       "  </tbody>\n",
       "</table>\n",
       "</div>"
      ],
      "text/plain": [
       "                         product_id                          order_id  \\\n",
       "0  00066f42aeeb9f3007548bb9d3f33c38  f30149f4a8882a08895b6a242aa0d612   \n",
       "1  00088930e925c41fd95ebfe695fd2655  f5eda0ded77c1293b04c953138c8331d   \n",
       "2  0009406fd7479715e4bef61dd91f2462  0bf736fd0fd5169d60de3699fcbcf986   \n",
       "3  000b8f95fcb9e0096488278317764d19  3aba44d8e554ab4bb8c09f6f78032ca8   \n",
       "4  000b8f95fcb9e0096488278317764d19  6f0dfb5b5398b271cc6bbd9ee263530e   \n",
       "\n",
       "   order_item_id                         seller_id shipping_limit_date  \\\n",
       "0              1  5670f4db5b62c43d542e1b2d56b0cf7c          2018-05-24   \n",
       "1              1  7142540dd4c91e2237acb7e911c4eba2          2017-12-18   \n",
       "2              1  4a3ca9315b744ce9f8e9374361493884          2017-12-29   \n",
       "3              1  40ec8ab6cdafbcc4f544da38c67da39a          2018-08-16   \n",
       "4              1  40ec8ab6cdafbcc4f544da38c67da39a          2018-08-07   \n",
       "\n",
       "    price  freight_value  \n",
       "0  101.65          18.59  \n",
       "1  129.90          13.93  \n",
       "2  229.00          13.10  \n",
       "3   58.90          19.60  \n",
       "4   58.90          19.60  "
      ]
     },
     "execution_count": 198,
     "metadata": {},
     "output_type": "execute_result"
    }
   ],
   "source": [
    "grouped_df = items_df.groupby(by=[\"product_id\",\"order_id\"], as_index= False).agg({\n",
    "        'order_item_id': 'count', \n",
    "        'seller_id': 'first',\n",
    "        'shipping_limit_date': 'first',\n",
    "        'price': 'first',\n",
    "        'freight_value': 'first'\n",
    "        })\n",
    "grouped_df.head()"
   ]
  },
  {
   "cell_type": "code",
   "execution_count": 199,
   "id": "3938f9cc",
   "metadata": {},
   "outputs": [
    {
     "name": "stdout",
     "output_type": "stream",
     "text": [
      "<class 'pandas.core.frame.DataFrame'>\n",
      "RangeIndex: 102425 entries, 0 to 102424\n",
      "Data columns (total 7 columns):\n",
      " #   Column               Non-Null Count   Dtype  \n",
      "---  ------               --------------   -----  \n",
      " 0   product_id           102425 non-null  object \n",
      " 1   order_id             102425 non-null  object \n",
      " 2   order_item_id        102425 non-null  int64  \n",
      " 3   seller_id            102425 non-null  object \n",
      " 4   shipping_limit_date  102425 non-null  object \n",
      " 5   price                102425 non-null  float64\n",
      " 6   freight_value        102425 non-null  float64\n",
      "dtypes: float64(2), int64(1), object(4)\n",
      "memory usage: 5.5+ MB\n"
     ]
    }
   ],
   "source": [
    "grouped_df.info()"
   ]
  },
  {
   "cell_type": "markdown",
   "id": "a2b836e8",
   "metadata": {},
   "source": [
    "The new data set grouped_df represents the order items dataset after grouping it by product id and aggregating the first row for all column except that of order_item_id (which is the amount of articles) which represents the sum of all articles ordered at the same time."
   ]
  },
  {
   "cell_type": "code",
   "execution_count": 200,
   "id": "091c3ac0",
   "metadata": {},
   "outputs": [
    {
     "name": "stdout",
     "output_type": "stream",
     "text": [
      "Unique order ids in new table: 98666 \n",
      "Unique order ids in old table: 98666 \n",
      "Unique product ids in new table: 32951 \n",
      "Unique product ids in old table: 32951 \n",
      "Total quantity in new table: 112650 \n",
      "Total quantity in old table: 112650\n"
     ]
    }
   ],
   "source": [
    "print('Unique order ids in new table: {} \\n\\\n",
    "Unique order ids in old table: {} \\n\\\n",
    "Unique product ids in new table: {} \\n\\\n",
    "Unique product ids in old table: {} \\n\\\n",
    "Total quantity in new table: {} \\n\\\n",
    "Total quantity in old table: {}'\n",
    "    .format(\n",
    "    len(grouped_df['order_id'].unique()),\n",
    "    len(items_df['order_id'].unique()),\n",
    "    len(grouped_df['product_id'].unique()),\n",
    "    len(items_df['product_id'].unique()),\n",
    "    grouped_df['order_item_id'].sum(),\n",
    "    len(items_df)\n",
    "    ))"
   ]
  },
  {
   "cell_type": "markdown",
   "id": "02ce72c0",
   "metadata": {},
   "source": [
    "Here we were just checking that there was no data loss during the transformations, everything seems great. We'll rename the column order item id "
   ]
  },
  {
   "cell_type": "code",
   "execution_count": 201,
   "id": "cc8075fa",
   "metadata": {},
   "outputs": [
    {
     "data": {
      "text/plain": [
       "1     95337\n",
       "2      5382\n",
       "3       953\n",
       "4       390\n",
       "6       172\n",
       "5       168\n",
       "10        5\n",
       "7         4\n",
       "12        2\n",
       "9         2\n",
       "15        2\n",
       "14        2\n",
       "8         2\n",
       "20        2\n",
       "11        1\n",
       "13        1\n",
       "Name: quantity, dtype: int64"
      ]
     },
     "execution_count": 201,
     "metadata": {},
     "output_type": "execute_result"
    }
   ],
   "source": [
    "grouped_df.rename(columns = {'order_item_id': 'quantity'}, inplace = True)\n",
    "grouped_df[\"quantity\"].value_counts()"
   ]
  },
  {
   "cell_type": "markdown",
   "id": "31b461a7",
   "metadata": {},
   "source": [
    "This shows us how many orders were processed containing different quantities of articles"
   ]
  },
  {
   "cell_type": "code",
   "execution_count": 202,
   "id": "ab5b6467",
   "metadata": {},
   "outputs": [
    {
     "data": {
      "text/plain": [
       "1.0998291432755676"
      ]
     },
     "execution_count": 202,
     "metadata": {},
     "output_type": "execute_result"
    }
   ],
   "source": [
    "grouped_df[\"quantity\"].mean()"
   ]
  },
  {
   "cell_type": "markdown",
   "id": "87c353d2",
   "metadata": {},
   "source": [
    "The mean of the column also seems logical for an ecommerce distribution business"
   ]
  },
  {
   "cell_type": "markdown",
   "id": "b840cac1",
   "metadata": {},
   "source": [
    "## Merging the orders and order items data sets"
   ]
  },
  {
   "cell_type": "code",
   "execution_count": 203,
   "id": "aeb4345f",
   "metadata": {},
   "outputs": [
    {
     "data": {
      "text/html": [
       "<div>\n",
       "<style scoped>\n",
       "    .dataframe tbody tr th:only-of-type {\n",
       "        vertical-align: middle;\n",
       "    }\n",
       "\n",
       "    .dataframe tbody tr th {\n",
       "        vertical-align: top;\n",
       "    }\n",
       "\n",
       "    .dataframe thead th {\n",
       "        text-align: right;\n",
       "    }\n",
       "</style>\n",
       "<table border=\"1\" class=\"dataframe\">\n",
       "  <thead>\n",
       "    <tr style=\"text-align: right;\">\n",
       "      <th></th>\n",
       "      <th>order_id</th>\n",
       "      <th>customer_id</th>\n",
       "      <th>order_status</th>\n",
       "      <th>order_purchase_timestamp</th>\n",
       "      <th>order_approved_at</th>\n",
       "      <th>order_delivered_carrier_date</th>\n",
       "      <th>order_delivered_customer_date</th>\n",
       "      <th>order_estimated_delivery_date</th>\n",
       "      <th>shipping_difference</th>\n",
       "      <th>shipping_duration</th>\n",
       "      <th>shipping_est_duration</th>\n",
       "      <th>product_id</th>\n",
       "      <th>quantity</th>\n",
       "      <th>seller_id</th>\n",
       "      <th>shipping_limit_date</th>\n",
       "      <th>price</th>\n",
       "      <th>freight_value</th>\n",
       "    </tr>\n",
       "  </thead>\n",
       "  <tbody>\n",
       "    <tr>\n",
       "      <th>0</th>\n",
       "      <td>2e7a8482f6fb09756ca50c10d7bfc047</td>\n",
       "      <td>08c5351a6aca1c1589a38f244edeee9d</td>\n",
       "      <td>shipped</td>\n",
       "      <td>2016-09-04</td>\n",
       "      <td>2016-10-07</td>\n",
       "      <td>2016-10-18</td>\n",
       "      <td>2016-10-18</td>\n",
       "      <td>2016-10-20</td>\n",
       "      <td>2 days</td>\n",
       "      <td>44 days</td>\n",
       "      <td>46 days</td>\n",
       "      <td>c1488892604e4ba5cff5b4eb4d595400</td>\n",
       "      <td>1</td>\n",
       "      <td>1554a68530182680ad5c8b042c3ab563</td>\n",
       "      <td>2016-10-26</td>\n",
       "      <td>39.99</td>\n",
       "      <td>31.67</td>\n",
       "    </tr>\n",
       "    <tr>\n",
       "      <th>1</th>\n",
       "      <td>2e7a8482f6fb09756ca50c10d7bfc047</td>\n",
       "      <td>08c5351a6aca1c1589a38f244edeee9d</td>\n",
       "      <td>shipped</td>\n",
       "      <td>2016-09-04</td>\n",
       "      <td>2016-10-07</td>\n",
       "      <td>2016-10-18</td>\n",
       "      <td>2016-10-18</td>\n",
       "      <td>2016-10-20</td>\n",
       "      <td>2 days</td>\n",
       "      <td>44 days</td>\n",
       "      <td>46 days</td>\n",
       "      <td>f293394c72c9b5fafd7023301fc21fc2</td>\n",
       "      <td>1</td>\n",
       "      <td>1554a68530182680ad5c8b042c3ab563</td>\n",
       "      <td>2016-10-26</td>\n",
       "      <td>32.90</td>\n",
       "      <td>31.67</td>\n",
       "    </tr>\n",
       "    <tr>\n",
       "      <th>2</th>\n",
       "      <td>e5fa5a7210941f7d56d0208e4e071d35</td>\n",
       "      <td>683c54fc24d40ee9f8a6fc179fd9856c</td>\n",
       "      <td>canceled</td>\n",
       "      <td>2016-09-05</td>\n",
       "      <td>2016-10-07</td>\n",
       "      <td>2016-10-07</td>\n",
       "      <td>2016-10-07</td>\n",
       "      <td>2016-10-28</td>\n",
       "      <td>21 days</td>\n",
       "      <td>32 days</td>\n",
       "      <td>53 days</td>\n",
       "      <td>f3c2d01a84c947b078e32bbef0718962</td>\n",
       "      <td>1</td>\n",
       "      <td>a425f92c199eb576938df686728acd20</td>\n",
       "      <td>2016-09-19</td>\n",
       "      <td>59.50</td>\n",
       "      <td>15.56</td>\n",
       "    </tr>\n",
       "    <tr>\n",
       "      <th>3</th>\n",
       "      <td>bfbd0f9bdef84302105ad712db648a6c</td>\n",
       "      <td>86dc2ffce2dfff336de2f386a786e574</td>\n",
       "      <td>delivered</td>\n",
       "      <td>2016-09-15</td>\n",
       "      <td>2016-09-15</td>\n",
       "      <td>2016-11-07</td>\n",
       "      <td>2016-11-09</td>\n",
       "      <td>2016-10-04</td>\n",
       "      <td>-36 days</td>\n",
       "      <td>55 days</td>\n",
       "      <td>19 days</td>\n",
       "      <td>5a6b04657a4c5ee34285d1e4619a96b4</td>\n",
       "      <td>3</td>\n",
       "      <td>ecccfa2bb93b34a3bf033cc5d1dcdc69</td>\n",
       "      <td>2016-09-19</td>\n",
       "      <td>44.99</td>\n",
       "      <td>2.83</td>\n",
       "    </tr>\n",
       "    <tr>\n",
       "      <th>4</th>\n",
       "      <td>71303d7e93b399f5bcd537d124c0bcfa</td>\n",
       "      <td>b106b360fe2ef8849fbbd056f777b4d5</td>\n",
       "      <td>canceled</td>\n",
       "      <td>2016-10-02</td>\n",
       "      <td>2016-10-06</td>\n",
       "      <td>2016-10-06</td>\n",
       "      <td>2016-10-06</td>\n",
       "      <td>2016-10-25</td>\n",
       "      <td>19 days</td>\n",
       "      <td>4 days</td>\n",
       "      <td>23 days</td>\n",
       "      <td>d2998d7ced12f83f9b832f33cf6507b6</td>\n",
       "      <td>1</td>\n",
       "      <td>25e6ffe976bd75618accfe16cefcbd0d</td>\n",
       "      <td>2016-10-21</td>\n",
       "      <td>100.00</td>\n",
       "      <td>9.34</td>\n",
       "    </tr>\n",
       "  </tbody>\n",
       "</table>\n",
       "</div>"
      ],
      "text/plain": [
       "                           order_id                       customer_id  \\\n",
       "0  2e7a8482f6fb09756ca50c10d7bfc047  08c5351a6aca1c1589a38f244edeee9d   \n",
       "1  2e7a8482f6fb09756ca50c10d7bfc047  08c5351a6aca1c1589a38f244edeee9d   \n",
       "2  e5fa5a7210941f7d56d0208e4e071d35  683c54fc24d40ee9f8a6fc179fd9856c   \n",
       "3  bfbd0f9bdef84302105ad712db648a6c  86dc2ffce2dfff336de2f386a786e574   \n",
       "4  71303d7e93b399f5bcd537d124c0bcfa  b106b360fe2ef8849fbbd056f777b4d5   \n",
       "\n",
       "  order_status order_purchase_timestamp order_approved_at  \\\n",
       "0      shipped               2016-09-04        2016-10-07   \n",
       "1      shipped               2016-09-04        2016-10-07   \n",
       "2     canceled               2016-09-05        2016-10-07   \n",
       "3    delivered               2016-09-15        2016-09-15   \n",
       "4     canceled               2016-10-02        2016-10-06   \n",
       "\n",
       "  order_delivered_carrier_date order_delivered_customer_date  \\\n",
       "0                   2016-10-18                    2016-10-18   \n",
       "1                   2016-10-18                    2016-10-18   \n",
       "2                   2016-10-07                    2016-10-07   \n",
       "3                   2016-11-07                    2016-11-09   \n",
       "4                   2016-10-06                    2016-10-06   \n",
       "\n",
       "  order_estimated_delivery_date shipping_difference shipping_duration  \\\n",
       "0                    2016-10-20              2 days           44 days   \n",
       "1                    2016-10-20              2 days           44 days   \n",
       "2                    2016-10-28             21 days           32 days   \n",
       "3                    2016-10-04            -36 days           55 days   \n",
       "4                    2016-10-25             19 days            4 days   \n",
       "\n",
       "  shipping_est_duration                        product_id  quantity  \\\n",
       "0               46 days  c1488892604e4ba5cff5b4eb4d595400         1   \n",
       "1               46 days  f293394c72c9b5fafd7023301fc21fc2         1   \n",
       "2               53 days  f3c2d01a84c947b078e32bbef0718962         1   \n",
       "3               19 days  5a6b04657a4c5ee34285d1e4619a96b4         3   \n",
       "4               23 days  d2998d7ced12f83f9b832f33cf6507b6         1   \n",
       "\n",
       "                          seller_id shipping_limit_date   price  freight_value  \n",
       "0  1554a68530182680ad5c8b042c3ab563          2016-10-26   39.99          31.67  \n",
       "1  1554a68530182680ad5c8b042c3ab563          2016-10-26   32.90          31.67  \n",
       "2  a425f92c199eb576938df686728acd20          2016-09-19   59.50          15.56  \n",
       "3  ecccfa2bb93b34a3bf033cc5d1dcdc69          2016-09-19   44.99           2.83  \n",
       "4  25e6ffe976bd75618accfe16cefcbd0d          2016-10-21  100.00           9.34  "
      ]
     },
     "execution_count": 203,
     "metadata": {},
     "output_type": "execute_result"
    }
   ],
   "source": [
    "orders_items = orders_df.merge(grouped_df, on= \"order_id\")\n",
    "orders_items.head()"
   ]
  },
  {
   "cell_type": "code",
   "execution_count": 204,
   "id": "b8115eb9",
   "metadata": {},
   "outputs": [
    {
     "name": "stdout",
     "output_type": "stream",
     "text": [
      "<class 'pandas.core.frame.DataFrame'>\n",
      "Int64Index: 102425 entries, 0 to 102424\n",
      "Data columns (total 17 columns):\n",
      " #   Column                         Non-Null Count   Dtype          \n",
      "---  ------                         --------------   -----          \n",
      " 0   order_id                       102425 non-null  object         \n",
      " 1   customer_id                    102425 non-null  object         \n",
      " 2   order_status                   102425 non-null  object         \n",
      " 3   order_purchase_timestamp       102425 non-null  object         \n",
      " 4   order_approved_at              102425 non-null  object         \n",
      " 5   order_delivered_carrier_date   102425 non-null  object         \n",
      " 6   order_delivered_customer_date  102425 non-null  object         \n",
      " 7   order_estimated_delivery_date  102425 non-null  object         \n",
      " 8   shipping_difference            102425 non-null  timedelta64[ns]\n",
      " 9   shipping_duration              102425 non-null  timedelta64[ns]\n",
      " 10  shipping_est_duration          102425 non-null  timedelta64[ns]\n",
      " 11  product_id                     102425 non-null  object         \n",
      " 12  quantity                       102425 non-null  int64          \n",
      " 13  seller_id                      102425 non-null  object         \n",
      " 14  shipping_limit_date            102425 non-null  object         \n",
      " 15  price                          102425 non-null  float64        \n",
      " 16  freight_value                  102425 non-null  float64        \n",
      "dtypes: float64(2), int64(1), object(11), timedelta64[ns](3)\n",
      "memory usage: 14.1+ MB\n"
     ]
    }
   ],
   "source": [
    "orders_items.info()"
   ]
  },
  {
   "cell_type": "markdown",
   "id": "83c1a3d5",
   "metadata": {},
   "source": [
    "The new data set seems great, it contains both tables from before merged by order id. All the columns are full (there aren't any missing values) and they differ from numerical to categorical and time delta types."
   ]
  },
  {
   "cell_type": "markdown",
   "id": "51a486c0",
   "metadata": {},
   "source": [
    "## Products data set"
   ]
  },
  {
   "cell_type": "code",
   "execution_count": 205,
   "id": "5f4142c9",
   "metadata": {},
   "outputs": [
    {
     "data": {
      "text/html": [
       "<div>\n",
       "<style scoped>\n",
       "    .dataframe tbody tr th:only-of-type {\n",
       "        vertical-align: middle;\n",
       "    }\n",
       "\n",
       "    .dataframe tbody tr th {\n",
       "        vertical-align: top;\n",
       "    }\n",
       "\n",
       "    .dataframe thead th {\n",
       "        text-align: right;\n",
       "    }\n",
       "</style>\n",
       "<table border=\"1\" class=\"dataframe\">\n",
       "  <thead>\n",
       "    <tr style=\"text-align: right;\">\n",
       "      <th></th>\n",
       "      <th>product_id</th>\n",
       "      <th>product_category_name</th>\n",
       "      <th>product_name_lenght</th>\n",
       "      <th>product_description_lenght</th>\n",
       "      <th>product_photos_qty</th>\n",
       "      <th>product_weight_g</th>\n",
       "      <th>product_length_cm</th>\n",
       "      <th>product_height_cm</th>\n",
       "      <th>product_width_cm</th>\n",
       "    </tr>\n",
       "  </thead>\n",
       "  <tbody>\n",
       "    <tr>\n",
       "      <th>0</th>\n",
       "      <td>1e9e8ef04dbcff4541ed26657ea517e5</td>\n",
       "      <td>perfumaria</td>\n",
       "      <td>40.0</td>\n",
       "      <td>287.0</td>\n",
       "      <td>1.0</td>\n",
       "      <td>225.0</td>\n",
       "      <td>16.0</td>\n",
       "      <td>10.0</td>\n",
       "      <td>14.0</td>\n",
       "    </tr>\n",
       "    <tr>\n",
       "      <th>1</th>\n",
       "      <td>3aa071139cb16b67ca9e5dea641aaa2f</td>\n",
       "      <td>artes</td>\n",
       "      <td>44.0</td>\n",
       "      <td>276.0</td>\n",
       "      <td>1.0</td>\n",
       "      <td>1000.0</td>\n",
       "      <td>30.0</td>\n",
       "      <td>18.0</td>\n",
       "      <td>20.0</td>\n",
       "    </tr>\n",
       "    <tr>\n",
       "      <th>2</th>\n",
       "      <td>96bd76ec8810374ed1b65e291975717f</td>\n",
       "      <td>esporte_lazer</td>\n",
       "      <td>46.0</td>\n",
       "      <td>250.0</td>\n",
       "      <td>1.0</td>\n",
       "      <td>154.0</td>\n",
       "      <td>18.0</td>\n",
       "      <td>9.0</td>\n",
       "      <td>15.0</td>\n",
       "    </tr>\n",
       "    <tr>\n",
       "      <th>3</th>\n",
       "      <td>cef67bcfe19066a932b7673e239eb23d</td>\n",
       "      <td>bebes</td>\n",
       "      <td>27.0</td>\n",
       "      <td>261.0</td>\n",
       "      <td>1.0</td>\n",
       "      <td>371.0</td>\n",
       "      <td>26.0</td>\n",
       "      <td>4.0</td>\n",
       "      <td>26.0</td>\n",
       "    </tr>\n",
       "    <tr>\n",
       "      <th>4</th>\n",
       "      <td>9dc1a7de274444849c219cff195d0b71</td>\n",
       "      <td>utilidades_domesticas</td>\n",
       "      <td>37.0</td>\n",
       "      <td>402.0</td>\n",
       "      <td>4.0</td>\n",
       "      <td>625.0</td>\n",
       "      <td>20.0</td>\n",
       "      <td>17.0</td>\n",
       "      <td>13.0</td>\n",
       "    </tr>\n",
       "  </tbody>\n",
       "</table>\n",
       "</div>"
      ],
      "text/plain": [
       "                         product_id  product_category_name  \\\n",
       "0  1e9e8ef04dbcff4541ed26657ea517e5             perfumaria   \n",
       "1  3aa071139cb16b67ca9e5dea641aaa2f                  artes   \n",
       "2  96bd76ec8810374ed1b65e291975717f          esporte_lazer   \n",
       "3  cef67bcfe19066a932b7673e239eb23d                  bebes   \n",
       "4  9dc1a7de274444849c219cff195d0b71  utilidades_domesticas   \n",
       "\n",
       "   product_name_lenght  product_description_lenght  product_photos_qty  \\\n",
       "0                 40.0                       287.0                 1.0   \n",
       "1                 44.0                       276.0                 1.0   \n",
       "2                 46.0                       250.0                 1.0   \n",
       "3                 27.0                       261.0                 1.0   \n",
       "4                 37.0                       402.0                 4.0   \n",
       "\n",
       "   product_weight_g  product_length_cm  product_height_cm  product_width_cm  \n",
       "0             225.0               16.0               10.0              14.0  \n",
       "1            1000.0               30.0               18.0              20.0  \n",
       "2             154.0               18.0                9.0              15.0  \n",
       "3             371.0               26.0                4.0              26.0  \n",
       "4             625.0               20.0               17.0              13.0  "
      ]
     },
     "execution_count": 205,
     "metadata": {},
     "output_type": "execute_result"
    }
   ],
   "source": [
    "products_df = pd.read_csv(r'C:\\Users\\imane\\OneDrive\\Desktop\\Clients_Clustering\\olist_products_dataset.csv', sep =\",\")\n",
    "products_df.head()"
   ]
  },
  {
   "cell_type": "markdown",
   "id": "6713921d",
   "metadata": {},
   "source": [
    "The products table contains technical information about the products (dimensions and weight) "
   ]
  },
  {
   "cell_type": "code",
   "execution_count": 206,
   "id": "244bfd73",
   "metadata": {},
   "outputs": [
    {
     "name": "stdout",
     "output_type": "stream",
     "text": [
      "<class 'pandas.core.frame.DataFrame'>\n",
      "RangeIndex: 32951 entries, 0 to 32950\n",
      "Data columns (total 9 columns):\n",
      " #   Column                      Non-Null Count  Dtype  \n",
      "---  ------                      --------------  -----  \n",
      " 0   product_id                  32951 non-null  object \n",
      " 1   product_category_name       32341 non-null  object \n",
      " 2   product_name_lenght         32341 non-null  float64\n",
      " 3   product_description_lenght  32341 non-null  float64\n",
      " 4   product_photos_qty          32341 non-null  float64\n",
      " 5   product_weight_g            32949 non-null  float64\n",
      " 6   product_length_cm           32949 non-null  float64\n",
      " 7   product_height_cm           32949 non-null  float64\n",
      " 8   product_width_cm            32949 non-null  float64\n",
      "dtypes: float64(7), object(2)\n",
      "memory usage: 2.3+ MB\n"
     ]
    }
   ],
   "source": [
    "products_df.info()"
   ]
  },
  {
   "cell_type": "code",
   "execution_count": 207,
   "id": "03f7c4c4",
   "metadata": {},
   "outputs": [
    {
     "data": {
      "text/html": [
       "<div>\n",
       "<style scoped>\n",
       "    .dataframe tbody tr th:only-of-type {\n",
       "        vertical-align: middle;\n",
       "    }\n",
       "\n",
       "    .dataframe tbody tr th {\n",
       "        vertical-align: top;\n",
       "    }\n",
       "\n",
       "    .dataframe thead th {\n",
       "        text-align: right;\n",
       "    }\n",
       "</style>\n",
       "<table border=\"1\" class=\"dataframe\">\n",
       "  <thead>\n",
       "    <tr style=\"text-align: right;\">\n",
       "      <th></th>\n",
       "      <th>count</th>\n",
       "      <th>mean</th>\n",
       "      <th>std</th>\n",
       "      <th>min</th>\n",
       "      <th>25%</th>\n",
       "      <th>50%</th>\n",
       "      <th>75%</th>\n",
       "      <th>max</th>\n",
       "    </tr>\n",
       "  </thead>\n",
       "  <tbody>\n",
       "    <tr>\n",
       "      <th>product_name_lenght</th>\n",
       "      <td>32341.0</td>\n",
       "      <td>48.476949</td>\n",
       "      <td>10.245741</td>\n",
       "      <td>5.0</td>\n",
       "      <td>42.0</td>\n",
       "      <td>51.0</td>\n",
       "      <td>57.0</td>\n",
       "      <td>76.0</td>\n",
       "    </tr>\n",
       "    <tr>\n",
       "      <th>product_description_lenght</th>\n",
       "      <td>32341.0</td>\n",
       "      <td>771.495285</td>\n",
       "      <td>635.115225</td>\n",
       "      <td>4.0</td>\n",
       "      <td>339.0</td>\n",
       "      <td>595.0</td>\n",
       "      <td>972.0</td>\n",
       "      <td>3992.0</td>\n",
       "    </tr>\n",
       "    <tr>\n",
       "      <th>product_photos_qty</th>\n",
       "      <td>32341.0</td>\n",
       "      <td>2.188986</td>\n",
       "      <td>1.736766</td>\n",
       "      <td>1.0</td>\n",
       "      <td>1.0</td>\n",
       "      <td>1.0</td>\n",
       "      <td>3.0</td>\n",
       "      <td>20.0</td>\n",
       "    </tr>\n",
       "    <tr>\n",
       "      <th>product_weight_g</th>\n",
       "      <td>32949.0</td>\n",
       "      <td>2276.472488</td>\n",
       "      <td>4282.038731</td>\n",
       "      <td>0.0</td>\n",
       "      <td>300.0</td>\n",
       "      <td>700.0</td>\n",
       "      <td>1900.0</td>\n",
       "      <td>40425.0</td>\n",
       "    </tr>\n",
       "    <tr>\n",
       "      <th>product_length_cm</th>\n",
       "      <td>32949.0</td>\n",
       "      <td>30.815078</td>\n",
       "      <td>16.914458</td>\n",
       "      <td>7.0</td>\n",
       "      <td>18.0</td>\n",
       "      <td>25.0</td>\n",
       "      <td>38.0</td>\n",
       "      <td>105.0</td>\n",
       "    </tr>\n",
       "    <tr>\n",
       "      <th>product_height_cm</th>\n",
       "      <td>32949.0</td>\n",
       "      <td>16.937661</td>\n",
       "      <td>13.637554</td>\n",
       "      <td>2.0</td>\n",
       "      <td>8.0</td>\n",
       "      <td>13.0</td>\n",
       "      <td>21.0</td>\n",
       "      <td>105.0</td>\n",
       "    </tr>\n",
       "    <tr>\n",
       "      <th>product_width_cm</th>\n",
       "      <td>32949.0</td>\n",
       "      <td>23.196728</td>\n",
       "      <td>12.079047</td>\n",
       "      <td>6.0</td>\n",
       "      <td>15.0</td>\n",
       "      <td>20.0</td>\n",
       "      <td>30.0</td>\n",
       "      <td>118.0</td>\n",
       "    </tr>\n",
       "  </tbody>\n",
       "</table>\n",
       "</div>"
      ],
      "text/plain": [
       "                              count         mean          std  min    25%  \\\n",
       "product_name_lenght         32341.0    48.476949    10.245741  5.0   42.0   \n",
       "product_description_lenght  32341.0   771.495285   635.115225  4.0  339.0   \n",
       "product_photos_qty          32341.0     2.188986     1.736766  1.0    1.0   \n",
       "product_weight_g            32949.0  2276.472488  4282.038731  0.0  300.0   \n",
       "product_length_cm           32949.0    30.815078    16.914458  7.0   18.0   \n",
       "product_height_cm           32949.0    16.937661    13.637554  2.0    8.0   \n",
       "product_width_cm            32949.0    23.196728    12.079047  6.0   15.0   \n",
       "\n",
       "                              50%     75%      max  \n",
       "product_name_lenght          51.0    57.0     76.0  \n",
       "product_description_lenght  595.0   972.0   3992.0  \n",
       "product_photos_qty            1.0     3.0     20.0  \n",
       "product_weight_g            700.0  1900.0  40425.0  \n",
       "product_length_cm            25.0    38.0    105.0  \n",
       "product_height_cm            13.0    21.0    105.0  \n",
       "product_width_cm             20.0    30.0    118.0  "
      ]
     },
     "execution_count": 207,
     "metadata": {},
     "output_type": "execute_result"
    }
   ],
   "source": [
    "products_df.describe().transpose()"
   ]
  },
  {
   "cell_type": "code",
   "execution_count": 208,
   "id": "1640e98a",
   "metadata": {},
   "outputs": [
    {
     "data": {
      "text/plain": [
       "product_id                      0\n",
       "product_category_name         610\n",
       "product_name_lenght           610\n",
       "product_description_lenght    610\n",
       "product_photos_qty            610\n",
       "product_weight_g                2\n",
       "product_length_cm               2\n",
       "product_height_cm               2\n",
       "product_width_cm                2\n",
       "dtype: int64"
      ]
     },
     "execution_count": 208,
     "metadata": {},
     "output_type": "execute_result"
    }
   ],
   "source": [
    "products_df.isnull().sum()"
   ]
  },
  {
   "cell_type": "code",
   "execution_count": 209,
   "id": "e19c03a8",
   "metadata": {},
   "outputs": [
    {
     "data": {
      "text/plain": [
       "0"
      ]
     },
     "execution_count": 209,
     "metadata": {},
     "output_type": "execute_result"
    }
   ],
   "source": [
    "products_df['product_id'].duplicated().sum()"
   ]
  },
  {
   "cell_type": "markdown",
   "id": "fdec6b5e",
   "metadata": {},
   "source": [
    "The products data set contains nine columns representing both numerical and categorical features. It contains some missing values but none of the rows is duplicated."
   ]
  },
  {
   "cell_type": "code",
   "execution_count": 212,
   "id": "5eda8433",
   "metadata": {},
   "outputs": [
    {
     "name": "stdout",
     "output_type": "stream",
     "text": [
      "Product ids count in order items table: 32951 \n",
      "Product ids count in products table: 32951\n"
     ]
    },
    {
     "data": {
      "text/plain": [
       "False"
      ]
     },
     "execution_count": 212,
     "metadata": {},
     "output_type": "execute_result"
    }
   ],
   "source": [
    "print('Product ids count in order items table: {} \\n\\\n",
    "Product ids count in products table: {}'\n",
    "    .format(\n",
    "    len(orders_items['product_id'].unique()),\n",
    "    len(products_df['product_id'].unique())\n",
    "    ))\n",
    "products_df['product_id'].equals(orders_items['product_id'])"
   ]
  },
  {
   "cell_type": "markdown",
   "id": "9b85e3c2",
   "metadata": {},
   "source": [
    "We see that the unique count of product ids is the same in both datasets. However, the preducts ids in both datasets don't match. We'll see this in detail after merging the two dfs "
   ]
  },
  {
   "cell_type": "markdown",
   "id": "0c48b52a",
   "metadata": {},
   "source": [
    "## Merging the orders items dataset with the products dataset"
   ]
  },
  {
   "cell_type": "code",
   "execution_count": 213,
   "id": "7a285316",
   "metadata": {},
   "outputs": [
    {
     "data": {
      "text/html": [
       "<div>\n",
       "<style scoped>\n",
       "    .dataframe tbody tr th:only-of-type {\n",
       "        vertical-align: middle;\n",
       "    }\n",
       "\n",
       "    .dataframe tbody tr th {\n",
       "        vertical-align: top;\n",
       "    }\n",
       "\n",
       "    .dataframe thead th {\n",
       "        text-align: right;\n",
       "    }\n",
       "</style>\n",
       "<table border=\"1\" class=\"dataframe\">\n",
       "  <thead>\n",
       "    <tr style=\"text-align: right;\">\n",
       "      <th></th>\n",
       "      <th>order_id</th>\n",
       "      <th>customer_id</th>\n",
       "      <th>order_status</th>\n",
       "      <th>order_purchase_timestamp</th>\n",
       "      <th>order_approved_at</th>\n",
       "      <th>order_delivered_carrier_date</th>\n",
       "      <th>order_delivered_customer_date</th>\n",
       "      <th>order_estimated_delivery_date</th>\n",
       "      <th>shipping_difference</th>\n",
       "      <th>shipping_duration</th>\n",
       "      <th>...</th>\n",
       "      <th>price</th>\n",
       "      <th>freight_value</th>\n",
       "      <th>product_category_name</th>\n",
       "      <th>product_name_lenght</th>\n",
       "      <th>product_description_lenght</th>\n",
       "      <th>product_photos_qty</th>\n",
       "      <th>product_weight_g</th>\n",
       "      <th>product_length_cm</th>\n",
       "      <th>product_height_cm</th>\n",
       "      <th>product_width_cm</th>\n",
       "    </tr>\n",
       "  </thead>\n",
       "  <tbody>\n",
       "    <tr>\n",
       "      <th>0</th>\n",
       "      <td>2e7a8482f6fb09756ca50c10d7bfc047</td>\n",
       "      <td>08c5351a6aca1c1589a38f244edeee9d</td>\n",
       "      <td>shipped</td>\n",
       "      <td>2016-09-04</td>\n",
       "      <td>2016-10-07</td>\n",
       "      <td>2016-10-18</td>\n",
       "      <td>2016-10-18</td>\n",
       "      <td>2016-10-20</td>\n",
       "      <td>2 days</td>\n",
       "      <td>44 days</td>\n",
       "      <td>...</td>\n",
       "      <td>39.99</td>\n",
       "      <td>31.67</td>\n",
       "      <td>moveis_decoracao</td>\n",
       "      <td>59.0</td>\n",
       "      <td>426.0</td>\n",
       "      <td>2.0</td>\n",
       "      <td>1400.0</td>\n",
       "      <td>32.0</td>\n",
       "      <td>6.0</td>\n",
       "      <td>28.0</td>\n",
       "    </tr>\n",
       "    <tr>\n",
       "      <th>1</th>\n",
       "      <td>35d3a51724a47ef1d0b89911e39cc4ff</td>\n",
       "      <td>27ab53f26192510ff85872aeb3759dcc</td>\n",
       "      <td>delivered</td>\n",
       "      <td>2016-10-04</td>\n",
       "      <td>2016-10-05</td>\n",
       "      <td>2016-10-14</td>\n",
       "      <td>2016-10-26</td>\n",
       "      <td>2016-12-20</td>\n",
       "      <td>55 days</td>\n",
       "      <td>22 days</td>\n",
       "      <td>...</td>\n",
       "      <td>39.99</td>\n",
       "      <td>22.34</td>\n",
       "      <td>moveis_decoracao</td>\n",
       "      <td>59.0</td>\n",
       "      <td>426.0</td>\n",
       "      <td>2.0</td>\n",
       "      <td>1400.0</td>\n",
       "      <td>32.0</td>\n",
       "      <td>6.0</td>\n",
       "      <td>28.0</td>\n",
       "    </tr>\n",
       "    <tr>\n",
       "      <th>2</th>\n",
       "      <td>c4f710df20f7d1500da1aef81a993f65</td>\n",
       "      <td>4b671f05b6eb9dc1d2c1bae9c8c78536</td>\n",
       "      <td>delivered</td>\n",
       "      <td>2016-10-10</td>\n",
       "      <td>2016-10-10</td>\n",
       "      <td>2016-10-18</td>\n",
       "      <td>2016-10-26</td>\n",
       "      <td>2016-12-14</td>\n",
       "      <td>49 days</td>\n",
       "      <td>16 days</td>\n",
       "      <td>...</td>\n",
       "      <td>39.99</td>\n",
       "      <td>11.80</td>\n",
       "      <td>moveis_decoracao</td>\n",
       "      <td>59.0</td>\n",
       "      <td>426.0</td>\n",
       "      <td>2.0</td>\n",
       "      <td>1400.0</td>\n",
       "      <td>32.0</td>\n",
       "      <td>6.0</td>\n",
       "      <td>28.0</td>\n",
       "    </tr>\n",
       "    <tr>\n",
       "      <th>3</th>\n",
       "      <td>81e5043198a44ddeb226002ff55d8ad4</td>\n",
       "      <td>ddd15ef77c83eea8c534d2896173a927</td>\n",
       "      <td>delivered</td>\n",
       "      <td>2017-01-09</td>\n",
       "      <td>2017-01-09</td>\n",
       "      <td>2017-01-09</td>\n",
       "      <td>2017-02-24</td>\n",
       "      <td>2017-02-24</td>\n",
       "      <td>0 days</td>\n",
       "      <td>46 days</td>\n",
       "      <td>...</td>\n",
       "      <td>38.50</td>\n",
       "      <td>15.56</td>\n",
       "      <td>moveis_decoracao</td>\n",
       "      <td>59.0</td>\n",
       "      <td>426.0</td>\n",
       "      <td>2.0</td>\n",
       "      <td>1400.0</td>\n",
       "      <td>32.0</td>\n",
       "      <td>6.0</td>\n",
       "      <td>28.0</td>\n",
       "    </tr>\n",
       "    <tr>\n",
       "      <th>4</th>\n",
       "      <td>03b218d39c422c250f389120c531b61f</td>\n",
       "      <td>db857a86c685a6a3a02a705961ec1ff1</td>\n",
       "      <td>delivered</td>\n",
       "      <td>2017-01-14</td>\n",
       "      <td>2017-01-14</td>\n",
       "      <td>2017-01-16</td>\n",
       "      <td>2017-01-18</td>\n",
       "      <td>2017-03-01</td>\n",
       "      <td>42 days</td>\n",
       "      <td>4 days</td>\n",
       "      <td>...</td>\n",
       "      <td>38.50</td>\n",
       "      <td>11.74</td>\n",
       "      <td>moveis_decoracao</td>\n",
       "      <td>59.0</td>\n",
       "      <td>426.0</td>\n",
       "      <td>2.0</td>\n",
       "      <td>1400.0</td>\n",
       "      <td>32.0</td>\n",
       "      <td>6.0</td>\n",
       "      <td>28.0</td>\n",
       "    </tr>\n",
       "  </tbody>\n",
       "</table>\n",
       "<p>5 rows × 25 columns</p>\n",
       "</div>"
      ],
      "text/plain": [
       "                           order_id                       customer_id  \\\n",
       "0  2e7a8482f6fb09756ca50c10d7bfc047  08c5351a6aca1c1589a38f244edeee9d   \n",
       "1  35d3a51724a47ef1d0b89911e39cc4ff  27ab53f26192510ff85872aeb3759dcc   \n",
       "2  c4f710df20f7d1500da1aef81a993f65  4b671f05b6eb9dc1d2c1bae9c8c78536   \n",
       "3  81e5043198a44ddeb226002ff55d8ad4  ddd15ef77c83eea8c534d2896173a927   \n",
       "4  03b218d39c422c250f389120c531b61f  db857a86c685a6a3a02a705961ec1ff1   \n",
       "\n",
       "  order_status order_purchase_timestamp order_approved_at  \\\n",
       "0      shipped               2016-09-04        2016-10-07   \n",
       "1    delivered               2016-10-04        2016-10-05   \n",
       "2    delivered               2016-10-10        2016-10-10   \n",
       "3    delivered               2017-01-09        2017-01-09   \n",
       "4    delivered               2017-01-14        2017-01-14   \n",
       "\n",
       "  order_delivered_carrier_date order_delivered_customer_date  \\\n",
       "0                   2016-10-18                    2016-10-18   \n",
       "1                   2016-10-14                    2016-10-26   \n",
       "2                   2016-10-18                    2016-10-26   \n",
       "3                   2017-01-09                    2017-02-24   \n",
       "4                   2017-01-16                    2017-01-18   \n",
       "\n",
       "  order_estimated_delivery_date shipping_difference shipping_duration  ...  \\\n",
       "0                    2016-10-20              2 days           44 days  ...   \n",
       "1                    2016-12-20             55 days           22 days  ...   \n",
       "2                    2016-12-14             49 days           16 days  ...   \n",
       "3                    2017-02-24              0 days           46 days  ...   \n",
       "4                    2017-03-01             42 days            4 days  ...   \n",
       "\n",
       "   price freight_value  product_category_name product_name_lenght  \\\n",
       "0  39.99         31.67       moveis_decoracao                59.0   \n",
       "1  39.99         22.34       moveis_decoracao                59.0   \n",
       "2  39.99         11.80       moveis_decoracao                59.0   \n",
       "3  38.50         15.56       moveis_decoracao                59.0   \n",
       "4  38.50         11.74       moveis_decoracao                59.0   \n",
       "\n",
       "  product_description_lenght  product_photos_qty  product_weight_g  \\\n",
       "0                      426.0                 2.0            1400.0   \n",
       "1                      426.0                 2.0            1400.0   \n",
       "2                      426.0                 2.0            1400.0   \n",
       "3                      426.0                 2.0            1400.0   \n",
       "4                      426.0                 2.0            1400.0   \n",
       "\n",
       "  product_length_cm  product_height_cm  product_width_cm  \n",
       "0              32.0                6.0              28.0  \n",
       "1              32.0                6.0              28.0  \n",
       "2              32.0                6.0              28.0  \n",
       "3              32.0                6.0              28.0  \n",
       "4              32.0                6.0              28.0  \n",
       "\n",
       "[5 rows x 25 columns]"
      ]
     },
     "execution_count": 213,
     "metadata": {},
     "output_type": "execute_result"
    }
   ],
   "source": [
    "orders_items_products = orders_items.merge(products_df, on=\"product_id\")\n",
    "orders_items_products.head()"
   ]
  },
  {
   "cell_type": "code",
   "execution_count": 215,
   "id": "589e436f",
   "metadata": {},
   "outputs": [
    {
     "data": {
      "text/plain": [
       "order_id                            0\n",
       "customer_id                         0\n",
       "order_status                        0\n",
       "order_purchase_timestamp            0\n",
       "order_approved_at                   0\n",
       "order_delivered_carrier_date        0\n",
       "order_delivered_customer_date       0\n",
       "order_estimated_delivery_date       0\n",
       "shipping_difference                 0\n",
       "shipping_duration                   0\n",
       "shipping_est_duration               0\n",
       "product_id                          0\n",
       "quantity                            0\n",
       "seller_id                           0\n",
       "shipping_limit_date                 0\n",
       "price                               0\n",
       "freight_value                       0\n",
       "product_category_name            1460\n",
       "product_name_lenght              1460\n",
       "product_description_lenght       1460\n",
       "product_photos_qty               1460\n",
       "product_weight_g                   16\n",
       "product_length_cm                  16\n",
       "product_height_cm                  16\n",
       "product_width_cm                   16\n",
       "dtype: int64"
      ]
     },
     "execution_count": 215,
     "metadata": {},
     "output_type": "execute_result"
    }
   ],
   "source": [
    "orders_items_products.isnull().sum()"
   ]
  },
  {
   "cell_type": "markdown",
   "id": "d3d86082",
   "metadata": {},
   "source": [
    "After the merge, we see that the number of missing values increased from 610 to 1460 for certain columns and from 2 to 16 for others. The reason is the product ids that didn't match between the two datasets, so they were added to the dataframe but there is no info about their dimensions there."
   ]
  },
  {
   "cell_type": "code",
   "execution_count": null,
   "id": "a992da3c",
   "metadata": {},
   "outputs": [],
   "source": []
  },
  {
   "cell_type": "code",
   "execution_count": null,
   "id": "0c3fc308",
   "metadata": {},
   "outputs": [],
   "source": []
  }
 ],
 "metadata": {
  "kernelspec": {
   "display_name": "Python 3 (ipykernel)",
   "language": "python",
   "name": "python3"
  },
  "language_info": {
   "codemirror_mode": {
    "name": "ipython",
    "version": 3
   },
   "file_extension": ".py",
   "mimetype": "text/x-python",
   "name": "python",
   "nbconvert_exporter": "python",
   "pygments_lexer": "ipython3",
   "version": "3.9.6"
  }
 },
 "nbformat": 4,
 "nbformat_minor": 5
}
