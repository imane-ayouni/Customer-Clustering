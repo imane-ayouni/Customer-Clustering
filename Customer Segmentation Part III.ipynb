{
 "cells": [
  {
   "cell_type": "markdown",
   "id": "edb87c69",
   "metadata": {},
   "source": [
    "# Customer Segmentation Part III : Customer Clustering"
   ]
  },
  {
   "cell_type": "markdown",
   "id": "fdbefe78",
   "metadata": {},
   "source": [
    "## Topic"
   ]
  },
  {
   "cell_type": "markdown",
   "id": "bc057b71",
   "metadata": {},
   "source": [
    "## Objective"
   ]
  },
  {
   "cell_type": "markdown",
   "id": "c260519f",
   "metadata": {},
   "source": [
    "## Summary"
   ]
  },
  {
   "cell_type": "markdown",
   "id": "7a780542",
   "metadata": {},
   "source": [
    "## Importing libraries"
   ]
  },
  {
   "cell_type": "code",
   "execution_count": 566,
   "id": "fa35ba34",
   "metadata": {},
   "outputs": [],
   "source": [
    "import pandas as pd\n",
    "import numpy as np\n",
    "import seaborn as sns\n",
    "import matplotlib.pyplot as plt\n",
    "\n",
    "sns.set(rc = {'figure.figsize':(15,8)})\n",
    "\n",
    "# Processing the data\n",
    "from sklearn.preprocessing import OneHotEncoder\n",
    "from sklearn.preprocessing import StandardScaler\n",
    "from sklearn.compose import ColumnTransformer\n",
    "\n",
    "# Spliting data \n",
    "from sklearn.model_selection import train_test_split\n",
    "\n",
    "from sklearn import datasets\n",
    "from sklearn.cluster import KMeans\n",
    "from sklearn.cluster import DBSCAN\n",
    "from sklearn.mixture import GaussianMixture\n",
    "\n",
    "from sklearn.metrics import silhouette_score\n",
    "from yellowbrick.cluster import SilhouetteVisualizer\n",
    "\n",
    "from sklearn import metrics\n",
    "from sklearn.metrics import davies_bouldin_score"
   ]
  },
  {
   "cell_type": "markdown",
   "id": "e4a425a0",
   "metadata": {},
   "source": [
    "## Importing the dataset"
   ]
  },
  {
   "cell_type": "code",
   "execution_count": 567,
   "id": "3ed3b87d",
   "metadata": {},
   "outputs": [
    {
     "data": {
      "text/html": [
       "<div>\n",
       "<style scoped>\n",
       "    .dataframe tbody tr th:only-of-type {\n",
       "        vertical-align: middle;\n",
       "    }\n",
       "\n",
       "    .dataframe tbody tr th {\n",
       "        vertical-align: top;\n",
       "    }\n",
       "\n",
       "    .dataframe thead th {\n",
       "        text-align: right;\n",
       "    }\n",
       "</style>\n",
       "<table border=\"1\" class=\"dataframe\">\n",
       "  <thead>\n",
       "    <tr style=\"text-align: right;\">\n",
       "      <th></th>\n",
       "      <th>order_status</th>\n",
       "      <th>est_act_shipp</th>\n",
       "      <th>shipping_duration</th>\n",
       "      <th>shipping_est_duration</th>\n",
       "      <th>quantity</th>\n",
       "      <th>price</th>\n",
       "      <th>freight_value</th>\n",
       "      <th>product_photos_qty</th>\n",
       "      <th>product_weight_g</th>\n",
       "      <th>product_volume_ltr</th>\n",
       "      <th>...</th>\n",
       "      <th>payment_value</th>\n",
       "      <th>review_score</th>\n",
       "      <th>seller_city</th>\n",
       "      <th>seller_state</th>\n",
       "      <th>customer_city</th>\n",
       "      <th>customer_state</th>\n",
       "      <th>product_category_name</th>\n",
       "      <th>limit_delivery_diff</th>\n",
       "      <th>Total_cost</th>\n",
       "      <th>total_revenue</th>\n",
       "    </tr>\n",
       "  </thead>\n",
       "  <tbody>\n",
       "    <tr>\n",
       "      <th>0</th>\n",
       "      <td>delivered</td>\n",
       "      <td>44</td>\n",
       "      <td>22</td>\n",
       "      <td>66</td>\n",
       "      <td>1</td>\n",
       "      <td>69.99</td>\n",
       "      <td>23.36</td>\n",
       "      <td>1.0</td>\n",
       "      <td>1200.0</td>\n",
       "      <td>5984.0</td>\n",
       "      <td>...</td>\n",
       "      <td>653.64</td>\n",
       "      <td>2</td>\n",
       "      <td>sao paulo</td>\n",
       "      <td>SP</td>\n",
       "      <td>vilhena</td>\n",
       "      <td>RO</td>\n",
       "      <td>furniture_decor</td>\n",
       "      <td>-18</td>\n",
       "      <td>93.35</td>\n",
       "      <td>69.99</td>\n",
       "    </tr>\n",
       "    <tr>\n",
       "      <th>1</th>\n",
       "      <td>delivered</td>\n",
       "      <td>44</td>\n",
       "      <td>22</td>\n",
       "      <td>66</td>\n",
       "      <td>1</td>\n",
       "      <td>69.99</td>\n",
       "      <td>23.36</td>\n",
       "      <td>1.0</td>\n",
       "      <td>1200.0</td>\n",
       "      <td>5984.0</td>\n",
       "      <td>...</td>\n",
       "      <td>653.64</td>\n",
       "      <td>2</td>\n",
       "      <td>sao paulo</td>\n",
       "      <td>SP</td>\n",
       "      <td>vilhena</td>\n",
       "      <td>RO</td>\n",
       "      <td>furniture_decor</td>\n",
       "      <td>-18</td>\n",
       "      <td>93.35</td>\n",
       "      <td>69.99</td>\n",
       "    </tr>\n",
       "    <tr>\n",
       "      <th>2</th>\n",
       "      <td>delivered</td>\n",
       "      <td>44</td>\n",
       "      <td>22</td>\n",
       "      <td>66</td>\n",
       "      <td>1</td>\n",
       "      <td>280.00</td>\n",
       "      <td>84.96</td>\n",
       "      <td>1.0</td>\n",
       "      <td>4000.0</td>\n",
       "      <td>43680.0</td>\n",
       "      <td>...</td>\n",
       "      <td>653.64</td>\n",
       "      <td>2</td>\n",
       "      <td>sao paulo</td>\n",
       "      <td>SP</td>\n",
       "      <td>vilhena</td>\n",
       "      <td>RO</td>\n",
       "      <td>furniture_decor</td>\n",
       "      <td>-3</td>\n",
       "      <td>364.96</td>\n",
       "      <td>280.00</td>\n",
       "    </tr>\n",
       "    <tr>\n",
       "      <th>3</th>\n",
       "      <td>delivered</td>\n",
       "      <td>-1</td>\n",
       "      <td>19</td>\n",
       "      <td>18</td>\n",
       "      <td>1</td>\n",
       "      <td>112.00</td>\n",
       "      <td>11.44</td>\n",
       "      <td>3.0</td>\n",
       "      <td>1400.0</td>\n",
       "      <td>14036.0</td>\n",
       "      <td>...</td>\n",
       "      <td>123.44</td>\n",
       "      <td>2</td>\n",
       "      <td>sao paulo</td>\n",
       "      <td>SP</td>\n",
       "      <td>sao paulo</td>\n",
       "      <td>SP</td>\n",
       "      <td>furniture_decor</td>\n",
       "      <td>-15</td>\n",
       "      <td>123.44</td>\n",
       "      <td>112.00</td>\n",
       "    </tr>\n",
       "    <tr>\n",
       "      <th>4</th>\n",
       "      <td>delivered</td>\n",
       "      <td>10</td>\n",
       "      <td>10</td>\n",
       "      <td>20</td>\n",
       "      <td>1</td>\n",
       "      <td>284.90</td>\n",
       "      <td>44.22</td>\n",
       "      <td>4.0</td>\n",
       "      <td>20300.0</td>\n",
       "      <td>113652.0</td>\n",
       "      <td>...</td>\n",
       "      <td>329.12</td>\n",
       "      <td>4</td>\n",
       "      <td>sao paulo</td>\n",
       "      <td>SP</td>\n",
       "      <td>taubate</td>\n",
       "      <td>SP</td>\n",
       "      <td>furniture_decor</td>\n",
       "      <td>-5</td>\n",
       "      <td>329.12</td>\n",
       "      <td>284.90</td>\n",
       "    </tr>\n",
       "  </tbody>\n",
       "</table>\n",
       "<p>5 rows × 23 columns</p>\n",
       "</div>"
      ],
      "text/plain": [
       "  order_status  est_act_shipp  shipping_duration  shipping_est_duration  \\\n",
       "0    delivered             44                 22                     66   \n",
       "1    delivered             44                 22                     66   \n",
       "2    delivered             44                 22                     66   \n",
       "3    delivered             -1                 19                     18   \n",
       "4    delivered             10                 10                     20   \n",
       "\n",
       "   quantity   price  freight_value  product_photos_qty  product_weight_g  \\\n",
       "0         1   69.99          23.36                 1.0            1200.0   \n",
       "1         1   69.99          23.36                 1.0            1200.0   \n",
       "2         1  280.00          84.96                 1.0            4000.0   \n",
       "3         1  112.00          11.44                 3.0            1400.0   \n",
       "4         1  284.90          44.22                 4.0           20300.0   \n",
       "\n",
       "   product_volume_ltr  ...  payment_value review_score  seller_city  \\\n",
       "0              5984.0  ...         653.64            2    sao paulo   \n",
       "1              5984.0  ...         653.64            2    sao paulo   \n",
       "2             43680.0  ...         653.64            2    sao paulo   \n",
       "3             14036.0  ...         123.44            2    sao paulo   \n",
       "4            113652.0  ...         329.12            4    sao paulo   \n",
       "\n",
       "   seller_state  customer_city customer_state product_category_name  \\\n",
       "0            SP        vilhena             RO       furniture_decor   \n",
       "1            SP        vilhena             RO       furniture_decor   \n",
       "2            SP        vilhena             RO       furniture_decor   \n",
       "3            SP      sao paulo             SP       furniture_decor   \n",
       "4            SP        taubate             SP       furniture_decor   \n",
       "\n",
       "  limit_delivery_diff Total_cost total_revenue  \n",
       "0                 -18      93.35         69.99  \n",
       "1                 -18      93.35         69.99  \n",
       "2                  -3     364.96        280.00  \n",
       "3                 -15     123.44        112.00  \n",
       "4                  -5     329.12        284.90  \n",
       "\n",
       "[5 rows x 23 columns]"
      ]
     },
     "execution_count": 567,
     "metadata": {},
     "output_type": "execute_result"
    }
   ],
   "source": [
    "data = pd.read_csv(r'C:\\Users\\imane\\OneDrive\\Desktop\\Clients_Clustering\\treated_ML.csv', sep =\",\")\n",
    "data.head()"
   ]
  },
  {
   "cell_type": "code",
   "execution_count": 568,
   "id": "8b0f7485",
   "metadata": {},
   "outputs": [
    {
     "name": "stdout",
     "output_type": "stream",
     "text": [
      "<class 'pandas.core.frame.DataFrame'>\n",
      "RangeIndex: 98109 entries, 0 to 98108\n",
      "Data columns (total 23 columns):\n",
      " #   Column                 Non-Null Count  Dtype  \n",
      "---  ------                 --------------  -----  \n",
      " 0   order_status           98109 non-null  object \n",
      " 1   est_act_shipp          98109 non-null  int64  \n",
      " 2   shipping_duration      98109 non-null  int64  \n",
      " 3   shipping_est_duration  98109 non-null  int64  \n",
      " 4   quantity               98109 non-null  int64  \n",
      " 5   price                  98109 non-null  float64\n",
      " 6   freight_value          98109 non-null  float64\n",
      " 7   product_photos_qty     98109 non-null  float64\n",
      " 8   product_weight_g       98109 non-null  float64\n",
      " 9   product_volume_ltr     98109 non-null  float64\n",
      " 10  payment_sequential     98109 non-null  int64  \n",
      " 11  payment_type           98109 non-null  object \n",
      " 12  payment_installments   98109 non-null  int64  \n",
      " 13  payment_value          98109 non-null  float64\n",
      " 14  review_score           98109 non-null  int64  \n",
      " 15  seller_city            98109 non-null  object \n",
      " 16  seller_state           98109 non-null  object \n",
      " 17  customer_city          98109 non-null  object \n",
      " 18  customer_state         98109 non-null  object \n",
      " 19  product_category_name  98109 non-null  object \n",
      " 20  limit_delivery_diff    98109 non-null  int64  \n",
      " 21  Total_cost             98109 non-null  float64\n",
      " 22  total_revenue          98109 non-null  float64\n",
      "dtypes: float64(8), int64(8), object(7)\n",
      "memory usage: 17.2+ MB\n"
     ]
    }
   ],
   "source": [
    "data.info()"
   ]
  },
  {
   "cell_type": "code",
   "execution_count": 569,
   "id": "9bbb72ac",
   "metadata": {},
   "outputs": [
    {
     "data": {
      "image/png": "[encoded data removed]",
      "text/plain": [
       "<Figure size 1080x576 with 1 Axes>"
      ]
     },
     "metadata": {},
     "output_type": "display_data"
    }
   ],
   "source": [
    "boxplots = data.boxplot(column=['est_act_shipp', 'shipping_duration', 'shipping_est_duration',\n",
    "                               \"quantity\",\"price\",\"freight_value\"])"
   ]
  },
  {
   "cell_type": "code",
   "execution_count": 570,
   "id": "3c459bc1",
   "metadata": {},
   "outputs": [
    {
     "data": {
      "image/png": "[encoded data removed]",
      "text/plain": [
       "<Figure size 1080x576 with 1 Axes>"
      ]
     },
     "metadata": {},
     "output_type": "display_data"
    }
   ],
   "source": [
    "boxplots = data.boxplot(column=['product_photos_qty', 'product_weight_g', 'product_volume_ltr',\n",
    "                               \"payment_sequential\",\"payment_installments\",\"payment_value\"])"
   ]
  },
  {
   "cell_type": "code",
   "execution_count": 571,
   "id": "309addb7",
   "metadata": {},
   "outputs": [
    {
     "data": {
      "image/png": "[encoded data removed]",
      "text/plain": [
       "<Figure size 1080x576 with 1 Axes>"
      ]
     },
     "metadata": {},
     "output_type": "display_data"
    }
   ],
   "source": [
    "boxplots = data.boxplot(column=['review_score', 'limit_delivery_diff', 'Total_cost',\n",
    "                               \"total_revenue\"])"
   ]
  },
  {
   "cell_type": "markdown",
   "id": "3bb86419",
   "metadata": {},
   "source": [
    "Up to now, I've imported the dataset which contains numerical and categorical features, I ploted the box plots to take a look at outliers (because some of the clustering algorithms that I'm going to use are sensitive to outliers). We see that the features with the farthest outliers are total revenue, product volume and price. "
   ]
  },
  {
   "cell_type": "code",
   "execution_count": 572,
   "id": "3800665f",
   "metadata": {},
   "outputs": [
    {
     "data": {
      "text/html": [
       "<div>\n",
       "<style scoped>\n",
       "    .dataframe tbody tr th:only-of-type {\n",
       "        vertical-align: middle;\n",
       "    }\n",
       "\n",
       "    .dataframe tbody tr th {\n",
       "        vertical-align: top;\n",
       "    }\n",
       "\n",
       "    .dataframe thead th {\n",
       "        text-align: right;\n",
       "    }\n",
       "</style>\n",
       "<table border=\"1\" class=\"dataframe\">\n",
       "  <thead>\n",
       "    <tr style=\"text-align: right;\">\n",
       "      <th></th>\n",
       "      <th>total_revenue</th>\n",
       "      <th>product_volume_ltr</th>\n",
       "      <th>price</th>\n",
       "      <th>product_category_name</th>\n",
       "    </tr>\n",
       "  </thead>\n",
       "  <tbody>\n",
       "    <tr>\n",
       "      <th>15935</th>\n",
       "      <td>13440.0</td>\n",
       "      <td>32768.0</td>\n",
       "      <td>1680.0</td>\n",
       "      <td>fixed_telephony</td>\n",
       "    </tr>\n",
       "    <tr>\n",
       "      <th>15937</th>\n",
       "      <td>7160.0</td>\n",
       "      <td>25600.0</td>\n",
       "      <td>1790.0</td>\n",
       "      <td>fixed_telephony</td>\n",
       "    </tr>\n",
       "    <tr>\n",
       "      <th>3377</th>\n",
       "      <td>6735.0</td>\n",
       "      <td>120780.0</td>\n",
       "      <td>6735.0</td>\n",
       "      <td>housewares</td>\n",
       "    </tr>\n",
       "    <tr>\n",
       "      <th>96476</th>\n",
       "      <td>6499.0</td>\n",
       "      <td>29375.0</td>\n",
       "      <td>6499.0</td>\n",
       "      <td>art</td>\n",
       "    </tr>\n",
       "    <tr>\n",
       "      <th>97753</th>\n",
       "      <td>5934.6</td>\n",
       "      <td>50688.0</td>\n",
       "      <td>989.1</td>\n",
       "      <td>agro_industry_and_commerce</td>\n",
       "    </tr>\n",
       "  </tbody>\n",
       "</table>\n",
       "</div>"
      ],
      "text/plain": [
       "       total_revenue  product_volume_ltr   price       product_category_name\n",
       "15935        13440.0             32768.0  1680.0             fixed_telephony\n",
       "15937         7160.0             25600.0  1790.0             fixed_telephony\n",
       "3377          6735.0            120780.0  6735.0                  housewares\n",
       "96476         6499.0             29375.0  6499.0                         art\n",
       "97753         5934.6             50688.0   989.1  agro_industry_and_commerce"
      ]
     },
     "execution_count": 572,
     "metadata": {},
     "output_type": "execute_result"
    }
   ],
   "source": [
    "r = data[\"total_revenue\"]\n",
    "v = data[\"product_volume_ltr\"]\n",
    "p = data[\"price\"]\n",
    "n = data[\"product_category_name\"]\n",
    "d = pd.DataFrame()\n",
    "d[\"total_revenue\"] = r\n",
    "d[\"product_volume_ltr\"] = v\n",
    "d[\"price\"] = p\n",
    "d[\"product_category_name\"] = n\n",
    "rev = d.sort_values(by=\"total_revenue\", ascending=False)\n",
    "rev.head()"
   ]
  },
  {
   "cell_type": "code",
   "execution_count": 573,
   "id": "e721cf71",
   "metadata": {},
   "outputs": [
    {
     "data": {
      "text/html": [
       "<div>\n",
       "<style scoped>\n",
       "    .dataframe tbody tr th:only-of-type {\n",
       "        vertical-align: middle;\n",
       "    }\n",
       "\n",
       "    .dataframe tbody tr th {\n",
       "        vertical-align: top;\n",
       "    }\n",
       "\n",
       "    .dataframe thead th {\n",
       "        text-align: right;\n",
       "    }\n",
       "</style>\n",
       "<table border=\"1\" class=\"dataframe\">\n",
       "  <thead>\n",
       "    <tr style=\"text-align: right;\">\n",
       "      <th></th>\n",
       "      <th>total_revenue</th>\n",
       "      <th>product_volume_ltr</th>\n",
       "      <th>price</th>\n",
       "      <th>product_category_name</th>\n",
       "    </tr>\n",
       "  </thead>\n",
       "  <tbody>\n",
       "    <tr>\n",
       "      <th>42498</th>\n",
       "      <td>1319.40</td>\n",
       "      <td>864000.0</td>\n",
       "      <td>219.90</td>\n",
       "      <td>computers_accessories</td>\n",
       "    </tr>\n",
       "    <tr>\n",
       "      <th>66587</th>\n",
       "      <td>1050.00</td>\n",
       "      <td>816480.0</td>\n",
       "      <td>175.00</td>\n",
       "      <td>signaling_and_security</td>\n",
       "    </tr>\n",
       "    <tr>\n",
       "      <th>67139</th>\n",
       "      <td>1559.92</td>\n",
       "      <td>793600.0</td>\n",
       "      <td>194.99</td>\n",
       "      <td>office_furniture</td>\n",
       "    </tr>\n",
       "    <tr>\n",
       "      <th>67429</th>\n",
       "      <td>1079.94</td>\n",
       "      <td>725760.0</td>\n",
       "      <td>179.99</td>\n",
       "      <td>office_furniture</td>\n",
       "    </tr>\n",
       "    <tr>\n",
       "      <th>53449</th>\n",
       "      <td>347.97</td>\n",
       "      <td>680943.0</td>\n",
       "      <td>115.99</td>\n",
       "      <td>cool_stuff</td>\n",
       "    </tr>\n",
       "  </tbody>\n",
       "</table>\n",
       "</div>"
      ],
      "text/plain": [
       "       total_revenue  product_volume_ltr   price   product_category_name\n",
       "42498        1319.40            864000.0  219.90   computers_accessories\n",
       "66587        1050.00            816480.0  175.00  signaling_and_security\n",
       "67139        1559.92            793600.0  194.99        office_furniture\n",
       "67429        1079.94            725760.0  179.99        office_furniture\n",
       "53449         347.97            680943.0  115.99              cool_stuff"
      ]
     },
     "execution_count": 573,
     "metadata": {},
     "output_type": "execute_result"
    }
   ],
   "source": [
    "vol = d.sort_values(by=\"product_volume_ltr\", ascending=False)\n",
    "vol.head()"
   ]
  },
  {
   "cell_type": "code",
   "execution_count": 574,
   "id": "60b8ed37",
   "metadata": {},
   "outputs": [
    {
     "data": {
      "text/html": [
       "<div>\n",
       "<style scoped>\n",
       "    .dataframe tbody tr th:only-of-type {\n",
       "        vertical-align: middle;\n",
       "    }\n",
       "\n",
       "    .dataframe tbody tr th {\n",
       "        vertical-align: top;\n",
       "    }\n",
       "\n",
       "    .dataframe thead th {\n",
       "        text-align: right;\n",
       "    }\n",
       "</style>\n",
       "<table border=\"1\" class=\"dataframe\">\n",
       "  <thead>\n",
       "    <tr style=\"text-align: right;\">\n",
       "      <th></th>\n",
       "      <th>total_revenue</th>\n",
       "      <th>product_volume_ltr</th>\n",
       "      <th>price</th>\n",
       "      <th>product_category_name</th>\n",
       "    </tr>\n",
       "  </thead>\n",
       "  <tbody>\n",
       "    <tr>\n",
       "      <th>3377</th>\n",
       "      <td>6735.0</td>\n",
       "      <td>120780.0</td>\n",
       "      <td>6735.0</td>\n",
       "      <td>housewares</td>\n",
       "    </tr>\n",
       "    <tr>\n",
       "      <th>96476</th>\n",
       "      <td>6499.0</td>\n",
       "      <td>29375.0</td>\n",
       "      <td>6499.0</td>\n",
       "      <td>art</td>\n",
       "    </tr>\n",
       "    <tr>\n",
       "      <th>50911</th>\n",
       "      <td>4799.0</td>\n",
       "      <td>88000.0</td>\n",
       "      <td>4799.0</td>\n",
       "      <td>small_appliances</td>\n",
       "    </tr>\n",
       "    <tr>\n",
       "      <th>50912</th>\n",
       "      <td>4690.0</td>\n",
       "      <td>122500.0</td>\n",
       "      <td>4690.0</td>\n",
       "      <td>small_appliances</td>\n",
       "    </tr>\n",
       "    <tr>\n",
       "      <th>96898</th>\n",
       "      <td>4590.0</td>\n",
       "      <td>14000.0</td>\n",
       "      <td>4590.0</td>\n",
       "      <td>computers</td>\n",
       "    </tr>\n",
       "  </tbody>\n",
       "</table>\n",
       "</div>"
      ],
      "text/plain": [
       "       total_revenue  product_volume_ltr   price product_category_name\n",
       "3377          6735.0            120780.0  6735.0            housewares\n",
       "96476         6499.0             29375.0  6499.0                   art\n",
       "50911         4799.0             88000.0  4799.0      small_appliances\n",
       "50912         4690.0            122500.0  4690.0      small_appliances\n",
       "96898         4590.0             14000.0  4590.0             computers"
      ]
     },
     "execution_count": 574,
     "metadata": {},
     "output_type": "execute_result"
    }
   ],
   "source": [
    "pri = d.sort_values(by=\"price\", ascending =False)\n",
    "pri.head()"
   ]
  },
  {
   "cell_type": "markdown",
   "id": "3a053f59",
   "metadata": {},
   "source": [
    "In the above part, I tried to dig a little deeper and see which products represent the outlying values. We see that the highest price was for a housewares product, the highest volume was for computer accessories products and the highest revenue of sale was for fixed telephony. All of these seem pretty logical and it's clear and they weren't recorded high by mistake.\n",
    "So I won't replace them for now."
   ]
  },
  {
   "cell_type": "code",
   "execution_count": 575,
   "id": "9c005c80",
   "metadata": {},
   "outputs": [
    {
     "data": {
      "text/plain": [
       "order_status                7\n",
       "payment_type                4\n",
       "seller_city                 2\n",
       "seller_state                1\n",
       "customer_city            4107\n",
       "customer_state             27\n",
       "product_category_name      71\n",
       "dtype: int64"
      ]
     },
     "execution_count": 575,
     "metadata": {},
     "output_type": "execute_result"
    }
   ],
   "source": [
    "data.select_dtypes(\"object\").apply(pd.Series.nunique, axis = 0)"
   ]
  },
  {
   "cell_type": "code",
   "execution_count": 576,
   "id": "a5bf1c0a",
   "metadata": {},
   "outputs": [],
   "source": [
    "data = data.drop([\"seller_state\",\"seller_city\",\"customer_city\"], axis = 1)"
   ]
  },
  {
   "cell_type": "markdown",
   "id": "b6407bf0",
   "metadata": {},
   "source": [
    "Here I took a look at the number of categories each categorical feature has. Seller state has only one so I deleted it because it's no longer of any use. Seller city has 2 but they are both sao paulo (the accent is missing in some instances), so I deleted it too. Customer city on the other hand has a lot of categories. I also deleted customer city because it contains more than 4 thousand categories, and it'll take too long and charging to count all the zeros during one hot incoding."
   ]
  },
  {
   "cell_type": "markdown",
   "id": "d8c3708f",
   "metadata": {},
   "source": [
    "## Splitting the train and test sets"
   ]
  },
  {
   "cell_type": "code",
   "execution_count": 577,
   "id": "d5ca6122",
   "metadata": {},
   "outputs": [],
   "source": [
    "train, test = train_test_split(data, test_size = 0.2,random_state = 42)"
   ]
  },
  {
   "cell_type": "markdown",
   "id": "8298959f",
   "metadata": {},
   "source": [
    "## Preparing data for ML "
   ]
  },
  {
   "cell_type": "code",
   "execution_count": 578,
   "id": "1c3af0d8",
   "metadata": {},
   "outputs": [],
   "source": [
    "# Seprating categircal features from numerical features\n",
    "cat_train = train[[\"order_status\",\"payment_type\",\"customer_state\",\"product_category_name\"]].copy()\n",
    "cat_test = test[[\"order_status\",\"payment_type\",\"customer_state\",\"product_category_name\"]].copy()"
   ]
  },
  {
   "cell_type": "code",
   "execution_count": 579,
   "id": "cb070435",
   "metadata": {},
   "outputs": [],
   "source": [
    "num_train = train.drop([\"order_status\",\"payment_type\",\"customer_state\",\"product_category_name\"],axis=1)\n",
    "num_test = test.drop([\"order_status\",\"payment_type\",\"customer_state\",\"product_category_name\"],axis=1)"
   ]
  },
  {
   "cell_type": "code",
   "execution_count": 580,
   "id": "b6900150",
   "metadata": {},
   "outputs": [],
   "source": [
    "enc = OneHotEncoder()\n",
    "sts = StandardScaler()\n",
    "num_attr = list(num_train)\n",
    "cat_attr = list(cat_train)\n",
    "transform = ColumnTransformer([(\"num\",sts,num_attr),(\"cat\",enc,cat_attr)])\n",
    "train_pre = transform.fit_transform(train)"
   ]
  },
  {
   "cell_type": "code",
   "execution_count": 581,
   "id": "2cd8cc00",
   "metadata": {},
   "outputs": [],
   "source": [
    "num_attr = list(num_test)\n",
    "cat_attr = list(cat_test)\n",
    "transform = ColumnTransformer([(\"num\",sts,num_attr),(\"cat\",enc,cat_attr)])\n",
    "test_pre = transform.fit_transform(test)"
   ]
  },
  {
   "cell_type": "code",
   "execution_count": 582,
   "id": "c128f90d",
   "metadata": {},
   "outputs": [],
   "source": [
    "X = train_pre\n",
    "Y = test_pre"
   ]
  },
  {
   "cell_type": "markdown",
   "id": "ae1314f2",
   "metadata": {},
   "source": [
    "After splitting the dataset into train and test (80% train), I seperated the categorical features from the numerical ones to be able to build a transformation pipeline using Column Transformer, I used the standard scaler for num categories and onehot encoding for categorical features."
   ]
  },
  {
   "cell_type": "markdown",
   "id": "614b5285",
   "metadata": {},
   "source": [
    "## Kmeans (Centroid-based clustering)"
   ]
  },
  {
   "cell_type": "markdown",
   "id": "5fe856ea",
   "metadata": {},
   "source": [
    "### Silhouette Plot"
   ]
  },
  {
   "cell_type": "code",
   "execution_count": 583,
   "id": "954856cf",
   "metadata": {},
   "outputs": [
    {
     "data": {
      "image/png": "[encoded data removed]",
      "text/plain": [
       "<Figure size 1080x576 with 4 Axes>"
      ]
     },
     "metadata": {},
     "output_type": "display_data"
    }
   ],
   "source": [
    "fig, ax = plt.subplots(2, 2, figsize=(15,8))\n",
    "for i in [2, 3, 4, 5]:\n",
    "    km = KMeans(n_clusters=i, init='k-means++', n_init=10, max_iter=100, random_state=42)\n",
    "    q, mod = divmod(i, 2)\n",
    "    visualizer = SilhouetteVisualizer(km, colors='yellowbrick', ax=ax[q-1][mod])\n",
    "    visualizer.fit(X)"
   ]
  },
  {
   "cell_type": "markdown",
   "id": "f8fc514e",
   "metadata": {},
   "source": [
    "The silhouette plot above helps us to evaluate the best number of clusters for this dataset. Examples 1 and 2 (2 and 3 clusters) shows clusters with below average silhouette score, and their clusters vary in size very much. Figure 3 (4 clusters) shows the blue cluster with a silhouette score below average, so it is ruled out too. Plot number 4 (5 clusters) seems somewhat adequate for our case, since all of its cluters have an above average score and the clusters don't vary in size that much (except the gray one which is very small). Notice the silhouette scores in example 4 for some clusters shows a negative value, that means that some instances might be clustered with the wrong group. \n",
    "\n",
    "I tried the silhouette plot with more than 5 clusters but didn't get any better results."
   ]
  },
  {
   "cell_type": "markdown",
   "id": "e6a30bcb",
   "metadata": {},
   "source": [
    "### Elbow plot"
   ]
  },
  {
   "cell_type": "code",
   "execution_count": 584,
   "id": "a357832e",
   "metadata": {},
   "outputs": [],
   "source": [
    "distortions = []\n",
    "K = range(2,10)\n",
    "for k in K:\n",
    "    kmeanModel = KMeans(n_clusters=k, init='k-means++', n_init=10, max_iter=100, random_state=42)\n",
    "    kmeanModel.fit(X)\n",
    "    distortions.append(kmeanModel.inertia_)"
   ]
  },
  {
   "cell_type": "code",
   "execution_count": 585,
   "id": "7a0e0c71",
   "metadata": {},
   "outputs": [
    {
     "data": {
      "image/png": "[encoded data removed]",
      "text/plain": [
       "<Figure size 1152x576 with 1 Axes>"
      ]
     },
     "metadata": {},
     "output_type": "display_data"
    }
   ],
   "source": [
    "plt.figure(figsize=(16,8))\n",
    "plt.plot(K, distortions, 'bx-')\n",
    "plt.xlabel('k')\n",
    "plt.ylabel('Distortion')\n",
    "plt.title('The Elbow Method showing the optimal k')\n",
    "plt.show()"
   ]
  },
  {
   "cell_type": "markdown",
   "id": "b378c2c2",
   "metadata": {},
   "source": [
    "The elbow plot above shows us the WCSS (Within Cluster Sum of Square) for different cluster numbers. We notice that the elbow point (where the wcss starts to diminish) isn't very clear, but 4 seems to be the one."
   ]
  },
  {
   "cell_type": "markdown",
   "id": "6b412ee4",
   "metadata": {},
   "source": [
    "From the above I've decided to go with 5 clusters for the Kmeans model, because it is the one that seems to have the most moderate cluster distribution and whose clusters shows an above average silhouette score."
   ]
  },
  {
   "cell_type": "markdown",
   "id": "f374fa17",
   "metadata": {},
   "source": [
    "#### Making predictions"
   ]
  },
  {
   "cell_type": "code",
   "execution_count": 586,
   "id": "e53a9bf2",
   "metadata": {},
   "outputs": [],
   "source": [
    "kmeans = KMeans(init='k-means++',n_clusters=5,n_init=10,max_iter=300,random_state=42)"
   ]
  },
  {
   "cell_type": "code",
   "execution_count": 587,
   "id": "57ef5ced",
   "metadata": {},
   "outputs": [],
   "source": [
    "# Train the model\n",
    "model = kmeans.fit(Y)"
   ]
  },
  {
   "cell_type": "code",
   "execution_count": 588,
   "id": "33d6521f",
   "metadata": {},
   "outputs": [],
   "source": [
    "# Assign each data point to a cluster\n",
    "km_pred= kmeans.fit_predict(Y)  "
   ]
  },
  {
   "cell_type": "code",
   "execution_count": 589,
   "id": "217d8715",
   "metadata": {},
   "outputs": [
    {
     "data": {
      "text/plain": [
       "array([4, 4, 4, ..., 2, 0, 4])"
      ]
     },
     "execution_count": 589,
     "metadata": {},
     "output_type": "execute_result"
    }
   ],
   "source": [
    "labels = model.labels_\n",
    "labels"
   ]
  },
  {
   "cell_type": "markdown",
   "id": "c3689d03",
   "metadata": {},
   "source": [
    "In this part, I initiated Kmeans model with 5 clusters and used it to predict the test set."
   ]
  },
  {
   "cell_type": "markdown",
   "id": "66e71a6b",
   "metadata": {},
   "source": [
    "## Evaluation matrices"
   ]
  },
  {
   "cell_type": "markdown",
   "id": "c578be5c",
   "metadata": {},
   "source": [
    "### Silhouette plot/score"
   ]
  },
  {
   "cell_type": "code",
   "execution_count": 590,
   "id": "b1487998",
   "metadata": {},
   "outputs": [
    {
     "data": {
      "text/plain": [
       "SilhouetteVisualizer(ax=<AxesSubplot:>, colors='yellowbrick',\n",
       "                     estimator=KMeans(n_clusters=5, random_state=42))"
      ]
     },
     "execution_count": 590,
     "metadata": {},
     "output_type": "execute_result"
    },
    {
     "data": {
      "image/png": "[encoded data removed]",
      "text/plain": [
       "<Figure size 1080x576 with 1 Axes>"
      ]
     },
     "metadata": {},
     "output_type": "display_data"
    }
   ],
   "source": [
    "vis =  SilhouetteVisualizer(kmeans, colors='yellowbrick')\n",
    "vis.fit(Y)"
   ]
  },
  {
   "cell_type": "code",
   "execution_count": 591,
   "id": "c4ba8889",
   "metadata": {},
   "outputs": [
    {
     "name": "stdout",
     "output_type": "stream",
     "text": [
      "Silhouette score is:  0.10077061221375935\n"
     ]
    }
   ],
   "source": [
    "s_score = silhouette_score(Y, km_pred)\n",
    "print(\"Silhouette score is: \", s_score)"
   ]
  },
  {
   "cell_type": "markdown",
   "id": "e851a63c",
   "metadata": {},
   "source": [
    "The silhouette score and plot show that the classes are very close to each other and that some instances may have been clustered in the wrong category. Though all the clusters have a score above average."
   ]
  },
  {
   "cell_type": "markdown",
   "id": "7d796f11",
   "metadata": {},
   "source": [
    "### CH Index (Variance ratio criterion)"
   ]
  },
  {
   "cell_type": "code",
   "execution_count": 592,
   "id": "27442160",
   "metadata": {},
   "outputs": [
    {
     "data": {
      "text/plain": [
       "2168.8112355393414"
      ]
     },
     "execution_count": 592,
     "metadata": {},
     "output_type": "execute_result"
    }
   ],
   "source": [
    "Y_a = Y.toarray()\n",
    "metrics.calinski_harabasz_score(Y_a, labels)"
   ]
  },
  {
   "cell_type": "markdown",
   "id": "7cf720e6",
   "metadata": {},
   "source": [
    "The CH index gives a result of 2168.81 which is high in my opinion, although we should compare it to the other algorithms' CH index to know. The CH index is used to measure the validity of the model , it is the ratio of the sum of between-clusters dispersion and of inter-cluster dispersion for all clusters. The higher the result, the better."
   ]
  },
  {
   "cell_type": "markdown",
   "id": "7bedb199",
   "metadata": {},
   "source": [
    "### DB Index (Davies-Bouldin Index)"
   ]
  },
  {
   "cell_type": "code",
   "execution_count": 593,
   "id": "ee393483",
   "metadata": {},
   "outputs": [
    {
     "data": {
      "text/plain": [
       "2.030204690407822"
      ]
     },
     "execution_count": 593,
     "metadata": {},
     "output_type": "execute_result"
    }
   ],
   "source": [
    "davies_bouldin_score(Y_a, labels)"
   ]
  },
  {
   "cell_type": "markdown",
   "id": "96415881",
   "metadata": {},
   "source": [
    "The Davies Bouldin index is used to assess the similarity of the clusters. the lower its value is the better, because a DB index value close to 0 means that the clusters are dense and well separated. In our case we got 2, which is high in my opinion. "
   ]
  },
  {
   "cell_type": "markdown",
   "id": "593bec22",
   "metadata": {},
   "source": [
    "## DBSCAN (Density-based clustering)"
   ]
  },
  {
   "cell_type": "markdown",
   "id": "d01c6431",
   "metadata": {},
   "source": [
    "### Minimum Samples (“MinPts”)"
   ]
  },
  {
   "cell_type": "markdown",
   "id": "28f6672d",
   "metadata": {},
   "source": [
    "When it comes to choosing the best number of min points for DBSCAN, there are a couple of pointers that proove to be helpful:\n",
    "- The larger the data set, the larger the value of MinPts should be\n",
    "- If the data set is noisier, choose a larger value of MinPts\n",
    "- Generally, MinPts should be greater than or equal to the dimensionality of the data set\n",
    "Since the dataset is large and contains 20 attributes and many outliers, I will go ahead with 40 as a minimun number of points."
   ]
  },
  {
   "cell_type": "markdown",
   "id": "9e27a0d6",
   "metadata": {},
   "source": [
    "### Epsilon (ε)"
   ]
  },
  {
   "cell_type": "code",
   "execution_count": 594,
   "id": "6ca05baf",
   "metadata": {},
   "outputs": [
    {
     "data": {
      "text/plain": [
       "[<matplotlib.lines.Line2D at 0x21df9059be0>]"
      ]
     },
     "execution_count": 594,
     "metadata": {},
     "output_type": "execute_result"
    },
    {
     "data": {
      "image/png": "[encoded data removed]",
      "text/plain": [
       "<Figure size 1080x576 with 1 Axes>"
      ]
     },
     "metadata": {},
     "output_type": "display_data"
    }
   ],
   "source": [
    "from sklearn.neighbors import NearestNeighbors\n",
    "neighbors = NearestNeighbors(n_neighbors=30)\n",
    "neighbors_fit = neighbors.fit(X)\n",
    "distances, indices = neighbors_fit.kneighbors(X)\n",
    "distances = np.sort(distances, axis=0)\n",
    "distances = distances[:,1]\n",
    "plt.plot(distances)"
   ]
  },
  {
   "cell_type": "markdown",
   "id": "e719fd59",
   "metadata": {},
   "source": [
    "In this part I used the Nearest neighbour algorithm to calculate the average distance between each instance and its neighbours.\n",
    "\n",
    "The elbow plot above shows the average distance between each point in the dataset and its 40 nearest neighbors.The ideal value for ε will be equal to the distance value at the “crook of the elbow”, or the point of maximum curvature. This point represents the optimization point where diminishing returns are no longer worth the additional cost.\n",
    "In our case the optimal epsilon value seems to be about 7 (the epsilon is the distance of measure for the DBSCAN model)"
   ]
  },
  {
   "cell_type": "markdown",
   "id": "209edc56",
   "metadata": {},
   "source": [
    "### Making predictions"
   ]
  },
  {
   "cell_type": "code",
   "execution_count": 596,
   "id": "db95ed01",
   "metadata": {},
   "outputs": [],
   "source": [
    "dbscan = DBSCAN(eps=7, min_samples=40)\n",
    "# Train the model \n",
    "model = dbscan.fit(Y)"
   ]
  },
  {
   "cell_type": "code",
   "execution_count": 597,
   "id": "59aed40d",
   "metadata": {},
   "outputs": [
    {
     "data": {
      "text/plain": [
       "array([0, 0, 0, ..., 0, 0, 0], dtype=int64)"
      ]
     },
     "execution_count": 597,
     "metadata": {},
     "output_type": "execute_result"
    }
   ],
   "source": [
    "labels = model.labels_\n",
    "labels"
   ]
  },
  {
   "cell_type": "code",
   "execution_count": 598,
   "id": "4a69fe5a",
   "metadata": {},
   "outputs": [],
   "source": [
    "# Assign each data point to a cluster\n",
    "dbscan_pred = dbscan.fit_predict(Y)"
   ]
  },
  {
   "cell_type": "code",
   "execution_count": 599,
   "id": "cb213566",
   "metadata": {},
   "outputs": [
    {
     "data": {
      "text/plain": [
       "array([-1,  0], dtype=int64)"
      ]
     },
     "execution_count": 599,
     "metadata": {},
     "output_type": "execute_result"
    }
   ],
   "source": [
    "# obtain all the unique clusters\n",
    "dbscan_clstrs = np.unique(dbscan_pred)\n",
    "dbscan_clstrs"
   ]
  },
  {
   "cell_type": "markdown",
   "id": "39eb3440",
   "metadata": {},
   "source": [
    "In this part I have fit the model and made predictions using the test set, I used an epsilon distance of 7 and minimun points of 40. The results were less performant than Kmeans, because we see that DBSCAN made only two clusters, one of which is labelled 0 and the other -1 meaning that the model couldn't really cluster the instances within it."
   ]
  },
  {
   "cell_type": "markdown",
   "id": "8a8b1c79",
   "metadata": {},
   "source": [
    "### Evaluation matrices"
   ]
  },
  {
   "cell_type": "markdown",
   "id": "17ac6d5d",
   "metadata": {},
   "source": [
    "#### Silhouette score"
   ]
  },
  {
   "cell_type": "code",
   "execution_count": 600,
   "id": "41820ddf",
   "metadata": {},
   "outputs": [
    {
     "name": "stdout",
     "output_type": "stream",
     "text": [
      "Silhouette score is:  0.8169454704561407\n"
     ]
    }
   ],
   "source": [
    "s_score = silhouette_score(Y, dbscan_pred)\n",
    "print(\"Silhouette score is: \", s_score)"
   ]
  },
  {
   "cell_type": "markdown",
   "id": "195e75a3",
   "metadata": {},
   "source": [
    "The silhouette score for DBSCAN is less than that of Kmeans, so far kmeans is favoured."
   ]
  },
  {
   "cell_type": "markdown",
   "id": "3136b553",
   "metadata": {},
   "source": [
    "#### CH index"
   ]
  },
  {
   "cell_type": "code",
   "execution_count": 601,
   "id": "ebca1af1",
   "metadata": {},
   "outputs": [
    {
     "data": {
      "text/plain": [
       "781.6489022619403"
      ]
     },
     "execution_count": 601,
     "metadata": {},
     "output_type": "execute_result"
    }
   ],
   "source": [
    "Y_a = Y.toarray()\n",
    "metrics.calinski_harabasz_score(Y_a, labels)"
   ]
  },
  {
   "cell_type": "markdown",
   "id": "11c162a2",
   "metadata": {},
   "source": [
    "The CH index score is also much lower than that achieved by Kmeans. A lower score means that the clusters are less dense and more dispersed."
   ]
  },
  {
   "cell_type": "markdown",
   "id": "4b047814",
   "metadata": {},
   "source": [
    "#### DB index"
   ]
  },
  {
   "cell_type": "code",
   "execution_count": 602,
   "id": "270b6f74",
   "metadata": {},
   "outputs": [
    {
     "data": {
      "text/plain": [
       "1.9545702265567715"
      ]
     },
     "execution_count": 602,
     "metadata": {},
     "output_type": "execute_result"
    }
   ],
   "source": [
    "davies_bouldin_score(Y_a, labels)"
   ]
  },
  {
   "cell_type": "markdown",
   "id": "4b028937",
   "metadata": {},
   "source": [
    "The DB index on the contrary give a lower (better) score than that of Kmeans. A lower DB score means that there are less similarities between the clusters."
   ]
  },
  {
   "cell_type": "markdown",
   "id": "499a7acc",
   "metadata": {},
   "source": [
    "## Gaussian mixture "
   ]
  },
  {
   "cell_type": "code",
   "execution_count": 604,
   "id": "7cb44234",
   "metadata": {},
   "outputs": [],
   "source": [
    "from sklearn import mixture\n",
    "X_a = X.toarray()\n",
    "gmm = mixture.GaussianMixture(n_components=5)\n",
    "model = gmm.fit(X_a)"
   ]
  },
  {
   "cell_type": "code",
   "execution_count": 605,
   "id": "d1804422",
   "metadata": {},
   "outputs": [],
   "source": [
    "gmm_pred = gmm.fit_predict(Y_a)"
   ]
  },
  {
   "cell_type": "code",
   "execution_count": null,
   "id": "e8656739",
   "metadata": {},
   "outputs": [],
   "source": []
  }
 ],
 "metadata": {
  "kernelspec": {
   "display_name": "Python 3 (ipykernel)",
   "language": "python",
   "name": "python3"
  },
  "language_info": {
   "codemirror_mode": {
    "name": "ipython",
    "version": 3
   },
   "file_extension": ".py",
   "mimetype": "text/x-python",
   "name": "python",
   "nbconvert_exporter": "python",
   "pygments_lexer": "ipython3",
   "version": "3.9.6"
  }
 },
 "nbformat": 4,
 "nbformat_minor": 5
}
